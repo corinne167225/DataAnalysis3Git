{
 "cells": [
  {
   "cell_type": "markdown",
   "id": "75a7740e",
   "metadata": {},
   "source": [
    "# Assignment 2\n",
    "In this assignment, I am predicting the price of small to mid-size apartments hosting 2-6 guests in Austin, TX, USA so that a fictional company can price their new apartments before putting them on the market.\n",
    "I start off with the exploratory data analysis and data work, then move on to creating my predictive models and analyzing their effectiveness using RMSE. I then use the best model to predict apartment prices based on the number of guests. It should be noted too that due to some difficulties with dmatrices and y.ravel() when trying to do Random Forest, I ended up using the same predictor variables for all models rather than having the Dmatrix create more variables. I liked this method because it better allowed me to analyze the differences and effectiveness between each predictive model.\n",
    "- Model 1: Linear Regression with OLS\n",
    "- Model 2: Linear Regression with LASSO\n",
    "- Model 3: CART (Regression Tree)\n",
    "- Model 4: Random Forest"
   ]
  },
  {
   "cell_type": "markdown",
   "id": "6a6f0564",
   "metadata": {},
   "source": [
    "### Importing Beginning Libraries"
   ]
  },
  {
   "cell_type": "code",
   "execution_count": 1,
   "id": "61e447a4",
   "metadata": {},
   "outputs": [],
   "source": [
    "import pandas as pd\n",
    "import numpy as np\n",
    "import math\n",
    "import time\n",
    "from sklearn.model_selection import train_test_split\n",
    "from sklearn.ensemble import RandomForestRegressor\n",
    "from sklearn.metrics import mean_squared_error\n",
    "import matplotlib.pyplot as plt\n",
    "from plotnine import *\n",
    "import statsmodels.formula.api as smf\n",
    "from stargazer.stargazer import Stargazer\n",
    "from statsmodels.tools.eval_measures import mse,rmse\n",
    "from sklearn.linear_model import Lasso\n",
    "from sklearn.linear_model import ElasticNet\n",
    "from sklearn.model_selection import GridSearchCV\n",
    "from sklearn.model_selection import RandomizedSearchCV\n",
    "from sklearn.preprocessing import *\n",
    "from sklearn.linear_model import LinearRegression\n",
    "from sklearn.tree import DecisionTreeRegressor\n",
    "from patsy import dmatrices\n",
    "from sklearn.compose import ColumnTransformer\n",
    "from sklearn.pipeline import Pipeline\n",
    "from sklearn.inspection import permutation_importance\n",
    "from sklearn.inspection import partial_dependence\n",
    "import warnings\n",
    "warnings.filterwarnings('ignore')"
   ]
  },
  {
   "cell_type": "markdown",
   "id": "fec51652",
   "metadata": {},
   "source": [
    "### Reading Data & Exploratory Data Analysis"
   ]
  },
  {
   "cell_type": "code",
   "execution_count": 2,
   "id": "abd5e843",
   "metadata": {},
   "outputs": [],
   "source": [
    "data = pd.read_csv('austinairbnblistings.csv')"
   ]
  },
  {
   "cell_type": "code",
   "execution_count": 3,
   "id": "5a926b4a",
   "metadata": {},
   "outputs": [
    {
     "data": {
      "text/html": [
       "<div>\n",
       "<style scoped>\n",
       "    .dataframe tbody tr th:only-of-type {\n",
       "        vertical-align: middle;\n",
       "    }\n",
       "\n",
       "    .dataframe tbody tr th {\n",
       "        vertical-align: top;\n",
       "    }\n",
       "\n",
       "    .dataframe thead th {\n",
       "        text-align: right;\n",
       "    }\n",
       "</style>\n",
       "<table border=\"1\" class=\"dataframe\">\n",
       "  <thead>\n",
       "    <tr style=\"text-align: right;\">\n",
       "      <th></th>\n",
       "      <th>id</th>\n",
       "      <th>name</th>\n",
       "      <th>host_id</th>\n",
       "      <th>host_name</th>\n",
       "      <th>neighbourhood_group</th>\n",
       "      <th>neighbourhood</th>\n",
       "      <th>latitude</th>\n",
       "      <th>longitude</th>\n",
       "      <th>room_type</th>\n",
       "      <th>price</th>\n",
       "      <th>minimum_nights</th>\n",
       "      <th>number_of_reviews</th>\n",
       "      <th>last_review</th>\n",
       "      <th>reviews_per_month</th>\n",
       "      <th>calculated_host_listings_count</th>\n",
       "      <th>availability_365</th>\n",
       "      <th>number_of_reviews_ltm</th>\n",
       "      <th>license</th>\n",
       "    </tr>\n",
       "  </thead>\n",
       "  <tbody>\n",
       "    <tr>\n",
       "      <th>0</th>\n",
       "      <td>5456</td>\n",
       "      <td>Guesthouse in Austin · ★4.84 · 1 bedroom · 2 b...</td>\n",
       "      <td>8028</td>\n",
       "      <td>Sylvia</td>\n",
       "      <td>NaN</td>\n",
       "      <td>78702</td>\n",
       "      <td>30.26057</td>\n",
       "      <td>-97.73441</td>\n",
       "      <td>Entire home/apt</td>\n",
       "      <td>101.0</td>\n",
       "      <td>2</td>\n",
       "      <td>668</td>\n",
       "      <td>2023-11-20</td>\n",
       "      <td>3.71</td>\n",
       "      <td>1</td>\n",
       "      <td>330</td>\n",
       "      <td>47</td>\n",
       "      <td>NaN</td>\n",
       "    </tr>\n",
       "    <tr>\n",
       "      <th>1</th>\n",
       "      <td>5769</td>\n",
       "      <td>Home in Austin · ★4.91 · 1 bedroom · 1 bed · 1...</td>\n",
       "      <td>8186</td>\n",
       "      <td>Elizabeth</td>\n",
       "      <td>NaN</td>\n",
       "      <td>78729</td>\n",
       "      <td>30.45697</td>\n",
       "      <td>-97.78422</td>\n",
       "      <td>Private room</td>\n",
       "      <td>NaN</td>\n",
       "      <td>1</td>\n",
       "      <td>294</td>\n",
       "      <td>2023-12-07</td>\n",
       "      <td>1.76</td>\n",
       "      <td>1</td>\n",
       "      <td>0</td>\n",
       "      <td>20</td>\n",
       "      <td>NaN</td>\n",
       "    </tr>\n",
       "    <tr>\n",
       "      <th>2</th>\n",
       "      <td>218402</td>\n",
       "      <td>Home in Austin · ★4.74 · 1 bedroom · 1 bed · 1...</td>\n",
       "      <td>1129520</td>\n",
       "      <td>Paulette</td>\n",
       "      <td>NaN</td>\n",
       "      <td>78754</td>\n",
       "      <td>30.36145</td>\n",
       "      <td>-97.64397</td>\n",
       "      <td>Private room</td>\n",
       "      <td>30.0</td>\n",
       "      <td>28</td>\n",
       "      <td>29</td>\n",
       "      <td>2023-09-24</td>\n",
       "      <td>0.20</td>\n",
       "      <td>1</td>\n",
       "      <td>252</td>\n",
       "      <td>2</td>\n",
       "      <td>NaN</td>\n",
       "    </tr>\n",
       "  </tbody>\n",
       "</table>\n",
       "</div>"
      ],
      "text/plain": [
       "       id                                               name  host_id  \\\n",
       "0    5456  Guesthouse in Austin · ★4.84 · 1 bedroom · 2 b...     8028   \n",
       "1    5769  Home in Austin · ★4.91 · 1 bedroom · 1 bed · 1...     8186   \n",
       "2  218402  Home in Austin · ★4.74 · 1 bedroom · 1 bed · 1...  1129520   \n",
       "\n",
       "   host_name  neighbourhood_group  neighbourhood  latitude  longitude  \\\n",
       "0     Sylvia                  NaN          78702  30.26057  -97.73441   \n",
       "1  Elizabeth                  NaN          78729  30.45697  -97.78422   \n",
       "2   Paulette                  NaN          78754  30.36145  -97.64397   \n",
       "\n",
       "         room_type  price  minimum_nights  number_of_reviews last_review  \\\n",
       "0  Entire home/apt  101.0               2                668  2023-11-20   \n",
       "1     Private room    NaN               1                294  2023-12-07   \n",
       "2     Private room   30.0              28                 29  2023-09-24   \n",
       "\n",
       "   reviews_per_month  calculated_host_listings_count  availability_365  \\\n",
       "0               3.71                               1               330   \n",
       "1               1.76                               1                 0   \n",
       "2               0.20                               1               252   \n",
       "\n",
       "   number_of_reviews_ltm  license  \n",
       "0                     47      NaN  \n",
       "1                     20      NaN  \n",
       "2                      2      NaN  "
      ]
     },
     "execution_count": 3,
     "metadata": {},
     "output_type": "execute_result"
    }
   ],
   "source": [
    "data.head(3)"
   ]
  },
  {
   "cell_type": "code",
   "execution_count": 4,
   "id": "e245ac3d",
   "metadata": {},
   "outputs": [
    {
     "data": {
      "text/plain": [
       "(15419, 18)"
      ]
     },
     "execution_count": 4,
     "metadata": {},
     "output_type": "execute_result"
    }
   ],
   "source": [
    "data.shape\n",
    "#15,419 observations"
   ]
  },
  {
   "cell_type": "code",
   "execution_count": 5,
   "id": "82febaa5",
   "metadata": {},
   "outputs": [],
   "source": [
    "data = data.loc[data['room_type'] == 'Entire home/apt']"
   ]
  },
  {
   "cell_type": "code",
   "execution_count": 6,
   "id": "62b50863",
   "metadata": {},
   "outputs": [],
   "source": [
    "in_depth_data = pd.read_csv('indepthaustinairbnb.csv')"
   ]
  },
  {
   "cell_type": "code",
   "execution_count": 7,
   "id": "d2091f5e",
   "metadata": {
    "scrolled": true
   },
   "outputs": [
    {
     "data": {
      "text/html": [
       "<div>\n",
       "<style scoped>\n",
       "    .dataframe tbody tr th:only-of-type {\n",
       "        vertical-align: middle;\n",
       "    }\n",
       "\n",
       "    .dataframe tbody tr th {\n",
       "        vertical-align: top;\n",
       "    }\n",
       "\n",
       "    .dataframe thead th {\n",
       "        text-align: right;\n",
       "    }\n",
       "</style>\n",
       "<table border=\"1\" class=\"dataframe\">\n",
       "  <thead>\n",
       "    <tr style=\"text-align: right;\">\n",
       "      <th></th>\n",
       "      <th>id</th>\n",
       "      <th>listing_url</th>\n",
       "      <th>scrape_id</th>\n",
       "      <th>last_scraped</th>\n",
       "      <th>source</th>\n",
       "      <th>name</th>\n",
       "      <th>description</th>\n",
       "      <th>neighborhood_overview</th>\n",
       "      <th>picture_url</th>\n",
       "      <th>host_id</th>\n",
       "      <th>...</th>\n",
       "      <th>review_scores_communication</th>\n",
       "      <th>review_scores_location</th>\n",
       "      <th>review_scores_value</th>\n",
       "      <th>license</th>\n",
       "      <th>instant_bookable</th>\n",
       "      <th>calculated_host_listings_count</th>\n",
       "      <th>calculated_host_listings_count_entire_homes</th>\n",
       "      <th>calculated_host_listings_count_private_rooms</th>\n",
       "      <th>calculated_host_listings_count_shared_rooms</th>\n",
       "      <th>reviews_per_month</th>\n",
       "    </tr>\n",
       "  </thead>\n",
       "  <tbody>\n",
       "    <tr>\n",
       "      <th>0</th>\n",
       "      <td>5456</td>\n",
       "      <td>https://www.airbnb.com/rooms/5456</td>\n",
       "      <td>20231215200307</td>\n",
       "      <td>2023-12-16</td>\n",
       "      <td>city scrape</td>\n",
       "      <td>Guesthouse in Austin · ★4.84 · 1 bedroom · 2 b...</td>\n",
       "      <td>NaN</td>\n",
       "      <td>My neighborhood is ideally located if you want...</td>\n",
       "      <td>https://a0.muscache.com/pictures/14084884/b5a3...</td>\n",
       "      <td>8028</td>\n",
       "      <td>...</td>\n",
       "      <td>4.83</td>\n",
       "      <td>4.73</td>\n",
       "      <td>4.79</td>\n",
       "      <td>NaN</td>\n",
       "      <td>f</td>\n",
       "      <td>1</td>\n",
       "      <td>1</td>\n",
       "      <td>0</td>\n",
       "      <td>0</td>\n",
       "      <td>3.71</td>\n",
       "    </tr>\n",
       "    <tr>\n",
       "      <th>1</th>\n",
       "      <td>5769</td>\n",
       "      <td>https://www.airbnb.com/rooms/5769</td>\n",
       "      <td>20231215200307</td>\n",
       "      <td>2023-12-16</td>\n",
       "      <td>previous scrape</td>\n",
       "      <td>Home in Austin · ★4.91 · 1 bedroom · 1 bed · 1...</td>\n",
       "      <td>NaN</td>\n",
       "      <td>Quiet neighborhood with lots of trees and good...</td>\n",
       "      <td>https://a0.muscache.com/pictures/23822033/ac94...</td>\n",
       "      <td>8186</td>\n",
       "      <td>...</td>\n",
       "      <td>4.94</td>\n",
       "      <td>4.76</td>\n",
       "      <td>4.92</td>\n",
       "      <td>NaN</td>\n",
       "      <td>f</td>\n",
       "      <td>1</td>\n",
       "      <td>0</td>\n",
       "      <td>1</td>\n",
       "      <td>0</td>\n",
       "      <td>1.76</td>\n",
       "    </tr>\n",
       "    <tr>\n",
       "      <th>2</th>\n",
       "      <td>6413</td>\n",
       "      <td>https://www.airbnb.com/rooms/6413</td>\n",
       "      <td>20231215200307</td>\n",
       "      <td>2023-12-16</td>\n",
       "      <td>previous scrape</td>\n",
       "      <td>Guesthouse in Austin · ★4.97 · Studio · 1 bed ...</td>\n",
       "      <td>NaN</td>\n",
       "      <td>Travis Heights is one of the oldest neighborho...</td>\n",
       "      <td>https://a0.muscache.com/pictures/miso/Hosting-...</td>\n",
       "      <td>13879</td>\n",
       "      <td>...</td>\n",
       "      <td>4.98</td>\n",
       "      <td>4.87</td>\n",
       "      <td>4.93</td>\n",
       "      <td>NaN</td>\n",
       "      <td>f</td>\n",
       "      <td>1</td>\n",
       "      <td>1</td>\n",
       "      <td>0</td>\n",
       "      <td>0</td>\n",
       "      <td>0.70</td>\n",
       "    </tr>\n",
       "  </tbody>\n",
       "</table>\n",
       "<p>3 rows × 75 columns</p>\n",
       "</div>"
      ],
      "text/plain": [
       "     id                        listing_url       scrape_id last_scraped  \\\n",
       "0  5456  https://www.airbnb.com/rooms/5456  20231215200307   2023-12-16   \n",
       "1  5769  https://www.airbnb.com/rooms/5769  20231215200307   2023-12-16   \n",
       "2  6413  https://www.airbnb.com/rooms/6413  20231215200307   2023-12-16   \n",
       "\n",
       "            source                                               name  \\\n",
       "0      city scrape  Guesthouse in Austin · ★4.84 · 1 bedroom · 2 b...   \n",
       "1  previous scrape  Home in Austin · ★4.91 · 1 bedroom · 1 bed · 1...   \n",
       "2  previous scrape  Guesthouse in Austin · ★4.97 · Studio · 1 bed ...   \n",
       "\n",
       "   description                              neighborhood_overview  \\\n",
       "0          NaN  My neighborhood is ideally located if you want...   \n",
       "1          NaN  Quiet neighborhood with lots of trees and good...   \n",
       "2          NaN  Travis Heights is one of the oldest neighborho...   \n",
       "\n",
       "                                         picture_url  host_id  ...  \\\n",
       "0  https://a0.muscache.com/pictures/14084884/b5a3...     8028  ...   \n",
       "1  https://a0.muscache.com/pictures/23822033/ac94...     8186  ...   \n",
       "2  https://a0.muscache.com/pictures/miso/Hosting-...    13879  ...   \n",
       "\n",
       "  review_scores_communication review_scores_location review_scores_value  \\\n",
       "0                        4.83                   4.73                4.79   \n",
       "1                        4.94                   4.76                4.92   \n",
       "2                        4.98                   4.87                4.93   \n",
       "\n",
       "  license instant_bookable calculated_host_listings_count  \\\n",
       "0     NaN                f                              1   \n",
       "1     NaN                f                              1   \n",
       "2     NaN                f                              1   \n",
       "\n",
       "  calculated_host_listings_count_entire_homes  \\\n",
       "0                                           1   \n",
       "1                                           0   \n",
       "2                                           1   \n",
       "\n",
       "  calculated_host_listings_count_private_rooms  \\\n",
       "0                                            0   \n",
       "1                                            1   \n",
       "2                                            0   \n",
       "\n",
       "  calculated_host_listings_count_shared_rooms reviews_per_month  \n",
       "0                                           0              3.71  \n",
       "1                                           0              1.76  \n",
       "2                                           0              0.70  \n",
       "\n",
       "[3 rows x 75 columns]"
      ]
     },
     "execution_count": 7,
     "metadata": {},
     "output_type": "execute_result"
    }
   ],
   "source": [
    "in_depth_data.head(3)"
   ]
  },
  {
   "cell_type": "code",
   "execution_count": 8,
   "id": "bdf72f23",
   "metadata": {},
   "outputs": [],
   "source": [
    "in_depth_data = in_depth_data.loc[(in_depth_data['accommodates'] >=2) & (in_depth_data['accommodates'] <=6) ]"
   ]
  },
  {
   "cell_type": "code",
   "execution_count": 9,
   "id": "98d2dbb9",
   "metadata": {},
   "outputs": [
    {
     "data": {
      "text/plain": [
       "accommodates\n",
       "2    3964\n",
       "4    3340\n",
       "6    2293\n",
       "3    1047\n",
       "5     837\n",
       "Name: count, dtype: int64"
      ]
     },
     "execution_count": 9,
     "metadata": {},
     "output_type": "execute_result"
    }
   ],
   "source": [
    "in_depth_data.accommodates.value_counts()"
   ]
  },
  {
   "cell_type": "code",
   "execution_count": 10,
   "id": "3d931efd",
   "metadata": {},
   "outputs": [],
   "source": [
    "#created new df airbnb (combines both previous data frames)\n",
    "airbnb = pd.merge(data, in_depth_data, on = 'id')\n",
    "#9,348 observations"
   ]
  },
  {
   "cell_type": "code",
   "execution_count": 11,
   "id": "e6ff454d",
   "metadata": {},
   "outputs": [],
   "source": [
    "#change name of column price_x to price\n",
    "airbnb.rename(columns = {'price_x':'price'}, inplace = True)"
   ]
  },
  {
   "cell_type": "code",
   "execution_count": 12,
   "id": "9c97402c",
   "metadata": {},
   "outputs": [
    {
     "data": {
      "text/plain": [
       "count     7522.000000\n",
       "mean       231.591465\n",
       "std        757.418606\n",
       "min          1.000000\n",
       "25%         92.000000\n",
       "50%        127.000000\n",
       "75%        194.000000\n",
       "max      10000.000000\n",
       "Name: price, dtype: float64"
      ]
     },
     "execution_count": 12,
     "metadata": {},
     "output_type": "execute_result"
    }
   ],
   "source": [
    "#trying to see if I should filter out for price\n",
    "airbnb.price.describe()"
   ]
  },
  {
   "cell_type": "code",
   "execution_count": 13,
   "id": "8213997f",
   "metadata": {},
   "outputs": [
    {
     "name": "stdout",
     "output_type": "stream",
     "text": [
      "observations with prices below $250: 6329 observations\n",
      "observations with prices above $250: 1107 observations\n"
     ]
    }
   ],
   "source": [
    "#Deciding to use only observations where prices are below $250 (arbitrary number I chose simply because it is above\n",
    "#$194, which is the price under which 75% of the observations sit)\n",
    "print(f\"observations with prices below $250: {airbnb[airbnb['price'] < 250].shape[0]} observations\")\n",
    "print(f\"observations with prices above $250: {airbnb[airbnb['price'] > 250].shape[0]} observations\")"
   ]
  },
  {
   "cell_type": "code",
   "execution_count": 14,
   "id": "5097818a",
   "metadata": {},
   "outputs": [],
   "source": [
    "airbnb = airbnb[airbnb['price'] < 250]"
   ]
  },
  {
   "cell_type": "code",
   "execution_count": 15,
   "id": "4ce1d326",
   "metadata": {
    "scrolled": false
   },
   "outputs": [
    {
     "data": {
      "text/html": [
       "<div>\n",
       "<style scoped>\n",
       "    .dataframe tbody tr th:only-of-type {\n",
       "        vertical-align: middle;\n",
       "    }\n",
       "\n",
       "    .dataframe tbody tr th {\n",
       "        vertical-align: top;\n",
       "    }\n",
       "\n",
       "    .dataframe thead th {\n",
       "        text-align: right;\n",
       "    }\n",
       "</style>\n",
       "<table border=\"1\" class=\"dataframe\">\n",
       "  <thead>\n",
       "    <tr style=\"text-align: right;\">\n",
       "      <th></th>\n",
       "      <th>id</th>\n",
       "      <th>name_x</th>\n",
       "      <th>host_id_x</th>\n",
       "      <th>host_name_x</th>\n",
       "      <th>neighbourhood_group</th>\n",
       "      <th>neighbourhood_x</th>\n",
       "      <th>latitude_x</th>\n",
       "      <th>longitude_x</th>\n",
       "      <th>room_type_x</th>\n",
       "      <th>price</th>\n",
       "      <th>...</th>\n",
       "      <th>review_scores_communication</th>\n",
       "      <th>review_scores_location</th>\n",
       "      <th>review_scores_value</th>\n",
       "      <th>license_y</th>\n",
       "      <th>instant_bookable</th>\n",
       "      <th>calculated_host_listings_count_y</th>\n",
       "      <th>calculated_host_listings_count_entire_homes</th>\n",
       "      <th>calculated_host_listings_count_private_rooms</th>\n",
       "      <th>calculated_host_listings_count_shared_rooms</th>\n",
       "      <th>reviews_per_month_y</th>\n",
       "    </tr>\n",
       "  </thead>\n",
       "  <tbody>\n",
       "    <tr>\n",
       "      <th>0</th>\n",
       "      <td>5456</td>\n",
       "      <td>Guesthouse in Austin · ★4.84 · 1 bedroom · 2 b...</td>\n",
       "      <td>8028</td>\n",
       "      <td>Sylvia</td>\n",
       "      <td>NaN</td>\n",
       "      <td>78702</td>\n",
       "      <td>30.26057</td>\n",
       "      <td>-97.73441</td>\n",
       "      <td>Entire home/apt</td>\n",
       "      <td>101.0</td>\n",
       "      <td>...</td>\n",
       "      <td>4.83</td>\n",
       "      <td>4.73</td>\n",
       "      <td>4.79</td>\n",
       "      <td>NaN</td>\n",
       "      <td>f</td>\n",
       "      <td>1</td>\n",
       "      <td>1</td>\n",
       "      <td>0</td>\n",
       "      <td>0</td>\n",
       "      <td>3.71</td>\n",
       "    </tr>\n",
       "    <tr>\n",
       "      <th>2</th>\n",
       "      <td>6448</td>\n",
       "      <td>Guesthouse in Austin · ★4.97 · 1 bedroom · 2 b...</td>\n",
       "      <td>14156</td>\n",
       "      <td>Amy</td>\n",
       "      <td>NaN</td>\n",
       "      <td>78704</td>\n",
       "      <td>30.26034</td>\n",
       "      <td>-97.76487</td>\n",
       "      <td>Entire home/apt</td>\n",
       "      <td>159.0</td>\n",
       "      <td>...</td>\n",
       "      <td>4.97</td>\n",
       "      <td>4.97</td>\n",
       "      <td>4.89</td>\n",
       "      <td>NaN</td>\n",
       "      <td>t</td>\n",
       "      <td>1</td>\n",
       "      <td>1</td>\n",
       "      <td>0</td>\n",
       "      <td>0</td>\n",
       "      <td>2.09</td>\n",
       "    </tr>\n",
       "    <tr>\n",
       "      <th>4</th>\n",
       "      <td>8502</td>\n",
       "      <td>Guest suite in Austin · ★4.56 · 1 bedroom · 1 ...</td>\n",
       "      <td>25298</td>\n",
       "      <td>Karen</td>\n",
       "      <td>NaN</td>\n",
       "      <td>78741</td>\n",
       "      <td>30.23466</td>\n",
       "      <td>-97.73682</td>\n",
       "      <td>Entire home/apt</td>\n",
       "      <td>48.0</td>\n",
       "      <td>...</td>\n",
       "      <td>4.87</td>\n",
       "      <td>4.67</td>\n",
       "      <td>4.60</td>\n",
       "      <td>NaN</td>\n",
       "      <td>f</td>\n",
       "      <td>1</td>\n",
       "      <td>1</td>\n",
       "      <td>0</td>\n",
       "      <td>0</td>\n",
       "      <td>0.30</td>\n",
       "    </tr>\n",
       "  </tbody>\n",
       "</table>\n",
       "<p>3 rows × 92 columns</p>\n",
       "</div>"
      ],
      "text/plain": [
       "     id                                             name_x  host_id_x  \\\n",
       "0  5456  Guesthouse in Austin · ★4.84 · 1 bedroom · 2 b...       8028   \n",
       "2  6448  Guesthouse in Austin · ★4.97 · 1 bedroom · 2 b...      14156   \n",
       "4  8502  Guest suite in Austin · ★4.56 · 1 bedroom · 1 ...      25298   \n",
       "\n",
       "  host_name_x  neighbourhood_group  neighbourhood_x  latitude_x  longitude_x  \\\n",
       "0      Sylvia                  NaN            78702    30.26057    -97.73441   \n",
       "2         Amy                  NaN            78704    30.26034    -97.76487   \n",
       "4       Karen                  NaN            78741    30.23466    -97.73682   \n",
       "\n",
       "       room_type_x  price  ...  review_scores_communication  \\\n",
       "0  Entire home/apt  101.0  ...                         4.83   \n",
       "2  Entire home/apt  159.0  ...                         4.97   \n",
       "4  Entire home/apt   48.0  ...                         4.87   \n",
       "\n",
       "   review_scores_location review_scores_value  license_y  instant_bookable  \\\n",
       "0                    4.73                4.79        NaN                 f   \n",
       "2                    4.97                4.89        NaN                 t   \n",
       "4                    4.67                4.60        NaN                 f   \n",
       "\n",
       "   calculated_host_listings_count_y  \\\n",
       "0                                 1   \n",
       "2                                 1   \n",
       "4                                 1   \n",
       "\n",
       "   calculated_host_listings_count_entire_homes  \\\n",
       "0                                            1   \n",
       "2                                            1   \n",
       "4                                            1   \n",
       "\n",
       "   calculated_host_listings_count_private_rooms  \\\n",
       "0                                             0   \n",
       "2                                             0   \n",
       "4                                             0   \n",
       "\n",
       "  calculated_host_listings_count_shared_rooms  reviews_per_month_y  \n",
       "0                                           0                 3.71  \n",
       "2                                           0                 2.09  \n",
       "4                                           0                 0.30  \n",
       "\n",
       "[3 rows x 92 columns]"
      ]
     },
     "execution_count": 15,
     "metadata": {},
     "output_type": "execute_result"
    }
   ],
   "source": [
    "airbnb.head(3)\n",
    "#now 6,329 observations"
   ]
  },
  {
   "cell_type": "markdown",
   "id": "72049738",
   "metadata": {},
   "source": [
    "**Plan of Action:**\n",
    "- outcome variable (y): Price\n",
    "- predictor variables (x): accommodates (guests), bathrooms, beds, review_scores_rating, property_type, availability_365_x, number_of_reviews, host_is_superhost, minimum_nights_y, maximum_nights\n",
    "- was going to have interactions (ex. bathrooms*beds, maximum_nights*minimum_nights, availability*number_of_reviews), but plotted using ggplot and the variables didn't seem to have much correlation:\n",
    "\n",
    "ggplot(airbnb, aes(x = 'availability_365_x', y = 'number_of_reviews_x')) + geom_point()"
   ]
  },
  {
   "cell_type": "code",
   "execution_count": 17,
   "id": "6758b872",
   "metadata": {},
   "outputs": [],
   "source": [
    "#making dummy variables for each neighbourhood zipcode\n",
    "for zipcode in airbnb['neighbourhood_cleansed'].unique():\n",
    "    airbnb['neighbour_' + str(zipcode)] = (airbnb['neighbourhood_cleansed'] == zipcode).astype(int)"
   ]
  },
  {
   "cell_type": "code",
   "execution_count": 18,
   "id": "86c36aa2",
   "metadata": {},
   "outputs": [],
   "source": [
    "#turned bathrooms observations into floats \n",
    "airbnb['bathrooms'] = airbnb['bathrooms_text'].apply(lambda x: float(x.split()[0]) if x.split()[0].replace('.', '').isdigit() else None)"
   ]
  },
  {
   "cell_type": "code",
   "execution_count": 19,
   "id": "74da607d",
   "metadata": {},
   "outputs": [],
   "source": [
    "#turned observations into booleans (dummy)\n",
    "airbnb['host_is_superhost'] = airbnb['host_is_superhost'].apply(lambda x: 1 if x == 't' else 0)"
   ]
  },
  {
   "cell_type": "code",
   "execution_count": 20,
   "id": "66a679cc",
   "metadata": {},
   "outputs": [
    {
     "data": {
      "text/plain": [
       "0"
      ]
     },
     "execution_count": 20,
     "metadata": {},
     "output_type": "execute_result"
    }
   ],
   "source": [
    "#DATA WORK/CLEANING VARIABLES\n",
    "#must drop any null values in outcome variable (price)\n",
    "airbnb.price.isnull().sum()\n",
    "airbnb.dropna(subset = ['price'], inplace = True)\n",
    "\n",
    "#bathroom observations already turned into floats. now dropping null bathrooms (only 3)\n",
    "airbnb.bathrooms.isnull().sum()\n",
    "airbnb.dropna(subset = ['bathrooms'], inplace = True)\n",
    "\n",
    "#beds. dropping null beds (only 43)\n",
    "airbnb.beds.isnull().sum()\n",
    "airbnb.dropna(subset = ['beds'], inplace = True)\n",
    "\n",
    "#review_scores_rating. over 1000 null values. will impute with median as distribution looks far \n",
    "#from normal (used ggplot to plot distribution). will also create flagged variable for missing review_scores_rating\n",
    "#and flag variable for imputed review_scores_rating\n",
    "airbnb.review_scores_rating.isnull().sum()\n",
    "airbnb['missing_review_scores_flag'] = airbnb.review_scores_rating.isnull().astype(int)\n",
    "airbnb['review_scores_imputed_flag'] = airbnb.review_scores_rating.isnull().astype(int)\n",
    "airbnb.fillna({'review_scores_rating': airbnb['review_scores_rating'].median()}, inplace=True)\n",
    "\n",
    "#property type. creating dummy variables (main property types: entire home, entire rental unit, entire condo, \n",
    "#entire guesthouse, entire guest suite, entire townhouse, others)\n",
    "airbnb.property_type.value_counts()\n",
    "airbnb['entire_home'] = (airbnb['property_type'] == 'Entire home').astype(int)\n",
    "airbnb['entire_rental_unit'] = (airbnb['property_type'] == 'Entire rental unit').astype(int)\n",
    "airbnb['entire_condo'] = (airbnb['property_type'] == 'Entire condo').astype(int)\n",
    "airbnb['entire_guesthouse'] = (airbnb['property_type'] == 'Entire guesthouse').astype(int)\n",
    "airbnb['entire_guest_suite'] = (airbnb['property_type'] == 'Entire guest suite').astype(int)\n",
    "airbnb['entire_townhouse'] = (airbnb['property_type'] == 'Entire townhouse').astype(int)\n",
    "property_types_exclude = ['Entire home', 'Entire rental unit', 'Entire condo', 'Entire guesthouse', 'Entire guest suite', 'Entire townhouse']\n",
    "airbnb['entire_other_property_type'] = (~airbnb['property_type'].isin(property_types_exclude)).astype(int)\n",
    "\n",
    "#availability_365_x has no null values and is int. no data work needed\n",
    "airbnb.availability_365_x.isnull().sum()\n",
    "\n",
    "#number_of_reviews_x has no null values and is int. no data work needed\n",
    "airbnb.number_of_reviews_x.isnull().sum()\n",
    "\n",
    "#host_is_superhost. already dummy variable. no data work needed\n",
    "airbnb.host_is_superhost\n",
    "\n",
    "#minimum_nights_y has no null values and is int. no data work needed\n",
    "airbnb.minimum_nights_y.isnull().sum()\n",
    "\n",
    "#maximum_nights has no null values and is int. no data work needed\n",
    "airbnb.maximum_nights.isnull().sum()\n",
    "\n",
    "#accommodates has no null values and is int. no data work needed\n",
    "airbnb.accommodates.isnull().sum()"
   ]
  },
  {
   "cell_type": "markdown",
   "id": "9759752a",
   "metadata": {},
   "source": [
    "## Model 1: Linear Regression with OLS"
   ]
  },
  {
   "cell_type": "markdown",
   "id": "1675f781",
   "metadata": {},
   "source": [
    "At first I tried adding neighbourhoods (zipcodes) to the predictor variables, but realized that the RMSE values were lower with less complex models. So I decided to stick to using less predictor variables (a less complex model)."
   ]
  },
  {
   "cell_type": "code",
   "execution_count": 21,
   "id": "1e131ce7",
   "metadata": {},
   "outputs": [],
   "source": [
    "#list of my predictor variables\n",
    "selected_features = ['accommodates', 'bathrooms', 'beds', 'review_scores_rating', 'entire_home', 'entire_rental_unit', 'entire_condo',\n",
    "    'entire_guesthouse' , 'entire_guest_suite' , 'entire_townhouse' , 'availability_365_x' , 'number_of_reviews_x' ,\n",
    "    'host_is_superhost' , 'minimum_nights_y' , 'maximum_nights']\n",
    "#entire_other_property_type is the reference category for all the other 'entire' property types listed\n",
    "#not being a superhost is the refererence category for host_is_superhost"
   ]
  },
  {
   "cell_type": "code",
   "execution_count": 22,
   "id": "0e2d2b17",
   "metadata": {},
   "outputs": [
    {
     "name": "stdout",
     "output_type": "stream",
     "text": [
      " OLS RMSE: 43.16861864628394\n"
     ]
    },
    {
     "data": {
      "text/html": [
       "<div>\n",
       "<style scoped>\n",
       "    .dataframe tbody tr th:only-of-type {\n",
       "        vertical-align: middle;\n",
       "    }\n",
       "\n",
       "    .dataframe tbody tr th {\n",
       "        vertical-align: top;\n",
       "    }\n",
       "\n",
       "    .dataframe thead th {\n",
       "        text-align: right;\n",
       "    }\n",
       "</style>\n",
       "<table border=\"1\" class=\"dataframe\">\n",
       "  <thead>\n",
       "    <tr style=\"text-align: right;\">\n",
       "      <th></th>\n",
       "      <th>ols_coefficient</th>\n",
       "    </tr>\n",
       "  </thead>\n",
       "  <tbody>\n",
       "    <tr>\n",
       "      <th>Intercept</th>\n",
       "      <td>0.000</td>\n",
       "    </tr>\n",
       "    <tr>\n",
       "      <th>accommodates</th>\n",
       "      <td>2.187</td>\n",
       "    </tr>\n",
       "    <tr>\n",
       "      <th>bathrooms</th>\n",
       "      <td>15.390</td>\n",
       "    </tr>\n",
       "    <tr>\n",
       "      <th>beds</th>\n",
       "      <td>3.413</td>\n",
       "    </tr>\n",
       "    <tr>\n",
       "      <th>review_scores_rating</th>\n",
       "      <td>12.727</td>\n",
       "    </tr>\n",
       "    <tr>\n",
       "      <th>entire_home</th>\n",
       "      <td>3.579</td>\n",
       "    </tr>\n",
       "    <tr>\n",
       "      <th>entire_rental_unit</th>\n",
       "      <td>-24.882</td>\n",
       "    </tr>\n",
       "    <tr>\n",
       "      <th>entire_condo</th>\n",
       "      <td>5.417</td>\n",
       "    </tr>\n",
       "    <tr>\n",
       "      <th>entire_guesthouse</th>\n",
       "      <td>-4.068</td>\n",
       "    </tr>\n",
       "    <tr>\n",
       "      <th>entire_guest_suite</th>\n",
       "      <td>-15.774</td>\n",
       "    </tr>\n",
       "    <tr>\n",
       "      <th>entire_townhouse</th>\n",
       "      <td>-5.982</td>\n",
       "    </tr>\n",
       "    <tr>\n",
       "      <th>availability_365_x</th>\n",
       "      <td>-0.015</td>\n",
       "    </tr>\n",
       "    <tr>\n",
       "      <th>number_of_reviews_x</th>\n",
       "      <td>-0.037</td>\n",
       "    </tr>\n",
       "    <tr>\n",
       "      <th>host_is_superhost</th>\n",
       "      <td>-2.185</td>\n",
       "    </tr>\n",
       "    <tr>\n",
       "      <th>minimum_nights_y</th>\n",
       "      <td>-0.110</td>\n",
       "    </tr>\n",
       "    <tr>\n",
       "      <th>maximum_nights</th>\n",
       "      <td>0.001</td>\n",
       "    </tr>\n",
       "  </tbody>\n",
       "</table>\n",
       "</div>"
      ],
      "text/plain": [
       "                      ols_coefficient\n",
       "Intercept                       0.000\n",
       "accommodates                    2.187\n",
       "bathrooms                      15.390\n",
       "beds                            3.413\n",
       "review_scores_rating           12.727\n",
       "entire_home                     3.579\n",
       "entire_rental_unit            -24.882\n",
       "entire_condo                    5.417\n",
       "entire_guesthouse              -4.068\n",
       "entire_guest_suite            -15.774\n",
       "entire_townhouse               -5.982\n",
       "availability_365_x             -0.015\n",
       "number_of_reviews_x            -0.037\n",
       "host_is_superhost              -2.185\n",
       "minimum_nights_y               -0.110\n",
       "maximum_nights                  0.001"
      ]
     },
     "execution_count": 22,
     "metadata": {},
     "output_type": "execute_result"
    }
   ],
   "source": [
    "#used structure of code from ch-16 of the Bekes book/Jpynb to create Linear regression model with OLS\n",
    "\n",
    "#creating training, test (workout) and holdout sets\n",
    "data_train, data_holdout = train_test_split(airbnb, train_size=0.7, random_state=42)\n",
    "data_train.shape, data_holdout.shape\n",
    "\n",
    "y, X = dmatrices(\"price ~ \" + \" + \".join(selected_features), data_train)\n",
    "\n",
    "#creating OLS model by fitting model to training set\n",
    "ols_model = LinearRegression().fit(X,y)\n",
    "\n",
    "#fitting model to test set (prediction)\n",
    "y_hat = ols_model.predict(X)\n",
    "\n",
    "#get the RMSE for the OLS model\n",
    "ols_rmse = mean_squared_error(y,y_hat,squared=False)\n",
    "print(f' OLS RMSE: {ols_rmse}')\n",
    "\n",
    "#see coefficients for each variables\n",
    "ols_model_coeffs_df = pd.DataFrame(\n",
    "    ols_model.coef_.tolist()[0],\n",
    "    index=X.design_info.column_names,\n",
    "    columns=[\"ols_coefficient\"],\n",
    ").assign(ols_coefficient=lambda x: x.ols_coefficient.round(3))\n",
    "\n",
    "ols_model_coeffs_df"
   ]
  },
  {
   "cell_type": "markdown",
   "id": "bea157ce",
   "metadata": {},
   "source": [
    "## Model 2: Linear regression using LASSO (fitting variables closer to zero)"
   ]
  },
  {
   "cell_type": "code",
   "execution_count": 23,
   "id": "aa45acff",
   "metadata": {},
   "outputs": [
    {
     "name": "stdout",
     "output_type": "stream",
     "text": [
      "RMSE: 43.45491561415661\n",
      "LASSO Coefficients:\n",
      "accommodates             3.149142\n",
      "bathrooms                8.091446\n",
      "beds                     3.035563\n",
      "review_scores_rating     3.853126\n",
      "entire_home              1.823942\n",
      "entire_rental_unit     -11.277661\n",
      "entire_condo             1.818213\n",
      "entire_guesthouse       -1.003245\n",
      "entire_guest_suite      -2.722513\n",
      "entire_townhouse        -0.774427\n",
      "availability_365_x      -1.928568\n",
      "number_of_reviews_x     -3.857168\n",
      "host_is_superhost       -0.952304\n",
      "minimum_nights_y        -2.877424\n",
      "maximum_nights           0.221055\n",
      "dtype: float64\n"
     ]
    }
   ],
   "source": [
    "X = airbnb[selected_features]\n",
    "y = airbnb['price']\n",
    "\n",
    "#training/test sets for X variables and y variable\n",
    "X_train, X_test, y_train, y_test = train_test_split(X, y, test_size=0.3, random_state=42)\n",
    "\n",
    "#standardizing the features for LASSO\n",
    "scaler = StandardScaler()\n",
    "X_train_scaled = scaler.fit_transform(X_train)\n",
    "X_test_scaled = scaler.transform(X_test)\n",
    "\n",
    "#LASSO regression model\n",
    "lasso_model = Lasso(alpha=0.1) \n",
    "\n",
    "#fitting LASSO model on training set\n",
    "lasso_model.fit(X_train_scaled, y_train)\n",
    "\n",
    "#prediction on test set\n",
    "y_pred = lasso_model.predict(X_test_scaled)\n",
    "\n",
    "#calculating RMSE\n",
    "lasso1_rmse = np.sqrt(mean_squared_error(y_test, y_pred))\n",
    "print(\"RMSE:\", lasso1_rmse)\n",
    "\n",
    "#coefficients of model\n",
    "coefficients = pd.Series(lasso_model.coef_, index=X.columns)\n",
    "print(\"LASSO Coefficients:\")\n",
    "print(coefficients)"
   ]
  },
  {
   "cell_type": "markdown",
   "id": "dfb5b45e",
   "metadata": {},
   "source": [
    "## Model 3: CART model (Regression Tree)"
   ]
  },
  {
   "cell_type": "code",
   "execution_count": 24,
   "id": "a20d84cf",
   "metadata": {},
   "outputs": [],
   "source": [
    "#again declaring y variable and X as the training set\n",
    "y, X = dmatrices(\"price ~ \" + \" + \".join(selected_features), data_train)"
   ]
  },
  {
   "cell_type": "code",
   "execution_count": 25,
   "id": "383fbccc",
   "metadata": {},
   "outputs": [],
   "source": [
    "#creating cart model \n",
    "cart_model = DecisionTreeRegressor(random_state=20240131)"
   ]
  },
  {
   "cell_type": "code",
   "execution_count": 26,
   "id": "aebfba7e",
   "metadata": {},
   "outputs": [],
   "source": [
    "#potential ccp alpha parameters\n",
    "path = cart_model.cost_complexity_pruning_path(X, y.ravel())\n",
    "ccp_alphas, impurities = path.ccp_alphas, path.impurities"
   ]
  },
  {
   "cell_type": "code",
   "execution_count": 27,
   "id": "f047c745",
   "metadata": {},
   "outputs": [
    {
     "data": {
      "text/plain": [
       "(3419,)"
      ]
     },
     "execution_count": 27,
     "metadata": {},
     "output_type": "execute_result"
    }
   ],
   "source": [
    "ccp_alphas\n",
    "ccp_alphas.shape"
   ]
  },
  {
   "cell_type": "code",
   "execution_count": 28,
   "id": "68510a9d",
   "metadata": {},
   "outputs": [
    {
     "name": "stdout",
     "output_type": "stream",
     "text": [
      "Fitting 5 folds for each of 10 candidates, totalling 50 fits\n",
      "[CV 1/5] END ...ccp_alpha=0.07026459232341585;, score=-51.959 total time=   0.1s\n",
      "[CV 2/5] END ...ccp_alpha=0.07026459232341585;, score=-54.540 total time=   0.1s\n",
      "[CV 3/5] END ...ccp_alpha=0.07026459232341585;, score=-54.442 total time=   0.1s\n",
      "[CV 4/5] END ...ccp_alpha=0.07026459232341585;, score=-54.574 total time=   0.1s\n",
      "[CV 5/5] END ...ccp_alpha=0.07026459232341585;, score=-54.870 total time=   0.1s\n",
      "[CV 1/5] END ....ccp_alpha=0.7177208721326368;, score=-49.964 total time=   0.1s\n",
      "[CV 2/5] END ....ccp_alpha=0.7177208721326368;, score=-51.324 total time=   0.1s\n",
      "[CV 3/5] END ....ccp_alpha=0.7177208721326368;, score=-51.275 total time=   0.1s\n",
      "[CV 4/5] END ....ccp_alpha=0.7177208721326368;, score=-51.849 total time=   0.1s\n",
      "[CV 5/5] END ....ccp_alpha=0.7177208721326368;, score=-51.423 total time=   0.1s\n",
      "[CV 1/5] END ..ccp_alpha=0.060072677719736546;, score=-51.948 total time=   0.1s\n",
      "[CV 2/5] END ..ccp_alpha=0.060072677719736546;, score=-54.623 total time=   0.1s\n",
      "[CV 3/5] END ..ccp_alpha=0.060072677719736546;, score=-54.521 total time=   0.1s\n",
      "[CV 4/5] END ..ccp_alpha=0.060072677719736546;, score=-54.590 total time=   0.1s\n",
      "[CV 5/5] END ..ccp_alpha=0.060072677719736546;, score=-54.874 total time=   0.1s\n",
      "[CV 1/5] END ..ccp_alpha=0.010364145658262866;, score=-51.882 total time=   0.0s\n",
      "[CV 2/5] END ..ccp_alpha=0.010364145658262866;, score=-54.530 total time=   0.1s\n",
      "[CV 3/5] END ..ccp_alpha=0.010364145658262866;, score=-54.846 total time=   0.0s\n",
      "[CV 4/5] END ..ccp_alpha=0.010364145658262866;, score=-54.699 total time=   0.0s\n",
      "[CV 5/5] END ..ccp_alpha=0.010364145658262866;, score=-55.123 total time=   0.0s\n",
      "[CV 1/5] END ..ccp_alpha=0.010939510939510596;, score=-51.895 total time=   0.0s\n",
      "[CV 2/5] END ..ccp_alpha=0.010939510939510596;, score=-54.543 total time=   0.0s\n",
      "[CV 3/5] END ..ccp_alpha=0.010939510939510596;, score=-54.838 total time=   0.0s\n",
      "[CV 4/5] END ..ccp_alpha=0.010939510939510596;, score=-54.689 total time=   0.0s\n",
      "[CV 5/5] END ..ccp_alpha=0.010939510939510596;, score=-55.109 total time=   0.0s\n",
      "[CV 1/5] END .....ccp_alpha=1.615873483306892;, score=-45.762 total time=   0.1s\n",
      "[CV 2/5] END .....ccp_alpha=1.615873483306892;, score=-48.726 total time=   0.1s\n",
      "[CV 3/5] END .....ccp_alpha=1.615873483306892;, score=-45.464 total time=   0.1s\n",
      "[CV 4/5] END .....ccp_alpha=1.615873483306892;, score=-47.034 total time=   0.1s\n",
      "[CV 5/5] END .....ccp_alpha=1.615873483306892;, score=-46.999 total time=   0.1s\n",
      "[CV 1/5] END .ccp_alpha=0.0018169429934135816;, score=-52.013 total time=   0.0s\n",
      "[CV 2/5] END .ccp_alpha=0.0018169429934135816;, score=-54.555 total time=   0.0s\n",
      "[CV 3/5] END .ccp_alpha=0.0018169429934135816;, score=-54.888 total time=   0.0s\n",
      "[CV 4/5] END .ccp_alpha=0.0018169429934135816;, score=-54.697 total time=   0.0s\n",
      "[CV 5/5] END .ccp_alpha=0.0018169429934135816;, score=-55.114 total time=   0.0s\n",
      "[CV 1/5] END ....ccp_alpha=0.0400484518131632;, score=-51.919 total time=   0.1s\n",
      "[CV 2/5] END ....ccp_alpha=0.0400484518131632;, score=-54.681 total time=   0.1s\n",
      "[CV 3/5] END ....ccp_alpha=0.0400484518131632;, score=-54.702 total time=   0.1s\n",
      "[CV 4/5] END ....ccp_alpha=0.0400484518131632;, score=-54.608 total time=   0.1s\n",
      "[CV 5/5] END ....ccp_alpha=0.0400484518131632;, score=-54.939 total time=   0.1s\n",
      "[CV 1/5] END ..ccp_alpha=0.023658111893404634;, score=-51.801 total time=   0.1s\n",
      "[CV 2/5] END ..ccp_alpha=0.023658111893404634;, score=-54.569 total time=   0.1s\n",
      "[CV 3/5] END ..ccp_alpha=0.023658111893404634;, score=-54.727 total time=   0.1s\n",
      "[CV 4/5] END ..ccp_alpha=0.023658111893404634;, score=-54.631 total time=   0.1s\n",
      "[CV 5/5] END ..ccp_alpha=0.023658111893404634;, score=-55.058 total time=   0.1s\n",
      "[CV 1/5] END ...ccp_alpha=0.03548716784010902;, score=-51.838 total time=   0.1s\n",
      "[CV 2/5] END ...ccp_alpha=0.03548716784010902;, score=-54.721 total time=   0.1s\n",
      "[CV 3/5] END ...ccp_alpha=0.03548716784010902;, score=-54.670 total time=   0.1s\n",
      "[CV 4/5] END ...ccp_alpha=0.03548716784010902;, score=-54.620 total time=   0.1s\n",
      "[CV 5/5] END ...ccp_alpha=0.03548716784010902;, score=-54.966 total time=   0.1s\n"
     ]
    },
    {
     "data": {
      "text/html": [
       "<style>#sk-container-id-1 {color: black;}#sk-container-id-1 pre{padding: 0;}#sk-container-id-1 div.sk-toggleable {background-color: white;}#sk-container-id-1 label.sk-toggleable__label {cursor: pointer;display: block;width: 100%;margin-bottom: 0;padding: 0.3em;box-sizing: border-box;text-align: center;}#sk-container-id-1 label.sk-toggleable__label-arrow:before {content: \"▸\";float: left;margin-right: 0.25em;color: #696969;}#sk-container-id-1 label.sk-toggleable__label-arrow:hover:before {color: black;}#sk-container-id-1 div.sk-estimator:hover label.sk-toggleable__label-arrow:before {color: black;}#sk-container-id-1 div.sk-toggleable__content {max-height: 0;max-width: 0;overflow: hidden;text-align: left;background-color: #f0f8ff;}#sk-container-id-1 div.sk-toggleable__content pre {margin: 0.2em;color: black;border-radius: 0.25em;background-color: #f0f8ff;}#sk-container-id-1 input.sk-toggleable__control:checked~div.sk-toggleable__content {max-height: 200px;max-width: 100%;overflow: auto;}#sk-container-id-1 input.sk-toggleable__control:checked~label.sk-toggleable__label-arrow:before {content: \"▾\";}#sk-container-id-1 div.sk-estimator input.sk-toggleable__control:checked~label.sk-toggleable__label {background-color: #d4ebff;}#sk-container-id-1 div.sk-label input.sk-toggleable__control:checked~label.sk-toggleable__label {background-color: #d4ebff;}#sk-container-id-1 input.sk-hidden--visually {border: 0;clip: rect(1px 1px 1px 1px);clip: rect(1px, 1px, 1px, 1px);height: 1px;margin: -1px;overflow: hidden;padding: 0;position: absolute;width: 1px;}#sk-container-id-1 div.sk-estimator {font-family: monospace;background-color: #f0f8ff;border: 1px dotted black;border-radius: 0.25em;box-sizing: border-box;margin-bottom: 0.5em;}#sk-container-id-1 div.sk-estimator:hover {background-color: #d4ebff;}#sk-container-id-1 div.sk-parallel-item::after {content: \"\";width: 100%;border-bottom: 1px solid gray;flex-grow: 1;}#sk-container-id-1 div.sk-label:hover label.sk-toggleable__label {background-color: #d4ebff;}#sk-container-id-1 div.sk-serial::before {content: \"\";position: absolute;border-left: 1px solid gray;box-sizing: border-box;top: 0;bottom: 0;left: 50%;z-index: 0;}#sk-container-id-1 div.sk-serial {display: flex;flex-direction: column;align-items: center;background-color: white;padding-right: 0.2em;padding-left: 0.2em;position: relative;}#sk-container-id-1 div.sk-item {position: relative;z-index: 1;}#sk-container-id-1 div.sk-parallel {display: flex;align-items: stretch;justify-content: center;background-color: white;position: relative;}#sk-container-id-1 div.sk-item::before, #sk-container-id-1 div.sk-parallel-item::before {content: \"\";position: absolute;border-left: 1px solid gray;box-sizing: border-box;top: 0;bottom: 0;left: 50%;z-index: -1;}#sk-container-id-1 div.sk-parallel-item {display: flex;flex-direction: column;z-index: 1;position: relative;background-color: white;}#sk-container-id-1 div.sk-parallel-item:first-child::after {align-self: flex-end;width: 50%;}#sk-container-id-1 div.sk-parallel-item:last-child::after {align-self: flex-start;width: 50%;}#sk-container-id-1 div.sk-parallel-item:only-child::after {width: 0;}#sk-container-id-1 div.sk-dashed-wrapped {border: 1px dashed gray;margin: 0 0.4em 0.5em 0.4em;box-sizing: border-box;padding-bottom: 0.4em;background-color: white;}#sk-container-id-1 div.sk-label label {font-family: monospace;font-weight: bold;display: inline-block;line-height: 1.2em;}#sk-container-id-1 div.sk-label-container {text-align: center;}#sk-container-id-1 div.sk-container {/* jupyter's `normalize.less` sets `[hidden] { display: none; }` but bootstrap.min.css set `[hidden] { display: none !important; }` so we also need the `!important` here to be able to override the default hidden behavior on the sphinx rendered scikit-learn.org. See: https://github.com/scikit-learn/scikit-learn/issues/21755 */display: inline-block !important;position: relative;}#sk-container-id-1 div.sk-text-repr-fallback {display: none;}</style><div id=\"sk-container-id-1\" class=\"sk-top-container\"><div class=\"sk-text-repr-fallback\"><pre>RandomizedSearchCV(cv=5, estimator=DecisionTreeRegressor(random_state=20240131),\n",
       "                   param_distributions={&#x27;ccp_alpha&#x27;: array([0.00000000e+00, 1.89264895e-05, 7.57059581e-05, ...,\n",
       "       5.18374158e+01, 1.97972215e+02, 2.16336734e+02])},\n",
       "                   scoring=&#x27;neg_root_mean_squared_error&#x27;, verbose=3)</pre><b>In a Jupyter environment, please rerun this cell to show the HTML representation or trust the notebook. <br />On GitHub, the HTML representation is unable to render, please try loading this page with nbviewer.org.</b></div><div class=\"sk-container\" hidden><div class=\"sk-item sk-dashed-wrapped\"><div class=\"sk-label-container\"><div class=\"sk-label sk-toggleable\"><input class=\"sk-toggleable__control sk-hidden--visually\" id=\"sk-estimator-id-1\" type=\"checkbox\" ><label for=\"sk-estimator-id-1\" class=\"sk-toggleable__label sk-toggleable__label-arrow\">RandomizedSearchCV</label><div class=\"sk-toggleable__content\"><pre>RandomizedSearchCV(cv=5, estimator=DecisionTreeRegressor(random_state=20240131),\n",
       "                   param_distributions={&#x27;ccp_alpha&#x27;: array([0.00000000e+00, 1.89264895e-05, 7.57059581e-05, ...,\n",
       "       5.18374158e+01, 1.97972215e+02, 2.16336734e+02])},\n",
       "                   scoring=&#x27;neg_root_mean_squared_error&#x27;, verbose=3)</pre></div></div></div><div class=\"sk-parallel\"><div class=\"sk-parallel-item\"><div class=\"sk-item\"><div class=\"sk-label-container\"><div class=\"sk-label sk-toggleable\"><input class=\"sk-toggleable__control sk-hidden--visually\" id=\"sk-estimator-id-2\" type=\"checkbox\" ><label for=\"sk-estimator-id-2\" class=\"sk-toggleable__label sk-toggleable__label-arrow\">estimator: DecisionTreeRegressor</label><div class=\"sk-toggleable__content\"><pre>DecisionTreeRegressor(random_state=20240131)</pre></div></div></div><div class=\"sk-serial\"><div class=\"sk-item\"><div class=\"sk-estimator sk-toggleable\"><input class=\"sk-toggleable__control sk-hidden--visually\" id=\"sk-estimator-id-3\" type=\"checkbox\" ><label for=\"sk-estimator-id-3\" class=\"sk-toggleable__label sk-toggleable__label-arrow\">DecisionTreeRegressor</label><div class=\"sk-toggleable__content\"><pre>DecisionTreeRegressor(random_state=20240131)</pre></div></div></div></div></div></div></div></div></div></div>"
      ],
      "text/plain": [
       "RandomizedSearchCV(cv=5, estimator=DecisionTreeRegressor(random_state=20240131),\n",
       "                   param_distributions={'ccp_alpha': array([0.00000000e+00, 1.89264895e-05, 7.57059581e-05, ...,\n",
       "       5.18374158e+01, 1.97972215e+02, 2.16336734e+02])},\n",
       "                   scoring='neg_root_mean_squared_error', verbose=3)"
      ]
     },
     "execution_count": 28,
     "metadata": {},
     "output_type": "execute_result"
    }
   ],
   "source": [
    "#trying to select best complexity parameter alpha\n",
    "\n",
    "cart_model_cv = RandomizedSearchCV(\n",
    "    cart_model,\n",
    "    {\"ccp_alpha\":ccp_alphas},\n",
    "    cv=5,\n",
    "    scoring=\"neg_root_mean_squared_error\",\n",
    "    verbose=3,\n",
    ")\n",
    "#create 50 fits\n",
    "cart_model_cv.fit(X,y.ravel())"
   ]
  },
  {
   "cell_type": "code",
   "execution_count": 29,
   "id": "def4ae0b",
   "metadata": {},
   "outputs": [
    {
     "name": "stdout",
     "output_type": "stream",
     "text": [
      "CART RMSE: 46.797102035963555\n"
     ]
    }
   ],
   "source": [
    "cart_rmse = pd.DataFrame(cart_model_cv.cv_results_).loc[\n",
    "    lambda x: x.param_ccp_alpha == cart_model_cv.best_estimator_.ccp_alpha\n",
    "].mean_test_score.values[0] * -1\n",
    "print(f'CART RMSE: {cart_rmse}')"
   ]
  },
  {
   "cell_type": "markdown",
   "id": "cd9e279c",
   "metadata": {},
   "source": [
    "## Model 4: Random Forest Model"
   ]
  },
  {
   "cell_type": "code",
   "execution_count": 30,
   "id": "f4beccfb",
   "metadata": {},
   "outputs": [],
   "source": [
    "#For the random forest model, I tried using the Dmatrix where it chose the variables for you (created new features\n",
    "#based on categorical variables, but the y.ravel() gave me errors multiple times where the shape was (0,) and I\n",
    "#couldn't figure out why)- so I decided to go with the original predictor variables instead"
   ]
  },
  {
   "cell_type": "code",
   "execution_count": 31,
   "id": "0eb199ca",
   "metadata": {},
   "outputs": [],
   "source": [
    "#again declaring y variable and X as the training set\n",
    "y, X = dmatrices(\"price ~ \" + \" + \".join(selected_features), data_train)"
   ]
  },
  {
   "cell_type": "code",
   "execution_count": 32,
   "id": "1db5abc2",
   "metadata": {},
   "outputs": [
    {
     "name": "stdout",
     "output_type": "stream",
     "text": [
      "The theoretical recommended number of variables: 4.00.\n"
     ]
    }
   ],
   "source": [
    "print('The theoretical recommended number of variables: {:.2f}.'.format(math.sqrt(len(X.design_info.column_names))))"
   ]
  },
  {
   "cell_type": "code",
   "execution_count": 33,
   "id": "437eebe6",
   "metadata": {},
   "outputs": [],
   "source": [
    "rfr = RandomForestRegressor(random_state = 20240131)"
   ]
  },
  {
   "cell_type": "code",
   "execution_count": 34,
   "id": "986656c1",
   "metadata": {},
   "outputs": [],
   "source": [
    "#setting levels of max features and min. sample leafs to have in terminal nodes\n",
    "tune_grid = {\"max_features\": [6, 8, 10, 12], \"min_samples_leaf\": [5, 10, 15]}"
   ]
  },
  {
   "cell_type": "code",
   "execution_count": 35,
   "id": "b5d50cde",
   "metadata": {},
   "outputs": [],
   "source": [
    "#cross valdiation\n",
    "rf_random = GridSearchCV(\n",
    "    rfr,\n",
    "    tune_grid,\n",
    "    cv=5,\n",
    "    scoring=\"neg_root_mean_squared_error\",\n",
    "    verbose=3,\n",
    ")"
   ]
  },
  {
   "cell_type": "code",
   "execution_count": 36,
   "id": "ddfe8f8c",
   "metadata": {},
   "outputs": [
    {
     "name": "stdout",
     "output_type": "stream",
     "text": [
      "Fitting 5 folds for each of 12 candidates, totalling 60 fits\n",
      "[CV 1/5] END max_features=6, min_samples_leaf=5;, score=-38.206 total time=   0.6s\n",
      "[CV 2/5] END max_features=6, min_samples_leaf=5;, score=-39.089 total time=   0.5s\n",
      "[CV 3/5] END max_features=6, min_samples_leaf=5;, score=-38.563 total time=   0.6s\n",
      "[CV 4/5] END max_features=6, min_samples_leaf=5;, score=-38.759 total time=   0.6s\n",
      "[CV 5/5] END max_features=6, min_samples_leaf=5;, score=-38.669 total time=   0.6s\n",
      "[CV 1/5] END max_features=6, min_samples_leaf=10;, score=-38.599 total time=   0.5s\n",
      "[CV 2/5] END max_features=6, min_samples_leaf=10;, score=-39.311 total time=   0.5s\n",
      "[CV 3/5] END max_features=6, min_samples_leaf=10;, score=-39.019 total time=   0.4s\n",
      "[CV 4/5] END max_features=6, min_samples_leaf=10;, score=-39.355 total time=   0.4s\n",
      "[CV 5/5] END max_features=6, min_samples_leaf=10;, score=-39.170 total time=   0.5s\n",
      "[CV 1/5] END max_features=6, min_samples_leaf=15;, score=-38.990 total time=   0.4s\n",
      "[CV 2/5] END max_features=6, min_samples_leaf=15;, score=-39.503 total time=   0.4s\n",
      "[CV 3/5] END max_features=6, min_samples_leaf=15;, score=-39.194 total time=   0.4s\n",
      "[CV 4/5] END max_features=6, min_samples_leaf=15;, score=-39.466 total time=   0.4s\n",
      "[CV 5/5] END max_features=6, min_samples_leaf=15;, score=-39.596 total time=   0.4s\n",
      "[CV 1/5] END max_features=8, min_samples_leaf=5;, score=-38.264 total time=   0.6s\n",
      "[CV 2/5] END max_features=8, min_samples_leaf=5;, score=-39.256 total time=   0.6s\n",
      "[CV 3/5] END max_features=8, min_samples_leaf=5;, score=-38.453 total time=   0.6s\n",
      "[CV 4/5] END max_features=8, min_samples_leaf=5;, score=-38.614 total time=   0.6s\n",
      "[CV 5/5] END max_features=8, min_samples_leaf=5;, score=-38.649 total time=   0.6s\n",
      "[CV 1/5] END max_features=8, min_samples_leaf=10;, score=-38.617 total time=   0.5s\n",
      "[CV 2/5] END max_features=8, min_samples_leaf=10;, score=-39.314 total time=   0.5s\n",
      "[CV 3/5] END max_features=8, min_samples_leaf=10;, score=-38.935 total time=   0.6s\n",
      "[CV 4/5] END max_features=8, min_samples_leaf=10;, score=-38.917 total time=   0.6s\n",
      "[CV 5/5] END max_features=8, min_samples_leaf=10;, score=-39.192 total time=   0.5s\n",
      "[CV 1/5] END max_features=8, min_samples_leaf=15;, score=-38.863 total time=   0.5s\n",
      "[CV 2/5] END max_features=8, min_samples_leaf=15;, score=-39.497 total time=   0.5s\n",
      "[CV 3/5] END max_features=8, min_samples_leaf=15;, score=-39.219 total time=   0.5s\n",
      "[CV 4/5] END max_features=8, min_samples_leaf=15;, score=-39.363 total time=   0.5s\n",
      "[CV 5/5] END max_features=8, min_samples_leaf=15;, score=-39.498 total time=   0.5s\n",
      "[CV 1/5] END max_features=10, min_samples_leaf=5;, score=-38.207 total time=   0.7s\n",
      "[CV 2/5] END max_features=10, min_samples_leaf=5;, score=-39.332 total time=   0.7s\n",
      "[CV 3/5] END max_features=10, min_samples_leaf=5;, score=-38.550 total time=   0.7s\n",
      "[CV 4/5] END max_features=10, min_samples_leaf=5;, score=-38.644 total time=   0.8s\n",
      "[CV 5/5] END max_features=10, min_samples_leaf=5;, score=-38.702 total time=   0.7s\n",
      "[CV 1/5] END max_features=10, min_samples_leaf=10;, score=-38.731 total time=   0.6s\n",
      "[CV 2/5] END max_features=10, min_samples_leaf=10;, score=-39.382 total time=   0.6s\n",
      "[CV 3/5] END max_features=10, min_samples_leaf=10;, score=-38.885 total time=   0.6s\n",
      "[CV 4/5] END max_features=10, min_samples_leaf=10;, score=-38.944 total time=   0.6s\n",
      "[CV 5/5] END max_features=10, min_samples_leaf=10;, score=-39.122 total time=   0.6s\n",
      "[CV 1/5] END max_features=10, min_samples_leaf=15;, score=-39.009 total time=   0.6s\n",
      "[CV 2/5] END max_features=10, min_samples_leaf=15;, score=-39.533 total time=   0.6s\n",
      "[CV 3/5] END max_features=10, min_samples_leaf=15;, score=-39.259 total time=   0.6s\n",
      "[CV 4/5] END max_features=10, min_samples_leaf=15;, score=-39.214 total time=   0.6s\n",
      "[CV 5/5] END max_features=10, min_samples_leaf=15;, score=-39.375 total time=   0.6s\n",
      "[CV 1/5] END max_features=12, min_samples_leaf=5;, score=-38.441 total time=   0.8s\n",
      "[CV 2/5] END max_features=12, min_samples_leaf=5;, score=-39.434 total time=   0.8s\n",
      "[CV 3/5] END max_features=12, min_samples_leaf=5;, score=-38.476 total time=   0.9s\n",
      "[CV 4/5] END max_features=12, min_samples_leaf=5;, score=-38.666 total time=   0.8s\n",
      "[CV 5/5] END max_features=12, min_samples_leaf=5;, score=-38.515 total time=   0.9s\n",
      "[CV 1/5] END max_features=12, min_samples_leaf=10;, score=-38.704 total time=   0.7s\n",
      "[CV 2/5] END max_features=12, min_samples_leaf=10;, score=-39.496 total time=   0.7s\n",
      "[CV 3/5] END max_features=12, min_samples_leaf=10;, score=-38.903 total time=   0.7s\n",
      "[CV 4/5] END max_features=12, min_samples_leaf=10;, score=-38.969 total time=   0.7s\n",
      "[CV 5/5] END max_features=12, min_samples_leaf=10;, score=-39.205 total time=   0.7s\n",
      "[CV 1/5] END max_features=12, min_samples_leaf=15;, score=-38.980 total time=   0.7s\n",
      "[CV 2/5] END max_features=12, min_samples_leaf=15;, score=-39.611 total time=   0.8s\n",
      "[CV 3/5] END max_features=12, min_samples_leaf=15;, score=-39.202 total time=   0.7s\n",
      "[CV 4/5] END max_features=12, min_samples_leaf=15;, score=-39.240 total time=   0.7s\n",
      "[CV 5/5] END max_features=12, min_samples_leaf=15;, score=-39.517 total time=   0.7s\n",
      "CPU times: user 36.8 s, sys: 362 ms, total: 37.2 s\n",
      "Wall time: 37.6 s\n"
     ]
    }
   ],
   "source": [
    "%%time\n",
    "#takes a while (creating 6000 trees!!)\n",
    "rf_model = rf_random.fit(X, y.ravel())"
   ]
  },
  {
   "cell_type": "code",
   "execution_count": 37,
   "id": "998bf43f",
   "metadata": {},
   "outputs": [],
   "source": [
    "#df to see best models and RMSE\n",
    "df_rf_model_cv_results = pd.DataFrame(rf_model.cv_results_)[[\n",
    "    'param_max_features', 'param_min_samples_leaf', 'mean_test_score']]"
   ]
  },
  {
   "cell_type": "code",
   "execution_count": 38,
   "id": "a73d5e9c",
   "metadata": {},
   "outputs": [],
   "source": [
    "#change names of columns\n",
    "df_rf_model_cv_results.columns = ['max features', 'min node size', 'RMSE']"
   ]
  },
  {
   "cell_type": "code",
   "execution_count": 39,
   "id": "12466e86",
   "metadata": {},
   "outputs": [
    {
     "data": {
      "text/html": [
       "<div>\n",
       "<style scoped>\n",
       "    .dataframe tbody tr th:only-of-type {\n",
       "        vertical-align: middle;\n",
       "    }\n",
       "\n",
       "    .dataframe tbody tr th {\n",
       "        vertical-align: top;\n",
       "    }\n",
       "\n",
       "    .dataframe thead th {\n",
       "        text-align: right;\n",
       "    }\n",
       "</style>\n",
       "<table border=\"1\" class=\"dataframe\">\n",
       "  <thead>\n",
       "    <tr style=\"text-align: right;\">\n",
       "      <th></th>\n",
       "      <th>max features</th>\n",
       "      <th>min node size</th>\n",
       "      <th>RMSE</th>\n",
       "    </tr>\n",
       "  </thead>\n",
       "  <tbody>\n",
       "    <tr>\n",
       "      <th>0</th>\n",
       "      <td>6</td>\n",
       "      <td>5</td>\n",
       "      <td>-38.656952</td>\n",
       "    </tr>\n",
       "    <tr>\n",
       "      <th>1</th>\n",
       "      <td>6</td>\n",
       "      <td>10</td>\n",
       "      <td>-39.090961</td>\n",
       "    </tr>\n",
       "    <tr>\n",
       "      <th>2</th>\n",
       "      <td>6</td>\n",
       "      <td>15</td>\n",
       "      <td>-39.349974</td>\n",
       "    </tr>\n",
       "    <tr>\n",
       "      <th>3</th>\n",
       "      <td>8</td>\n",
       "      <td>5</td>\n",
       "      <td>-38.647105</td>\n",
       "    </tr>\n",
       "    <tr>\n",
       "      <th>4</th>\n",
       "      <td>8</td>\n",
       "      <td>10</td>\n",
       "      <td>-38.994988</td>\n",
       "    </tr>\n",
       "    <tr>\n",
       "      <th>5</th>\n",
       "      <td>8</td>\n",
       "      <td>15</td>\n",
       "      <td>-39.288058</td>\n",
       "    </tr>\n",
       "    <tr>\n",
       "      <th>6</th>\n",
       "      <td>10</td>\n",
       "      <td>5</td>\n",
       "      <td>-38.687004</td>\n",
       "    </tr>\n",
       "    <tr>\n",
       "      <th>7</th>\n",
       "      <td>10</td>\n",
       "      <td>10</td>\n",
       "      <td>-39.012756</td>\n",
       "    </tr>\n",
       "    <tr>\n",
       "      <th>8</th>\n",
       "      <td>10</td>\n",
       "      <td>15</td>\n",
       "      <td>-39.278060</td>\n",
       "    </tr>\n",
       "    <tr>\n",
       "      <th>9</th>\n",
       "      <td>12</td>\n",
       "      <td>5</td>\n",
       "      <td>-38.706706</td>\n",
       "    </tr>\n",
       "    <tr>\n",
       "      <th>10</th>\n",
       "      <td>12</td>\n",
       "      <td>10</td>\n",
       "      <td>-39.055563</td>\n",
       "    </tr>\n",
       "    <tr>\n",
       "      <th>11</th>\n",
       "      <td>12</td>\n",
       "      <td>15</td>\n",
       "      <td>-39.309904</td>\n",
       "    </tr>\n",
       "  </tbody>\n",
       "</table>\n",
       "</div>"
      ],
      "text/plain": [
       "   max features min node size       RMSE\n",
       "0             6             5 -38.656952\n",
       "1             6            10 -39.090961\n",
       "2             6            15 -39.349974\n",
       "3             8             5 -38.647105\n",
       "4             8            10 -38.994988\n",
       "5             8            15 -39.288058\n",
       "6            10             5 -38.687004\n",
       "7            10            10 -39.012756\n",
       "8            10            15 -39.278060\n",
       "9            12             5 -38.706706\n",
       "10           12            10 -39.055563\n",
       "11           12            15 -39.309904"
      ]
     },
     "execution_count": 39,
     "metadata": {},
     "output_type": "execute_result"
    }
   ],
   "source": [
    "df_rf_model_cv_results\n",
    "#would just take the abs value of these RMSE scores"
   ]
  },
  {
   "cell_type": "code",
   "execution_count": 40,
   "id": "c964d103",
   "metadata": {},
   "outputs": [
    {
     "data": {
      "text/html": [
       "<div>\n",
       "<style scoped>\n",
       "    .dataframe tbody tr th:only-of-type {\n",
       "        vertical-align: middle;\n",
       "    }\n",
       "\n",
       "    .dataframe tbody tr th {\n",
       "        vertical-align: top;\n",
       "    }\n",
       "\n",
       "    .dataframe thead th {\n",
       "        text-align: right;\n",
       "    }\n",
       "</style>\n",
       "<table border=\"1\" class=\"dataframe\">\n",
       "  <thead>\n",
       "    <tr style=\"text-align: right;\">\n",
       "      <th>min node size</th>\n",
       "      <th>5</th>\n",
       "      <th>10</th>\n",
       "      <th>15</th>\n",
       "    </tr>\n",
       "    <tr>\n",
       "      <th>max features</th>\n",
       "      <th></th>\n",
       "      <th></th>\n",
       "      <th></th>\n",
       "    </tr>\n",
       "  </thead>\n",
       "  <tbody>\n",
       "    <tr>\n",
       "      <th>6</th>\n",
       "      <td>38.66</td>\n",
       "      <td>39.09</td>\n",
       "      <td>39.35</td>\n",
       "    </tr>\n",
       "    <tr>\n",
       "      <th>8</th>\n",
       "      <td>38.65</td>\n",
       "      <td>38.99</td>\n",
       "      <td>39.29</td>\n",
       "    </tr>\n",
       "    <tr>\n",
       "      <th>10</th>\n",
       "      <td>38.69</td>\n",
       "      <td>39.01</td>\n",
       "      <td>39.28</td>\n",
       "    </tr>\n",
       "    <tr>\n",
       "      <th>12</th>\n",
       "      <td>38.71</td>\n",
       "      <td>39.06</td>\n",
       "      <td>39.31</td>\n",
       "    </tr>\n",
       "  </tbody>\n",
       "</table>\n",
       "</div>"
      ],
      "text/plain": [
       "min node size      5     10     15\n",
       "max features                      \n",
       "6              38.66  39.09  39.35\n",
       "8              38.65  38.99  39.29\n",
       "10             38.69  39.01  39.28\n",
       "12             38.71  39.06  39.31"
      ]
     },
     "execution_count": 40,
     "metadata": {},
     "output_type": "execute_result"
    }
   ],
   "source": [
    "#df showing max features by min node size\n",
    "df_rf_model_cv_results.pivot(\n",
    "    index = 'max features', \n",
    "    columns = 'min node size', \n",
    "    values = 'RMSE').round(2)*-1"
   ]
  },
  {
   "cell_type": "code",
   "execution_count": 41,
   "id": "720eb646",
   "metadata": {},
   "outputs": [
    {
     "data": {
      "text/plain": [
       "-38.64710463696116"
      ]
     },
     "execution_count": 41,
     "metadata": {},
     "output_type": "execute_result"
    }
   ],
   "source": [
    "#best random forest score\n",
    "rf_model.best_score_"
   ]
  },
  {
   "cell_type": "code",
   "execution_count": 42,
   "id": "d86f9338",
   "metadata": {},
   "outputs": [
    {
     "data": {
      "text/plain": [
       "{'max_features': 8, 'min_samples_leaf': 5}"
      ]
     },
     "execution_count": 42,
     "metadata": {},
     "output_type": "execute_result"
    }
   ],
   "source": [
    "#best random forest parameters\n",
    "rf_model.best_params_"
   ]
  },
  {
   "cell_type": "code",
   "execution_count": 43,
   "id": "92a9df83",
   "metadata": {},
   "outputs": [
    {
     "data": {
      "text/html": [
       "<div>\n",
       "<style scoped>\n",
       "    .dataframe tbody tr th:only-of-type {\n",
       "        vertical-align: middle;\n",
       "    }\n",
       "\n",
       "    .dataframe tbody tr th {\n",
       "        vertical-align: top;\n",
       "    }\n",
       "\n",
       "    .dataframe thead th {\n",
       "        text-align: right;\n",
       "    }\n",
       "</style>\n",
       "<table border=\"1\" class=\"dataframe\">\n",
       "  <thead>\n",
       "    <tr style=\"text-align: right;\">\n",
       "      <th></th>\n",
       "      <th>Importance</th>\n",
       "    </tr>\n",
       "  </thead>\n",
       "  <tbody>\n",
       "    <tr>\n",
       "      <th>availability_365_x</th>\n",
       "      <td>0.149221</td>\n",
       "    </tr>\n",
       "    <tr>\n",
       "      <th>number_of_reviews_x</th>\n",
       "      <td>0.126262</td>\n",
       "    </tr>\n",
       "    <tr>\n",
       "      <th>entire_rental_unit</th>\n",
       "      <td>0.111102</td>\n",
       "    </tr>\n",
       "    <tr>\n",
       "      <th>bathrooms</th>\n",
       "      <td>0.109609</td>\n",
       "    </tr>\n",
       "    <tr>\n",
       "      <th>review_scores_rating</th>\n",
       "      <td>0.099900</td>\n",
       "    </tr>\n",
       "    <tr>\n",
       "      <th>minimum_nights_y</th>\n",
       "      <td>0.097164</td>\n",
       "    </tr>\n",
       "    <tr>\n",
       "      <th>maximum_nights</th>\n",
       "      <td>0.082582</td>\n",
       "    </tr>\n",
       "    <tr>\n",
       "      <th>accommodates</th>\n",
       "      <td>0.075405</td>\n",
       "    </tr>\n",
       "    <tr>\n",
       "      <th>beds</th>\n",
       "      <td>0.058037</td>\n",
       "    </tr>\n",
       "    <tr>\n",
       "      <th>entire_home</th>\n",
       "      <td>0.047932</td>\n",
       "    </tr>\n",
       "    <tr>\n",
       "      <th>host_is_superhost</th>\n",
       "      <td>0.021308</td>\n",
       "    </tr>\n",
       "    <tr>\n",
       "      <th>entire_condo</th>\n",
       "      <td>0.013133</td>\n",
       "    </tr>\n",
       "    <tr>\n",
       "      <th>entire_guesthouse</th>\n",
       "      <td>0.003474</td>\n",
       "    </tr>\n",
       "    <tr>\n",
       "      <th>entire_guest_suite</th>\n",
       "      <td>0.002969</td>\n",
       "    </tr>\n",
       "    <tr>\n",
       "      <th>entire_townhouse</th>\n",
       "      <td>0.001902</td>\n",
       "    </tr>\n",
       "    <tr>\n",
       "      <th>Intercept</th>\n",
       "      <td>0.000000</td>\n",
       "    </tr>\n",
       "  </tbody>\n",
       "</table>\n",
       "</div>"
      ],
      "text/plain": [
       "                      Importance\n",
       "availability_365_x      0.149221\n",
       "number_of_reviews_x     0.126262\n",
       "entire_rental_unit      0.111102\n",
       "bathrooms               0.109609\n",
       "review_scores_rating    0.099900\n",
       "minimum_nights_y        0.097164\n",
       "maximum_nights          0.082582\n",
       "accommodates            0.075405\n",
       "beds                    0.058037\n",
       "entire_home             0.047932\n",
       "host_is_superhost       0.021308\n",
       "entire_condo            0.013133\n",
       "entire_guesthouse       0.003474\n",
       "entire_guest_suite      0.002969\n",
       "entire_townhouse        0.001902\n",
       "Intercept               0.000000"
      ]
     },
     "execution_count": 43,
     "metadata": {},
     "output_type": "execute_result"
    }
   ],
   "source": [
    "#importances of each variables\n",
    "pd.DataFrame(\n",
    "    rf_model.best_estimator_.feature_importances_, \n",
    "    X.design_info.column_names).sort_values(by = 0, ascending = False).rename(columns = {0: 'Importance'})"
   ]
  },
  {
   "cell_type": "code",
   "execution_count": 44,
   "id": "f9de602d",
   "metadata": {},
   "outputs": [],
   "source": [
    "#seeing important and cumulative importance of each predictor variable\n",
    "df_var_imp = pd.DataFrame(\n",
    "    rf_model.best_estimator_.feature_importances_, \n",
    "    X.design_info.column_names)\\\n",
    "    .reset_index()\\\n",
    "    .rename({\"index\": \"variable\", 0: \"imp\"}, axis=1)\\\n",
    "    .sort_values(by=[\"imp\"], ascending=False)\\\n",
    "    .reset_index(drop = True)\n",
    "\n",
    "df_var_imp['cumulative_imp'] = df_var_imp['imp'].cumsum()"
   ]
  },
  {
   "cell_type": "code",
   "execution_count": 45,
   "id": "ed624a79",
   "metadata": {},
   "outputs": [
    {
     "data": {
      "text/html": [
       "<style type=\"text/css\">\n",
       "</style>\n",
       "<table id=\"T_97dbe\">\n",
       "  <thead>\n",
       "    <tr>\n",
       "      <th class=\"blank level0\" >&nbsp;</th>\n",
       "      <th id=\"T_97dbe_level0_col0\" class=\"col_heading level0 col0\" >variable</th>\n",
       "      <th id=\"T_97dbe_level0_col1\" class=\"col_heading level0 col1\" >imp</th>\n",
       "      <th id=\"T_97dbe_level0_col2\" class=\"col_heading level0 col2\" >cumulative_imp</th>\n",
       "    </tr>\n",
       "  </thead>\n",
       "  <tbody>\n",
       "    <tr>\n",
       "      <th id=\"T_97dbe_level0_row0\" class=\"row_heading level0 row0\" >0</th>\n",
       "      <td id=\"T_97dbe_row0_col0\" class=\"data row0 col0\" >availability_365_x</td>\n",
       "      <td id=\"T_97dbe_row0_col1\" class=\"data row0 col1\" >14.9%</td>\n",
       "      <td id=\"T_97dbe_row0_col2\" class=\"data row0 col2\" >14.9%</td>\n",
       "    </tr>\n",
       "    <tr>\n",
       "      <th id=\"T_97dbe_level0_row1\" class=\"row_heading level0 row1\" >1</th>\n",
       "      <td id=\"T_97dbe_row1_col0\" class=\"data row1 col0\" >number_of_reviews_x</td>\n",
       "      <td id=\"T_97dbe_row1_col1\" class=\"data row1 col1\" >12.6%</td>\n",
       "      <td id=\"T_97dbe_row1_col2\" class=\"data row1 col2\" >27.5%</td>\n",
       "    </tr>\n",
       "    <tr>\n",
       "      <th id=\"T_97dbe_level0_row2\" class=\"row_heading level0 row2\" >2</th>\n",
       "      <td id=\"T_97dbe_row2_col0\" class=\"data row2 col0\" >entire_rental_unit</td>\n",
       "      <td id=\"T_97dbe_row2_col1\" class=\"data row2 col1\" >11.1%</td>\n",
       "      <td id=\"T_97dbe_row2_col2\" class=\"data row2 col2\" >38.7%</td>\n",
       "    </tr>\n",
       "    <tr>\n",
       "      <th id=\"T_97dbe_level0_row3\" class=\"row_heading level0 row3\" >3</th>\n",
       "      <td id=\"T_97dbe_row3_col0\" class=\"data row3 col0\" >bathrooms</td>\n",
       "      <td id=\"T_97dbe_row3_col1\" class=\"data row3 col1\" >11.0%</td>\n",
       "      <td id=\"T_97dbe_row3_col2\" class=\"data row3 col2\" >49.6%</td>\n",
       "    </tr>\n",
       "    <tr>\n",
       "      <th id=\"T_97dbe_level0_row4\" class=\"row_heading level0 row4\" >4</th>\n",
       "      <td id=\"T_97dbe_row4_col0\" class=\"data row4 col0\" >review_scores_rating</td>\n",
       "      <td id=\"T_97dbe_row4_col1\" class=\"data row4 col1\" >10.0%</td>\n",
       "      <td id=\"T_97dbe_row4_col2\" class=\"data row4 col2\" >59.6%</td>\n",
       "    </tr>\n",
       "    <tr>\n",
       "      <th id=\"T_97dbe_level0_row5\" class=\"row_heading level0 row5\" >5</th>\n",
       "      <td id=\"T_97dbe_row5_col0\" class=\"data row5 col0\" >minimum_nights_y</td>\n",
       "      <td id=\"T_97dbe_row5_col1\" class=\"data row5 col1\" >9.7%</td>\n",
       "      <td id=\"T_97dbe_row5_col2\" class=\"data row5 col2\" >69.3%</td>\n",
       "    </tr>\n",
       "    <tr>\n",
       "      <th id=\"T_97dbe_level0_row6\" class=\"row_heading level0 row6\" >6</th>\n",
       "      <td id=\"T_97dbe_row6_col0\" class=\"data row6 col0\" >maximum_nights</td>\n",
       "      <td id=\"T_97dbe_row6_col1\" class=\"data row6 col1\" >8.3%</td>\n",
       "      <td id=\"T_97dbe_row6_col2\" class=\"data row6 col2\" >77.6%</td>\n",
       "    </tr>\n",
       "    <tr>\n",
       "      <th id=\"T_97dbe_level0_row7\" class=\"row_heading level0 row7\" >7</th>\n",
       "      <td id=\"T_97dbe_row7_col0\" class=\"data row7 col0\" >accommodates</td>\n",
       "      <td id=\"T_97dbe_row7_col1\" class=\"data row7 col1\" >7.5%</td>\n",
       "      <td id=\"T_97dbe_row7_col2\" class=\"data row7 col2\" >85.1%</td>\n",
       "    </tr>\n",
       "    <tr>\n",
       "      <th id=\"T_97dbe_level0_row8\" class=\"row_heading level0 row8\" >8</th>\n",
       "      <td id=\"T_97dbe_row8_col0\" class=\"data row8 col0\" >beds</td>\n",
       "      <td id=\"T_97dbe_row8_col1\" class=\"data row8 col1\" >5.8%</td>\n",
       "      <td id=\"T_97dbe_row8_col2\" class=\"data row8 col2\" >90.9%</td>\n",
       "    </tr>\n",
       "    <tr>\n",
       "      <th id=\"T_97dbe_level0_row9\" class=\"row_heading level0 row9\" >9</th>\n",
       "      <td id=\"T_97dbe_row9_col0\" class=\"data row9 col0\" >entire_home</td>\n",
       "      <td id=\"T_97dbe_row9_col1\" class=\"data row9 col1\" >4.8%</td>\n",
       "      <td id=\"T_97dbe_row9_col2\" class=\"data row9 col2\" >95.7%</td>\n",
       "    </tr>\n",
       "    <tr>\n",
       "      <th id=\"T_97dbe_level0_row10\" class=\"row_heading level0 row10\" >10</th>\n",
       "      <td id=\"T_97dbe_row10_col0\" class=\"data row10 col0\" >host_is_superhost</td>\n",
       "      <td id=\"T_97dbe_row10_col1\" class=\"data row10 col1\" >2.1%</td>\n",
       "      <td id=\"T_97dbe_row10_col2\" class=\"data row10 col2\" >97.9%</td>\n",
       "    </tr>\n",
       "    <tr>\n",
       "      <th id=\"T_97dbe_level0_row11\" class=\"row_heading level0 row11\" >11</th>\n",
       "      <td id=\"T_97dbe_row11_col0\" class=\"data row11 col0\" >entire_condo</td>\n",
       "      <td id=\"T_97dbe_row11_col1\" class=\"data row11 col1\" >1.3%</td>\n",
       "      <td id=\"T_97dbe_row11_col2\" class=\"data row11 col2\" >99.2%</td>\n",
       "    </tr>\n",
       "    <tr>\n",
       "      <th id=\"T_97dbe_level0_row12\" class=\"row_heading level0 row12\" >12</th>\n",
       "      <td id=\"T_97dbe_row12_col0\" class=\"data row12 col0\" >entire_guesthouse</td>\n",
       "      <td id=\"T_97dbe_row12_col1\" class=\"data row12 col1\" >0.3%</td>\n",
       "      <td id=\"T_97dbe_row12_col2\" class=\"data row12 col2\" >99.5%</td>\n",
       "    </tr>\n",
       "    <tr>\n",
       "      <th id=\"T_97dbe_level0_row13\" class=\"row_heading level0 row13\" >13</th>\n",
       "      <td id=\"T_97dbe_row13_col0\" class=\"data row13 col0\" >entire_guest_suite</td>\n",
       "      <td id=\"T_97dbe_row13_col1\" class=\"data row13 col1\" >0.3%</td>\n",
       "      <td id=\"T_97dbe_row13_col2\" class=\"data row13 col2\" >99.8%</td>\n",
       "    </tr>\n",
       "    <tr>\n",
       "      <th id=\"T_97dbe_level0_row14\" class=\"row_heading level0 row14\" >14</th>\n",
       "      <td id=\"T_97dbe_row14_col0\" class=\"data row14 col0\" >entire_townhouse</td>\n",
       "      <td id=\"T_97dbe_row14_col1\" class=\"data row14 col1\" >0.2%</td>\n",
       "      <td id=\"T_97dbe_row14_col2\" class=\"data row14 col2\" >100.0%</td>\n",
       "    </tr>\n",
       "    <tr>\n",
       "      <th id=\"T_97dbe_level0_row15\" class=\"row_heading level0 row15\" >15</th>\n",
       "      <td id=\"T_97dbe_row15_col0\" class=\"data row15 col0\" >Intercept</td>\n",
       "      <td id=\"T_97dbe_row15_col1\" class=\"data row15 col1\" >0.0%</td>\n",
       "      <td id=\"T_97dbe_row15_col2\" class=\"data row15 col2\" >100.0%</td>\n",
       "    </tr>\n",
       "  </tbody>\n",
       "</table>\n"
      ],
      "text/plain": [
       "<pandas.io.formats.style.Styler at 0x1310d6290>"
      ]
     },
     "execution_count": 45,
     "metadata": {},
     "output_type": "execute_result"
    }
   ],
   "source": [
    "df_var_imp.style.format({\n",
    "    'imp': lambda x: f'{x:,.1%}',\n",
    "    'cumulative_imp': lambda x: f'{x:,.1%}'})\n",
    "#availability in the next year is the most important predictor variable"
   ]
  },
  {
   "cell_type": "markdown",
   "id": "58d1f38f",
   "metadata": {},
   "source": [
    "## RMSE Comparison of different models"
   ]
  },
  {
   "cell_type": "code",
   "execution_count": 46,
   "id": "de568301",
   "metadata": {},
   "outputs": [
    {
     "data": {
      "text/html": [
       "<div>\n",
       "<style scoped>\n",
       "    .dataframe tbody tr th:only-of-type {\n",
       "        vertical-align: middle;\n",
       "    }\n",
       "\n",
       "    .dataframe tbody tr th {\n",
       "        vertical-align: top;\n",
       "    }\n",
       "\n",
       "    .dataframe thead th {\n",
       "        text-align: right;\n",
       "    }\n",
       "</style>\n",
       "<table border=\"1\" class=\"dataframe\">\n",
       "  <thead>\n",
       "    <tr style=\"text-align: right;\">\n",
       "      <th></th>\n",
       "      <th>Model Type</th>\n",
       "      <th>CV RMSE</th>\n",
       "    </tr>\n",
       "  </thead>\n",
       "  <tbody>\n",
       "    <tr>\n",
       "      <th>Model 1</th>\n",
       "      <td>OLS</td>\n",
       "      <td>43.168619</td>\n",
       "    </tr>\n",
       "    <tr>\n",
       "      <th>Model 2</th>\n",
       "      <td>LASSO</td>\n",
       "      <td>43.454916</td>\n",
       "    </tr>\n",
       "    <tr>\n",
       "      <th>Model 3</th>\n",
       "      <td>CART</td>\n",
       "      <td>46.797102</td>\n",
       "    </tr>\n",
       "    <tr>\n",
       "      <th>Model 4</th>\n",
       "      <td>Random Forest</td>\n",
       "      <td>38.647105</td>\n",
       "    </tr>\n",
       "  </tbody>\n",
       "</table>\n",
       "</div>"
      ],
      "text/plain": [
       "            Model Type    CV RMSE\n",
       "Model 1            OLS  43.168619\n",
       "Model 2          LASSO  43.454916\n",
       "Model 3           CART  46.797102\n",
       "Model 4  Random Forest  38.647105"
      ]
     },
     "execution_count": 46,
     "metadata": {},
     "output_type": "execute_result"
    }
   ],
   "source": [
    "#df to see each model type and its CV RMSE\n",
    "pd.DataFrame({'Model Type': ['OLS', 'LASSO', 'CART', 'Random Forest'],\n",
    "              'CV RMSE': [ols_rmse, lasso1_rmse, cart_rmse, np.abs(rf_model.best_score_)]}, \n",
    "            index = ['Model 1', 'Model 2', 'Model 3', 'Model 4'])\n",
    "#Random Forest was best CV RMSE"
   ]
  },
  {
   "cell_type": "markdown",
   "id": "518a00bf",
   "metadata": {},
   "source": [
    "The final Random Forest model seems to have the best cross-validated RMSE. This means that on average, the random forest model's predictions are off by $38.64 in comparison to the actual apartment prices in my dataset."
   ]
  },
  {
   "cell_type": "markdown",
   "id": "32571ad0",
   "metadata": {},
   "source": [
    "## Partial Dependence Plot using Random Forest Model\n",
    "Because Model 4, the Random Forest model proved to have the best cross-valdiated RMSE, I am using this model to predict the average cost of apartments by number of guests accommodated."
   ]
  },
  {
   "cell_type": "code",
   "execution_count": 63,
   "id": "79b88ef7",
   "metadata": {},
   "outputs": [],
   "source": [
    "###Trying partial dependence plot showing average price per guests accommodated\n",
    "\n",
    "preprocessing = ColumnTransformer([\n",
    "    (\"num\", \"passthrough\", selected_features)])\n",
    "\n",
    "rf_pipeline = Pipeline(\n",
    "    [(\"preprocess\", preprocessing), \n",
    "     (\"regressor\", rf_model.best_estimator_)]\n",
    ")"
   ]
  },
  {
   "cell_type": "code",
   "execution_count": 48,
   "id": "7c8f326a",
   "metadata": {},
   "outputs": [
    {
     "name": "stdout",
     "output_type": "stream",
     "text": [
      "CPU times: user 820 ms, sys: 14.6 ms, total: 834 ms\n",
      "Wall time: 845 ms\n"
     ]
    },
    {
     "data": {
      "text/html": [
       "<style>#sk-container-id-2 {color: black;}#sk-container-id-2 pre{padding: 0;}#sk-container-id-2 div.sk-toggleable {background-color: white;}#sk-container-id-2 label.sk-toggleable__label {cursor: pointer;display: block;width: 100%;margin-bottom: 0;padding: 0.3em;box-sizing: border-box;text-align: center;}#sk-container-id-2 label.sk-toggleable__label-arrow:before {content: \"▸\";float: left;margin-right: 0.25em;color: #696969;}#sk-container-id-2 label.sk-toggleable__label-arrow:hover:before {color: black;}#sk-container-id-2 div.sk-estimator:hover label.sk-toggleable__label-arrow:before {color: black;}#sk-container-id-2 div.sk-toggleable__content {max-height: 0;max-width: 0;overflow: hidden;text-align: left;background-color: #f0f8ff;}#sk-container-id-2 div.sk-toggleable__content pre {margin: 0.2em;color: black;border-radius: 0.25em;background-color: #f0f8ff;}#sk-container-id-2 input.sk-toggleable__control:checked~div.sk-toggleable__content {max-height: 200px;max-width: 100%;overflow: auto;}#sk-container-id-2 input.sk-toggleable__control:checked~label.sk-toggleable__label-arrow:before {content: \"▾\";}#sk-container-id-2 div.sk-estimator input.sk-toggleable__control:checked~label.sk-toggleable__label {background-color: #d4ebff;}#sk-container-id-2 div.sk-label input.sk-toggleable__control:checked~label.sk-toggleable__label {background-color: #d4ebff;}#sk-container-id-2 input.sk-hidden--visually {border: 0;clip: rect(1px 1px 1px 1px);clip: rect(1px, 1px, 1px, 1px);height: 1px;margin: -1px;overflow: hidden;padding: 0;position: absolute;width: 1px;}#sk-container-id-2 div.sk-estimator {font-family: monospace;background-color: #f0f8ff;border: 1px dotted black;border-radius: 0.25em;box-sizing: border-box;margin-bottom: 0.5em;}#sk-container-id-2 div.sk-estimator:hover {background-color: #d4ebff;}#sk-container-id-2 div.sk-parallel-item::after {content: \"\";width: 100%;border-bottom: 1px solid gray;flex-grow: 1;}#sk-container-id-2 div.sk-label:hover label.sk-toggleable__label {background-color: #d4ebff;}#sk-container-id-2 div.sk-serial::before {content: \"\";position: absolute;border-left: 1px solid gray;box-sizing: border-box;top: 0;bottom: 0;left: 50%;z-index: 0;}#sk-container-id-2 div.sk-serial {display: flex;flex-direction: column;align-items: center;background-color: white;padding-right: 0.2em;padding-left: 0.2em;position: relative;}#sk-container-id-2 div.sk-item {position: relative;z-index: 1;}#sk-container-id-2 div.sk-parallel {display: flex;align-items: stretch;justify-content: center;background-color: white;position: relative;}#sk-container-id-2 div.sk-item::before, #sk-container-id-2 div.sk-parallel-item::before {content: \"\";position: absolute;border-left: 1px solid gray;box-sizing: border-box;top: 0;bottom: 0;left: 50%;z-index: -1;}#sk-container-id-2 div.sk-parallel-item {display: flex;flex-direction: column;z-index: 1;position: relative;background-color: white;}#sk-container-id-2 div.sk-parallel-item:first-child::after {align-self: flex-end;width: 50%;}#sk-container-id-2 div.sk-parallel-item:last-child::after {align-self: flex-start;width: 50%;}#sk-container-id-2 div.sk-parallel-item:only-child::after {width: 0;}#sk-container-id-2 div.sk-dashed-wrapped {border: 1px dashed gray;margin: 0 0.4em 0.5em 0.4em;box-sizing: border-box;padding-bottom: 0.4em;background-color: white;}#sk-container-id-2 div.sk-label label {font-family: monospace;font-weight: bold;display: inline-block;line-height: 1.2em;}#sk-container-id-2 div.sk-label-container {text-align: center;}#sk-container-id-2 div.sk-container {/* jupyter's `normalize.less` sets `[hidden] { display: none; }` but bootstrap.min.css set `[hidden] { display: none !important; }` so we also need the `!important` here to be able to override the default hidden behavior on the sphinx rendered scikit-learn.org. See: https://github.com/scikit-learn/scikit-learn/issues/21755 */display: inline-block !important;position: relative;}#sk-container-id-2 div.sk-text-repr-fallback {display: none;}</style><div id=\"sk-container-id-2\" class=\"sk-top-container\"><div class=\"sk-text-repr-fallback\"><pre>Pipeline(steps=[(&#x27;preprocess&#x27;,\n",
       "                 ColumnTransformer(transformers=[(&#x27;num&#x27;, &#x27;passthrough&#x27;,\n",
       "                                                  [&#x27;accommodates&#x27;, &#x27;bathrooms&#x27;,\n",
       "                                                   &#x27;beds&#x27;,\n",
       "                                                   &#x27;review_scores_rating&#x27;,\n",
       "                                                   &#x27;entire_home&#x27;,\n",
       "                                                   &#x27;entire_rental_unit&#x27;,\n",
       "                                                   &#x27;entire_condo&#x27;,\n",
       "                                                   &#x27;entire_guesthouse&#x27;,\n",
       "                                                   &#x27;entire_guest_suite&#x27;,\n",
       "                                                   &#x27;entire_townhouse&#x27;,\n",
       "                                                   &#x27;availability_365_x&#x27;,\n",
       "                                                   &#x27;number_of_reviews_x&#x27;,\n",
       "                                                   &#x27;host_is_superhost&#x27;,\n",
       "                                                   &#x27;minimum_nights_y&#x27;,\n",
       "                                                   &#x27;maximum_nights&#x27;])])),\n",
       "                (&#x27;regressor&#x27;,\n",
       "                 RandomForestRegressor(max_features=8, min_samples_leaf=5,\n",
       "                                       random_state=20240131))])</pre><b>In a Jupyter environment, please rerun this cell to show the HTML representation or trust the notebook. <br />On GitHub, the HTML representation is unable to render, please try loading this page with nbviewer.org.</b></div><div class=\"sk-container\" hidden><div class=\"sk-item sk-dashed-wrapped\"><div class=\"sk-label-container\"><div class=\"sk-label sk-toggleable\"><input class=\"sk-toggleable__control sk-hidden--visually\" id=\"sk-estimator-id-4\" type=\"checkbox\" ><label for=\"sk-estimator-id-4\" class=\"sk-toggleable__label sk-toggleable__label-arrow\">Pipeline</label><div class=\"sk-toggleable__content\"><pre>Pipeline(steps=[(&#x27;preprocess&#x27;,\n",
       "                 ColumnTransformer(transformers=[(&#x27;num&#x27;, &#x27;passthrough&#x27;,\n",
       "                                                  [&#x27;accommodates&#x27;, &#x27;bathrooms&#x27;,\n",
       "                                                   &#x27;beds&#x27;,\n",
       "                                                   &#x27;review_scores_rating&#x27;,\n",
       "                                                   &#x27;entire_home&#x27;,\n",
       "                                                   &#x27;entire_rental_unit&#x27;,\n",
       "                                                   &#x27;entire_condo&#x27;,\n",
       "                                                   &#x27;entire_guesthouse&#x27;,\n",
       "                                                   &#x27;entire_guest_suite&#x27;,\n",
       "                                                   &#x27;entire_townhouse&#x27;,\n",
       "                                                   &#x27;availability_365_x&#x27;,\n",
       "                                                   &#x27;number_of_reviews_x&#x27;,\n",
       "                                                   &#x27;host_is_superhost&#x27;,\n",
       "                                                   &#x27;minimum_nights_y&#x27;,\n",
       "                                                   &#x27;maximum_nights&#x27;])])),\n",
       "                (&#x27;regressor&#x27;,\n",
       "                 RandomForestRegressor(max_features=8, min_samples_leaf=5,\n",
       "                                       random_state=20240131))])</pre></div></div></div><div class=\"sk-serial\"><div class=\"sk-item sk-dashed-wrapped\"><div class=\"sk-label-container\"><div class=\"sk-label sk-toggleable\"><input class=\"sk-toggleable__control sk-hidden--visually\" id=\"sk-estimator-id-5\" type=\"checkbox\" ><label for=\"sk-estimator-id-5\" class=\"sk-toggleable__label sk-toggleable__label-arrow\">preprocess: ColumnTransformer</label><div class=\"sk-toggleable__content\"><pre>ColumnTransformer(transformers=[(&#x27;num&#x27;, &#x27;passthrough&#x27;,\n",
       "                                 [&#x27;accommodates&#x27;, &#x27;bathrooms&#x27;, &#x27;beds&#x27;,\n",
       "                                  &#x27;review_scores_rating&#x27;, &#x27;entire_home&#x27;,\n",
       "                                  &#x27;entire_rental_unit&#x27;, &#x27;entire_condo&#x27;,\n",
       "                                  &#x27;entire_guesthouse&#x27;, &#x27;entire_guest_suite&#x27;,\n",
       "                                  &#x27;entire_townhouse&#x27;, &#x27;availability_365_x&#x27;,\n",
       "                                  &#x27;number_of_reviews_x&#x27;, &#x27;host_is_superhost&#x27;,\n",
       "                                  &#x27;minimum_nights_y&#x27;, &#x27;maximum_nights&#x27;])])</pre></div></div></div><div class=\"sk-parallel\"><div class=\"sk-parallel-item\"><div class=\"sk-item\"><div class=\"sk-label-container\"><div class=\"sk-label sk-toggleable\"><input class=\"sk-toggleable__control sk-hidden--visually\" id=\"sk-estimator-id-6\" type=\"checkbox\" ><label for=\"sk-estimator-id-6\" class=\"sk-toggleable__label sk-toggleable__label-arrow\">num</label><div class=\"sk-toggleable__content\"><pre>[&#x27;accommodates&#x27;, &#x27;bathrooms&#x27;, &#x27;beds&#x27;, &#x27;review_scores_rating&#x27;, &#x27;entire_home&#x27;, &#x27;entire_rental_unit&#x27;, &#x27;entire_condo&#x27;, &#x27;entire_guesthouse&#x27;, &#x27;entire_guest_suite&#x27;, &#x27;entire_townhouse&#x27;, &#x27;availability_365_x&#x27;, &#x27;number_of_reviews_x&#x27;, &#x27;host_is_superhost&#x27;, &#x27;minimum_nights_y&#x27;, &#x27;maximum_nights&#x27;]</pre></div></div></div><div class=\"sk-serial\"><div class=\"sk-item\"><div class=\"sk-estimator sk-toggleable\"><input class=\"sk-toggleable__control sk-hidden--visually\" id=\"sk-estimator-id-7\" type=\"checkbox\" ><label for=\"sk-estimator-id-7\" class=\"sk-toggleable__label sk-toggleable__label-arrow\">passthrough</label><div class=\"sk-toggleable__content\"><pre>passthrough</pre></div></div></div></div></div></div></div></div><div class=\"sk-item\"><div class=\"sk-estimator sk-toggleable\"><input class=\"sk-toggleable__control sk-hidden--visually\" id=\"sk-estimator-id-8\" type=\"checkbox\" ><label for=\"sk-estimator-id-8\" class=\"sk-toggleable__label sk-toggleable__label-arrow\">RandomForestRegressor</label><div class=\"sk-toggleable__content\"><pre>RandomForestRegressor(max_features=8, min_samples_leaf=5, random_state=20240131)</pre></div></div></div></div></div></div></div>"
      ],
      "text/plain": [
       "Pipeline(steps=[('preprocess',\n",
       "                 ColumnTransformer(transformers=[('num', 'passthrough',\n",
       "                                                  ['accommodates', 'bathrooms',\n",
       "                                                   'beds',\n",
       "                                                   'review_scores_rating',\n",
       "                                                   'entire_home',\n",
       "                                                   'entire_rental_unit',\n",
       "                                                   'entire_condo',\n",
       "                                                   'entire_guesthouse',\n",
       "                                                   'entire_guest_suite',\n",
       "                                                   'entire_townhouse',\n",
       "                                                   'availability_365_x',\n",
       "                                                   'number_of_reviews_x',\n",
       "                                                   'host_is_superhost',\n",
       "                                                   'minimum_nights_y',\n",
       "                                                   'maximum_nights'])])),\n",
       "                ('regressor',\n",
       "                 RandomForestRegressor(max_features=8, min_samples_leaf=5,\n",
       "                                       random_state=20240131))])"
      ]
     },
     "execution_count": 48,
     "metadata": {},
     "output_type": "execute_result"
    }
   ],
   "source": [
    "%%time\n",
    "rf_pipeline.fit(data_train[selected_features],data_train.price)"
   ]
  },
  {
   "cell_type": "code",
   "execution_count": 49,
   "id": "6214a686",
   "metadata": {},
   "outputs": [
    {
     "name": "stdout",
     "output_type": "stream",
     "text": [
      "CPU times: user 5.3 s, sys: 43.3 ms, total: 5.34 s\n",
      "Wall time: 5.43 s\n"
     ]
    }
   ],
   "source": [
    "%%time\n",
    "result = permutation_importance(\n",
    "    rf_pipeline,\n",
    "    data_holdout[selected_features],\n",
    "    data_holdout.price,\n",
    "    n_repeats=10,\n",
    "    random_state=45,\n",
    ")"
   ]
  },
  {
   "cell_type": "code",
   "execution_count": 50,
   "id": "8cccccd8",
   "metadata": {
    "scrolled": true
   },
   "outputs": [],
   "source": [
    "#creating df for guests accommodated and predictions of prices\n",
    "accommodates_pdp = partial_dependence(\n",
    "    rf_pipeline, data_holdout[selected_features], [\"accommodates\"], kind=\"average\"\n",
    ")"
   ]
  },
  {
   "cell_type": "code",
   "execution_count": 51,
   "id": "e390cb92",
   "metadata": {},
   "outputs": [
    {
     "data": {
      "text/plain": [
       "accommodates\n",
       "2    105.945614\n",
       "3    109.320405\n",
       "4    128.226087\n",
       "5    130.528626\n",
       "6    142.330203\n",
       "Name: price, dtype: float64"
      ]
     },
     "execution_count": 51,
     "metadata": {},
     "output_type": "execute_result"
    }
   ],
   "source": [
    "airbnb.groupby('accommodates')['price'].mean()\n",
    "#the prediction of avg price by number of accommodates is not too far off from the average in the work set"
   ]
  },
  {
   "cell_type": "code",
   "execution_count": 64,
   "id": "ced70146",
   "metadata": {},
   "outputs": [
    {
     "data": {
      "text/html": [
       "<div>\n",
       "<style scoped>\n",
       "    .dataframe tbody tr th:only-of-type {\n",
       "        vertical-align: middle;\n",
       "    }\n",
       "\n",
       "    .dataframe tbody tr th {\n",
       "        vertical-align: top;\n",
       "    }\n",
       "\n",
       "    .dataframe thead th {\n",
       "        text-align: right;\n",
       "    }\n",
       "</style>\n",
       "<table border=\"1\" class=\"dataframe\">\n",
       "  <thead>\n",
       "    <tr style=\"text-align: right;\">\n",
       "      <th></th>\n",
       "      <th>actual_average_price</th>\n",
       "      <th>predicted_average_price</th>\n",
       "    </tr>\n",
       "    <tr>\n",
       "      <th>number_of_accommodates</th>\n",
       "      <th></th>\n",
       "      <th></th>\n",
       "    </tr>\n",
       "  </thead>\n",
       "  <tbody>\n",
       "    <tr>\n",
       "      <th>2</th>\n",
       "      <td>105.945614</td>\n",
       "      <td>115.810980</td>\n",
       "    </tr>\n",
       "    <tr>\n",
       "      <th>3</th>\n",
       "      <td>109.320405</td>\n",
       "      <td>117.148548</td>\n",
       "    </tr>\n",
       "    <tr>\n",
       "      <th>4</th>\n",
       "      <td>128.226087</td>\n",
       "      <td>126.079869</td>\n",
       "    </tr>\n",
       "    <tr>\n",
       "      <th>5</th>\n",
       "      <td>130.528626</td>\n",
       "      <td>126.259310</td>\n",
       "    </tr>\n",
       "    <tr>\n",
       "      <th>6</th>\n",
       "      <td>142.330203</td>\n",
       "      <td>127.034795</td>\n",
       "    </tr>\n",
       "  </tbody>\n",
       "</table>\n",
       "</div>"
      ],
      "text/plain": [
       "                        actual_average_price  predicted_average_price\n",
       "number_of_accommodates                                               \n",
       "2                                 105.945614               115.810980\n",
       "3                                 109.320405               117.148548\n",
       "4                                 128.226087               126.079869\n",
       "5                                 130.528626               126.259310\n",
       "6                                 142.330203               127.034795"
      ]
     },
     "execution_count": 64,
     "metadata": {},
     "output_type": "execute_result"
    }
   ],
   "source": [
    "#comparing actual average price by number of guests accommodated to Random Forest's prediction of average price per guest accommodated\n",
    "pred_avg_price_by_accom = pd.DataFrame({\n",
    "    'number_of_accommodates': accommodates_pdp['grid_values'][0], \n",
    "    'actual_average_price': airbnb.groupby('accommodates')['price'].mean(),\n",
    "    'predicted_average_price': accommodates_pdp['average'][0],\n",
    "    })\n",
    "\n",
    "# Set 'number_of_accommodates' as the index\n",
    "pred_avg_price_by_accom = pred_avg_price_by_accom.set_index('number_of_accommodates')\n",
    "pred_avg_price_by_accom"
   ]
  },
  {
   "cell_type": "code",
   "execution_count": 62,
   "id": "be733eec",
   "metadata": {},
   "outputs": [
    {
     "data": {
      "image/png": "[encoded data removed]",
      "text/plain": [
       "<Figure size 640x480 with 1 Axes>"
      ]
     },
     "metadata": {
      "image/png": {
       "height": 480,
       "width": 640
      }
     },
     "output_type": "display_data"
    },
    {
     "data": {
      "text/plain": [
       "<Figure Size: (640 x 480)>"
      ]
     },
     "execution_count": 62,
     "metadata": {},
     "output_type": "execute_result"
    }
   ],
   "source": [
    "#partial depenedence plot showing number of accommodates by Random Forest's predicted average_price\n",
    "#(keeping the other predictor variables constant)\n",
    "p = (ggplot(pred_avg_price_by_accom, aes(x = range(2,7), y = 'predicted_average_price')) \n",
    " + geom_point(size = 8) + theme_bw() + ggtitle('Predicted and Actual Average Price for Number of Guests')\n",
    "    +geom_point(aes(x = range(2,7), y = 'actual_average_price'), size = 8, color = 'red') \n",
    "    +ylab('Price (USD)')) + xlab('Guests')\n",
    "p\n",
    "\n",
    "#Random Forest's predicted_average_price = black\n",
    "#actual_average_price from the dataset = red"
   ]
  },
  {
   "cell_type": "markdown",
   "id": "72cc4e59",
   "metadata": {},
   "source": [
    "## Summary\n",
    "Model 4/Random Forest proved to be the best model as it had the lowest cross-validated RMSE. Using Model 4, I predicted the average price of an apartment stay with 2-6 accommodates/guests on the Airbnb market in Austin, TX (USA) as of December 12, 2023. From the prediction, keeping all other predictor variables constant, I would recommend that the fictional business price their apartments anywhere from 115-127 USD/day, depending on the number of guests an apartment could accommodate. It is important to note that the random forest model was better at predicting apartments that could accommodate 3-5 guests, and tended to be worse at predicting apartment prices for units with 2 guests and especially 6 guests. This could be due to the possibility that there are other features I did not use in my predictor variables that better explain the discrepancy in the model's predictive ability for apartments with 2 and 6 guests respectively. Further research and feature engineering would have to be conducted in order to deal with the biases.\n",
    "\n",
    "Further making recommendations to the firm, I would also take into account the importance of each predictor variable. Seeing as how availability_365_x was the most important variable, the price should be adjusted accordingly based on the availability of the listing a year in advance. Number_of_reviews_x was the second highest rated variable. Because the company would be listing new apartments on the market, this variable may seem like it doesn't apply to the case at hand; however, it is important as the company could decide to reprice the apartment once it gets to a certain number of reviews (if placed on the Airbnb market. Also further research would have to be done to see what the minimum number of reviews would be in order for the company to reprice their listing). Lastly, entire_rental_unit was of the third highest importance. This would be beneficial for the company to know so that they list the entire unit rather than a private room or section of the unit."
   ]
  }
 ],
 "metadata": {
  "kernelspec": {
   "display_name": "Python 3 (ipykernel)",
   "language": "python",
   "name": "python3"
  },
  "language_info": {
   "codemirror_mode": {
    "name": "ipython",
    "version": 3
   },
   "file_extension": ".py",
   "mimetype": "text/x-python",
   "name": "python",
   "nbconvert_exporter": "python",
   "pygments_lexer": "ipython3",
   "version": "3.11.5"
  }
 },
 "nbformat": 4,
 "nbformat_minor": 5
}
