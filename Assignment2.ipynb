{
 "cells": [
  {
   "cell_type": "markdown",
   "id": "75a7740e",
   "metadata": {},
   "source": [
    "# SAY SOSMETHING HERE\n"
   ]
  },
  {
   "cell_type": "markdown",
   "id": "3c423020",
   "metadata": {},
   "source": [
    " Your task will be to help a company operating small and mid-size apartments hosting 2-6 guests. The company is set to price their new apartments not on the market.\n",
    " \n",
    "- Build a price prediction model similarly to how we did in our case study for London.\n",
    "- Discuss your modeling decisions and compare your results to those of the case study."
   ]
  },
  {
   "cell_type": "code",
   "execution_count": 1,
   "id": "92d99fa4",
   "metadata": {},
   "outputs": [],
   "source": [
    "#@ least 3 different models: (I have to argue for my choice of models)\n",
    "\n",
    "#Model 1: OLS Linear Regression\n",
    "#Model 2: LASSO \n",
    "#Model 3: Regression Tree (CART)\n",
    "#Model 4: Random Forest(RF)"
   ]
  },
  {
   "cell_type": "markdown",
   "id": "123f963e",
   "metadata": {},
   "source": [
    "### Importing Libraries"
   ]
  },
  {
   "cell_type": "code",
   "execution_count": 67,
   "id": "61e447a4",
   "metadata": {},
   "outputs": [],
   "source": [
    "import pandas as pd\n",
    "import numpy as np\n",
    "from sklearn.model_selection import train_test_split\n",
    "from sklearn.ensemble import RandomForestRegressor\n",
    "from sklearn.metrics import mean_squared_error\n",
    "import matplotlib.pyplot as plt\n",
    "from plotnine import *\n",
    "import statsmodels.formula.api as smf\n",
    "from stargazer.stargazer import Stargazer\n",
    "from statsmodels.tools.eval_measures import mse,rmse\n",
    "from sklearn.linear_model import Lasso\n",
    "from sklearn.preprocessing import StandardScaler"
   ]
  },
  {
   "cell_type": "markdown",
   "id": "715e20b9",
   "metadata": {},
   "source": [
    "### Reading Data & Exploratory Data Analysis"
   ]
  },
  {
   "cell_type": "code",
   "execution_count": 3,
   "id": "abd5e843",
   "metadata": {},
   "outputs": [],
   "source": [
    "data = pd.read_csv('austinairbnblistings.csv')"
   ]
  },
  {
   "cell_type": "code",
   "execution_count": 4,
   "id": "5a926b4a",
   "metadata": {},
   "outputs": [
    {
     "data": {
      "text/html": [
       "<div>\n",
       "<style scoped>\n",
       "    .dataframe tbody tr th:only-of-type {\n",
       "        vertical-align: middle;\n",
       "    }\n",
       "\n",
       "    .dataframe tbody tr th {\n",
       "        vertical-align: top;\n",
       "    }\n",
       "\n",
       "    .dataframe thead th {\n",
       "        text-align: right;\n",
       "    }\n",
       "</style>\n",
       "<table border=\"1\" class=\"dataframe\">\n",
       "  <thead>\n",
       "    <tr style=\"text-align: right;\">\n",
       "      <th></th>\n",
       "      <th>id</th>\n",
       "      <th>name</th>\n",
       "      <th>host_id</th>\n",
       "      <th>host_name</th>\n",
       "      <th>neighbourhood_group</th>\n",
       "      <th>neighbourhood</th>\n",
       "      <th>latitude</th>\n",
       "      <th>longitude</th>\n",
       "      <th>room_type</th>\n",
       "      <th>price</th>\n",
       "      <th>minimum_nights</th>\n",
       "      <th>number_of_reviews</th>\n",
       "      <th>last_review</th>\n",
       "      <th>reviews_per_month</th>\n",
       "      <th>calculated_host_listings_count</th>\n",
       "      <th>availability_365</th>\n",
       "      <th>number_of_reviews_ltm</th>\n",
       "      <th>license</th>\n",
       "    </tr>\n",
       "  </thead>\n",
       "  <tbody>\n",
       "    <tr>\n",
       "      <th>0</th>\n",
       "      <td>5456</td>\n",
       "      <td>Guesthouse in Austin · ★4.84 · 1 bedroom · 2 b...</td>\n",
       "      <td>8028</td>\n",
       "      <td>Sylvia</td>\n",
       "      <td>NaN</td>\n",
       "      <td>78702</td>\n",
       "      <td>30.26057</td>\n",
       "      <td>-97.73441</td>\n",
       "      <td>Entire home/apt</td>\n",
       "      <td>101.0</td>\n",
       "      <td>2</td>\n",
       "      <td>668</td>\n",
       "      <td>2023-11-20</td>\n",
       "      <td>3.71</td>\n",
       "      <td>1</td>\n",
       "      <td>330</td>\n",
       "      <td>47</td>\n",
       "      <td>NaN</td>\n",
       "    </tr>\n",
       "    <tr>\n",
       "      <th>1</th>\n",
       "      <td>5769</td>\n",
       "      <td>Home in Austin · ★4.91 · 1 bedroom · 1 bed · 1...</td>\n",
       "      <td>8186</td>\n",
       "      <td>Elizabeth</td>\n",
       "      <td>NaN</td>\n",
       "      <td>78729</td>\n",
       "      <td>30.45697</td>\n",
       "      <td>-97.78422</td>\n",
       "      <td>Private room</td>\n",
       "      <td>NaN</td>\n",
       "      <td>1</td>\n",
       "      <td>294</td>\n",
       "      <td>2023-12-07</td>\n",
       "      <td>1.76</td>\n",
       "      <td>1</td>\n",
       "      <td>0</td>\n",
       "      <td>20</td>\n",
       "      <td>NaN</td>\n",
       "    </tr>\n",
       "    <tr>\n",
       "      <th>2</th>\n",
       "      <td>218402</td>\n",
       "      <td>Home in Austin · ★4.74 · 1 bedroom · 1 bed · 1...</td>\n",
       "      <td>1129520</td>\n",
       "      <td>Paulette</td>\n",
       "      <td>NaN</td>\n",
       "      <td>78754</td>\n",
       "      <td>30.36145</td>\n",
       "      <td>-97.64397</td>\n",
       "      <td>Private room</td>\n",
       "      <td>30.0</td>\n",
       "      <td>28</td>\n",
       "      <td>29</td>\n",
       "      <td>2023-09-24</td>\n",
       "      <td>0.20</td>\n",
       "      <td>1</td>\n",
       "      <td>252</td>\n",
       "      <td>2</td>\n",
       "      <td>NaN</td>\n",
       "    </tr>\n",
       "  </tbody>\n",
       "</table>\n",
       "</div>"
      ],
      "text/plain": [
       "       id                                               name  host_id  \\\n",
       "0    5456  Guesthouse in Austin · ★4.84 · 1 bedroom · 2 b...     8028   \n",
       "1    5769  Home in Austin · ★4.91 · 1 bedroom · 1 bed · 1...     8186   \n",
       "2  218402  Home in Austin · ★4.74 · 1 bedroom · 1 bed · 1...  1129520   \n",
       "\n",
       "   host_name  neighbourhood_group  neighbourhood  latitude  longitude  \\\n",
       "0     Sylvia                  NaN          78702  30.26057  -97.73441   \n",
       "1  Elizabeth                  NaN          78729  30.45697  -97.78422   \n",
       "2   Paulette                  NaN          78754  30.36145  -97.64397   \n",
       "\n",
       "         room_type  price  minimum_nights  number_of_reviews last_review  \\\n",
       "0  Entire home/apt  101.0               2                668  2023-11-20   \n",
       "1     Private room    NaN               1                294  2023-12-07   \n",
       "2     Private room   30.0              28                 29  2023-09-24   \n",
       "\n",
       "   reviews_per_month  calculated_host_listings_count  availability_365  \\\n",
       "0               3.71                               1               330   \n",
       "1               1.76                               1                 0   \n",
       "2               0.20                               1               252   \n",
       "\n",
       "   number_of_reviews_ltm  license  \n",
       "0                     47      NaN  \n",
       "1                     20      NaN  \n",
       "2                      2      NaN  "
      ]
     },
     "execution_count": 4,
     "metadata": {},
     "output_type": "execute_result"
    }
   ],
   "source": [
    "data.head(3)"
   ]
  },
  {
   "cell_type": "code",
   "execution_count": 5,
   "id": "e245ac3d",
   "metadata": {},
   "outputs": [
    {
     "data": {
      "text/plain": [
       "(15419, 18)"
      ]
     },
     "execution_count": 5,
     "metadata": {},
     "output_type": "execute_result"
    }
   ],
   "source": [
    "data.shape"
   ]
  },
  {
   "cell_type": "code",
   "execution_count": 6,
   "id": "82febaa5",
   "metadata": {},
   "outputs": [],
   "source": [
    "data = data.loc[data['room_type'] == 'Entire home/apt']"
   ]
  },
  {
   "cell_type": "code",
   "execution_count": 7,
   "id": "62b50863",
   "metadata": {},
   "outputs": [],
   "source": [
    "in_depth_data = pd.read_csv('indepthaustinairbnb.csv')"
   ]
  },
  {
   "cell_type": "code",
   "execution_count": 8,
   "id": "d2091f5e",
   "metadata": {},
   "outputs": [
    {
     "data": {
      "text/html": [
       "<div>\n",
       "<style scoped>\n",
       "    .dataframe tbody tr th:only-of-type {\n",
       "        vertical-align: middle;\n",
       "    }\n",
       "\n",
       "    .dataframe tbody tr th {\n",
       "        vertical-align: top;\n",
       "    }\n",
       "\n",
       "    .dataframe thead th {\n",
       "        text-align: right;\n",
       "    }\n",
       "</style>\n",
       "<table border=\"1\" class=\"dataframe\">\n",
       "  <thead>\n",
       "    <tr style=\"text-align: right;\">\n",
       "      <th></th>\n",
       "      <th>id</th>\n",
       "      <th>listing_url</th>\n",
       "      <th>scrape_id</th>\n",
       "      <th>last_scraped</th>\n",
       "      <th>source</th>\n",
       "      <th>name</th>\n",
       "      <th>description</th>\n",
       "      <th>neighborhood_overview</th>\n",
       "      <th>picture_url</th>\n",
       "      <th>host_id</th>\n",
       "      <th>...</th>\n",
       "      <th>review_scores_communication</th>\n",
       "      <th>review_scores_location</th>\n",
       "      <th>review_scores_value</th>\n",
       "      <th>license</th>\n",
       "      <th>instant_bookable</th>\n",
       "      <th>calculated_host_listings_count</th>\n",
       "      <th>calculated_host_listings_count_entire_homes</th>\n",
       "      <th>calculated_host_listings_count_private_rooms</th>\n",
       "      <th>calculated_host_listings_count_shared_rooms</th>\n",
       "      <th>reviews_per_month</th>\n",
       "    </tr>\n",
       "  </thead>\n",
       "  <tbody>\n",
       "    <tr>\n",
       "      <th>0</th>\n",
       "      <td>5456</td>\n",
       "      <td>https://www.airbnb.com/rooms/5456</td>\n",
       "      <td>20231215200307</td>\n",
       "      <td>2023-12-16</td>\n",
       "      <td>city scrape</td>\n",
       "      <td>Guesthouse in Austin · ★4.84 · 1 bedroom · 2 b...</td>\n",
       "      <td>NaN</td>\n",
       "      <td>My neighborhood is ideally located if you want...</td>\n",
       "      <td>https://a0.muscache.com/pictures/14084884/b5a3...</td>\n",
       "      <td>8028</td>\n",
       "      <td>...</td>\n",
       "      <td>4.83</td>\n",
       "      <td>4.73</td>\n",
       "      <td>4.79</td>\n",
       "      <td>NaN</td>\n",
       "      <td>f</td>\n",
       "      <td>1</td>\n",
       "      <td>1</td>\n",
       "      <td>0</td>\n",
       "      <td>0</td>\n",
       "      <td>3.71</td>\n",
       "    </tr>\n",
       "    <tr>\n",
       "      <th>1</th>\n",
       "      <td>5769</td>\n",
       "      <td>https://www.airbnb.com/rooms/5769</td>\n",
       "      <td>20231215200307</td>\n",
       "      <td>2023-12-16</td>\n",
       "      <td>previous scrape</td>\n",
       "      <td>Home in Austin · ★4.91 · 1 bedroom · 1 bed · 1...</td>\n",
       "      <td>NaN</td>\n",
       "      <td>Quiet neighborhood with lots of trees and good...</td>\n",
       "      <td>https://a0.muscache.com/pictures/23822033/ac94...</td>\n",
       "      <td>8186</td>\n",
       "      <td>...</td>\n",
       "      <td>4.94</td>\n",
       "      <td>4.76</td>\n",
       "      <td>4.92</td>\n",
       "      <td>NaN</td>\n",
       "      <td>f</td>\n",
       "      <td>1</td>\n",
       "      <td>0</td>\n",
       "      <td>1</td>\n",
       "      <td>0</td>\n",
       "      <td>1.76</td>\n",
       "    </tr>\n",
       "    <tr>\n",
       "      <th>2</th>\n",
       "      <td>6413</td>\n",
       "      <td>https://www.airbnb.com/rooms/6413</td>\n",
       "      <td>20231215200307</td>\n",
       "      <td>2023-12-16</td>\n",
       "      <td>previous scrape</td>\n",
       "      <td>Guesthouse in Austin · ★4.97 · Studio · 1 bed ...</td>\n",
       "      <td>NaN</td>\n",
       "      <td>Travis Heights is one of the oldest neighborho...</td>\n",
       "      <td>https://a0.muscache.com/pictures/miso/Hosting-...</td>\n",
       "      <td>13879</td>\n",
       "      <td>...</td>\n",
       "      <td>4.98</td>\n",
       "      <td>4.87</td>\n",
       "      <td>4.93</td>\n",
       "      <td>NaN</td>\n",
       "      <td>f</td>\n",
       "      <td>1</td>\n",
       "      <td>1</td>\n",
       "      <td>0</td>\n",
       "      <td>0</td>\n",
       "      <td>0.70</td>\n",
       "    </tr>\n",
       "  </tbody>\n",
       "</table>\n",
       "<p>3 rows × 75 columns</p>\n",
       "</div>"
      ],
      "text/plain": [
       "     id                        listing_url       scrape_id last_scraped  \\\n",
       "0  5456  https://www.airbnb.com/rooms/5456  20231215200307   2023-12-16   \n",
       "1  5769  https://www.airbnb.com/rooms/5769  20231215200307   2023-12-16   \n",
       "2  6413  https://www.airbnb.com/rooms/6413  20231215200307   2023-12-16   \n",
       "\n",
       "            source                                               name  \\\n",
       "0      city scrape  Guesthouse in Austin · ★4.84 · 1 bedroom · 2 b...   \n",
       "1  previous scrape  Home in Austin · ★4.91 · 1 bedroom · 1 bed · 1...   \n",
       "2  previous scrape  Guesthouse in Austin · ★4.97 · Studio · 1 bed ...   \n",
       "\n",
       "   description                              neighborhood_overview  \\\n",
       "0          NaN  My neighborhood is ideally located if you want...   \n",
       "1          NaN  Quiet neighborhood with lots of trees and good...   \n",
       "2          NaN  Travis Heights is one of the oldest neighborho...   \n",
       "\n",
       "                                         picture_url  host_id  ...  \\\n",
       "0  https://a0.muscache.com/pictures/14084884/b5a3...     8028  ...   \n",
       "1  https://a0.muscache.com/pictures/23822033/ac94...     8186  ...   \n",
       "2  https://a0.muscache.com/pictures/miso/Hosting-...    13879  ...   \n",
       "\n",
       "  review_scores_communication review_scores_location review_scores_value  \\\n",
       "0                        4.83                   4.73                4.79   \n",
       "1                        4.94                   4.76                4.92   \n",
       "2                        4.98                   4.87                4.93   \n",
       "\n",
       "  license instant_bookable calculated_host_listings_count  \\\n",
       "0     NaN                f                              1   \n",
       "1     NaN                f                              1   \n",
       "2     NaN                f                              1   \n",
       "\n",
       "  calculated_host_listings_count_entire_homes  \\\n",
       "0                                           1   \n",
       "1                                           0   \n",
       "2                                           1   \n",
       "\n",
       "  calculated_host_listings_count_private_rooms  \\\n",
       "0                                            0   \n",
       "1                                            1   \n",
       "2                                            0   \n",
       "\n",
       "  calculated_host_listings_count_shared_rooms reviews_per_month  \n",
       "0                                           0              3.71  \n",
       "1                                           0              1.76  \n",
       "2                                           0              0.70  \n",
       "\n",
       "[3 rows x 75 columns]"
      ]
     },
     "execution_count": 8,
     "metadata": {},
     "output_type": "execute_result"
    }
   ],
   "source": [
    "in_depth_data.head(3)"
   ]
  },
  {
   "cell_type": "code",
   "execution_count": 9,
   "id": "bdf72f23",
   "metadata": {},
   "outputs": [],
   "source": [
    "in_depth_data = in_depth_data.loc[(in_depth_data['accommodates'] >=2) & (in_depth_data['accommodates'] <=6) ]"
   ]
  },
  {
   "cell_type": "code",
   "execution_count": 10,
   "id": "98d2dbb9",
   "metadata": {},
   "outputs": [
    {
     "data": {
      "text/plain": [
       "accommodates\n",
       "2    3964\n",
       "4    3340\n",
       "6    2293\n",
       "3    1047\n",
       "5     837\n",
       "Name: count, dtype: int64"
      ]
     },
     "execution_count": 10,
     "metadata": {},
     "output_type": "execute_result"
    }
   ],
   "source": [
    "in_depth_data.accommodates.value_counts()"
   ]
  },
  {
   "cell_type": "code",
   "execution_count": 11,
   "id": "3d931efd",
   "metadata": {},
   "outputs": [],
   "source": [
    "#created new df airbnb (combines both previous data frames)\n",
    "airbnb = pd.merge(data, in_depth_data, on = 'id')"
   ]
  },
  {
   "cell_type": "code",
   "execution_count": 12,
   "id": "4ce1d326",
   "metadata": {
    "scrolled": true
   },
   "outputs": [
    {
     "data": {
      "text/html": [
       "<div>\n",
       "<style scoped>\n",
       "    .dataframe tbody tr th:only-of-type {\n",
       "        vertical-align: middle;\n",
       "    }\n",
       "\n",
       "    .dataframe tbody tr th {\n",
       "        vertical-align: top;\n",
       "    }\n",
       "\n",
       "    .dataframe thead th {\n",
       "        text-align: right;\n",
       "    }\n",
       "</style>\n",
       "<table border=\"1\" class=\"dataframe\">\n",
       "  <thead>\n",
       "    <tr style=\"text-align: right;\">\n",
       "      <th></th>\n",
       "      <th>id</th>\n",
       "      <th>name_x</th>\n",
       "      <th>host_id_x</th>\n",
       "      <th>host_name_x</th>\n",
       "      <th>neighbourhood_group</th>\n",
       "      <th>neighbourhood_x</th>\n",
       "      <th>latitude_x</th>\n",
       "      <th>longitude_x</th>\n",
       "      <th>room_type_x</th>\n",
       "      <th>price_x</th>\n",
       "      <th>...</th>\n",
       "      <th>review_scores_communication</th>\n",
       "      <th>review_scores_location</th>\n",
       "      <th>review_scores_value</th>\n",
       "      <th>license_y</th>\n",
       "      <th>instant_bookable</th>\n",
       "      <th>calculated_host_listings_count_y</th>\n",
       "      <th>calculated_host_listings_count_entire_homes</th>\n",
       "      <th>calculated_host_listings_count_private_rooms</th>\n",
       "      <th>calculated_host_listings_count_shared_rooms</th>\n",
       "      <th>reviews_per_month_y</th>\n",
       "    </tr>\n",
       "  </thead>\n",
       "  <tbody>\n",
       "    <tr>\n",
       "      <th>0</th>\n",
       "      <td>5456</td>\n",
       "      <td>Guesthouse in Austin · ★4.84 · 1 bedroom · 2 b...</td>\n",
       "      <td>8028</td>\n",
       "      <td>Sylvia</td>\n",
       "      <td>NaN</td>\n",
       "      <td>78702</td>\n",
       "      <td>30.26057</td>\n",
       "      <td>-97.73441</td>\n",
       "      <td>Entire home/apt</td>\n",
       "      <td>101.0</td>\n",
       "      <td>...</td>\n",
       "      <td>4.83</td>\n",
       "      <td>4.73</td>\n",
       "      <td>4.79</td>\n",
       "      <td>NaN</td>\n",
       "      <td>f</td>\n",
       "      <td>1</td>\n",
       "      <td>1</td>\n",
       "      <td>0</td>\n",
       "      <td>0</td>\n",
       "      <td>3.71</td>\n",
       "    </tr>\n",
       "    <tr>\n",
       "      <th>1</th>\n",
       "      <td>6413</td>\n",
       "      <td>Guesthouse in Austin · ★4.97 · Studio · 1 bed ...</td>\n",
       "      <td>13879</td>\n",
       "      <td>Todd</td>\n",
       "      <td>NaN</td>\n",
       "      <td>78704</td>\n",
       "      <td>30.24885</td>\n",
       "      <td>-97.73587</td>\n",
       "      <td>Entire home/apt</td>\n",
       "      <td>NaN</td>\n",
       "      <td>...</td>\n",
       "      <td>4.98</td>\n",
       "      <td>4.87</td>\n",
       "      <td>4.93</td>\n",
       "      <td>NaN</td>\n",
       "      <td>f</td>\n",
       "      <td>1</td>\n",
       "      <td>1</td>\n",
       "      <td>0</td>\n",
       "      <td>0</td>\n",
       "      <td>0.70</td>\n",
       "    </tr>\n",
       "    <tr>\n",
       "      <th>2</th>\n",
       "      <td>6448</td>\n",
       "      <td>Guesthouse in Austin · ★4.97 · 1 bedroom · 2 b...</td>\n",
       "      <td>14156</td>\n",
       "      <td>Amy</td>\n",
       "      <td>NaN</td>\n",
       "      <td>78704</td>\n",
       "      <td>30.26034</td>\n",
       "      <td>-97.76487</td>\n",
       "      <td>Entire home/apt</td>\n",
       "      <td>159.0</td>\n",
       "      <td>...</td>\n",
       "      <td>4.97</td>\n",
       "      <td>4.97</td>\n",
       "      <td>4.89</td>\n",
       "      <td>NaN</td>\n",
       "      <td>t</td>\n",
       "      <td>1</td>\n",
       "      <td>1</td>\n",
       "      <td>0</td>\n",
       "      <td>0</td>\n",
       "      <td>2.09</td>\n",
       "    </tr>\n",
       "  </tbody>\n",
       "</table>\n",
       "<p>3 rows × 92 columns</p>\n",
       "</div>"
      ],
      "text/plain": [
       "     id                                             name_x  host_id_x  \\\n",
       "0  5456  Guesthouse in Austin · ★4.84 · 1 bedroom · 2 b...       8028   \n",
       "1  6413  Guesthouse in Austin · ★4.97 · Studio · 1 bed ...      13879   \n",
       "2  6448  Guesthouse in Austin · ★4.97 · 1 bedroom · 2 b...      14156   \n",
       "\n",
       "  host_name_x  neighbourhood_group  neighbourhood_x  latitude_x  longitude_x  \\\n",
       "0      Sylvia                  NaN            78702    30.26057    -97.73441   \n",
       "1        Todd                  NaN            78704    30.24885    -97.73587   \n",
       "2         Amy                  NaN            78704    30.26034    -97.76487   \n",
       "\n",
       "       room_type_x  price_x  ...  review_scores_communication  \\\n",
       "0  Entire home/apt    101.0  ...                         4.83   \n",
       "1  Entire home/apt      NaN  ...                         4.98   \n",
       "2  Entire home/apt    159.0  ...                         4.97   \n",
       "\n",
       "   review_scores_location review_scores_value  license_y  instant_bookable  \\\n",
       "0                    4.73                4.79        NaN                 f   \n",
       "1                    4.87                4.93        NaN                 f   \n",
       "2                    4.97                4.89        NaN                 t   \n",
       "\n",
       "   calculated_host_listings_count_y  \\\n",
       "0                                 1   \n",
       "1                                 1   \n",
       "2                                 1   \n",
       "\n",
       "   calculated_host_listings_count_entire_homes  \\\n",
       "0                                            1   \n",
       "1                                            1   \n",
       "2                                            1   \n",
       "\n",
       "   calculated_host_listings_count_private_rooms  \\\n",
       "0                                             0   \n",
       "1                                             0   \n",
       "2                                             0   \n",
       "\n",
       "  calculated_host_listings_count_shared_rooms  reviews_per_month_y  \n",
       "0                                           0                 3.71  \n",
       "1                                           0                 0.70  \n",
       "2                                           0                 2.09  \n",
       "\n",
       "[3 rows x 92 columns]"
      ]
     },
     "execution_count": 12,
     "metadata": {},
     "output_type": "execute_result"
    }
   ],
   "source": [
    "airbnb.head(3)"
   ]
  },
  {
   "cell_type": "code",
   "execution_count": 13,
   "id": "e6ff454d",
   "metadata": {},
   "outputs": [],
   "source": [
    "airbnb.rename(columns = {'price_x':'price'}, inplace = True)"
   ]
  },
  {
   "cell_type": "code",
   "execution_count": 15,
   "id": "86c36aa2",
   "metadata": {},
   "outputs": [],
   "source": [
    "airbnb['bathrooms'] = airbnb['bathrooms_text'].apply(lambda x: float(x.split()[0]) if x.split()[0].replace('.', '').isdigit() else None)\n",
    "#turned observations into floats "
   ]
  },
  {
   "cell_type": "code",
   "execution_count": 16,
   "id": "74da607d",
   "metadata": {},
   "outputs": [],
   "source": [
    "airbnb['host_is_superhost'] = airbnb['host_is_superhost'].apply(lambda x: 1 if x == 't' else 0)\n",
    "#turned observations into booleans"
   ]
  },
  {
   "cell_type": "code",
   "execution_count": 17,
   "id": "440da9ef",
   "metadata": {},
   "outputs": [
    {
     "data": {
      "text/plain": [
       "0         90\n",
       "1         90\n",
       "2        365\n",
       "3         60\n",
       "4         90\n",
       "        ... \n",
       "9343    1125\n",
       "9344     365\n",
       "9345     365\n",
       "9346     365\n",
       "9347     365\n",
       "Name: maximum_nights, Length: 9348, dtype: int64"
      ]
     },
     "execution_count": 17,
     "metadata": {},
     "output_type": "execute_result"
    }
   ],
   "source": [
    "airbnb.maximum_nights"
   ]
  },
  {
   "cell_type": "code",
   "execution_count": 18,
   "id": "69ceff12",
   "metadata": {},
   "outputs": [],
   "source": [
    "#ONLY FOR OLS LINEAR REGRESSION (doing variable selection and interaction selection only for linear regression)\n",
    "#my other models will have variables chosen on their own due to algorithms!!!\n",
    "# y = price\n",
    "# x = accommodates, bathrooms, beds, review_scores_rating, property_type, availability_365_x, \n",
    "#number_of_reviews, host_is_superhost, minimum_nights_y, maximum_nights,\n",
    "# interaction terms: (before doing these for sure, do scatterplot to see their correlation) bathrooms*beds, \n",
    "# maximum_nights*minimum_nights, availability*number_of_reviews "
   ]
  },
  {
   "cell_type": "code",
   "execution_count": 233,
   "id": "4dab7c8c",
   "metadata": {},
   "outputs": [
    {
     "data": {
      "text/plain": [
       "0"
      ]
     },
     "execution_count": 233,
     "metadata": {},
     "output_type": "execute_result"
    }
   ],
   "source": [
    "#must drop any null values in outcome variable (price)\n",
    "airbnb.price.isnull().sum()\n",
    "airbnb.dropna(subset = ['price'], inplace = True)\n",
    "\n",
    "#bathroom observations already turned into floats. now dropping null bathrooms (only 3)\n",
    "airbnb.bathrooms.isnull().sum()\n",
    "airbnb.dropna(subset = ['bathrooms'], inplace = True)\n",
    "\n",
    "#beds. dropping null beds (only 43)\n",
    "airbnb.beds.isnull().sum()\n",
    "airbnb.dropna(subset = ['beds'], inplace = True)\n",
    "\n",
    "#review_scores_rating. over 1000 null values. will impute with median as distribution looks far \n",
    "#from normal (used ggplot to plot distribution). will also create flagged variable for missing review_scores_rating\n",
    "#and flag variable for imputed review_scores_rating\n",
    "airbnb.review_scores_rating.isnull().sum()\n",
    "airbnb['missing_review_scores_flag'] = airbnb.review_scores_rating.isnull().astype(int)\n",
    "airbnb['review_scores_imputed_flag'] = airbnb.review_scores_rating.isnull().astype(int)\n",
    "airbnb.fillna({'review_scores_rating': airbnb['review_scores_rating'].median()}, inplace=True)\n",
    "\n",
    "#property type. creating dummy variables (main property types: entire home, entire rental unit, entire condo, \n",
    "#entire guesthouse, entire guest suite, entire townhouse, others)\n",
    "airbnb.property_type.value_counts()\n",
    "airbnb['entire_home'] = (airbnb['property_type'] == 'Entire home').astype(int)\n",
    "airbnb['entire_rental_unit'] = (airbnb['property_type'] == 'Entire rental unit').astype(int)\n",
    "airbnb['entire_condo'] = (airbnb['property_type'] == 'Entire condo').astype(int)\n",
    "airbnb['entire_guesthouse'] = (airbnb['property_type'] == 'Entire guesthouse').astype(int)\n",
    "airbnb['entire_guest_suite'] = (airbnb['property_type'] == 'Entire guest suite').astype(int)\n",
    "airbnb['entire_townhouse'] = (airbnb['property_type'] == 'Entire townhouse').astype(int)\n",
    "property_types_exclude = ['Entire home', 'Entire rental unit', 'Entire condo', 'Entire guesthouse', 'Entire guest suite', 'Entire townhouse']\n",
    "airbnb['entire_other_property_type'] = (~airbnb['property_type'].isin(property_types_exclude)).astype(int)\n",
    "\n",
    "#availability_365_x has no null values and is int. no data work needed\n",
    "airbnb.availability_365_x.isnull().sum()\n",
    "\n",
    "#number_of_reviews_x has no null values and is int. no data work needed\n",
    "airbnb.number_of_reviews_x.isnull().sum()\n",
    "\n",
    "#host_is_superhost. already dummy variable. no data work needed\n",
    "airbnb.host_is_superhost\n",
    "\n",
    "#minimum_nights_y has no null values and is int. no data work needed\n",
    "airbnb.minimum_nights_y.isnull().sum()\n",
    "\n",
    "#maximum_nights has no null values and is int. no data work needed\n",
    "airbnb.maximum_nights.isnull().sum()\n",
    "\n",
    "#accommodates has no null values and is int. no data work needed\n",
    "airbnb.accommodates.isnull().sum()"
   ]
  },
  {
   "cell_type": "code",
   "execution_count": 50,
   "id": "aaf65d0d",
   "metadata": {
    "collapsed": true
   },
   "outputs": [
    {
     "data": {
      "image/png": "[encoded data removed]",
      "text/plain": [
       "<Figure size 640x480 with 1 Axes>"
      ]
     },
     "metadata": {
      "image/png": {
       "height": 480,
       "width": 640
      }
     },
     "output_type": "display_data"
    },
    {
     "data": {
      "text/plain": [
       "<Figure Size: (640 x 480)>"
      ]
     },
     "execution_count": 50,
     "metadata": {},
     "output_type": "execute_result"
    }
   ],
   "source": [
    "#had the idea to include interactions but after plotting some interaction terms together in a scatterplot, I didn't\n",
    "#find much correlation for the interactions I was looking at (ex. bathrooms*beds, \n",
    "#maximum_nights*minimum_nights, availability*number_of_reviews)\n",
    "\n",
    "ggplot(airbnb, aes(x = 'availability_365_x', y = 'number_of_reviews_x')) + geom_point()"
   ]
  },
  {
   "cell_type": "markdown",
   "id": "1d4661eb",
   "metadata": {},
   "source": [
    "### Model 1: OLS Linear Regression"
   ]
  },
  {
   "cell_type": "code",
   "execution_count": 206,
   "id": "28dc8e04",
   "metadata": {},
   "outputs": [
    {
     "name": "stdout",
     "output_type": "stream",
     "text": [
      "                            OLS Regression Results                            \n",
      "==============================================================================\n",
      "Dep. Variable:                  price   R-squared:                       0.027\n",
      "Model:                            OLS   Adj. R-squared:                  0.025\n",
      "Method:                 Least Squares   F-statistic:                     31.47\n",
      "Date:                Wed, 31 Jan 2024   Prob (F-statistic):           3.96e-88\n",
      "Time:                        20:41:27   Log-Likelihood:                -60093.\n",
      "No. Observations:                7476   AIC:                         1.202e+05\n",
      "Df Residuals:                    7460   BIC:                         1.203e+05\n",
      "Df Model:                          15                                         \n",
      "Covariance Type:                  HC1                                         \n",
      "========================================================================================\n",
      "                           coef    std err          z      P>|z|      [0.025      0.975]\n",
      "----------------------------------------------------------------------------------------\n",
      "Intercept              585.7353    214.759      2.727      0.006     164.815    1006.655\n",
      "accommodates           -33.1206     11.498     -2.881      0.004     -55.657     -10.585\n",
      "bathrooms               96.6476     16.124      5.994      0.000      65.045     128.250\n",
      "beds                    32.6156     11.721      2.783      0.005       9.643      55.589\n",
      "review_scores_rating   -95.5647     43.281     -2.208      0.027    -180.393     -10.736\n",
      "entire_home             -6.5530     15.373     -0.426      0.670     -36.683      23.577\n",
      "entire_rental_unit      85.7747     25.415      3.375      0.001      35.962     135.587\n",
      "entire_condo           -27.1175     13.965     -1.942      0.052     -54.489       0.254\n",
      "entire_guesthouse      -24.3385      9.508     -2.560      0.010     -42.973      -5.704\n",
      "entire_guest_suite     -35.6606     11.290     -3.159      0.002     -57.788     -13.533\n",
      "entire_townhouse       -62.2134     22.296     -2.790      0.005    -105.913     -18.514\n",
      "availability_365_x       0.4573      0.090      5.107      0.000       0.282       0.633\n",
      "number_of_reviews_x     -0.1502      0.029     -5.121      0.000      -0.208      -0.093\n",
      "host_is_superhost      -67.5153     12.341     -5.471      0.000     -91.702     -43.328\n",
      "minimum_nights_y         0.9601      1.386      0.693      0.489      -1.757       3.677\n",
      "maximum_nights          -0.0545      0.010     -5.201      0.000      -0.075      -0.034\n",
      "==============================================================================\n",
      "Omnibus:                    12489.016   Durbin-Watson:                   1.329\n",
      "Prob(Omnibus):                  0.000   Jarque-Bera (JB):          6534925.244\n",
      "Skew:                          11.589   Prob(JB):                         0.00\n",
      "Kurtosis:                     145.974   Cond. No.                     1.16e+04\n",
      "==============================================================================\n",
      "\n",
      "Notes:\n",
      "[1] Standard Errors are heteroscedasticity robust (HC1)\n",
      "[2] The condition number is large, 1.16e+04. This might indicate that there are\n",
      "strong multicollinearity or other numerical problems.\n"
     ]
    }
   ],
   "source": [
    "reg1 = (smf.ols(formula='''price~accommodates+ bathrooms+ beds+ review_scores_rating+ entire_home+ \n",
    "entire_rental_unit+ entire_condo+ entire_guesthouse+ entire_guest_suite+ \n",
    "entire_townhouse+availability_365_x+number_of_reviews_x+host_is_superhost+ minimum_nights_y\n",
    "+maximum_nights''', data=airbnb).fit(cov_type=\"HC1\"))\n",
    "#entire_other_property_type is the reference category for all the other 'entire' property types listed\n",
    "#not being a superhost is the refererence category for host_is_superhost\n",
    "print(reg1.summary())"
   ]
  },
  {
   "cell_type": "code",
   "execution_count": 309,
   "id": "bea14bc0",
   "metadata": {},
   "outputs": [],
   "source": [
    "selected_features = ['accommodates', 'bathrooms', 'beds', 'review_scores_rating', 'entire_home', 'entire_rental_unit', 'entire_condo',\n",
    "    'entire_guesthouse' , 'entire_guest_suite' , 'entire_townhouse' , 'availability_365_x' , 'number_of_reviews_x' ,\n",
    "    'host_is_superhost' , 'minimum_nights_y' , 'maximum_nights']"
   ]
  },
  {
   "cell_type": "markdown",
   "id": "5a97b611",
   "metadata": {},
   "source": [
    "### Model 2: Linear Regression with OLS"
   ]
  },
  {
   "cell_type": "code",
   "execution_count": null,
   "id": "3db836c9",
   "metadata": {},
   "outputs": [],
   "source": [
    "data_train, data_holdout = train_test_split(airbnb, train_size=0.7, random_state=42)\n",
    "data_train.shape, data_holdout.shape\n",
    "from sklearn.linear_model import LinearRegression\n",
    "from patsy import dmatrices\n",
    "\n",
    "y, X = dmatrices(\"price ~ \" + \" + \".join(selected_features), data_train)\n",
    "\n",
    "ols_model = LinearRegression().fit(X,y)\n",
    "\n",
    "#y_test, X_test = dmatrices(\"price ~ \" + \" + \".join(predictors_2), data_holdout)\n",
    "\n",
    "y_hat = ols_model.predict(X)\n",
    "\n",
    "ols_rmse = mean_squared_error(y,y_hat,squared=False)\n",
    "print(f' OLS RMSE: {ols_rmse}')\n",
    "\n",
    "ols_model_coeffs_df = pd.DataFrame(\n",
    "    ols_model.coef_.tolist()[0],\n",
    "    index=X.design_info.column_names,\n",
    "    columns=[\"ols_coefficient\"],\n",
    ").assign(ols_coefficient=lambda x: x.ols_coefficient.round(3))\n",
    "\n",
    "ols_model_coeffs_df"
   ]
  },
  {
   "cell_type": "code",
   "execution_count": 310,
   "id": "343ae390",
   "metadata": {},
   "outputs": [],
   "source": [
    "data_train, data_holdout = train_test_split(airbnb, train_size=0.7, random_state=42)"
   ]
  },
  {
   "cell_type": "code",
   "execution_count": 311,
   "id": "be6c8f7a",
   "metadata": {
    "scrolled": true
   },
   "outputs": [
    {
     "data": {
      "text/plain": [
       "((5233, 101), (2243, 101))"
      ]
     },
     "execution_count": 311,
     "metadata": {},
     "output_type": "execute_result"
    }
   ],
   "source": [
    "data_train.shape, data_holdout.shape"
   ]
  },
  {
   "cell_type": "code",
   "execution_count": 312,
   "id": "c618a6fb",
   "metadata": {},
   "outputs": [],
   "source": [
    "from sklearn.linear_model import LinearRegression\n",
    "from patsy import dmatrices"
   ]
  },
  {
   "cell_type": "code",
   "execution_count": 313,
   "id": "10b236f1",
   "metadata": {},
   "outputs": [
    {
     "name": "stdout",
     "output_type": "stream",
     "text": [
      " OLS RMSE: 768.7785159567597\n"
     ]
    }
   ],
   "source": [
    "y, X = dmatrices(\"price ~ \" + \" + \".join(selected_features), data_train)\n",
    "\n",
    "ols_model = LinearRegression().fit(X,y)\n",
    "\n",
    "#y_test, X_test = dmatrices(\"price ~ \" + \" + \".join(predictors_2), data_holdout)\n",
    "\n",
    "y_hat = ols_model.predict(X)\n",
    "\n",
    "ols_rmse = mean_squared_error(y,y_hat,squared=False)\n",
    "print(f' OLS RMSE: {ols_rmse}')"
   ]
  },
  {
   "cell_type": "code",
   "execution_count": 314,
   "id": "62c1f5ee",
   "metadata": {},
   "outputs": [],
   "source": [
    "ols_model_coeffs_df = pd.DataFrame(\n",
    "    ols_model.coef_.tolist()[0],\n",
    "    index=X.design_info.column_names,\n",
    "    columns=[\"ols_coefficient\"],\n",
    ").assign(ols_coefficient=lambda x: x.ols_coefficient.round(3))"
   ]
  },
  {
   "cell_type": "code",
   "execution_count": 315,
   "id": "40886b50",
   "metadata": {},
   "outputs": [
    {
     "data": {
      "text/html": [
       "<div>\n",
       "<style scoped>\n",
       "    .dataframe tbody tr th:only-of-type {\n",
       "        vertical-align: middle;\n",
       "    }\n",
       "\n",
       "    .dataframe tbody tr th {\n",
       "        vertical-align: top;\n",
       "    }\n",
       "\n",
       "    .dataframe thead th {\n",
       "        text-align: right;\n",
       "    }\n",
       "</style>\n",
       "<table border=\"1\" class=\"dataframe\">\n",
       "  <thead>\n",
       "    <tr style=\"text-align: right;\">\n",
       "      <th></th>\n",
       "      <th>ols_coefficient</th>\n",
       "    </tr>\n",
       "  </thead>\n",
       "  <tbody>\n",
       "    <tr>\n",
       "      <th>Intercept</th>\n",
       "      <td>0.000</td>\n",
       "    </tr>\n",
       "    <tr>\n",
       "      <th>accommodates</th>\n",
       "      <td>-45.931</td>\n",
       "    </tr>\n",
       "    <tr>\n",
       "      <th>bathrooms</th>\n",
       "      <td>94.481</td>\n",
       "    </tr>\n",
       "    <tr>\n",
       "      <th>beds</th>\n",
       "      <td>48.608</td>\n",
       "    </tr>\n",
       "    <tr>\n",
       "      <th>review_scores_rating</th>\n",
       "      <td>-72.676</td>\n",
       "    </tr>\n",
       "    <tr>\n",
       "      <th>entire_home</th>\n",
       "      <td>-9.758</td>\n",
       "    </tr>\n",
       "    <tr>\n",
       "      <th>entire_rental_unit</th>\n",
       "      <td>89.498</td>\n",
       "    </tr>\n",
       "    <tr>\n",
       "      <th>entire_condo</th>\n",
       "      <td>-44.905</td>\n",
       "    </tr>\n",
       "    <tr>\n",
       "      <th>entire_guesthouse</th>\n",
       "      <td>-40.036</td>\n",
       "    </tr>\n",
       "    <tr>\n",
       "      <th>entire_guest_suite</th>\n",
       "      <td>-41.140</td>\n",
       "    </tr>\n",
       "    <tr>\n",
       "      <th>entire_townhouse</th>\n",
       "      <td>-53.010</td>\n",
       "    </tr>\n",
       "    <tr>\n",
       "      <th>availability_365_x</th>\n",
       "      <td>0.525</td>\n",
       "    </tr>\n",
       "    <tr>\n",
       "      <th>number_of_reviews_x</th>\n",
       "      <td>-0.175</td>\n",
       "    </tr>\n",
       "    <tr>\n",
       "      <th>host_is_superhost</th>\n",
       "      <td>-81.353</td>\n",
       "    </tr>\n",
       "    <tr>\n",
       "      <th>minimum_nights_y</th>\n",
       "      <td>-0.096</td>\n",
       "    </tr>\n",
       "    <tr>\n",
       "      <th>maximum_nights</th>\n",
       "      <td>-0.060</td>\n",
       "    </tr>\n",
       "  </tbody>\n",
       "</table>\n",
       "</div>"
      ],
      "text/plain": [
       "                      ols_coefficient\n",
       "Intercept                       0.000\n",
       "accommodates                  -45.931\n",
       "bathrooms                      94.481\n",
       "beds                           48.608\n",
       "review_scores_rating          -72.676\n",
       "entire_home                    -9.758\n",
       "entire_rental_unit             89.498\n",
       "entire_condo                  -44.905\n",
       "entire_guesthouse             -40.036\n",
       "entire_guest_suite            -41.140\n",
       "entire_townhouse              -53.010\n",
       "availability_365_x              0.525\n",
       "number_of_reviews_x            -0.175\n",
       "host_is_superhost             -81.353\n",
       "minimum_nights_y               -0.096\n",
       "maximum_nights                 -0.060"
      ]
     },
     "execution_count": 315,
     "metadata": {},
     "output_type": "execute_result"
    }
   ],
   "source": [
    "ols_model_coeffs_df"
   ]
  },
  {
   "cell_type": "code",
   "execution_count": 361,
   "id": "45a35829",
   "metadata": {},
   "outputs": [],
   "source": [
    "# # Assuming 'data_holdout' is your new dataset (holdout set)\n",
    "# # Assuming 'selected_features' is the list of selected features used in the model\n",
    "\n",
    "# # Create the design matrix for the holdout set\n",
    "# y_holdout, X_holdout = dmatrices(\"price ~ \" + \" + \".join(selected_features), data_holdout)\n",
    "\n",
    "# # Make predictions using the trained OLS model\n",
    "# ols_predictions = ols_model.predict(X_holdout)\n",
    "\n",
    "# y_holdout_flat = y_holdout.flatten()\n",
    "\n",
    "# # Create a DataFrame with predictions\n",
    "# ols_pred_df = pd.DataFrame({\n",
    "#     'Actual_Price': y_holdout.flat,  # Actual prices from the holdout set\n",
    "#     'Predicted_Price': ols_predictions.flatten(),\n",
    "#     'Accommodates': data_holdout['accommodates'],  # Adding 'accommodates' to the DataFrame\n",
    "#     'Difference': ols_pred_df['Predicted_Price'] - ols_pred_df['Actual_Price']\n",
    "# })\n",
    "\n",
    "\n",
    "# # Group by 'Accommodates' and calculate the mean of actual and predicted prices\n",
    "# ols_pred_grouped = ols_pred_df.groupby('Accommodates').mean().reset_index()\n",
    "\n",
    "# # Display the DataFrame with actual and predicted prices\n",
    "# ols_pred_grouped\n"
   ]
  },
  {
   "cell_type": "markdown",
   "id": "71b9e5fd",
   "metadata": {},
   "source": [
    "### Model 3: Linear regression using LASSO (fitting variables closer to zero)"
   ]
  },
  {
   "cell_type": "code",
   "execution_count": 207,
   "id": "3abfdfc3",
   "metadata": {},
   "outputs": [
    {
     "name": "stdout",
     "output_type": "stream",
     "text": [
      "RMSE: 704.608124452592\n",
      "LASSO Coefficients:\n",
      "accommodates           -67.302752\n",
      "bathrooms               56.805392\n",
      "beds                    45.906886\n",
      "review_scores_rating   -23.581954\n",
      "entire_home             -4.063138\n",
      "entire_rental_unit      40.761860\n",
      "entire_condo           -14.659685\n",
      "entire_guesthouse      -10.196630\n",
      "entire_guest_suite      -7.080339\n",
      "entire_townhouse        -7.878811\n",
      "availability_365_x      71.084536\n",
      "number_of_reviews_x    -16.766210\n",
      "host_is_superhost      -40.488057\n",
      "minimum_nights_y        -2.520527\n",
      "maximum_nights         -26.324438\n",
      "dtype: float64\n"
     ]
    }
   ],
   "source": [
    "#X = list of the predictor variables\n",
    "selected_features = ['accommodates', 'bathrooms', 'beds', 'review_scores_rating', 'entire_home', 'entire_rental_unit', 'entire_condo',\n",
    "    'entire_guesthouse' , 'entire_guest_suite' , 'entire_townhouse' , 'availability_365_x' , 'number_of_reviews_x' ,\n",
    "    'host_is_superhost' , 'minimum_nights_y' , 'maximum_nights']\n",
    "#entire_other_property_type is the reference category for all the other 'entire' property types listed\n",
    "#not being a superhost is the refererence category for host_is_superhost\n",
    "\n",
    "X = airbnb[selected_features]\n",
    "# y = outcome variable\n",
    "y = airbnb['price']\n",
    "\n",
    "X_train, X_test, y_train, y_test = train_test_split(X, y, test_size=0.3, random_state=42)\n",
    "\n",
    "#standardizing the features for LASSO\n",
    "scaler = StandardScaler()\n",
    "X_train_scaled = scaler.fit_transform(X_train)\n",
    "X_test_scaled = scaler.transform(X_test)\n",
    "\n",
    "#LASSO regression model\n",
    "lasso_model = Lasso(alpha=0.1) \n",
    "\n",
    "#fitting LASSO model on training set\n",
    "lasso_model.fit(X_train_scaled, y_train)\n",
    "\n",
    "#prediction on test set\n",
    "y_pred = lasso_model.predict(X_test_scaled)\n",
    "\n",
    "#calculating RMSE\n",
    "rmse = np.sqrt(mean_squared_error(y_test, y_pred))\n",
    "print(\"RMSE:\", rmse)\n",
    "\n",
    "#coefficients of model\n",
    "coefficients = pd.Series(lasso_model.coef_, index=X.columns)\n",
    "print(\"LASSO Coefficients:\")\n",
    "print(coefficients)"
   ]
  },
  {
   "cell_type": "markdown",
   "id": "d4bed6bf",
   "metadata": {},
   "source": [
    "### Model 4: Linear regression using LASSO (ElasticNet)\n",
    "ElasticNet uses a mix of penalties unlike the previous LASSO model which only used 1 type to enforce shrinkage as close as possible to zero. ElasticNet allows flexibility and can be more robust in case of high correlation between predictor variables."
   ]
  },
  {
   "cell_type": "code",
   "execution_count": 208,
   "id": "edefb008",
   "metadata": {},
   "outputs": [],
   "source": [
    "from sklearn.linear_model import ElasticNet\n",
    "from sklearn.model_selection import GridSearchCV\n",
    "from sklearn.model_selection import RandomizedSearchCV"
   ]
  },
  {
   "cell_type": "code",
   "execution_count": 209,
   "id": "07ff7d8d",
   "metadata": {},
   "outputs": [],
   "source": [
    "lasso_model =  ElasticNet(l1_ratio = 1, fit_intercept = True)"
   ]
  },
  {
   "cell_type": "code",
   "execution_count": 210,
   "id": "5153180f",
   "metadata": {},
   "outputs": [],
   "source": [
    "lasso_model_cv = GridSearchCV(\n",
    "    lasso_model,\n",
    "    # {\"alpha\":[i/100 for i in range(1, 26, 1)]}, > this option takes forever to run\n",
    "    {\"alpha\":[i/100 for i in range(5, 26, 5)]},\n",
    "    cv=5,\n",
    "    scoring=\"neg_root_mean_squared_error\",\n",
    "    verbose=3,\n",
    ")"
   ]
  },
  {
   "cell_type": "code",
   "execution_count": 211,
   "id": "7be64b72",
   "metadata": {},
   "outputs": [],
   "source": [
    "y, X = dmatrices(\"price ~ \" + \" + \".join(selected_features), data_train)"
   ]
  },
  {
   "cell_type": "code",
   "execution_count": 212,
   "id": "ef866a63",
   "metadata": {},
   "outputs": [
    {
     "name": "stdout",
     "output_type": "stream",
     "text": [
      "Fitting 5 folds for each of 5 candidates, totalling 25 fits\n",
      "[CV 1/5] END .....................alpha=0.05;, score=-802.843 total time=   0.0s\n",
      "[CV 2/5] END .....................alpha=0.05;, score=-698.695 total time=   0.0s\n",
      "[CV 3/5] END .....................alpha=0.05;, score=-826.806 total time=   0.0s\n",
      "[CV 4/5] END .....................alpha=0.05;, score=-863.211 total time=   0.0s\n",
      "[CV 5/5] END .....................alpha=0.05;, score=-644.104 total time=   0.0s\n",
      "[CV 1/5] END ......................alpha=0.1;, score=-802.852 total time=   0.0s\n",
      "[CV 2/5] END ......................alpha=0.1;, score=-698.668 total time=   0.0s\n",
      "[CV 3/5] END ......................alpha=0.1;, score=-826.823 total time=   0.0s\n",
      "[CV 4/5] END ......................alpha=0.1;, score=-863.214 total time=   0.0s\n",
      "[CV 5/5] END ......................alpha=0.1;, score=-644.100 total time=   0.0s\n",
      "[CV 1/5] END .....................alpha=0.15;, score=-802.861 total time=   0.0s\n",
      "[CV 2/5] END .....................alpha=0.15;, score=-698.643 total time=   0.0s\n",
      "[CV 3/5] END .....................alpha=0.15;, score=-826.841 total time=   0.0s\n",
      "[CV 4/5] END .....................alpha=0.15;, score=-863.217 total time=   0.0s\n",
      "[CV 5/5] END .....................alpha=0.15;, score=-644.098 total time=   0.0s\n",
      "[CV 1/5] END ......................alpha=0.2;, score=-802.872 total time=   0.0s\n",
      "[CV 2/5] END ......................alpha=0.2;, score=-698.620 total time=   0.0s\n",
      "[CV 3/5] END ......................alpha=0.2;, score=-826.857 total time=   0.0s\n",
      "[CV 4/5] END ......................alpha=0.2;, score=-863.219 total time=   0.0s\n",
      "[CV 5/5] END ......................alpha=0.2;, score=-644.096 total time=   0.0s\n",
      "[CV 1/5] END .....................alpha=0.25;, score=-802.883 total time=   0.0s\n",
      "[CV 2/5] END .....................alpha=0.25;, score=-698.597 total time=   0.0s\n",
      "[CV 3/5] END .....................alpha=0.25;, score=-826.872 total time=   0.0s\n",
      "[CV 4/5] END .....................alpha=0.25;, score=-863.221 total time=   0.0s\n",
      "[CV 5/5] END .....................alpha=0.25;, score=-644.095 total time=   0.0s\n",
      "CPU times: user 215 ms, sys: 40.8 ms, total: 256 ms\n",
      "Wall time: 200 ms\n"
     ]
    },
    {
     "data": {
      "text/html": [
       "<style>#sk-container-id-6 {color: black;}#sk-container-id-6 pre{padding: 0;}#sk-container-id-6 div.sk-toggleable {background-color: white;}#sk-container-id-6 label.sk-toggleable__label {cursor: pointer;display: block;width: 100%;margin-bottom: 0;padding: 0.3em;box-sizing: border-box;text-align: center;}#sk-container-id-6 label.sk-toggleable__label-arrow:before {content: \"▸\";float: left;margin-right: 0.25em;color: #696969;}#sk-container-id-6 label.sk-toggleable__label-arrow:hover:before {color: black;}#sk-container-id-6 div.sk-estimator:hover label.sk-toggleable__label-arrow:before {color: black;}#sk-container-id-6 div.sk-toggleable__content {max-height: 0;max-width: 0;overflow: hidden;text-align: left;background-color: #f0f8ff;}#sk-container-id-6 div.sk-toggleable__content pre {margin: 0.2em;color: black;border-radius: 0.25em;background-color: #f0f8ff;}#sk-container-id-6 input.sk-toggleable__control:checked~div.sk-toggleable__content {max-height: 200px;max-width: 100%;overflow: auto;}#sk-container-id-6 input.sk-toggleable__control:checked~label.sk-toggleable__label-arrow:before {content: \"▾\";}#sk-container-id-6 div.sk-estimator input.sk-toggleable__control:checked~label.sk-toggleable__label {background-color: #d4ebff;}#sk-container-id-6 div.sk-label input.sk-toggleable__control:checked~label.sk-toggleable__label {background-color: #d4ebff;}#sk-container-id-6 input.sk-hidden--visually {border: 0;clip: rect(1px 1px 1px 1px);clip: rect(1px, 1px, 1px, 1px);height: 1px;margin: -1px;overflow: hidden;padding: 0;position: absolute;width: 1px;}#sk-container-id-6 div.sk-estimator {font-family: monospace;background-color: #f0f8ff;border: 1px dotted black;border-radius: 0.25em;box-sizing: border-box;margin-bottom: 0.5em;}#sk-container-id-6 div.sk-estimator:hover {background-color: #d4ebff;}#sk-container-id-6 div.sk-parallel-item::after {content: \"\";width: 100%;border-bottom: 1px solid gray;flex-grow: 1;}#sk-container-id-6 div.sk-label:hover label.sk-toggleable__label {background-color: #d4ebff;}#sk-container-id-6 div.sk-serial::before {content: \"\";position: absolute;border-left: 1px solid gray;box-sizing: border-box;top: 0;bottom: 0;left: 50%;z-index: 0;}#sk-container-id-6 div.sk-serial {display: flex;flex-direction: column;align-items: center;background-color: white;padding-right: 0.2em;padding-left: 0.2em;position: relative;}#sk-container-id-6 div.sk-item {position: relative;z-index: 1;}#sk-container-id-6 div.sk-parallel {display: flex;align-items: stretch;justify-content: center;background-color: white;position: relative;}#sk-container-id-6 div.sk-item::before, #sk-container-id-6 div.sk-parallel-item::before {content: \"\";position: absolute;border-left: 1px solid gray;box-sizing: border-box;top: 0;bottom: 0;left: 50%;z-index: -1;}#sk-container-id-6 div.sk-parallel-item {display: flex;flex-direction: column;z-index: 1;position: relative;background-color: white;}#sk-container-id-6 div.sk-parallel-item:first-child::after {align-self: flex-end;width: 50%;}#sk-container-id-6 div.sk-parallel-item:last-child::after {align-self: flex-start;width: 50%;}#sk-container-id-6 div.sk-parallel-item:only-child::after {width: 0;}#sk-container-id-6 div.sk-dashed-wrapped {border: 1px dashed gray;margin: 0 0.4em 0.5em 0.4em;box-sizing: border-box;padding-bottom: 0.4em;background-color: white;}#sk-container-id-6 div.sk-label label {font-family: monospace;font-weight: bold;display: inline-block;line-height: 1.2em;}#sk-container-id-6 div.sk-label-container {text-align: center;}#sk-container-id-6 div.sk-container {/* jupyter's `normalize.less` sets `[hidden] { display: none; }` but bootstrap.min.css set `[hidden] { display: none !important; }` so we also need the `!important` here to be able to override the default hidden behavior on the sphinx rendered scikit-learn.org. See: https://github.com/scikit-learn/scikit-learn/issues/21755 */display: inline-block !important;position: relative;}#sk-container-id-6 div.sk-text-repr-fallback {display: none;}</style><div id=\"sk-container-id-6\" class=\"sk-top-container\"><div class=\"sk-text-repr-fallback\"><pre>GridSearchCV(cv=5, estimator=ElasticNet(l1_ratio=1),\n",
       "             param_grid={&#x27;alpha&#x27;: [0.05, 0.1, 0.15, 0.2, 0.25]},\n",
       "             scoring=&#x27;neg_root_mean_squared_error&#x27;, verbose=3)</pre><b>In a Jupyter environment, please rerun this cell to show the HTML representation or trust the notebook. <br />On GitHub, the HTML representation is unable to render, please try loading this page with nbviewer.org.</b></div><div class=\"sk-container\" hidden><div class=\"sk-item sk-dashed-wrapped\"><div class=\"sk-label-container\"><div class=\"sk-label sk-toggleable\"><input class=\"sk-toggleable__control sk-hidden--visually\" id=\"sk-estimator-id-14\" type=\"checkbox\" ><label for=\"sk-estimator-id-14\" class=\"sk-toggleable__label sk-toggleable__label-arrow\">GridSearchCV</label><div class=\"sk-toggleable__content\"><pre>GridSearchCV(cv=5, estimator=ElasticNet(l1_ratio=1),\n",
       "             param_grid={&#x27;alpha&#x27;: [0.05, 0.1, 0.15, 0.2, 0.25]},\n",
       "             scoring=&#x27;neg_root_mean_squared_error&#x27;, verbose=3)</pre></div></div></div><div class=\"sk-parallel\"><div class=\"sk-parallel-item\"><div class=\"sk-item\"><div class=\"sk-label-container\"><div class=\"sk-label sk-toggleable\"><input class=\"sk-toggleable__control sk-hidden--visually\" id=\"sk-estimator-id-15\" type=\"checkbox\" ><label for=\"sk-estimator-id-15\" class=\"sk-toggleable__label sk-toggleable__label-arrow\">estimator: ElasticNet</label><div class=\"sk-toggleable__content\"><pre>ElasticNet(l1_ratio=1)</pre></div></div></div><div class=\"sk-serial\"><div class=\"sk-item\"><div class=\"sk-estimator sk-toggleable\"><input class=\"sk-toggleable__control sk-hidden--visually\" id=\"sk-estimator-id-16\" type=\"checkbox\" ><label for=\"sk-estimator-id-16\" class=\"sk-toggleable__label sk-toggleable__label-arrow\">ElasticNet</label><div class=\"sk-toggleable__content\"><pre>ElasticNet(l1_ratio=1)</pre></div></div></div></div></div></div></div></div></div></div>"
      ],
      "text/plain": [
       "GridSearchCV(cv=5, estimator=ElasticNet(l1_ratio=1),\n",
       "             param_grid={'alpha': [0.05, 0.1, 0.15, 0.2, 0.25]},\n",
       "             scoring='neg_root_mean_squared_error', verbose=3)"
      ]
     },
     "execution_count": 212,
     "metadata": {},
     "output_type": "execute_result"
    }
   ],
   "source": [
    "%%time\n",
    "lasso_model_cv.fit(X, y.ravel())"
   ]
  },
  {
   "cell_type": "code",
   "execution_count": 213,
   "id": "7b787f45",
   "metadata": {},
   "outputs": [
    {
     "data": {
      "text/html": [
       "<div>\n",
       "<style scoped>\n",
       "    .dataframe tbody tr th:only-of-type {\n",
       "        vertical-align: middle;\n",
       "    }\n",
       "\n",
       "    .dataframe tbody tr th {\n",
       "        vertical-align: top;\n",
       "    }\n",
       "\n",
       "    .dataframe thead th {\n",
       "        text-align: right;\n",
       "    }\n",
       "</style>\n",
       "<table border=\"1\" class=\"dataframe\">\n",
       "  <thead>\n",
       "    <tr style=\"text-align: right;\">\n",
       "      <th></th>\n",
       "      <th>lasso_coefficient</th>\n",
       "    </tr>\n",
       "  </thead>\n",
       "  <tbody>\n",
       "    <tr>\n",
       "      <th>accommodates</th>\n",
       "      <td>-45.614</td>\n",
       "    </tr>\n",
       "    <tr>\n",
       "      <th>bathrooms</th>\n",
       "      <td>93.540</td>\n",
       "    </tr>\n",
       "    <tr>\n",
       "      <th>beds</th>\n",
       "      <td>48.240</td>\n",
       "    </tr>\n",
       "    <tr>\n",
       "      <th>review_scores_rating</th>\n",
       "      <td>-71.884</td>\n",
       "    </tr>\n",
       "    <tr>\n",
       "      <th>entire_home</th>\n",
       "      <td>-4.826</td>\n",
       "    </tr>\n",
       "    <tr>\n",
       "      <th>entire_rental_unit</th>\n",
       "      <td>93.478</td>\n",
       "    </tr>\n",
       "    <tr>\n",
       "      <th>entire_condo</th>\n",
       "      <td>-39.845</td>\n",
       "    </tr>\n",
       "    <tr>\n",
       "      <th>entire_guesthouse</th>\n",
       "      <td>-34.507</td>\n",
       "    </tr>\n",
       "    <tr>\n",
       "      <th>entire_guest_suite</th>\n",
       "      <td>-33.941</td>\n",
       "    </tr>\n",
       "    <tr>\n",
       "      <th>entire_townhouse</th>\n",
       "      <td>-44.125</td>\n",
       "    </tr>\n",
       "    <tr>\n",
       "      <th>availability_365_x</th>\n",
       "      <td>0.525</td>\n",
       "    </tr>\n",
       "    <tr>\n",
       "      <th>number_of_reviews_x</th>\n",
       "      <td>-0.176</td>\n",
       "    </tr>\n",
       "    <tr>\n",
       "      <th>host_is_superhost</th>\n",
       "      <td>-81.141</td>\n",
       "    </tr>\n",
       "    <tr>\n",
       "      <th>minimum_nights_y</th>\n",
       "      <td>-0.097</td>\n",
       "    </tr>\n",
       "    <tr>\n",
       "      <th>maximum_nights</th>\n",
       "      <td>-0.060</td>\n",
       "    </tr>\n",
       "  </tbody>\n",
       "</table>\n",
       "</div>"
      ],
      "text/plain": [
       "                      lasso_coefficient\n",
       "accommodates                    -45.614\n",
       "bathrooms                        93.540\n",
       "beds                             48.240\n",
       "review_scores_rating            -71.884\n",
       "entire_home                      -4.826\n",
       "entire_rental_unit               93.478\n",
       "entire_condo                    -39.845\n",
       "entire_guesthouse               -34.507\n",
       "entire_guest_suite              -33.941\n",
       "entire_townhouse                -44.125\n",
       "availability_365_x                0.525\n",
       "number_of_reviews_x              -0.176\n",
       "host_is_superhost               -81.141\n",
       "minimum_nights_y                 -0.097\n",
       "maximum_nights                   -0.060"
      ]
     },
     "execution_count": 213,
     "metadata": {},
     "output_type": "execute_result"
    }
   ],
   "source": [
    "pd.DataFrame(\n",
    "    lasso_model_cv.best_estimator_.coef_.tolist(),\n",
    "    index=X.design_info.column_names,\n",
    "    columns=[\"lasso_coefficient\"],\n",
    ").assign(lasso_coefficient=lambda x: x.lasso_coefficient.round(3)).loc[\n",
    "    lambda x: x.lasso_coefficient != 0\n",
    "]\n",
    "#coefficients of best model"
   ]
  },
  {
   "cell_type": "code",
   "execution_count": 214,
   "id": "a6250cef",
   "metadata": {},
   "outputs": [
    {
     "data": {
      "text/html": [
       "<style>#sk-container-id-7 {color: black;}#sk-container-id-7 pre{padding: 0;}#sk-container-id-7 div.sk-toggleable {background-color: white;}#sk-container-id-7 label.sk-toggleable__label {cursor: pointer;display: block;width: 100%;margin-bottom: 0;padding: 0.3em;box-sizing: border-box;text-align: center;}#sk-container-id-7 label.sk-toggleable__label-arrow:before {content: \"▸\";float: left;margin-right: 0.25em;color: #696969;}#sk-container-id-7 label.sk-toggleable__label-arrow:hover:before {color: black;}#sk-container-id-7 div.sk-estimator:hover label.sk-toggleable__label-arrow:before {color: black;}#sk-container-id-7 div.sk-toggleable__content {max-height: 0;max-width: 0;overflow: hidden;text-align: left;background-color: #f0f8ff;}#sk-container-id-7 div.sk-toggleable__content pre {margin: 0.2em;color: black;border-radius: 0.25em;background-color: #f0f8ff;}#sk-container-id-7 input.sk-toggleable__control:checked~div.sk-toggleable__content {max-height: 200px;max-width: 100%;overflow: auto;}#sk-container-id-7 input.sk-toggleable__control:checked~label.sk-toggleable__label-arrow:before {content: \"▾\";}#sk-container-id-7 div.sk-estimator input.sk-toggleable__control:checked~label.sk-toggleable__label {background-color: #d4ebff;}#sk-container-id-7 div.sk-label input.sk-toggleable__control:checked~label.sk-toggleable__label {background-color: #d4ebff;}#sk-container-id-7 input.sk-hidden--visually {border: 0;clip: rect(1px 1px 1px 1px);clip: rect(1px, 1px, 1px, 1px);height: 1px;margin: -1px;overflow: hidden;padding: 0;position: absolute;width: 1px;}#sk-container-id-7 div.sk-estimator {font-family: monospace;background-color: #f0f8ff;border: 1px dotted black;border-radius: 0.25em;box-sizing: border-box;margin-bottom: 0.5em;}#sk-container-id-7 div.sk-estimator:hover {background-color: #d4ebff;}#sk-container-id-7 div.sk-parallel-item::after {content: \"\";width: 100%;border-bottom: 1px solid gray;flex-grow: 1;}#sk-container-id-7 div.sk-label:hover label.sk-toggleable__label {background-color: #d4ebff;}#sk-container-id-7 div.sk-serial::before {content: \"\";position: absolute;border-left: 1px solid gray;box-sizing: border-box;top: 0;bottom: 0;left: 50%;z-index: 0;}#sk-container-id-7 div.sk-serial {display: flex;flex-direction: column;align-items: center;background-color: white;padding-right: 0.2em;padding-left: 0.2em;position: relative;}#sk-container-id-7 div.sk-item {position: relative;z-index: 1;}#sk-container-id-7 div.sk-parallel {display: flex;align-items: stretch;justify-content: center;background-color: white;position: relative;}#sk-container-id-7 div.sk-item::before, #sk-container-id-7 div.sk-parallel-item::before {content: \"\";position: absolute;border-left: 1px solid gray;box-sizing: border-box;top: 0;bottom: 0;left: 50%;z-index: -1;}#sk-container-id-7 div.sk-parallel-item {display: flex;flex-direction: column;z-index: 1;position: relative;background-color: white;}#sk-container-id-7 div.sk-parallel-item:first-child::after {align-self: flex-end;width: 50%;}#sk-container-id-7 div.sk-parallel-item:last-child::after {align-self: flex-start;width: 50%;}#sk-container-id-7 div.sk-parallel-item:only-child::after {width: 0;}#sk-container-id-7 div.sk-dashed-wrapped {border: 1px dashed gray;margin: 0 0.4em 0.5em 0.4em;box-sizing: border-box;padding-bottom: 0.4em;background-color: white;}#sk-container-id-7 div.sk-label label {font-family: monospace;font-weight: bold;display: inline-block;line-height: 1.2em;}#sk-container-id-7 div.sk-label-container {text-align: center;}#sk-container-id-7 div.sk-container {/* jupyter's `normalize.less` sets `[hidden] { display: none; }` but bootstrap.min.css set `[hidden] { display: none !important; }` so we also need the `!important` here to be able to override the default hidden behavior on the sphinx rendered scikit-learn.org. See: https://github.com/scikit-learn/scikit-learn/issues/21755 */display: inline-block !important;position: relative;}#sk-container-id-7 div.sk-text-repr-fallback {display: none;}</style><div id=\"sk-container-id-7\" class=\"sk-top-container\"><div class=\"sk-text-repr-fallback\"><pre>ElasticNet(alpha=0.1, l1_ratio=1)</pre><b>In a Jupyter environment, please rerun this cell to show the HTML representation or trust the notebook. <br />On GitHub, the HTML representation is unable to render, please try loading this page with nbviewer.org.</b></div><div class=\"sk-container\" hidden><div class=\"sk-item\"><div class=\"sk-estimator sk-toggleable\"><input class=\"sk-toggleable__control sk-hidden--visually\" id=\"sk-estimator-id-17\" type=\"checkbox\" checked><label for=\"sk-estimator-id-17\" class=\"sk-toggleable__label sk-toggleable__label-arrow\">ElasticNet</label><div class=\"sk-toggleable__content\"><pre>ElasticNet(alpha=0.1, l1_ratio=1)</pre></div></div></div></div></div>"
      ],
      "text/plain": [
       "ElasticNet(alpha=0.1, l1_ratio=1)"
      ]
     },
     "execution_count": 214,
     "metadata": {},
     "output_type": "execute_result"
    }
   ],
   "source": [
    "lasso_model_cv.best_estimator_\n",
    "#best model"
   ]
  },
  {
   "cell_type": "code",
   "execution_count": 215,
   "id": "2d9f6cec",
   "metadata": {},
   "outputs": [
    {
     "name": "stdout",
     "output_type": "stream",
     "text": [
      " LASSO RMSE: 767.1312730354497\n"
     ]
    }
   ],
   "source": [
    "lasso_rmse = pd.DataFrame(lasso_model_cv.cv_results_).loc[\n",
    "    lambda x: x.param_alpha == lasso_model_cv.best_estimator_.alpha\n",
    "].mean_test_score.values[0] * -1\n",
    "print(f' LASSO RMSE: {lasso_rmse}')"
   ]
  },
  {
   "cell_type": "markdown",
   "id": "2ee2e064",
   "metadata": {},
   "source": [
    "### Model 5: CART model (Regression Tree)"
   ]
  },
  {
   "cell_type": "code",
   "execution_count": 217,
   "id": "ec8eaf67",
   "metadata": {},
   "outputs": [],
   "source": [
    "from sklearn.tree import DecisionTreeRegressor"
   ]
  },
  {
   "cell_type": "code",
   "execution_count": 218,
   "id": "09385c26",
   "metadata": {},
   "outputs": [],
   "source": [
    "y, X = dmatrices(\"price ~ \" + \" + \".join(selected_features), data_train)"
   ]
  },
  {
   "cell_type": "code",
   "execution_count": 219,
   "id": "da004797",
   "metadata": {},
   "outputs": [],
   "source": [
    "cart_model = DecisionTreeRegressor(random_state=20240131)"
   ]
  },
  {
   "cell_type": "code",
   "execution_count": 220,
   "id": "a20b5758",
   "metadata": {},
   "outputs": [],
   "source": [
    "#potential ccp alpha parameters\n",
    "path = cart_model.cost_complexity_pruning_path(X, y.ravel())\n",
    "ccp_alphas, impurities = path.ccp_alphas, path.impurities"
   ]
  },
  {
   "cell_type": "code",
   "execution_count": 221,
   "id": "2f6f2e1e",
   "metadata": {},
   "outputs": [
    {
     "data": {
      "text/plain": [
       "(4044,)"
      ]
     },
     "execution_count": 221,
     "metadata": {},
     "output_type": "execute_result"
    }
   ],
   "source": [
    "ccp_alphas\n",
    "ccp_alphas.shape"
   ]
  },
  {
   "cell_type": "code",
   "execution_count": 222,
   "id": "f219a4e3",
   "metadata": {},
   "outputs": [
    {
     "name": "stderr",
     "output_type": "stream",
     "text": [
      "UsageError: Line magic function `%%time` not found.\n"
     ]
    }
   ],
   "source": [
    "#trying to select best complexity parameter alpha\n",
    "%%time\n",
    "\n",
    "cart_model_cv = RandomizedSearchCV(\n",
    "    cart_model,\n",
    "    {\"ccp_alpha\":ccp_alphas},\n",
    "    cv=5,\n",
    "    scoring=\"neg_root_mean_squared_error\",\n",
    "    verbose=3,\n",
    ")\n",
    "cart_model_cv.fit(X,y.ravel())"
   ]
  },
  {
   "cell_type": "code",
   "execution_count": 223,
   "id": "d3a5f194",
   "metadata": {},
   "outputs": [
    {
     "name": "stdout",
     "output_type": "stream",
     "text": [
      "CART RMSE: 609.5911304656784\n"
     ]
    }
   ],
   "source": [
    "cart_rmse = pd.DataFrame(cart_model_cv.cv_results_).loc[\n",
    "    lambda x: x.param_ccp_alpha == cart_model_cv.best_estimator_.ccp_alpha\n",
    "].mean_test_score.values[0] * -1\n",
    "print(f'CART RMSE: {cart_rmse}')"
   ]
  },
  {
   "cell_type": "markdown",
   "id": "f8900304",
   "metadata": {},
   "source": [
    "### Model 6: Random Forest Model"
   ]
  },
  {
   "cell_type": "code",
   "execution_count": 224,
   "id": "407d3a7c",
   "metadata": {},
   "outputs": [],
   "source": [
    "y, X = dmatrices(\"price ~ \" + \" + \".join(selected_features), data_train)"
   ]
  },
  {
   "cell_type": "code",
   "execution_count": 225,
   "id": "d193ad29",
   "metadata": {},
   "outputs": [],
   "source": [
    "import math"
   ]
  },
  {
   "cell_type": "code",
   "execution_count": 226,
   "id": "4aa4d8d3",
   "metadata": {},
   "outputs": [
    {
     "name": "stdout",
     "output_type": "stream",
     "text": [
      "The theoretical recommended number of variables: 4.00.\n"
     ]
    }
   ],
   "source": [
    "print('The theoretical recommended number of variables: {:.2f}.'.format(math.sqrt(len(X.design_info.column_names))))"
   ]
  },
  {
   "cell_type": "code",
   "execution_count": 227,
   "id": "da9a33ec",
   "metadata": {},
   "outputs": [],
   "source": [
    "rfr = RandomForestRegressor(random_state = 20240131)"
   ]
  },
  {
   "cell_type": "code",
   "execution_count": 228,
   "id": "4993a62d",
   "metadata": {},
   "outputs": [],
   "source": [
    "tune_grid = {\"max_features\": [6, 8, 10, 12], \"min_samples_leaf\": [5, 10, 15]}"
   ]
  },
  {
   "cell_type": "code",
   "execution_count": 229,
   "id": "9c8855c8",
   "metadata": {},
   "outputs": [],
   "source": [
    "rf_random = GridSearchCV(\n",
    "    rfr,\n",
    "    tune_grid,\n",
    "    cv=5,\n",
    "    scoring=\"neg_root_mean_squared_error\",\n",
    "    verbose=3,\n",
    ")"
   ]
  },
  {
   "cell_type": "code",
   "execution_count": 230,
   "id": "b5e76e9d",
   "metadata": {},
   "outputs": [
    {
     "name": "stdout",
     "output_type": "stream",
     "text": [
      "Fitting 5 folds for each of 12 candidates, totalling 60 fits\n",
      "[CV 1/5] END max_features=6, min_samples_leaf=5;, score=-406.356 total time=   1.0s\n",
      "[CV 2/5] END max_features=6, min_samples_leaf=5;, score=-432.643 total time=   1.0s\n",
      "[CV 3/5] END max_features=6, min_samples_leaf=5;, score=-396.694 total time=   0.9s\n",
      "[CV 4/5] END max_features=6, min_samples_leaf=5;, score=-511.066 total time=   0.8s\n",
      "[CV 5/5] END max_features=6, min_samples_leaf=5;, score=-436.018 total time=   0.8s\n",
      "[CV 1/5] END max_features=6, min_samples_leaf=10;, score=-474.174 total time=   0.7s\n",
      "[CV 2/5] END max_features=6, min_samples_leaf=10;, score=-447.706 total time=   0.7s\n",
      "[CV 3/5] END max_features=6, min_samples_leaf=10;, score=-458.375 total time=   0.6s\n",
      "[CV 4/5] END max_features=6, min_samples_leaf=10;, score=-565.177 total time=   0.6s\n",
      "[CV 5/5] END max_features=6, min_samples_leaf=10;, score=-462.721 total time=   0.7s\n",
      "[CV 1/5] END max_features=6, min_samples_leaf=15;, score=-531.994 total time=   0.6s\n",
      "[CV 2/5] END max_features=6, min_samples_leaf=15;, score=-478.540 total time=   0.6s\n",
      "[CV 3/5] END max_features=6, min_samples_leaf=15;, score=-522.924 total time=   0.6s\n",
      "[CV 4/5] END max_features=6, min_samples_leaf=15;, score=-628.419 total time=   0.6s\n",
      "[CV 5/5] END max_features=6, min_samples_leaf=15;, score=-499.832 total time=   0.7s\n",
      "[CV 1/5] END max_features=8, min_samples_leaf=5;, score=-405.256 total time=   1.0s\n",
      "[CV 2/5] END max_features=8, min_samples_leaf=5;, score=-421.420 total time=   1.0s\n",
      "[CV 3/5] END max_features=8, min_samples_leaf=5;, score=-405.969 total time=   1.2s\n",
      "[CV 4/5] END max_features=8, min_samples_leaf=5;, score=-520.700 total time=   1.1s\n",
      "[CV 5/5] END max_features=8, min_samples_leaf=5;, score=-439.524 total time=   1.0s\n",
      "[CV 1/5] END max_features=8, min_samples_leaf=10;, score=-469.130 total time=   1.0s\n",
      "[CV 2/5] END max_features=8, min_samples_leaf=10;, score=-457.936 total time=   0.8s\n",
      "[CV 3/5] END max_features=8, min_samples_leaf=10;, score=-452.691 total time=   0.8s\n",
      "[CV 4/5] END max_features=8, min_samples_leaf=10;, score=-577.813 total time=   0.8s\n",
      "[CV 5/5] END max_features=8, min_samples_leaf=10;, score=-464.885 total time=   0.8s\n",
      "[CV 1/5] END max_features=8, min_samples_leaf=15;, score=-518.410 total time=   0.8s\n",
      "[CV 2/5] END max_features=8, min_samples_leaf=15;, score=-489.831 total time=   0.8s\n",
      "[CV 3/5] END max_features=8, min_samples_leaf=15;, score=-501.915 total time=   0.8s\n",
      "[CV 4/5] END max_features=8, min_samples_leaf=15;, score=-605.835 total time=   0.8s\n",
      "[CV 5/5] END max_features=8, min_samples_leaf=15;, score=-496.737 total time=   0.9s\n",
      "[CV 1/5] END max_features=10, min_samples_leaf=5;, score=-420.911 total time=   1.5s\n",
      "[CV 2/5] END max_features=10, min_samples_leaf=5;, score=-429.084 total time=   1.3s\n",
      "[CV 3/5] END max_features=10, min_samples_leaf=5;, score=-389.013 total time=   1.5s\n",
      "[CV 4/5] END max_features=10, min_samples_leaf=5;, score=-522.464 total time=   1.3s\n",
      "[CV 5/5] END max_features=10, min_samples_leaf=5;, score=-433.249 total time=   1.5s\n",
      "[CV 1/5] END max_features=10, min_samples_leaf=10;, score=-490.133 total time=   1.1s\n",
      "[CV 2/5] END max_features=10, min_samples_leaf=10;, score=-453.098 total time=   1.0s\n",
      "[CV 3/5] END max_features=10, min_samples_leaf=10;, score=-457.959 total time=   1.0s\n",
      "[CV 4/5] END max_features=10, min_samples_leaf=10;, score=-578.949 total time=   1.0s\n",
      "[CV 5/5] END max_features=10, min_samples_leaf=10;, score=-458.772 total time=   1.1s\n",
      "[CV 1/5] END max_features=10, min_samples_leaf=15;, score=-530.578 total time=   0.9s\n",
      "[CV 2/5] END max_features=10, min_samples_leaf=15;, score=-483.705 total time=   1.8s\n",
      "[CV 3/5] END max_features=10, min_samples_leaf=15;, score=-497.717 total time=   1.5s\n",
      "[CV 4/5] END max_features=10, min_samples_leaf=15;, score=-615.451 total time=   1.3s\n",
      "[CV 5/5] END max_features=10, min_samples_leaf=15;, score=-498.299 total time=   1.0s\n",
      "[CV 1/5] END max_features=12, min_samples_leaf=5;, score=-451.795 total time=   1.6s\n",
      "[CV 2/5] END max_features=12, min_samples_leaf=5;, score=-415.357 total time=   1.5s\n",
      "[CV 3/5] END max_features=12, min_samples_leaf=5;, score=-394.507 total time=   1.5s\n",
      "[CV 4/5] END max_features=12, min_samples_leaf=5;, score=-539.481 total time=   1.6s\n",
      "[CV 5/5] END max_features=12, min_samples_leaf=5;, score=-429.668 total time=   1.5s\n",
      "[CV 1/5] END max_features=12, min_samples_leaf=10;, score=-534.131 total time=   1.2s\n",
      "[CV 2/5] END max_features=12, min_samples_leaf=10;, score=-446.366 total time=   1.1s\n",
      "[CV 3/5] END max_features=12, min_samples_leaf=10;, score=-463.259 total time=   1.3s\n",
      "[CV 4/5] END max_features=12, min_samples_leaf=10;, score=-586.109 total time=   1.4s\n",
      "[CV 5/5] END max_features=12, min_samples_leaf=10;, score=-457.564 total time=   1.5s\n",
      "[CV 1/5] END max_features=12, min_samples_leaf=15;, score=-549.151 total time=   1.3s\n",
      "[CV 2/5] END max_features=12, min_samples_leaf=15;, score=-483.734 total time=   1.1s\n",
      "[CV 3/5] END max_features=12, min_samples_leaf=15;, score=-516.048 total time=   1.2s\n",
      "[CV 4/5] END max_features=12, min_samples_leaf=15;, score=-627.156 total time=   1.2s\n",
      "[CV 5/5] END max_features=12, min_samples_leaf=15;, score=-499.632 total time=   1.1s\n",
      "CPU times: user 59.2 s, sys: 1.22 s, total: 1min\n",
      "Wall time: 1min 5s\n"
     ]
    }
   ],
   "source": [
    "%%time\n",
    "#takes a while (creating 6000 trees!!)\n",
    "rf_model = rf_random.fit(X, y.ravel())"
   ]
  },
  {
   "cell_type": "code",
   "execution_count": 234,
   "id": "5524c1c7",
   "metadata": {},
   "outputs": [],
   "source": [
    "df_rf_model_cv_results = pd.DataFrame(rf_model.cv_results_)[[\n",
    "    'param_max_features', 'param_min_samples_leaf', 'mean_test_score']]"
   ]
  },
  {
   "cell_type": "code",
   "execution_count": 235,
   "id": "b444b657",
   "metadata": {},
   "outputs": [],
   "source": [
    "df_rf_model_cv_results.columns = ['max features', 'min node size', 'RMSE']"
   ]
  },
  {
   "cell_type": "code",
   "execution_count": 236,
   "id": "1acced8d",
   "metadata": {},
   "outputs": [
    {
     "data": {
      "text/html": [
       "<div>\n",
       "<style scoped>\n",
       "    .dataframe tbody tr th:only-of-type {\n",
       "        vertical-align: middle;\n",
       "    }\n",
       "\n",
       "    .dataframe tbody tr th {\n",
       "        vertical-align: top;\n",
       "    }\n",
       "\n",
       "    .dataframe thead th {\n",
       "        text-align: right;\n",
       "    }\n",
       "</style>\n",
       "<table border=\"1\" class=\"dataframe\">\n",
       "  <thead>\n",
       "    <tr style=\"text-align: right;\">\n",
       "      <th></th>\n",
       "      <th>max features</th>\n",
       "      <th>min node size</th>\n",
       "      <th>RMSE</th>\n",
       "    </tr>\n",
       "  </thead>\n",
       "  <tbody>\n",
       "    <tr>\n",
       "      <th>0</th>\n",
       "      <td>6</td>\n",
       "      <td>5</td>\n",
       "      <td>-436.555236</td>\n",
       "    </tr>\n",
       "    <tr>\n",
       "      <th>1</th>\n",
       "      <td>6</td>\n",
       "      <td>10</td>\n",
       "      <td>-481.630601</td>\n",
       "    </tr>\n",
       "    <tr>\n",
       "      <th>2</th>\n",
       "      <td>6</td>\n",
       "      <td>15</td>\n",
       "      <td>-532.341879</td>\n",
       "    </tr>\n",
       "    <tr>\n",
       "      <th>3</th>\n",
       "      <td>8</td>\n",
       "      <td>5</td>\n",
       "      <td>-438.573836</td>\n",
       "    </tr>\n",
       "    <tr>\n",
       "      <th>4</th>\n",
       "      <td>8</td>\n",
       "      <td>10</td>\n",
       "      <td>-484.490831</td>\n",
       "    </tr>\n",
       "    <tr>\n",
       "      <th>5</th>\n",
       "      <td>8</td>\n",
       "      <td>15</td>\n",
       "      <td>-522.545605</td>\n",
       "    </tr>\n",
       "    <tr>\n",
       "      <th>6</th>\n",
       "      <td>10</td>\n",
       "      <td>5</td>\n",
       "      <td>-438.944305</td>\n",
       "    </tr>\n",
       "    <tr>\n",
       "      <th>7</th>\n",
       "      <td>10</td>\n",
       "      <td>10</td>\n",
       "      <td>-487.782154</td>\n",
       "    </tr>\n",
       "    <tr>\n",
       "      <th>8</th>\n",
       "      <td>10</td>\n",
       "      <td>15</td>\n",
       "      <td>-525.150115</td>\n",
       "    </tr>\n",
       "    <tr>\n",
       "      <th>9</th>\n",
       "      <td>12</td>\n",
       "      <td>5</td>\n",
       "      <td>-446.161897</td>\n",
       "    </tr>\n",
       "    <tr>\n",
       "      <th>10</th>\n",
       "      <td>12</td>\n",
       "      <td>10</td>\n",
       "      <td>-497.485631</td>\n",
       "    </tr>\n",
       "    <tr>\n",
       "      <th>11</th>\n",
       "      <td>12</td>\n",
       "      <td>15</td>\n",
       "      <td>-535.144311</td>\n",
       "    </tr>\n",
       "  </tbody>\n",
       "</table>\n",
       "</div>"
      ],
      "text/plain": [
       "   max features min node size        RMSE\n",
       "0             6             5 -436.555236\n",
       "1             6            10 -481.630601\n",
       "2             6            15 -532.341879\n",
       "3             8             5 -438.573836\n",
       "4             8            10 -484.490831\n",
       "5             8            15 -522.545605\n",
       "6            10             5 -438.944305\n",
       "7            10            10 -487.782154\n",
       "8            10            15 -525.150115\n",
       "9            12             5 -446.161897\n",
       "10           12            10 -497.485631\n",
       "11           12            15 -535.144311"
      ]
     },
     "execution_count": 236,
     "metadata": {},
     "output_type": "execute_result"
    }
   ],
   "source": [
    "df_rf_model_cv_results"
   ]
  },
  {
   "cell_type": "code",
   "execution_count": 237,
   "id": "0811028c",
   "metadata": {},
   "outputs": [
    {
     "data": {
      "text/html": [
       "<div>\n",
       "<style scoped>\n",
       "    .dataframe tbody tr th:only-of-type {\n",
       "        vertical-align: middle;\n",
       "    }\n",
       "\n",
       "    .dataframe tbody tr th {\n",
       "        vertical-align: top;\n",
       "    }\n",
       "\n",
       "    .dataframe thead th {\n",
       "        text-align: right;\n",
       "    }\n",
       "</style>\n",
       "<table border=\"1\" class=\"dataframe\">\n",
       "  <thead>\n",
       "    <tr style=\"text-align: right;\">\n",
       "      <th>min node size</th>\n",
       "      <th>5</th>\n",
       "      <th>10</th>\n",
       "      <th>15</th>\n",
       "    </tr>\n",
       "    <tr>\n",
       "      <th>max features</th>\n",
       "      <th></th>\n",
       "      <th></th>\n",
       "      <th></th>\n",
       "    </tr>\n",
       "  </thead>\n",
       "  <tbody>\n",
       "    <tr>\n",
       "      <th>6</th>\n",
       "      <td>436.56</td>\n",
       "      <td>481.63</td>\n",
       "      <td>532.34</td>\n",
       "    </tr>\n",
       "    <tr>\n",
       "      <th>8</th>\n",
       "      <td>438.57</td>\n",
       "      <td>484.49</td>\n",
       "      <td>522.55</td>\n",
       "    </tr>\n",
       "    <tr>\n",
       "      <th>10</th>\n",
       "      <td>438.94</td>\n",
       "      <td>487.78</td>\n",
       "      <td>525.15</td>\n",
       "    </tr>\n",
       "    <tr>\n",
       "      <th>12</th>\n",
       "      <td>446.16</td>\n",
       "      <td>497.49</td>\n",
       "      <td>535.14</td>\n",
       "    </tr>\n",
       "  </tbody>\n",
       "</table>\n",
       "</div>"
      ],
      "text/plain": [
       "min node size       5      10      15\n",
       "max features                         \n",
       "6              436.56  481.63  532.34\n",
       "8              438.57  484.49  522.55\n",
       "10             438.94  487.78  525.15\n",
       "12             446.16  497.49  535.14"
      ]
     },
     "execution_count": 237,
     "metadata": {},
     "output_type": "execute_result"
    }
   ],
   "source": [
    "df_rf_model_cv_results.pivot(\n",
    "    index = 'max features', \n",
    "    columns = 'min node size', \n",
    "    values = 'RMSE').round(2)*-1"
   ]
  },
  {
   "cell_type": "code",
   "execution_count": 238,
   "id": "db5cf0f1",
   "metadata": {},
   "outputs": [
    {
     "data": {
      "text/plain": [
       "-436.5552363162077"
      ]
     },
     "execution_count": 238,
     "metadata": {},
     "output_type": "execute_result"
    }
   ],
   "source": [
    "rf_model.best_score_"
   ]
  },
  {
   "cell_type": "code",
   "execution_count": 239,
   "id": "2804d9ac",
   "metadata": {},
   "outputs": [
    {
     "data": {
      "text/plain": [
       "{'max_features': 6, 'min_samples_leaf': 5}"
      ]
     },
     "execution_count": 239,
     "metadata": {},
     "output_type": "execute_result"
    }
   ],
   "source": [
    "rf_model.best_params_"
   ]
  },
  {
   "cell_type": "code",
   "execution_count": 240,
   "id": "53d3e2e3",
   "metadata": {},
   "outputs": [
    {
     "data": {
      "text/html": [
       "<div>\n",
       "<style scoped>\n",
       "    .dataframe tbody tr th:only-of-type {\n",
       "        vertical-align: middle;\n",
       "    }\n",
       "\n",
       "    .dataframe tbody tr th {\n",
       "        vertical-align: top;\n",
       "    }\n",
       "\n",
       "    .dataframe thead th {\n",
       "        text-align: right;\n",
       "    }\n",
       "</style>\n",
       "<table border=\"1\" class=\"dataframe\">\n",
       "  <thead>\n",
       "    <tr style=\"text-align: right;\">\n",
       "      <th></th>\n",
       "      <th>0</th>\n",
       "    </tr>\n",
       "  </thead>\n",
       "  <tbody>\n",
       "    <tr>\n",
       "      <th>Intercept</th>\n",
       "      <td>0.000000</td>\n",
       "    </tr>\n",
       "    <tr>\n",
       "      <th>accommodates</th>\n",
       "      <td>0.072609</td>\n",
       "    </tr>\n",
       "    <tr>\n",
       "      <th>bathrooms</th>\n",
       "      <td>0.008980</td>\n",
       "    </tr>\n",
       "    <tr>\n",
       "      <th>beds</th>\n",
       "      <td>0.007625</td>\n",
       "    </tr>\n",
       "    <tr>\n",
       "      <th>review_scores_rating</th>\n",
       "      <td>0.202485</td>\n",
       "    </tr>\n",
       "    <tr>\n",
       "      <th>entire_home</th>\n",
       "      <td>0.002232</td>\n",
       "    </tr>\n",
       "    <tr>\n",
       "      <th>entire_rental_unit</th>\n",
       "      <td>0.024191</td>\n",
       "    </tr>\n",
       "    <tr>\n",
       "      <th>entire_condo</th>\n",
       "      <td>0.000559</td>\n",
       "    </tr>\n",
       "    <tr>\n",
       "      <th>entire_guesthouse</th>\n",
       "      <td>0.000024</td>\n",
       "    </tr>\n",
       "    <tr>\n",
       "      <th>entire_guest_suite</th>\n",
       "      <td>0.000013</td>\n",
       "    </tr>\n",
       "    <tr>\n",
       "      <th>entire_townhouse</th>\n",
       "      <td>0.000015</td>\n",
       "    </tr>\n",
       "    <tr>\n",
       "      <th>availability_365_x</th>\n",
       "      <td>0.318530</td>\n",
       "    </tr>\n",
       "    <tr>\n",
       "      <th>number_of_reviews_x</th>\n",
       "      <td>0.146178</td>\n",
       "    </tr>\n",
       "    <tr>\n",
       "      <th>host_is_superhost</th>\n",
       "      <td>0.013937</td>\n",
       "    </tr>\n",
       "    <tr>\n",
       "      <th>minimum_nights_y</th>\n",
       "      <td>0.152723</td>\n",
       "    </tr>\n",
       "    <tr>\n",
       "      <th>maximum_nights</th>\n",
       "      <td>0.049900</td>\n",
       "    </tr>\n",
       "  </tbody>\n",
       "</table>\n",
       "</div>"
      ],
      "text/plain": [
       "                             0\n",
       "Intercept             0.000000\n",
       "accommodates          0.072609\n",
       "bathrooms             0.008980\n",
       "beds                  0.007625\n",
       "review_scores_rating  0.202485\n",
       "entire_home           0.002232\n",
       "entire_rental_unit    0.024191\n",
       "entire_condo          0.000559\n",
       "entire_guesthouse     0.000024\n",
       "entire_guest_suite    0.000013\n",
       "entire_townhouse      0.000015\n",
       "availability_365_x    0.318530\n",
       "number_of_reviews_x   0.146178\n",
       "host_is_superhost     0.013937\n",
       "minimum_nights_y      0.152723\n",
       "maximum_nights        0.049900"
      ]
     },
     "execution_count": 240,
     "metadata": {},
     "output_type": "execute_result"
    }
   ],
   "source": [
    "pd.DataFrame(\n",
    "    rf_model.best_estimator_.feature_importances_, \n",
    "    X.design_info.column_names)"
   ]
  },
  {
   "cell_type": "code",
   "execution_count": 241,
   "id": "0f6245ab",
   "metadata": {},
   "outputs": [],
   "source": [
    "df_var_imp = pd.DataFrame(\n",
    "    rf_model.best_estimator_.feature_importances_, \n",
    "    X.design_info.column_names)\\\n",
    "    .reset_index()\\\n",
    "    .rename({\"index\": \"variable\", 0: \"imp\"}, axis=1)\\\n",
    "    .sort_values(by=[\"imp\"], ascending=False)\\\n",
    "    .reset_index(drop = True)\n",
    "\n",
    "df_var_imp['cumulative_imp'] = df_var_imp['imp'].cumsum()"
   ]
  },
  {
   "cell_type": "code",
   "execution_count": 242,
   "id": "fd737c00",
   "metadata": {},
   "outputs": [
    {
     "data": {
      "text/html": [
       "<style type=\"text/css\">\n",
       "</style>\n",
       "<table id=\"T_6206f\">\n",
       "  <thead>\n",
       "    <tr>\n",
       "      <th class=\"blank level0\" >&nbsp;</th>\n",
       "      <th id=\"T_6206f_level0_col0\" class=\"col_heading level0 col0\" >variable</th>\n",
       "      <th id=\"T_6206f_level0_col1\" class=\"col_heading level0 col1\" >imp</th>\n",
       "      <th id=\"T_6206f_level0_col2\" class=\"col_heading level0 col2\" >cumulative_imp</th>\n",
       "    </tr>\n",
       "  </thead>\n",
       "  <tbody>\n",
       "    <tr>\n",
       "      <th id=\"T_6206f_level0_row0\" class=\"row_heading level0 row0\" >0</th>\n",
       "      <td id=\"T_6206f_row0_col0\" class=\"data row0 col0\" >availability_365_x</td>\n",
       "      <td id=\"T_6206f_row0_col1\" class=\"data row0 col1\" >31.9%</td>\n",
       "      <td id=\"T_6206f_row0_col2\" class=\"data row0 col2\" >31.9%</td>\n",
       "    </tr>\n",
       "    <tr>\n",
       "      <th id=\"T_6206f_level0_row1\" class=\"row_heading level0 row1\" >1</th>\n",
       "      <td id=\"T_6206f_row1_col0\" class=\"data row1 col0\" >review_scores_rating</td>\n",
       "      <td id=\"T_6206f_row1_col1\" class=\"data row1 col1\" >20.2%</td>\n",
       "      <td id=\"T_6206f_row1_col2\" class=\"data row1 col2\" >52.1%</td>\n",
       "    </tr>\n",
       "    <tr>\n",
       "      <th id=\"T_6206f_level0_row2\" class=\"row_heading level0 row2\" >2</th>\n",
       "      <td id=\"T_6206f_row2_col0\" class=\"data row2 col0\" >minimum_nights_y</td>\n",
       "      <td id=\"T_6206f_row2_col1\" class=\"data row2 col1\" >15.3%</td>\n",
       "      <td id=\"T_6206f_row2_col2\" class=\"data row2 col2\" >67.4%</td>\n",
       "    </tr>\n",
       "    <tr>\n",
       "      <th id=\"T_6206f_level0_row3\" class=\"row_heading level0 row3\" >3</th>\n",
       "      <td id=\"T_6206f_row3_col0\" class=\"data row3 col0\" >number_of_reviews_x</td>\n",
       "      <td id=\"T_6206f_row3_col1\" class=\"data row3 col1\" >14.6%</td>\n",
       "      <td id=\"T_6206f_row3_col2\" class=\"data row3 col2\" >82.0%</td>\n",
       "    </tr>\n",
       "    <tr>\n",
       "      <th id=\"T_6206f_level0_row4\" class=\"row_heading level0 row4\" >4</th>\n",
       "      <td id=\"T_6206f_row4_col0\" class=\"data row4 col0\" >accommodates</td>\n",
       "      <td id=\"T_6206f_row4_col1\" class=\"data row4 col1\" >7.3%</td>\n",
       "      <td id=\"T_6206f_row4_col2\" class=\"data row4 col2\" >89.3%</td>\n",
       "    </tr>\n",
       "    <tr>\n",
       "      <th id=\"T_6206f_level0_row5\" class=\"row_heading level0 row5\" >5</th>\n",
       "      <td id=\"T_6206f_row5_col0\" class=\"data row5 col0\" >maximum_nights</td>\n",
       "      <td id=\"T_6206f_row5_col1\" class=\"data row5 col1\" >5.0%</td>\n",
       "      <td id=\"T_6206f_row5_col2\" class=\"data row5 col2\" >94.2%</td>\n",
       "    </tr>\n",
       "    <tr>\n",
       "      <th id=\"T_6206f_level0_row6\" class=\"row_heading level0 row6\" >6</th>\n",
       "      <td id=\"T_6206f_row6_col0\" class=\"data row6 col0\" >entire_rental_unit</td>\n",
       "      <td id=\"T_6206f_row6_col1\" class=\"data row6 col1\" >2.4%</td>\n",
       "      <td id=\"T_6206f_row6_col2\" class=\"data row6 col2\" >96.7%</td>\n",
       "    </tr>\n",
       "    <tr>\n",
       "      <th id=\"T_6206f_level0_row7\" class=\"row_heading level0 row7\" >7</th>\n",
       "      <td id=\"T_6206f_row7_col0\" class=\"data row7 col0\" >host_is_superhost</td>\n",
       "      <td id=\"T_6206f_row7_col1\" class=\"data row7 col1\" >1.4%</td>\n",
       "      <td id=\"T_6206f_row7_col2\" class=\"data row7 col2\" >98.1%</td>\n",
       "    </tr>\n",
       "    <tr>\n",
       "      <th id=\"T_6206f_level0_row8\" class=\"row_heading level0 row8\" >8</th>\n",
       "      <td id=\"T_6206f_row8_col0\" class=\"data row8 col0\" >bathrooms</td>\n",
       "      <td id=\"T_6206f_row8_col1\" class=\"data row8 col1\" >0.9%</td>\n",
       "      <td id=\"T_6206f_row8_col2\" class=\"data row8 col2\" >99.0%</td>\n",
       "    </tr>\n",
       "    <tr>\n",
       "      <th id=\"T_6206f_level0_row9\" class=\"row_heading level0 row9\" >9</th>\n",
       "      <td id=\"T_6206f_row9_col0\" class=\"data row9 col0\" >beds</td>\n",
       "      <td id=\"T_6206f_row9_col1\" class=\"data row9 col1\" >0.8%</td>\n",
       "      <td id=\"T_6206f_row9_col2\" class=\"data row9 col2\" >99.7%</td>\n",
       "    </tr>\n",
       "    <tr>\n",
       "      <th id=\"T_6206f_level0_row10\" class=\"row_heading level0 row10\" >10</th>\n",
       "      <td id=\"T_6206f_row10_col0\" class=\"data row10 col0\" >entire_home</td>\n",
       "      <td id=\"T_6206f_row10_col1\" class=\"data row10 col1\" >0.2%</td>\n",
       "      <td id=\"T_6206f_row10_col2\" class=\"data row10 col2\" >99.9%</td>\n",
       "    </tr>\n",
       "    <tr>\n",
       "      <th id=\"T_6206f_level0_row11\" class=\"row_heading level0 row11\" >11</th>\n",
       "      <td id=\"T_6206f_row11_col0\" class=\"data row11 col0\" >entire_condo</td>\n",
       "      <td id=\"T_6206f_row11_col1\" class=\"data row11 col1\" >0.1%</td>\n",
       "      <td id=\"T_6206f_row11_col2\" class=\"data row11 col2\" >100.0%</td>\n",
       "    </tr>\n",
       "    <tr>\n",
       "      <th id=\"T_6206f_level0_row12\" class=\"row_heading level0 row12\" >12</th>\n",
       "      <td id=\"T_6206f_row12_col0\" class=\"data row12 col0\" >entire_guesthouse</td>\n",
       "      <td id=\"T_6206f_row12_col1\" class=\"data row12 col1\" >0.0%</td>\n",
       "      <td id=\"T_6206f_row12_col2\" class=\"data row12 col2\" >100.0%</td>\n",
       "    </tr>\n",
       "    <tr>\n",
       "      <th id=\"T_6206f_level0_row13\" class=\"row_heading level0 row13\" >13</th>\n",
       "      <td id=\"T_6206f_row13_col0\" class=\"data row13 col0\" >entire_townhouse</td>\n",
       "      <td id=\"T_6206f_row13_col1\" class=\"data row13 col1\" >0.0%</td>\n",
       "      <td id=\"T_6206f_row13_col2\" class=\"data row13 col2\" >100.0%</td>\n",
       "    </tr>\n",
       "    <tr>\n",
       "      <th id=\"T_6206f_level0_row14\" class=\"row_heading level0 row14\" >14</th>\n",
       "      <td id=\"T_6206f_row14_col0\" class=\"data row14 col0\" >entire_guest_suite</td>\n",
       "      <td id=\"T_6206f_row14_col1\" class=\"data row14 col1\" >0.0%</td>\n",
       "      <td id=\"T_6206f_row14_col2\" class=\"data row14 col2\" >100.0%</td>\n",
       "    </tr>\n",
       "    <tr>\n",
       "      <th id=\"T_6206f_level0_row15\" class=\"row_heading level0 row15\" >15</th>\n",
       "      <td id=\"T_6206f_row15_col0\" class=\"data row15 col0\" >Intercept</td>\n",
       "      <td id=\"T_6206f_row15_col1\" class=\"data row15 col1\" >0.0%</td>\n",
       "      <td id=\"T_6206f_row15_col2\" class=\"data row15 col2\" >100.0%</td>\n",
       "    </tr>\n",
       "  </tbody>\n",
       "</table>\n"
      ],
      "text/plain": [
       "<pandas.io.formats.style.Styler at 0x136de8950>"
      ]
     },
     "execution_count": 242,
     "metadata": {},
     "output_type": "execute_result"
    }
   ],
   "source": [
    "df_var_imp.style.format({\n",
    "    'imp': lambda x: f'{x:,.1%}',\n",
    "    'cumulative_imp': lambda x: f'{x:,.1%}'})\n",
    "#availability in the next year is the most important predictor variable"
   ]
  },
  {
   "cell_type": "markdown",
   "id": "85a49628",
   "metadata": {},
   "source": [
    "### RMSE Comparison of different models"
   ]
  },
  {
   "cell_type": "code",
   "execution_count": 307,
   "id": "5ac3edbf",
   "metadata": {},
   "outputs": [
    {
     "data": {
      "text/html": [
       "<div>\n",
       "<style scoped>\n",
       "    .dataframe tbody tr th:only-of-type {\n",
       "        vertical-align: middle;\n",
       "    }\n",
       "\n",
       "    .dataframe tbody tr th {\n",
       "        vertical-align: top;\n",
       "    }\n",
       "\n",
       "    .dataframe thead th {\n",
       "        text-align: right;\n",
       "    }\n",
       "</style>\n",
       "<table border=\"1\" class=\"dataframe\">\n",
       "  <thead>\n",
       "    <tr style=\"text-align: right;\">\n",
       "      <th></th>\n",
       "      <th>model</th>\n",
       "      <th>CV RMSE</th>\n",
       "    </tr>\n",
       "  </thead>\n",
       "  <tbody>\n",
       "    <tr>\n",
       "      <th>0</th>\n",
       "      <td>OLS</td>\n",
       "      <td>769.831456</td>\n",
       "    </tr>\n",
       "    <tr>\n",
       "      <th>1</th>\n",
       "      <td>LASSO</td>\n",
       "      <td>767.131273</td>\n",
       "    </tr>\n",
       "    <tr>\n",
       "      <th>2</th>\n",
       "      <td>CART</td>\n",
       "      <td>609.591130</td>\n",
       "    </tr>\n",
       "    <tr>\n",
       "      <th>3</th>\n",
       "      <td>Random Forest</td>\n",
       "      <td>436.555236</td>\n",
       "    </tr>\n",
       "  </tbody>\n",
       "</table>\n",
       "</div>"
      ],
      "text/plain": [
       "           model     CV RMSE\n",
       "0            OLS  769.831456\n",
       "1          LASSO  767.131273\n",
       "2           CART  609.591130\n",
       "3  Random Forest  436.555236"
      ]
     },
     "execution_count": 307,
     "metadata": {},
     "output_type": "execute_result"
    }
   ],
   "source": [
    "pd.DataFrame({'model': ['OLS', 'LASSO', 'CART', 'Random Forest'],\n",
    "              'CV RMSE': [ols_rmse, lasso_rmse, cart_rmse, np.abs(rf_model.best_score_)]})\n",
    "#Random Forest was best CV RMSE"
   ]
  },
  {
   "cell_type": "markdown",
   "id": "46a3b714",
   "metadata": {},
   "source": [
    "### Partial Dependence Plot"
   ]
  },
  {
   "cell_type": "code",
   "execution_count": 257,
   "id": "06c0b7e0",
   "metadata": {},
   "outputs": [],
   "source": [
    "###Trying partial dependence plot showing average price per accommodate\n",
    "\n",
    "preprocessing = ColumnTransformer([\n",
    "    (\"num\", \"passthrough\", selected_features)])\n",
    "\n",
    "rf_pipeline = Pipeline(\n",
    "    [(\"preprocess\", preprocessing), \n",
    "     (\"regressor\", rf_model.best_estimator_)] # put best model to pipeline\n",
    ")"
   ]
  },
  {
   "cell_type": "code",
   "execution_count": 258,
   "id": "8f75d67d",
   "metadata": {},
   "outputs": [
    {
     "name": "stdout",
     "output_type": "stream",
     "text": [
      "CPU times: user 976 ms, sys: 25.4 ms, total: 1 s\n",
      "Wall time: 1.14 s\n"
     ]
    },
    {
     "data": {
      "text/html": [
       "<style>#sk-container-id-9 {color: black;}#sk-container-id-9 pre{padding: 0;}#sk-container-id-9 div.sk-toggleable {background-color: white;}#sk-container-id-9 label.sk-toggleable__label {cursor: pointer;display: block;width: 100%;margin-bottom: 0;padding: 0.3em;box-sizing: border-box;text-align: center;}#sk-container-id-9 label.sk-toggleable__label-arrow:before {content: \"▸\";float: left;margin-right: 0.25em;color: #696969;}#sk-container-id-9 label.sk-toggleable__label-arrow:hover:before {color: black;}#sk-container-id-9 div.sk-estimator:hover label.sk-toggleable__label-arrow:before {color: black;}#sk-container-id-9 div.sk-toggleable__content {max-height: 0;max-width: 0;overflow: hidden;text-align: left;background-color: #f0f8ff;}#sk-container-id-9 div.sk-toggleable__content pre {margin: 0.2em;color: black;border-radius: 0.25em;background-color: #f0f8ff;}#sk-container-id-9 input.sk-toggleable__control:checked~div.sk-toggleable__content {max-height: 200px;max-width: 100%;overflow: auto;}#sk-container-id-9 input.sk-toggleable__control:checked~label.sk-toggleable__label-arrow:before {content: \"▾\";}#sk-container-id-9 div.sk-estimator input.sk-toggleable__control:checked~label.sk-toggleable__label {background-color: #d4ebff;}#sk-container-id-9 div.sk-label input.sk-toggleable__control:checked~label.sk-toggleable__label {background-color: #d4ebff;}#sk-container-id-9 input.sk-hidden--visually {border: 0;clip: rect(1px 1px 1px 1px);clip: rect(1px, 1px, 1px, 1px);height: 1px;margin: -1px;overflow: hidden;padding: 0;position: absolute;width: 1px;}#sk-container-id-9 div.sk-estimator {font-family: monospace;background-color: #f0f8ff;border: 1px dotted black;border-radius: 0.25em;box-sizing: border-box;margin-bottom: 0.5em;}#sk-container-id-9 div.sk-estimator:hover {background-color: #d4ebff;}#sk-container-id-9 div.sk-parallel-item::after {content: \"\";width: 100%;border-bottom: 1px solid gray;flex-grow: 1;}#sk-container-id-9 div.sk-label:hover label.sk-toggleable__label {background-color: #d4ebff;}#sk-container-id-9 div.sk-serial::before {content: \"\";position: absolute;border-left: 1px solid gray;box-sizing: border-box;top: 0;bottom: 0;left: 50%;z-index: 0;}#sk-container-id-9 div.sk-serial {display: flex;flex-direction: column;align-items: center;background-color: white;padding-right: 0.2em;padding-left: 0.2em;position: relative;}#sk-container-id-9 div.sk-item {position: relative;z-index: 1;}#sk-container-id-9 div.sk-parallel {display: flex;align-items: stretch;justify-content: center;background-color: white;position: relative;}#sk-container-id-9 div.sk-item::before, #sk-container-id-9 div.sk-parallel-item::before {content: \"\";position: absolute;border-left: 1px solid gray;box-sizing: border-box;top: 0;bottom: 0;left: 50%;z-index: -1;}#sk-container-id-9 div.sk-parallel-item {display: flex;flex-direction: column;z-index: 1;position: relative;background-color: white;}#sk-container-id-9 div.sk-parallel-item:first-child::after {align-self: flex-end;width: 50%;}#sk-container-id-9 div.sk-parallel-item:last-child::after {align-self: flex-start;width: 50%;}#sk-container-id-9 div.sk-parallel-item:only-child::after {width: 0;}#sk-container-id-9 div.sk-dashed-wrapped {border: 1px dashed gray;margin: 0 0.4em 0.5em 0.4em;box-sizing: border-box;padding-bottom: 0.4em;background-color: white;}#sk-container-id-9 div.sk-label label {font-family: monospace;font-weight: bold;display: inline-block;line-height: 1.2em;}#sk-container-id-9 div.sk-label-container {text-align: center;}#sk-container-id-9 div.sk-container {/* jupyter's `normalize.less` sets `[hidden] { display: none; }` but bootstrap.min.css set `[hidden] { display: none !important; }` so we also need the `!important` here to be able to override the default hidden behavior on the sphinx rendered scikit-learn.org. See: https://github.com/scikit-learn/scikit-learn/issues/21755 */display: inline-block !important;position: relative;}#sk-container-id-9 div.sk-text-repr-fallback {display: none;}</style><div id=\"sk-container-id-9\" class=\"sk-top-container\"><div class=\"sk-text-repr-fallback\"><pre>Pipeline(steps=[(&#x27;preprocess&#x27;,\n",
       "                 ColumnTransformer(transformers=[(&#x27;num&#x27;, &#x27;passthrough&#x27;,\n",
       "                                                  [&#x27;accommodates&#x27;, &#x27;bathrooms&#x27;,\n",
       "                                                   &#x27;beds&#x27;,\n",
       "                                                   &#x27;review_scores_rating&#x27;,\n",
       "                                                   &#x27;entire_home&#x27;,\n",
       "                                                   &#x27;entire_rental_unit&#x27;,\n",
       "                                                   &#x27;entire_condo&#x27;,\n",
       "                                                   &#x27;entire_guesthouse&#x27;,\n",
       "                                                   &#x27;entire_guest_suite&#x27;,\n",
       "                                                   &#x27;entire_townhouse&#x27;,\n",
       "                                                   &#x27;availability_365_x&#x27;,\n",
       "                                                   &#x27;number_of_reviews_x&#x27;,\n",
       "                                                   &#x27;host_is_superhost&#x27;,\n",
       "                                                   &#x27;minimum_nights_y&#x27;,\n",
       "                                                   &#x27;maximum_nights&#x27;])])),\n",
       "                (&#x27;regressor&#x27;,\n",
       "                 RandomForestRegressor(max_features=6, min_samples_leaf=5,\n",
       "                                       random_state=20240131))])</pre><b>In a Jupyter environment, please rerun this cell to show the HTML representation or trust the notebook. <br />On GitHub, the HTML representation is unable to render, please try loading this page with nbviewer.org.</b></div><div class=\"sk-container\" hidden><div class=\"sk-item sk-dashed-wrapped\"><div class=\"sk-label-container\"><div class=\"sk-label sk-toggleable\"><input class=\"sk-toggleable__control sk-hidden--visually\" id=\"sk-estimator-id-23\" type=\"checkbox\" ><label for=\"sk-estimator-id-23\" class=\"sk-toggleable__label sk-toggleable__label-arrow\">Pipeline</label><div class=\"sk-toggleable__content\"><pre>Pipeline(steps=[(&#x27;preprocess&#x27;,\n",
       "                 ColumnTransformer(transformers=[(&#x27;num&#x27;, &#x27;passthrough&#x27;,\n",
       "                                                  [&#x27;accommodates&#x27;, &#x27;bathrooms&#x27;,\n",
       "                                                   &#x27;beds&#x27;,\n",
       "                                                   &#x27;review_scores_rating&#x27;,\n",
       "                                                   &#x27;entire_home&#x27;,\n",
       "                                                   &#x27;entire_rental_unit&#x27;,\n",
       "                                                   &#x27;entire_condo&#x27;,\n",
       "                                                   &#x27;entire_guesthouse&#x27;,\n",
       "                                                   &#x27;entire_guest_suite&#x27;,\n",
       "                                                   &#x27;entire_townhouse&#x27;,\n",
       "                                                   &#x27;availability_365_x&#x27;,\n",
       "                                                   &#x27;number_of_reviews_x&#x27;,\n",
       "                                                   &#x27;host_is_superhost&#x27;,\n",
       "                                                   &#x27;minimum_nights_y&#x27;,\n",
       "                                                   &#x27;maximum_nights&#x27;])])),\n",
       "                (&#x27;regressor&#x27;,\n",
       "                 RandomForestRegressor(max_features=6, min_samples_leaf=5,\n",
       "                                       random_state=20240131))])</pre></div></div></div><div class=\"sk-serial\"><div class=\"sk-item sk-dashed-wrapped\"><div class=\"sk-label-container\"><div class=\"sk-label sk-toggleable\"><input class=\"sk-toggleable__control sk-hidden--visually\" id=\"sk-estimator-id-24\" type=\"checkbox\" ><label for=\"sk-estimator-id-24\" class=\"sk-toggleable__label sk-toggleable__label-arrow\">preprocess: ColumnTransformer</label><div class=\"sk-toggleable__content\"><pre>ColumnTransformer(transformers=[(&#x27;num&#x27;, &#x27;passthrough&#x27;,\n",
       "                                 [&#x27;accommodates&#x27;, &#x27;bathrooms&#x27;, &#x27;beds&#x27;,\n",
       "                                  &#x27;review_scores_rating&#x27;, &#x27;entire_home&#x27;,\n",
       "                                  &#x27;entire_rental_unit&#x27;, &#x27;entire_condo&#x27;,\n",
       "                                  &#x27;entire_guesthouse&#x27;, &#x27;entire_guest_suite&#x27;,\n",
       "                                  &#x27;entire_townhouse&#x27;, &#x27;availability_365_x&#x27;,\n",
       "                                  &#x27;number_of_reviews_x&#x27;, &#x27;host_is_superhost&#x27;,\n",
       "                                  &#x27;minimum_nights_y&#x27;, &#x27;maximum_nights&#x27;])])</pre></div></div></div><div class=\"sk-parallel\"><div class=\"sk-parallel-item\"><div class=\"sk-item\"><div class=\"sk-label-container\"><div class=\"sk-label sk-toggleable\"><input class=\"sk-toggleable__control sk-hidden--visually\" id=\"sk-estimator-id-25\" type=\"checkbox\" ><label for=\"sk-estimator-id-25\" class=\"sk-toggleable__label sk-toggleable__label-arrow\">num</label><div class=\"sk-toggleable__content\"><pre>[&#x27;accommodates&#x27;, &#x27;bathrooms&#x27;, &#x27;beds&#x27;, &#x27;review_scores_rating&#x27;, &#x27;entire_home&#x27;, &#x27;entire_rental_unit&#x27;, &#x27;entire_condo&#x27;, &#x27;entire_guesthouse&#x27;, &#x27;entire_guest_suite&#x27;, &#x27;entire_townhouse&#x27;, &#x27;availability_365_x&#x27;, &#x27;number_of_reviews_x&#x27;, &#x27;host_is_superhost&#x27;, &#x27;minimum_nights_y&#x27;, &#x27;maximum_nights&#x27;]</pre></div></div></div><div class=\"sk-serial\"><div class=\"sk-item\"><div class=\"sk-estimator sk-toggleable\"><input class=\"sk-toggleable__control sk-hidden--visually\" id=\"sk-estimator-id-26\" type=\"checkbox\" ><label for=\"sk-estimator-id-26\" class=\"sk-toggleable__label sk-toggleable__label-arrow\">passthrough</label><div class=\"sk-toggleable__content\"><pre>passthrough</pre></div></div></div></div></div></div></div></div><div class=\"sk-item\"><div class=\"sk-estimator sk-toggleable\"><input class=\"sk-toggleable__control sk-hidden--visually\" id=\"sk-estimator-id-27\" type=\"checkbox\" ><label for=\"sk-estimator-id-27\" class=\"sk-toggleable__label sk-toggleable__label-arrow\">RandomForestRegressor</label><div class=\"sk-toggleable__content\"><pre>RandomForestRegressor(max_features=6, min_samples_leaf=5, random_state=20240131)</pre></div></div></div></div></div></div></div>"
      ],
      "text/plain": [
       "Pipeline(steps=[('preprocess',\n",
       "                 ColumnTransformer(transformers=[('num', 'passthrough',\n",
       "                                                  ['accommodates', 'bathrooms',\n",
       "                                                   'beds',\n",
       "                                                   'review_scores_rating',\n",
       "                                                   'entire_home',\n",
       "                                                   'entire_rental_unit',\n",
       "                                                   'entire_condo',\n",
       "                                                   'entire_guesthouse',\n",
       "                                                   'entire_guest_suite',\n",
       "                                                   'entire_townhouse',\n",
       "                                                   'availability_365_x',\n",
       "                                                   'number_of_reviews_x',\n",
       "                                                   'host_is_superhost',\n",
       "                                                   'minimum_nights_y',\n",
       "                                                   'maximum_nights'])])),\n",
       "                ('regressor',\n",
       "                 RandomForestRegressor(max_features=6, min_samples_leaf=5,\n",
       "                                       random_state=20240131))])"
      ]
     },
     "execution_count": 258,
     "metadata": {},
     "output_type": "execute_result"
    }
   ],
   "source": [
    "%%time\n",
    "rf_pipeline.fit(data_train[selected_features],data_train.price)"
   ]
  },
  {
   "cell_type": "code",
   "execution_count": 244,
   "id": "ae01a921",
   "metadata": {},
   "outputs": [
    {
     "data": {
      "text/plain": [
       "accommodates\n",
       "2    269.830862\n",
       "3    127.476266\n",
       "4    211.619142\n",
       "5    216.609177\n",
       "6    263.620929\n",
       "Name: price, dtype: float64"
      ]
     },
     "execution_count": 244,
     "metadata": {},
     "output_type": "execute_result"
    }
   ],
   "source": [
    "####\n",
    "#airbnb.groupby('accommodates')['price'].mean()"
   ]
  },
  {
   "cell_type": "code",
   "execution_count": 259,
   "id": "bcf08449",
   "metadata": {},
   "outputs": [],
   "source": [
    "from sklearn.inspection import permutation_importance\n",
    "from sklearn.inspection import partial_dependence"
   ]
  },
  {
   "cell_type": "code",
   "execution_count": 260,
   "id": "ce79df19",
   "metadata": {},
   "outputs": [
    {
     "name": "stdout",
     "output_type": "stream",
     "text": [
      "CPU times: user 7.02 s, sys: 120 ms, total: 7.14 s\n",
      "Wall time: 7.84 s\n"
     ]
    }
   ],
   "source": [
    "%%time\n",
    "result = permutation_importance(\n",
    "    rf_pipeline,\n",
    "    data_holdout[selected_features],\n",
    "    data_holdout.price,\n",
    "    n_repeats=10,\n",
    "    random_state=45,\n",
    ")"
   ]
  },
  {
   "cell_type": "code",
   "execution_count": 261,
   "id": "4d1d02c6",
   "metadata": {
    "scrolled": true
   },
   "outputs": [],
   "source": [
    "accommodates_pdp = partial_dependence(\n",
    "    rf_pipeline, data_holdout[selected_features], [\"accommodates\"], kind=\"average\"\n",
    ")"
   ]
  },
  {
   "cell_type": "code",
   "execution_count": 279,
   "id": "6858b180",
   "metadata": {},
   "outputs": [
    {
     "data": {
      "text/plain": [
       "accommodates\n",
       "2    269.830862\n",
       "3    127.476266\n",
       "4    211.619142\n",
       "5    216.609177\n",
       "6    263.620929\n",
       "Name: price, dtype: float64"
      ]
     },
     "execution_count": 279,
     "metadata": {},
     "output_type": "execute_result"
    }
   ],
   "source": [
    "airbnb.groupby('accommodates')['price'].mean()\n",
    "#the prediction of avg price by number of accommodates above is not too far off from the average in the work set"
   ]
  },
  {
   "cell_type": "code",
   "execution_count": 356,
   "id": "d82b40d5",
   "metadata": {},
   "outputs": [
    {
     "data": {
      "text/html": [
       "<div>\n",
       "<style scoped>\n",
       "    .dataframe tbody tr th:only-of-type {\n",
       "        vertical-align: middle;\n",
       "    }\n",
       "\n",
       "    .dataframe tbody tr th {\n",
       "        vertical-align: top;\n",
       "    }\n",
       "\n",
       "    .dataframe thead th {\n",
       "        text-align: right;\n",
       "    }\n",
       "</style>\n",
       "<table border=\"1\" class=\"dataframe\">\n",
       "  <thead>\n",
       "    <tr style=\"text-align: right;\">\n",
       "      <th></th>\n",
       "      <th>actual_average_price</th>\n",
       "      <th>predicted_average_price</th>\n",
       "    </tr>\n",
       "    <tr>\n",
       "      <th>number_of_accommodates</th>\n",
       "      <th></th>\n",
       "      <th></th>\n",
       "    </tr>\n",
       "  </thead>\n",
       "  <tbody>\n",
       "    <tr>\n",
       "      <th>2</th>\n",
       "      <td>269.830862</td>\n",
       "      <td>235.467214</td>\n",
       "    </tr>\n",
       "    <tr>\n",
       "      <th>3</th>\n",
       "      <td>127.476266</td>\n",
       "      <td>210.105661</td>\n",
       "    </tr>\n",
       "    <tr>\n",
       "      <th>4</th>\n",
       "      <td>211.619142</td>\n",
       "      <td>216.035901</td>\n",
       "    </tr>\n",
       "    <tr>\n",
       "      <th>5</th>\n",
       "      <td>216.609177</td>\n",
       "      <td>219.032265</td>\n",
       "    </tr>\n",
       "    <tr>\n",
       "      <th>6</th>\n",
       "      <td>263.620929</td>\n",
       "      <td>228.874237</td>\n",
       "    </tr>\n",
       "  </tbody>\n",
       "</table>\n",
       "</div>"
      ],
      "text/plain": [
       "                        actual_average_price  predicted_average_price\n",
       "number_of_accommodates                                               \n",
       "2                                 269.830862               235.467214\n",
       "3                                 127.476266               210.105661\n",
       "4                                 211.619142               216.035901\n",
       "5                                 216.609177               219.032265\n",
       "6                                 263.620929               228.874237"
      ]
     },
     "execution_count": 356,
     "metadata": {},
     "output_type": "execute_result"
    }
   ],
   "source": [
    "pred_avg_price_by_accom = pd.DataFrame({\n",
    "    'number_of_accommodates': accommodates_pdp['grid_values'][0], \n",
    "    'actual_average_price': airbnb.groupby('accommodates')['price'].mean(),\n",
    "    'predicted_average_price': accommodates_pdp['average'][0],\n",
    "    })\n",
    "\n",
    "# Set 'number_of_accommodates' as the index\n",
    "pred_avg_price_by_accom = pred_avg_price_by_accom.set_index('number_of_accommodates')\n",
    "pred_avg_price_by_accom"
   ]
  },
  {
   "cell_type": "code",
   "execution_count": 342,
   "id": "eea75fac",
   "metadata": {},
   "outputs": [
    {
     "data": {
      "image/png": "[encoded data removed]",
      "text/plain": [
       "<Figure size 640x480 with 1 Axes>"
      ]
     },
     "metadata": {
      "image/png": {
       "height": 480,
       "width": 640
      }
     },
     "output_type": "display_data"
    },
    {
     "data": {
      "text/plain": [
       "<Figure Size: (640 x 480)>"
      ]
     },
     "execution_count": 342,
     "metadata": {},
     "output_type": "execute_result"
    }
   ],
   "source": [
    "p = (ggplot(pred_avg_price_by_accom, aes(x = 'number_of_accommodates', y = 'average_price')) \n",
    " + geom_point(size = 8) + theme_bw() + ggtitle('Scatterplot Showing Average Price for Number of Accommodates/Guests'))\n",
    "p"
   ]
  },
  {
   "cell_type": "code",
   "execution_count": null,
   "id": "960a6bd2",
   "metadata": {},
   "outputs": [],
   "source": [
    "#maybe i should try a cpartial dependence plot using predictions of OLS to compare how off those were..."
   ]
  }
 ],
 "metadata": {
  "kernelspec": {
   "display_name": "Python 3 (ipykernel)",
   "language": "python",
   "name": "python3"
  },
  "language_info": {
   "codemirror_mode": {
    "name": "ipython",
    "version": 3
   },
   "file_extension": ".py",
   "mimetype": "text/x-python",
   "name": "python",
   "nbconvert_exporter": "python",
   "pygments_lexer": "ipython3",
   "version": "3.11.5"
  }
 },
 "nbformat": 4,
 "nbformat_minor": 5
}
