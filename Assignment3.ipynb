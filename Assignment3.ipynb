{
 "cells": [
  {
   "cell_type": "markdown",
   "id": "7fa8ae04",
   "metadata": {},
   "source": [
    "## SAY SOMETHING HERE\n",
    "\n",
    "A company-year long format xt panel data table, 2005-2016 \n",
    " n = 287,829 observations (46,412 firms)\n",
    "\t(third as many companies in 2016 as in earlier years)\n",
    " - ID variables\tcomp_id\t(numerical) company identifier\n",
    "- year\t(calendar) year\n",
    "\n",
    " other important variables\n",
    " \n",
    "- exit_year\tyear of exit (missing if still in business on 2016.12.31) \n",
    "- sales\t\tsales in year (EUR)\n",
    "- curr_assets\tcurrent assets at end of year (EUR)\n",
    "- ind2\t\t2-digit NACE industry code\n",
    "\n",
    "DEFAULT =  Existed in 2014 (sales > 0), but did not exists in 2015 (sales is 0 or missing)"
   ]
  },
  {
   "cell_type": "code",
   "execution_count": 1,
   "id": "c800f6b2",
   "metadata": {},
   "outputs": [],
   "source": [
    "import pandas as pd\n",
    "import numpy as np\n",
    "from plotnine import *\n",
    "from sklearn.linear_model import LinearRegression, LogisticRegression, LogisticRegressionCV\n",
    "import sklearn.metrics as metrics\n",
    "from sklearn.metrics import brier_score_loss, roc_curve, auc, confusion_matrix, roc_auc_score, mean_squared_error, accuracy_score\n",
    "import statsmodels.api as sm\n",
    "import warnings\n",
    "warnings.filterwarnings('ignore')"
   ]
  },
  {
   "cell_type": "code",
   "execution_count": 2,
   "id": "59a54fa6",
   "metadata": {
    "scrolled": true
   },
   "outputs": [
    {
     "data": {
      "text/html": [
       "<div>\n",
       "<style scoped>\n",
       "    .dataframe tbody tr th:only-of-type {\n",
       "        vertical-align: middle;\n",
       "    }\n",
       "\n",
       "    .dataframe tbody tr th {\n",
       "        vertical-align: top;\n",
       "    }\n",
       "\n",
       "    .dataframe thead th {\n",
       "        text-align: right;\n",
       "    }\n",
       "</style>\n",
       "<table border=\"1\" class=\"dataframe\">\n",
       "  <thead>\n",
       "    <tr style=\"text-align: right;\">\n",
       "      <th></th>\n",
       "      <th>comp_id</th>\n",
       "      <th>begin</th>\n",
       "      <th>end</th>\n",
       "      <th>COGS</th>\n",
       "      <th>amort</th>\n",
       "      <th>curr_assets</th>\n",
       "      <th>curr_liab</th>\n",
       "      <th>extra_exp</th>\n",
       "      <th>extra_inc</th>\n",
       "      <th>extra_profit_loss</th>\n",
       "      <th>...</th>\n",
       "      <th>gender</th>\n",
       "      <th>origin</th>\n",
       "      <th>nace_main</th>\n",
       "      <th>ind2</th>\n",
       "      <th>ind</th>\n",
       "      <th>urban_m</th>\n",
       "      <th>region_m</th>\n",
       "      <th>founded_date</th>\n",
       "      <th>exit_date</th>\n",
       "      <th>labor_avg</th>\n",
       "    </tr>\n",
       "  </thead>\n",
       "  <tbody>\n",
       "    <tr>\n",
       "      <th>0</th>\n",
       "      <td>1.001034e+06</td>\n",
       "      <td>2005-01-01</td>\n",
       "      <td>2005-12-31</td>\n",
       "      <td>NaN</td>\n",
       "      <td>692.592590</td>\n",
       "      <td>7266.666504</td>\n",
       "      <td>7574.074219</td>\n",
       "      <td>0.0</td>\n",
       "      <td>0.0</td>\n",
       "      <td>0.0</td>\n",
       "      <td>...</td>\n",
       "      <td>mix</td>\n",
       "      <td>Domestic</td>\n",
       "      <td>5630.0</td>\n",
       "      <td>56.0</td>\n",
       "      <td>3.0</td>\n",
       "      <td>1</td>\n",
       "      <td>Central</td>\n",
       "      <td>1990-11-19</td>\n",
       "      <td>NaN</td>\n",
       "      <td>NaN</td>\n",
       "    </tr>\n",
       "    <tr>\n",
       "      <th>1</th>\n",
       "      <td>1.001034e+06</td>\n",
       "      <td>2006-01-01</td>\n",
       "      <td>2006-12-31</td>\n",
       "      <td>NaN</td>\n",
       "      <td>603.703674</td>\n",
       "      <td>13122.222656</td>\n",
       "      <td>12211.111328</td>\n",
       "      <td>0.0</td>\n",
       "      <td>0.0</td>\n",
       "      <td>0.0</td>\n",
       "      <td>...</td>\n",
       "      <td>mix</td>\n",
       "      <td>Domestic</td>\n",
       "      <td>5630.0</td>\n",
       "      <td>56.0</td>\n",
       "      <td>3.0</td>\n",
       "      <td>1</td>\n",
       "      <td>Central</td>\n",
       "      <td>1990-11-19</td>\n",
       "      <td>NaN</td>\n",
       "      <td>NaN</td>\n",
       "    </tr>\n",
       "    <tr>\n",
       "      <th>2</th>\n",
       "      <td>1.001034e+06</td>\n",
       "      <td>2007-01-01</td>\n",
       "      <td>2007-12-31</td>\n",
       "      <td>NaN</td>\n",
       "      <td>425.925934</td>\n",
       "      <td>8196.295898</td>\n",
       "      <td>7800.000000</td>\n",
       "      <td>0.0</td>\n",
       "      <td>0.0</td>\n",
       "      <td>0.0</td>\n",
       "      <td>...</td>\n",
       "      <td>mix</td>\n",
       "      <td>Domestic</td>\n",
       "      <td>5630.0</td>\n",
       "      <td>56.0</td>\n",
       "      <td>3.0</td>\n",
       "      <td>1</td>\n",
       "      <td>Central</td>\n",
       "      <td>1990-11-19</td>\n",
       "      <td>NaN</td>\n",
       "      <td>NaN</td>\n",
       "    </tr>\n",
       "    <tr>\n",
       "      <th>3</th>\n",
       "      <td>1.001034e+06</td>\n",
       "      <td>2008-01-01</td>\n",
       "      <td>2008-12-31</td>\n",
       "      <td>NaN</td>\n",
       "      <td>300.000000</td>\n",
       "      <td>8485.185547</td>\n",
       "      <td>7781.481445</td>\n",
       "      <td>0.0</td>\n",
       "      <td>0.0</td>\n",
       "      <td>0.0</td>\n",
       "      <td>...</td>\n",
       "      <td>mix</td>\n",
       "      <td>Domestic</td>\n",
       "      <td>5630.0</td>\n",
       "      <td>56.0</td>\n",
       "      <td>3.0</td>\n",
       "      <td>1</td>\n",
       "      <td>Central</td>\n",
       "      <td>1990-11-19</td>\n",
       "      <td>NaN</td>\n",
       "      <td>NaN</td>\n",
       "    </tr>\n",
       "    <tr>\n",
       "      <th>4</th>\n",
       "      <td>1.001034e+06</td>\n",
       "      <td>2009-01-01</td>\n",
       "      <td>2009-12-31</td>\n",
       "      <td>NaN</td>\n",
       "      <td>207.407410</td>\n",
       "      <td>5137.037109</td>\n",
       "      <td>15300.000000</td>\n",
       "      <td>0.0</td>\n",
       "      <td>0.0</td>\n",
       "      <td>0.0</td>\n",
       "      <td>...</td>\n",
       "      <td>mix</td>\n",
       "      <td>Domestic</td>\n",
       "      <td>5630.0</td>\n",
       "      <td>56.0</td>\n",
       "      <td>3.0</td>\n",
       "      <td>1</td>\n",
       "      <td>Central</td>\n",
       "      <td>1990-11-19</td>\n",
       "      <td>NaN</td>\n",
       "      <td>0.083333</td>\n",
       "    </tr>\n",
       "    <tr>\n",
       "      <th>...</th>\n",
       "      <td>...</td>\n",
       "      <td>...</td>\n",
       "      <td>...</td>\n",
       "      <td>...</td>\n",
       "      <td>...</td>\n",
       "      <td>...</td>\n",
       "      <td>...</td>\n",
       "      <td>...</td>\n",
       "      <td>...</td>\n",
       "      <td>...</td>\n",
       "      <td>...</td>\n",
       "      <td>...</td>\n",
       "      <td>...</td>\n",
       "      <td>...</td>\n",
       "      <td>...</td>\n",
       "      <td>...</td>\n",
       "      <td>...</td>\n",
       "      <td>...</td>\n",
       "      <td>...</td>\n",
       "      <td>...</td>\n",
       "      <td>...</td>\n",
       "    </tr>\n",
       "    <tr>\n",
       "      <th>287824</th>\n",
       "      <td>4.641209e+11</td>\n",
       "      <td>2011-01-01</td>\n",
       "      <td>2011-12-31</td>\n",
       "      <td>NaN</td>\n",
       "      <td>0.000000</td>\n",
       "      <td>1807.407349</td>\n",
       "      <td>3.703704</td>\n",
       "      <td>0.0</td>\n",
       "      <td>0.0</td>\n",
       "      <td>0.0</td>\n",
       "      <td>...</td>\n",
       "      <td>female</td>\n",
       "      <td>Domestic</td>\n",
       "      <td>5510.0</td>\n",
       "      <td>55.0</td>\n",
       "      <td>3.0</td>\n",
       "      <td>2</td>\n",
       "      <td>East</td>\n",
       "      <td>1990-08-22</td>\n",
       "      <td>NaN</td>\n",
       "      <td>NaN</td>\n",
       "    </tr>\n",
       "    <tr>\n",
       "      <th>287825</th>\n",
       "      <td>4.641209e+11</td>\n",
       "      <td>2012-01-01</td>\n",
       "      <td>2012-12-31</td>\n",
       "      <td>NaN</td>\n",
       "      <td>0.000000</td>\n",
       "      <td>1518.518555</td>\n",
       "      <td>96.296295</td>\n",
       "      <td>0.0</td>\n",
       "      <td>0.0</td>\n",
       "      <td>0.0</td>\n",
       "      <td>...</td>\n",
       "      <td>female</td>\n",
       "      <td>Domestic</td>\n",
       "      <td>5510.0</td>\n",
       "      <td>55.0</td>\n",
       "      <td>3.0</td>\n",
       "      <td>2</td>\n",
       "      <td>East</td>\n",
       "      <td>1990-08-22</td>\n",
       "      <td>NaN</td>\n",
       "      <td>NaN</td>\n",
       "    </tr>\n",
       "    <tr>\n",
       "      <th>287826</th>\n",
       "      <td>4.641209e+11</td>\n",
       "      <td>2013-01-01</td>\n",
       "      <td>2013-12-31</td>\n",
       "      <td>NaN</td>\n",
       "      <td>0.000000</td>\n",
       "      <td>988.888916</td>\n",
       "      <td>77.777779</td>\n",
       "      <td>0.0</td>\n",
       "      <td>0.0</td>\n",
       "      <td>0.0</td>\n",
       "      <td>...</td>\n",
       "      <td>NaN</td>\n",
       "      <td>NaN</td>\n",
       "      <td>5510.0</td>\n",
       "      <td>55.0</td>\n",
       "      <td>3.0</td>\n",
       "      <td>2</td>\n",
       "      <td>East</td>\n",
       "      <td>1990-08-22</td>\n",
       "      <td>NaN</td>\n",
       "      <td>NaN</td>\n",
       "    </tr>\n",
       "    <tr>\n",
       "      <th>287827</th>\n",
       "      <td>4.641209e+11</td>\n",
       "      <td>2014-01-01</td>\n",
       "      <td>2014-12-31</td>\n",
       "      <td>NaN</td>\n",
       "      <td>0.000000</td>\n",
       "      <td>644.444458</td>\n",
       "      <td>233.333328</td>\n",
       "      <td>0.0</td>\n",
       "      <td>0.0</td>\n",
       "      <td>0.0</td>\n",
       "      <td>...</td>\n",
       "      <td>female</td>\n",
       "      <td>Domestic</td>\n",
       "      <td>5510.0</td>\n",
       "      <td>55.0</td>\n",
       "      <td>3.0</td>\n",
       "      <td>2</td>\n",
       "      <td>East</td>\n",
       "      <td>1990-08-22</td>\n",
       "      <td>NaN</td>\n",
       "      <td>NaN</td>\n",
       "    </tr>\n",
       "    <tr>\n",
       "      <th>287828</th>\n",
       "      <td>4.641209e+11</td>\n",
       "      <td>2015-01-01</td>\n",
       "      <td>2015-12-31</td>\n",
       "      <td>NaN</td>\n",
       "      <td>0.000000</td>\n",
       "      <td>166.666672</td>\n",
       "      <td>270.370361</td>\n",
       "      <td>0.0</td>\n",
       "      <td>0.0</td>\n",
       "      <td>0.0</td>\n",
       "      <td>...</td>\n",
       "      <td>female</td>\n",
       "      <td>Domestic</td>\n",
       "      <td>5510.0</td>\n",
       "      <td>55.0</td>\n",
       "      <td>3.0</td>\n",
       "      <td>2</td>\n",
       "      <td>East</td>\n",
       "      <td>1990-08-22</td>\n",
       "      <td>NaN</td>\n",
       "      <td>NaN</td>\n",
       "    </tr>\n",
       "  </tbody>\n",
       "</table>\n",
       "<p>287829 rows × 48 columns</p>\n",
       "</div>"
      ],
      "text/plain": [
       "             comp_id       begin         end  COGS       amort   curr_assets  \\\n",
       "0       1.001034e+06  2005-01-01  2005-12-31   NaN  692.592590   7266.666504   \n",
       "1       1.001034e+06  2006-01-01  2006-12-31   NaN  603.703674  13122.222656   \n",
       "2       1.001034e+06  2007-01-01  2007-12-31   NaN  425.925934   8196.295898   \n",
       "3       1.001034e+06  2008-01-01  2008-12-31   NaN  300.000000   8485.185547   \n",
       "4       1.001034e+06  2009-01-01  2009-12-31   NaN  207.407410   5137.037109   \n",
       "...              ...         ...         ...   ...         ...           ...   \n",
       "287824  4.641209e+11  2011-01-01  2011-12-31   NaN    0.000000   1807.407349   \n",
       "287825  4.641209e+11  2012-01-01  2012-12-31   NaN    0.000000   1518.518555   \n",
       "287826  4.641209e+11  2013-01-01  2013-12-31   NaN    0.000000    988.888916   \n",
       "287827  4.641209e+11  2014-01-01  2014-12-31   NaN    0.000000    644.444458   \n",
       "287828  4.641209e+11  2015-01-01  2015-12-31   NaN    0.000000    166.666672   \n",
       "\n",
       "           curr_liab  extra_exp  extra_inc  extra_profit_loss  ...  gender  \\\n",
       "0        7574.074219        0.0        0.0                0.0  ...     mix   \n",
       "1       12211.111328        0.0        0.0                0.0  ...     mix   \n",
       "2        7800.000000        0.0        0.0                0.0  ...     mix   \n",
       "3        7781.481445        0.0        0.0                0.0  ...     mix   \n",
       "4       15300.000000        0.0        0.0                0.0  ...     mix   \n",
       "...              ...        ...        ...                ...  ...     ...   \n",
       "287824      3.703704        0.0        0.0                0.0  ...  female   \n",
       "287825     96.296295        0.0        0.0                0.0  ...  female   \n",
       "287826     77.777779        0.0        0.0                0.0  ...     NaN   \n",
       "287827    233.333328        0.0        0.0                0.0  ...  female   \n",
       "287828    270.370361        0.0        0.0                0.0  ...  female   \n",
       "\n",
       "          origin  nace_main  ind2  ind  urban_m  region_m  founded_date  \\\n",
       "0       Domestic     5630.0  56.0  3.0        1   Central    1990-11-19   \n",
       "1       Domestic     5630.0  56.0  3.0        1   Central    1990-11-19   \n",
       "2       Domestic     5630.0  56.0  3.0        1   Central    1990-11-19   \n",
       "3       Domestic     5630.0  56.0  3.0        1   Central    1990-11-19   \n",
       "4       Domestic     5630.0  56.0  3.0        1   Central    1990-11-19   \n",
       "...          ...        ...   ...  ...      ...       ...           ...   \n",
       "287824  Domestic     5510.0  55.0  3.0        2      East    1990-08-22   \n",
       "287825  Domestic     5510.0  55.0  3.0        2      East    1990-08-22   \n",
       "287826       NaN     5510.0  55.0  3.0        2      East    1990-08-22   \n",
       "287827  Domestic     5510.0  55.0  3.0        2      East    1990-08-22   \n",
       "287828  Domestic     5510.0  55.0  3.0        2      East    1990-08-22   \n",
       "\n",
       "        exit_date  labor_avg  \n",
       "0             NaN        NaN  \n",
       "1             NaN        NaN  \n",
       "2             NaN        NaN  \n",
       "3             NaN        NaN  \n",
       "4             NaN   0.083333  \n",
       "...           ...        ...  \n",
       "287824        NaN        NaN  \n",
       "287825        NaN        NaN  \n",
       "287826        NaN        NaN  \n",
       "287827        NaN        NaN  \n",
       "287828        NaN        NaN  \n",
       "\n",
       "[287829 rows x 48 columns]"
      ]
     },
     "execution_count": 2,
     "metadata": {},
     "output_type": "execute_result"
    }
   ],
   "source": [
    "data = pd.read_csv('cs_bisnode_panel.zip')\n",
    "data"
   ]
  },
  {
   "cell_type": "code",
   "execution_count": 3,
   "id": "1d152bca",
   "metadata": {
    "scrolled": true
   },
   "outputs": [
    {
     "data": {
      "text/html": [
       "<div>\n",
       "<style scoped>\n",
       "    .dataframe tbody tr th:only-of-type {\n",
       "        vertical-align: middle;\n",
       "    }\n",
       "\n",
       "    .dataframe tbody tr th {\n",
       "        vertical-align: top;\n",
       "    }\n",
       "\n",
       "    .dataframe thead th {\n",
       "        text-align: right;\n",
       "    }\n",
       "</style>\n",
       "<table border=\"1\" class=\"dataframe\">\n",
       "  <thead>\n",
       "    <tr style=\"text-align: right;\">\n",
       "      <th></th>\n",
       "      <th>comp_id</th>\n",
       "      <th>begin</th>\n",
       "      <th>end</th>\n",
       "      <th>COGS</th>\n",
       "      <th>amort</th>\n",
       "      <th>curr_assets</th>\n",
       "      <th>curr_liab</th>\n",
       "      <th>extra_exp</th>\n",
       "      <th>extra_inc</th>\n",
       "      <th>extra_profit_loss</th>\n",
       "      <th>...</th>\n",
       "      <th>gender</th>\n",
       "      <th>origin</th>\n",
       "      <th>nace_main</th>\n",
       "      <th>ind2</th>\n",
       "      <th>ind</th>\n",
       "      <th>urban_m</th>\n",
       "      <th>region_m</th>\n",
       "      <th>founded_date</th>\n",
       "      <th>exit_date</th>\n",
       "      <th>labor_avg</th>\n",
       "    </tr>\n",
       "  </thead>\n",
       "  <tbody>\n",
       "    <tr>\n",
       "      <th>960</th>\n",
       "      <td>6.538183e+06</td>\n",
       "      <td>2005-01-01</td>\n",
       "      <td>2005-12-31</td>\n",
       "      <td>NaN</td>\n",
       "      <td>792.592590</td>\n",
       "      <td>6237.037109</td>\n",
       "      <td>348.148163</td>\n",
       "      <td>0.000000</td>\n",
       "      <td>0.0</td>\n",
       "      <td>0.000000</td>\n",
       "      <td>...</td>\n",
       "      <td>male</td>\n",
       "      <td>Foreign</td>\n",
       "      <td>2630.0</td>\n",
       "      <td>26.0</td>\n",
       "      <td>2.0</td>\n",
       "      <td>2</td>\n",
       "      <td>East</td>\n",
       "      <td>1992-08-25</td>\n",
       "      <td>NaN</td>\n",
       "      <td>NaN</td>\n",
       "    </tr>\n",
       "    <tr>\n",
       "      <th>961</th>\n",
       "      <td>6.538183e+06</td>\n",
       "      <td>2006-01-01</td>\n",
       "      <td>2006-12-31</td>\n",
       "      <td>NaN</td>\n",
       "      <td>196.296295</td>\n",
       "      <td>6007.407227</td>\n",
       "      <td>451.851837</td>\n",
       "      <td>0.000000</td>\n",
       "      <td>0.0</td>\n",
       "      <td>0.000000</td>\n",
       "      <td>...</td>\n",
       "      <td>male</td>\n",
       "      <td>Foreign</td>\n",
       "      <td>2630.0</td>\n",
       "      <td>26.0</td>\n",
       "      <td>2.0</td>\n",
       "      <td>2</td>\n",
       "      <td>East</td>\n",
       "      <td>1992-08-25</td>\n",
       "      <td>NaN</td>\n",
       "      <td>NaN</td>\n",
       "    </tr>\n",
       "    <tr>\n",
       "      <th>962</th>\n",
       "      <td>6.538183e+06</td>\n",
       "      <td>2007-01-01</td>\n",
       "      <td>2007-12-31</td>\n",
       "      <td>NaN</td>\n",
       "      <td>233.333328</td>\n",
       "      <td>9007.407227</td>\n",
       "      <td>2637.037109</td>\n",
       "      <td>0.000000</td>\n",
       "      <td>0.0</td>\n",
       "      <td>0.000000</td>\n",
       "      <td>...</td>\n",
       "      <td>male</td>\n",
       "      <td>Foreign</td>\n",
       "      <td>2630.0</td>\n",
       "      <td>26.0</td>\n",
       "      <td>2.0</td>\n",
       "      <td>2</td>\n",
       "      <td>East</td>\n",
       "      <td>1992-08-25</td>\n",
       "      <td>NaN</td>\n",
       "      <td>NaN</td>\n",
       "    </tr>\n",
       "    <tr>\n",
       "      <th>963</th>\n",
       "      <td>6.538183e+06</td>\n",
       "      <td>2008-01-01</td>\n",
       "      <td>2008-12-31</td>\n",
       "      <td>NaN</td>\n",
       "      <td>422.222229</td>\n",
       "      <td>7707.407227</td>\n",
       "      <td>1651.851807</td>\n",
       "      <td>0.000000</td>\n",
       "      <td>0.0</td>\n",
       "      <td>0.000000</td>\n",
       "      <td>...</td>\n",
       "      <td>male</td>\n",
       "      <td>Foreign</td>\n",
       "      <td>2630.0</td>\n",
       "      <td>26.0</td>\n",
       "      <td>2.0</td>\n",
       "      <td>2</td>\n",
       "      <td>East</td>\n",
       "      <td>1992-08-25</td>\n",
       "      <td>NaN</td>\n",
       "      <td>NaN</td>\n",
       "    </tr>\n",
       "    <tr>\n",
       "      <th>964</th>\n",
       "      <td>6.538183e+06</td>\n",
       "      <td>2009-01-01</td>\n",
       "      <td>2009-12-31</td>\n",
       "      <td>NaN</td>\n",
       "      <td>1525.925903</td>\n",
       "      <td>18196.296875</td>\n",
       "      <td>8714.814453</td>\n",
       "      <td>18.518518</td>\n",
       "      <td>0.0</td>\n",
       "      <td>-18.518518</td>\n",
       "      <td>...</td>\n",
       "      <td>male</td>\n",
       "      <td>Foreign</td>\n",
       "      <td>2630.0</td>\n",
       "      <td>26.0</td>\n",
       "      <td>2.0</td>\n",
       "      <td>2</td>\n",
       "      <td>East</td>\n",
       "      <td>1992-08-25</td>\n",
       "      <td>NaN</td>\n",
       "      <td>NaN</td>\n",
       "    </tr>\n",
       "    <tr>\n",
       "      <th>...</th>\n",
       "      <td>...</td>\n",
       "      <td>...</td>\n",
       "      <td>...</td>\n",
       "      <td>...</td>\n",
       "      <td>...</td>\n",
       "      <td>...</td>\n",
       "      <td>...</td>\n",
       "      <td>...</td>\n",
       "      <td>...</td>\n",
       "      <td>...</td>\n",
       "      <td>...</td>\n",
       "      <td>...</td>\n",
       "      <td>...</td>\n",
       "      <td>...</td>\n",
       "      <td>...</td>\n",
       "      <td>...</td>\n",
       "      <td>...</td>\n",
       "      <td>...</td>\n",
       "      <td>...</td>\n",
       "      <td>...</td>\n",
       "      <td>...</td>\n",
       "    </tr>\n",
       "    <tr>\n",
       "      <th>287439</th>\n",
       "      <td>4.628231e+11</td>\n",
       "      <td>2012-01-01</td>\n",
       "      <td>2012-12-31</td>\n",
       "      <td>NaN</td>\n",
       "      <td>359.259247</td>\n",
       "      <td>21662.962891</td>\n",
       "      <td>19481.482422</td>\n",
       "      <td>0.000000</td>\n",
       "      <td>0.0</td>\n",
       "      <td>0.000000</td>\n",
       "      <td>...</td>\n",
       "      <td>male</td>\n",
       "      <td>Domestic</td>\n",
       "      <td>2630.0</td>\n",
       "      <td>26.0</td>\n",
       "      <td>2.0</td>\n",
       "      <td>1</td>\n",
       "      <td>Central</td>\n",
       "      <td>2009-12-06</td>\n",
       "      <td>NaN</td>\n",
       "      <td>0.333333</td>\n",
       "    </tr>\n",
       "    <tr>\n",
       "      <th>287440</th>\n",
       "      <td>4.628231e+11</td>\n",
       "      <td>2013-01-01</td>\n",
       "      <td>2013-12-31</td>\n",
       "      <td>NaN</td>\n",
       "      <td>3159.259277</td>\n",
       "      <td>15488.888672</td>\n",
       "      <td>21440.740234</td>\n",
       "      <td>0.000000</td>\n",
       "      <td>0.0</td>\n",
       "      <td>0.000000</td>\n",
       "      <td>...</td>\n",
       "      <td>male</td>\n",
       "      <td>Domestic</td>\n",
       "      <td>2630.0</td>\n",
       "      <td>26.0</td>\n",
       "      <td>2.0</td>\n",
       "      <td>1</td>\n",
       "      <td>Central</td>\n",
       "      <td>2009-12-06</td>\n",
       "      <td>NaN</td>\n",
       "      <td>0.298611</td>\n",
       "    </tr>\n",
       "    <tr>\n",
       "      <th>287441</th>\n",
       "      <td>4.628231e+11</td>\n",
       "      <td>2014-01-01</td>\n",
       "      <td>2014-12-31</td>\n",
       "      <td>NaN</td>\n",
       "      <td>2581.481445</td>\n",
       "      <td>70059.257812</td>\n",
       "      <td>74911.109375</td>\n",
       "      <td>0.000000</td>\n",
       "      <td>0.0</td>\n",
       "      <td>0.000000</td>\n",
       "      <td>...</td>\n",
       "      <td>male</td>\n",
       "      <td>Domestic</td>\n",
       "      <td>2630.0</td>\n",
       "      <td>26.0</td>\n",
       "      <td>2.0</td>\n",
       "      <td>1</td>\n",
       "      <td>Central</td>\n",
       "      <td>2009-12-06</td>\n",
       "      <td>NaN</td>\n",
       "      <td>0.486111</td>\n",
       "    </tr>\n",
       "    <tr>\n",
       "      <th>287442</th>\n",
       "      <td>4.628231e+11</td>\n",
       "      <td>2015-01-01</td>\n",
       "      <td>2015-12-31</td>\n",
       "      <td>NaN</td>\n",
       "      <td>2177.777832</td>\n",
       "      <td>46062.964844</td>\n",
       "      <td>49844.445312</td>\n",
       "      <td>0.000000</td>\n",
       "      <td>0.0</td>\n",
       "      <td>0.000000</td>\n",
       "      <td>...</td>\n",
       "      <td>male</td>\n",
       "      <td>Domestic</td>\n",
       "      <td>2630.0</td>\n",
       "      <td>26.0</td>\n",
       "      <td>2.0</td>\n",
       "      <td>1</td>\n",
       "      <td>Central</td>\n",
       "      <td>2009-12-06</td>\n",
       "      <td>NaN</td>\n",
       "      <td>0.562500</td>\n",
       "    </tr>\n",
       "    <tr>\n",
       "      <th>287443</th>\n",
       "      <td>4.628231e+11</td>\n",
       "      <td>2016-01-01</td>\n",
       "      <td>2016-12-31</td>\n",
       "      <td>NaN</td>\n",
       "      <td>5362.962891</td>\n",
       "      <td>59570.371094</td>\n",
       "      <td>41681.480469</td>\n",
       "      <td>NaN</td>\n",
       "      <td>NaN</td>\n",
       "      <td>NaN</td>\n",
       "      <td>...</td>\n",
       "      <td>male</td>\n",
       "      <td>Domestic</td>\n",
       "      <td>2630.0</td>\n",
       "      <td>26.0</td>\n",
       "      <td>2.0</td>\n",
       "      <td>1</td>\n",
       "      <td>Central</td>\n",
       "      <td>2009-12-06</td>\n",
       "      <td>NaN</td>\n",
       "      <td>0.555556</td>\n",
       "    </tr>\n",
       "  </tbody>\n",
       "</table>\n",
       "<p>14877 rows × 48 columns</p>\n",
       "</div>"
      ],
      "text/plain": [
       "             comp_id       begin         end  COGS        amort   curr_assets  \\\n",
       "960     6.538183e+06  2005-01-01  2005-12-31   NaN   792.592590   6237.037109   \n",
       "961     6.538183e+06  2006-01-01  2006-12-31   NaN   196.296295   6007.407227   \n",
       "962     6.538183e+06  2007-01-01  2007-12-31   NaN   233.333328   9007.407227   \n",
       "963     6.538183e+06  2008-01-01  2008-12-31   NaN   422.222229   7707.407227   \n",
       "964     6.538183e+06  2009-01-01  2009-12-31   NaN  1525.925903  18196.296875   \n",
       "...              ...         ...         ...   ...          ...           ...   \n",
       "287439  4.628231e+11  2012-01-01  2012-12-31   NaN   359.259247  21662.962891   \n",
       "287440  4.628231e+11  2013-01-01  2013-12-31   NaN  3159.259277  15488.888672   \n",
       "287441  4.628231e+11  2014-01-01  2014-12-31   NaN  2581.481445  70059.257812   \n",
       "287442  4.628231e+11  2015-01-01  2015-12-31   NaN  2177.777832  46062.964844   \n",
       "287443  4.628231e+11  2016-01-01  2016-12-31   NaN  5362.962891  59570.371094   \n",
       "\n",
       "           curr_liab  extra_exp  extra_inc  extra_profit_loss  ...  gender  \\\n",
       "960       348.148163   0.000000        0.0           0.000000  ...    male   \n",
       "961       451.851837   0.000000        0.0           0.000000  ...    male   \n",
       "962      2637.037109   0.000000        0.0           0.000000  ...    male   \n",
       "963      1651.851807   0.000000        0.0           0.000000  ...    male   \n",
       "964      8714.814453  18.518518        0.0         -18.518518  ...    male   \n",
       "...              ...        ...        ...                ...  ...     ...   \n",
       "287439  19481.482422   0.000000        0.0           0.000000  ...    male   \n",
       "287440  21440.740234   0.000000        0.0           0.000000  ...    male   \n",
       "287441  74911.109375   0.000000        0.0           0.000000  ...    male   \n",
       "287442  49844.445312   0.000000        0.0           0.000000  ...    male   \n",
       "287443  41681.480469        NaN        NaN                NaN  ...    male   \n",
       "\n",
       "          origin  nace_main  ind2  ind  urban_m  region_m  founded_date  \\\n",
       "960      Foreign     2630.0  26.0  2.0        2      East    1992-08-25   \n",
       "961      Foreign     2630.0  26.0  2.0        2      East    1992-08-25   \n",
       "962      Foreign     2630.0  26.0  2.0        2      East    1992-08-25   \n",
       "963      Foreign     2630.0  26.0  2.0        2      East    1992-08-25   \n",
       "964      Foreign     2630.0  26.0  2.0        2      East    1992-08-25   \n",
       "...          ...        ...   ...  ...      ...       ...           ...   \n",
       "287439  Domestic     2630.0  26.0  2.0        1   Central    2009-12-06   \n",
       "287440  Domestic     2630.0  26.0  2.0        1   Central    2009-12-06   \n",
       "287441  Domestic     2630.0  26.0  2.0        1   Central    2009-12-06   \n",
       "287442  Domestic     2630.0  26.0  2.0        1   Central    2009-12-06   \n",
       "287443  Domestic     2630.0  26.0  2.0        1   Central    2009-12-06   \n",
       "\n",
       "        exit_date  labor_avg  \n",
       "960           NaN        NaN  \n",
       "961           NaN        NaN  \n",
       "962           NaN        NaN  \n",
       "963           NaN        NaN  \n",
       "964           NaN        NaN  \n",
       "...           ...        ...  \n",
       "287439        NaN   0.333333  \n",
       "287440        NaN   0.298611  \n",
       "287441        NaN   0.486111  \n",
       "287442        NaN   0.562500  \n",
       "287443        NaN   0.555556  \n",
       "\n",
       "[14877 rows x 48 columns]"
      ]
     },
     "execution_count": 3,
     "metadata": {},
     "output_type": "execute_result"
    }
   ],
   "source": [
    "data = data.loc[data['ind2'] == 26]\n",
    "data\n",
    "#data for specific industry"
   ]
  },
  {
   "cell_type": "code",
   "execution_count": 4,
   "id": "e20c8a92",
   "metadata": {},
   "outputs": [],
   "source": [
    "#creating y variable ('default')\n",
    "# generate status_alive; if sales larger than zero and not-NA, then firm is alive\n",
    "data[\"status_alive\"] = (data[\"sales\"] > 0 & (False == data[\"sales\"].isna())).astype(int)\n",
    "\n",
    "# defaults in 1 year if there are sales in this year but no sales one year later\n",
    "# Status_in_one_year: data.groupby('comp_id')['status_alive'].shift(-1)\n",
    "data[\"default\"] = (\n",
    "    (data[\"status_alive\"] == 1)\n",
    "    & (data.groupby(\"comp_id\")[\"status_alive\"].shift(-1) == 0)\n",
    ").astype(int)\n",
    "\n",
    "y = data['default']"
   ]
  },
  {
   "cell_type": "code",
   "execution_count": 5,
   "id": "eaa5b8d2",
   "metadata": {},
   "outputs": [],
   "source": [
    "#y.value_counts()"
   ]
  },
  {
   "cell_type": "code",
   "execution_count": 6,
   "id": "bc73e8bb",
   "metadata": {},
   "outputs": [],
   "source": [
    "#cleaning dataset:\n",
    "\n",
    "#x = amort, curr_assets, curr_liab, extra_exp, extra_inc, fixed_assets, inc_bef_tax, intang_assets, inventories\n",
    "#liq_assets, material_exp, personnel_exp, profit_loss_year, share_eq, subscribed_cap, tang_assets\n",
    "#ceo_count, foreign_ceo (%), female(%), inoffice_days, *gender(female_only, male_only, mixed_gender),\n",
    "#*origin(domestic, not_domestic, mix), urban_m (capital city, big_city, other_hq_city), *region_m (Central, East, West)\n",
    "\n",
    "\n",
    "#imputing missing amort values with median (less affected by outliers)\n",
    "#creating flag_variable for missing values and imputed values\n",
    "data.amort.isnull().sum()\n",
    "data['amort_missing_flag'] = data.amort.isnull().astype(int)\n",
    "data['amort_imputed_flag'] = data.amort.isnull().astype(int)\n",
    "data.fillna({'amort':data['amort'].median()}, inplace = True)\n",
    "\n",
    "#imputing missing curr_assets values with median\n",
    "#creating flag_variable for missing values and imputed values\n",
    "data.curr_assets.isnull().sum()\n",
    "data['curr_assets_missing_flag'] = data.curr_assets.isnull().astype(int)\n",
    "data['curr_assets_imputed_flag'] = data.curr_assets.isnull().astype(int)\n",
    "data.fillna({'curr_assets':data['curr_assets'].median()}, inplace = True)\n",
    "\n",
    "#imputing missing curr_liab values with median\n",
    "#creating flag_variable for missing values and imputed values\n",
    "data.curr_liab.isnull().sum()\n",
    "data['curr_liab_missing_flag'] = data.curr_liab.isnull().astype(int)\n",
    "data['curr_liab_imputed_flag'] = data.curr_liab.isnull().astype(int)\n",
    "data.fillna({'curr_liab':data['curr_liab'].median()}, inplace = True)\n",
    "\n",
    "#imputing missing extra_exp values with median\n",
    "#creating flag_variable for missing values and imputed values\n",
    "data.extra_exp.isnull().sum()\n",
    "data['extra_exp_missing_flag'] = data.extra_exp.isnull().astype(int)\n",
    "data['extra_exp_imputed_flag'] = data.extra_exp.isnull().astype(int)\n",
    "data.fillna({'extra_exp':data['extra_exp'].median()}, inplace = True)\n",
    "\n",
    "#imputing missing extra_inc values with median\n",
    "#creating flag_variable for missing values and imputed values\n",
    "data.extra_inc.isnull().sum()\n",
    "data['extra_inc_missing_flag'] = data.extra_inc.isnull().astype(int)\n",
    "data['extra_inc_imputed_flag'] = data.extra_inc.isnull().astype(int)\n",
    "data.fillna({'extra_inc':data['extra_inc'].median()}, inplace = True)\n",
    "\n",
    "#delete finished_prof column (too many null values): 13054/14877\n",
    "data = data.drop('finished_prod', axis=1)\n",
    "\n",
    "#imputing missing fixed_assets values with median\n",
    "#creating flag_variable for missing values and imputed values\n",
    "data.fixed_assets.isnull().sum()\n",
    "data['fixed_assets_missing_flag'] = data.fixed_assets.isnull().astype(int)\n",
    "data['fixed_assets_imputed_flag'] = data.fixed_assets.isnull().astype(int)\n",
    "data.fillna({'fixed_assets':data['fixed_assets'].median()}, inplace = True)\n",
    "\n",
    "#imputing missing inc_bef_tax values with median\n",
    "#creating flag_variable for missing values and imputed values\n",
    "data.inc_bef_tax.isnull().sum()\n",
    "data['inc_bef_tax_missing_flag'] = data.inc_bef_tax.isnull().astype(int)\n",
    "data['inc_bef_tax_imputed_flag'] = data.inc_bef_tax.isnull().astype(int)\n",
    "data.fillna({'inc_bef_tax':data['inc_bef_tax'].median()}, inplace = True)\n",
    "\n",
    "#imputing missing intang_assets values with median\n",
    "#creating flag_variable for missing values and imputed values\n",
    "data.intang_assets.isnull().sum()\n",
    "data['intang_assets_missing_flag'] = data.intang_assets.isnull().astype(int)\n",
    "data['intang_assets_imputed_flag'] = data.intang_assets.isnull().astype(int)\n",
    "data.fillna({'intang_assets':data['intang_assets'].median()}, inplace = True)\n",
    "\n",
    "#imputing missing inventories values with median\n",
    "#creating flag_variable for missing values and imputed values\n",
    "data.inventories.isnull().sum()\n",
    "data['inventories_missing_flag'] = data.inventories.isnull().astype(int)\n",
    "data['inventories_imputed_flag'] = data.inventories.isnull().astype(int)\n",
    "data.fillna({'inventories':data['inventories'].median()}, inplace = True)\n",
    "\n",
    "#imputing missing liq_assets values with median\n",
    "#creating flag_variable for missing values and imputed values\n",
    "data.liq_assets.isnull().sum()\n",
    "data['liq_assets_missing_flag'] = data.liq_assets.isnull().astype(int)\n",
    "data['liq_assets_imputed_flag'] = data.liq_assets.isnull().astype(int)\n",
    "data.fillna({'liq_assets':data['liq_assets'].median()}, inplace = True)\n",
    "\n",
    "#imputing missing material_exp values with median\n",
    "#creating flag_variable for missing values and imputed values\n",
    "data.material_exp.isnull().sum()\n",
    "data['material_exp_missing_flag'] = data.material_exp.isnull().astype(int)\n",
    "data['material_exp_imputed_flag'] = data.material_exp.isnull().astype(int)\n",
    "data.fillna({'material_exp':data['material_exp'].median()}, inplace = True)\n",
    "\n",
    "#delete net_dom_sales column (too many null values): 13022/14877\n",
    "data = data.drop('net_dom_sales', axis=1)\n",
    "\n",
    "#delete net_exp_sales column (too many null values): 13022/14877\n",
    "data = data.drop('net_exp_sales', axis=1)\n",
    "\n",
    "#imputing missing personnel_exp values with median\n",
    "#creating flag_variable for missing values and imputed values\n",
    "data.personnel_exp.isnull().sum()\n",
    "data['personnel_exp_missing_flag'] = data.personnel_exp.isnull().astype(int)\n",
    "data['personnel_exp_imputed_flag'] = data.personnel_exp.isnull().astype(int)\n",
    "data.fillna({'personnel_exp':data['personnel_exp'].median()}, inplace = True)\n",
    "\n",
    "#imputing missing profit_loss_year values with median\n",
    "#creating flag_variable for missing values and imputed values\n",
    "data.profit_loss_year.isnull().sum()\n",
    "data['profit_loss_year_missing_flag'] = data.profit_loss_year.isnull().astype(int)\n",
    "data['profit_loss_year_imputed_flag'] = data.profit_loss_year.isnull().astype(int)\n",
    "data.fillna({'profit_loss_year':data['profit_loss_year'].median()}, inplace = True)\n",
    "\n",
    "#imputing missing share_eq values with median\n",
    "#creating flag_variable for missing values and imputed values\n",
    "data.share_eq.isnull().sum()\n",
    "data['share_eq_year_missing_flag'] = data.share_eq.isnull().astype(int)\n",
    "data['share_eq_year_imputed_flag'] = data.share_eq.isnull().astype(int)\n",
    "data.fillna({'share_eq':data['share_eq'].median()}, inplace = True)\n",
    "\n",
    "#imputing missing subscribed_cap values with median\n",
    "#creating flag_variable for missing values and imputed values\n",
    "data.subscribed_cap.isnull().sum()\n",
    "data['subscribed_cap_missing_flag'] = data.subscribed_cap.isnull().astype(int)\n",
    "data['subscribed_cap_imputed_flag'] = data.subscribed_cap.isnull().astype(int)\n",
    "data.fillna({'subscribed_cap':data['subscribed_cap'].median()}, inplace = True)\n",
    "\n",
    "#imputing missing tang_assets values with median\n",
    "#creating flag_variable for missing values and imputed values\n",
    "data.tang_assets.isnull().sum()\n",
    "data['tang_assets_missing_flag'] = data.tang_assets.isnull().astype(int)\n",
    "data['tang_assets_imputed_flag'] = data.tang_assets.isnull().astype(int)\n",
    "data.fillna({'tang_assets':data['tang_assets'].median()}, inplace = True)\n",
    "\n",
    "#delete wages column (too many null values): 13060/14877\n",
    "data = data.drop('wages', axis=1)\n",
    "\n",
    "#imputing missing ceo_count values with median\n",
    "#creating flag_variable for missing values and imputed values\n",
    "data.ceo_count.isnull().sum()\n",
    "data['ceo_count_missing_flag'] = data.ceo_count.isnull().astype(int)\n",
    "data['ceo_count_imputed_flag'] = data.ceo_count.isnull().astype(int)\n",
    "data.fillna({'ceo_count':data['ceo_count'].median()}, inplace = True)\n",
    "\n",
    "#imputing missing foreign values with median (% of foreign CEOs)\n",
    "#creating flag_variable for missing values and imputed values\n",
    "data.rename(columns= {'foreign':'foreign_ceo'}, inplace = True)\n",
    "data.foreign_ceo.isnull().sum()\n",
    "data['foreign_ceo_missing_flag'] = data.foreign_ceo.isnull().astype(int)\n",
    "data['foreign_ceo_imputed_flag'] = data.foreign_ceo.isnull().astype(int)\n",
    "data.fillna({'foreign_ceo':data['foreign_ceo'].median()}, inplace = True)\n",
    "\n",
    "#imputing missing female values with median (% of female CEOs)\n",
    "#creating flag_variable for missing values and imputed values\n",
    "data.female.isnull().sum()\n",
    "data['female_missing_flag'] = data.female.isnull().astype(int)\n",
    "data['female_imputed_flag'] = data.female.isnull().astype(int)\n",
    "data.fillna({'female':data['female'].median()}, inplace = True)\n",
    "\n",
    "#imputing missing inoffice_days values with median (could use median or mean in this case as distribution is not skewed- using median for consistency)\n",
    "#creating flag_variable for missing values and imputed values\n",
    "data.inoffice_days.isnull().sum()\n",
    "data['inoffice_days_missing_flag'] = data.inoffice_days.isnull().astype(int)\n",
    "data['inoffice_days_imputed_flag'] = data.inoffice_days.isnull().astype(int)\n",
    "data.fillna({'inoffice_days':data['inoffice_days'].median()}, inplace = True)\n",
    "\n",
    "#impute the nan gender values with mode (categorical variable)\n",
    "data['gender'] = data['gender'].fillna(data['gender'].mode()[0])\n",
    "#categorical variable gender (female only, male only, or mixed)\n",
    "data['female_only'] = (data['gender'] == 'female').astype(int)\n",
    "data['male_only'] = (data['gender'] == 'male').astype(int)\n",
    "data['mixed_gender'] = (data['gender'] == 'mix').astype(int)\n",
    "\n",
    "#impute the nan origin values with mode (categorical variable)\n",
    "data['origin'] = data['origin'].fillna(data['origin'].mode()[0])\n",
    "#categorical variable origin (domestic, not_domestic, mix)\n",
    "data['domestic'] = (data['origin'] == 'Domestic').astype(int)\n",
    "data['not_domestic'] = (data['origin'] == 'foreign').astype(int)\n",
    "data['mix'] = (data['origin'] == 'mix').astype(int)\n",
    "\n",
    "#impute the nan urban_m values with mode (categorical variable)\n",
    "data['urban_m'] = data['urban_m'].fillna(data['urban_m'].mode()[0])\n",
    "#categorical variable urban_m (1- capital city, 2-other big city, 3-other)\n",
    "data['capital_city'] = (data['urban_m'] == 1).astype(int)\n",
    "data['big_city'] = (data['urban_m'] == 2).astype(int)\n",
    "data['other_hq_city'] = (data['urban_m'] == 3).astype(int)\n",
    "\n",
    "#impute the nan region_m values with mode (categorical variable)\n",
    "data['region_m'] = data['region_m'].fillna(data['region_m'].mode()[0])\n",
    "#categorical variable region_m (Central, East, West)\n",
    "data['central'] = (data['region_m'] == 'Central').astype(int)\n",
    "data['east'] = (data['region_m'] == 'East').astype(int)\n",
    "data['west'] = (data['region_m'] == 'West').astype(int)"
   ]
  },
  {
   "cell_type": "code",
   "execution_count": 12,
   "id": "a4554282",
   "metadata": {},
   "outputs": [],
   "source": [
    "variables = ['amort', 'curr_assets', 'curr_liab', 'extra_exp', 'extra_inc', 'fixed_assets', 'inc_bef_tax', \n",
    "             'intang_assets', 'inventories','liq_assets', 'material_exp', 'personnel_exp', 'profit_loss_year',\n",
    "             'share_eq', 'subscribed_cap', 'tang_assets', 'ceo_count', 'foreign_ceo', 'female', \n",
    "             'inoffice_days', 'female_only', 'male_only', 'domestic', 'not_domestic', 'capital_city','other_hq_city',\n",
    "             'east', 'west']\n",
    "#reference group for gender is mixed_gender firms\n",
    "#refrence group for origin is mix CEO origin\n",
    "#reference group for urban_m is big_city HQ location\n",
    "#reference group for region_m is Central HQ region"
   ]
  },
  {
   "cell_type": "code",
   "execution_count": 13,
   "id": "520213fa",
   "metadata": {},
   "outputs": [
    {
     "data": {
      "text/plain": [
       "98"
      ]
     },
     "execution_count": 13,
     "metadata": {},
     "output_type": "execute_result"
    }
   ],
   "source": [
    "len(data.columns)"
   ]
  },
  {
   "cell_type": "markdown",
   "id": "e9171e42",
   "metadata": {},
   "source": [
    "### Creating holdout and training samples"
   ]
  },
  {
   "cell_type": "code",
   "execution_count": 14,
   "id": "e6f69a3b",
   "metadata": {},
   "outputs": [],
   "source": [
    "#criteria for the holdout sample so I can mask the training sample with !holdout_criteria\n",
    "holdout_criteria = (data['year'] == 2014) & ((data['sales'] >=1000) & (data['sales']<=10000000))"
   ]
  },
  {
   "cell_type": "code",
   "execution_count": 15,
   "id": "cd18f334",
   "metadata": {
    "scrolled": true
   },
   "outputs": [
    {
     "name": "stdout",
     "output_type": "stream",
     "text": [
      "Holdout shape: (1037, 98)\n"
     ]
    },
    {
     "data": {
      "text/html": [
       "<div>\n",
       "<style scoped>\n",
       "    .dataframe tbody tr th:only-of-type {\n",
       "        vertical-align: middle;\n",
       "    }\n",
       "\n",
       "    .dataframe tbody tr th {\n",
       "        vertical-align: top;\n",
       "    }\n",
       "\n",
       "    .dataframe thead th {\n",
       "        text-align: right;\n",
       "    }\n",
       "</style>\n",
       "<table border=\"1\" class=\"dataframe\">\n",
       "  <thead>\n",
       "    <tr style=\"text-align: right;\">\n",
       "      <th></th>\n",
       "      <th>comp_id</th>\n",
       "      <th>begin</th>\n",
       "      <th>end</th>\n",
       "      <th>COGS</th>\n",
       "      <th>amort</th>\n",
       "      <th>curr_assets</th>\n",
       "      <th>curr_liab</th>\n",
       "      <th>extra_exp</th>\n",
       "      <th>extra_inc</th>\n",
       "      <th>extra_profit_loss</th>\n",
       "      <th>...</th>\n",
       "      <th>mixed_gender</th>\n",
       "      <th>domestic</th>\n",
       "      <th>not_domestic</th>\n",
       "      <th>mix</th>\n",
       "      <th>capital_city</th>\n",
       "      <th>big_city</th>\n",
       "      <th>other_hq_city</th>\n",
       "      <th>central</th>\n",
       "      <th>east</th>\n",
       "      <th>west</th>\n",
       "    </tr>\n",
       "  </thead>\n",
       "  <tbody>\n",
       "    <tr>\n",
       "      <th>969</th>\n",
       "      <td>6538183.0</td>\n",
       "      <td>2014-01-01</td>\n",
       "      <td>2014-12-31</td>\n",
       "      <td>NaN</td>\n",
       "      <td>1018.518494</td>\n",
       "      <td>17022.222656</td>\n",
       "      <td>3040.740723</td>\n",
       "      <td>0.0</td>\n",
       "      <td>0.0</td>\n",
       "      <td>0.0</td>\n",
       "      <td>...</td>\n",
       "      <td>0</td>\n",
       "      <td>1</td>\n",
       "      <td>0</td>\n",
       "      <td>0</td>\n",
       "      <td>0</td>\n",
       "      <td>1</td>\n",
       "      <td>0</td>\n",
       "      <td>0</td>\n",
       "      <td>1</td>\n",
       "      <td>0</td>\n",
       "    </tr>\n",
       "    <tr>\n",
       "      <th>1128</th>\n",
       "      <td>8416055.0</td>\n",
       "      <td>2014-01-01</td>\n",
       "      <td>2014-12-31</td>\n",
       "      <td>NaN</td>\n",
       "      <td>425.925934</td>\n",
       "      <td>105740.742188</td>\n",
       "      <td>6918.518555</td>\n",
       "      <td>0.0</td>\n",
       "      <td>0.0</td>\n",
       "      <td>0.0</td>\n",
       "      <td>...</td>\n",
       "      <td>0</td>\n",
       "      <td>1</td>\n",
       "      <td>0</td>\n",
       "      <td>0</td>\n",
       "      <td>1</td>\n",
       "      <td>0</td>\n",
       "      <td>0</td>\n",
       "      <td>1</td>\n",
       "      <td>0</td>\n",
       "      <td>0</td>\n",
       "    </tr>\n",
       "    <tr>\n",
       "      <th>1467</th>\n",
       "      <td>12428378.0</td>\n",
       "      <td>2014-01-01</td>\n",
       "      <td>2014-12-31</td>\n",
       "      <td>NaN</td>\n",
       "      <td>0.000000</td>\n",
       "      <td>0.000000</td>\n",
       "      <td>9277.777344</td>\n",
       "      <td>0.0</td>\n",
       "      <td>0.0</td>\n",
       "      <td>0.0</td>\n",
       "      <td>...</td>\n",
       "      <td>0</td>\n",
       "      <td>1</td>\n",
       "      <td>0</td>\n",
       "      <td>0</td>\n",
       "      <td>0</td>\n",
       "      <td>1</td>\n",
       "      <td>0</td>\n",
       "      <td>1</td>\n",
       "      <td>0</td>\n",
       "      <td>0</td>\n",
       "    </tr>\n",
       "    <tr>\n",
       "      <th>1706</th>\n",
       "      <td>17776540.0</td>\n",
       "      <td>2014-01-01</td>\n",
       "      <td>2014-12-31</td>\n",
       "      <td>NaN</td>\n",
       "      <td>48.148148</td>\n",
       "      <td>142296.296875</td>\n",
       "      <td>164237.031250</td>\n",
       "      <td>0.0</td>\n",
       "      <td>0.0</td>\n",
       "      <td>0.0</td>\n",
       "      <td>...</td>\n",
       "      <td>1</td>\n",
       "      <td>1</td>\n",
       "      <td>0</td>\n",
       "      <td>0</td>\n",
       "      <td>1</td>\n",
       "      <td>0</td>\n",
       "      <td>0</td>\n",
       "      <td>1</td>\n",
       "      <td>0</td>\n",
       "      <td>0</td>\n",
       "    </tr>\n",
       "    <tr>\n",
       "      <th>1735</th>\n",
       "      <td>18626760.0</td>\n",
       "      <td>2014-01-01</td>\n",
       "      <td>2014-12-31</td>\n",
       "      <td>NaN</td>\n",
       "      <td>5755.555664</td>\n",
       "      <td>95185.187500</td>\n",
       "      <td>45766.667969</td>\n",
       "      <td>0.0</td>\n",
       "      <td>0.0</td>\n",
       "      <td>0.0</td>\n",
       "      <td>...</td>\n",
       "      <td>0</td>\n",
       "      <td>1</td>\n",
       "      <td>0</td>\n",
       "      <td>0</td>\n",
       "      <td>0</td>\n",
       "      <td>1</td>\n",
       "      <td>0</td>\n",
       "      <td>0</td>\n",
       "      <td>0</td>\n",
       "      <td>1</td>\n",
       "    </tr>\n",
       "  </tbody>\n",
       "</table>\n",
       "<p>5 rows × 98 columns</p>\n",
       "</div>"
      ],
      "text/plain": [
       "         comp_id       begin         end  COGS        amort    curr_assets  \\\n",
       "969    6538183.0  2014-01-01  2014-12-31   NaN  1018.518494   17022.222656   \n",
       "1128   8416055.0  2014-01-01  2014-12-31   NaN   425.925934  105740.742188   \n",
       "1467  12428378.0  2014-01-01  2014-12-31   NaN     0.000000       0.000000   \n",
       "1706  17776540.0  2014-01-01  2014-12-31   NaN    48.148148  142296.296875   \n",
       "1735  18626760.0  2014-01-01  2014-12-31   NaN  5755.555664   95185.187500   \n",
       "\n",
       "          curr_liab  extra_exp  extra_inc  extra_profit_loss  ...  \\\n",
       "969     3040.740723        0.0        0.0                0.0  ...   \n",
       "1128    6918.518555        0.0        0.0                0.0  ...   \n",
       "1467    9277.777344        0.0        0.0                0.0  ...   \n",
       "1706  164237.031250        0.0        0.0                0.0  ...   \n",
       "1735   45766.667969        0.0        0.0                0.0  ...   \n",
       "\n",
       "      mixed_gender  domestic  not_domestic  mix  capital_city  big_city  \\\n",
       "969              0         1             0    0             0         1   \n",
       "1128             0         1             0    0             1         0   \n",
       "1467             0         1             0    0             0         1   \n",
       "1706             1         1             0    0             1         0   \n",
       "1735             0         1             0    0             0         1   \n",
       "\n",
       "      other_hq_city  central  east  west  \n",
       "969               0        0     1     0  \n",
       "1128              0        1     0     0  \n",
       "1467              0        1     0     0  \n",
       "1706              0        1     0     0  \n",
       "1735              0        0     0     1  \n",
       "\n",
       "[5 rows x 98 columns]"
      ]
     },
     "execution_count": 15,
     "metadata": {},
     "output_type": "execute_result"
    }
   ],
   "source": [
    "#holdout sample creation\n",
    "holdout = data[holdout_criteria]\n",
    "print(f'Holdout shape: {holdout.shape}')\n",
    "holdout.head()"
   ]
  },
  {
   "cell_type": "code",
   "execution_count": 16,
   "id": "86a66a1f",
   "metadata": {},
   "outputs": [
    {
     "data": {
      "text/plain": [
       "default\n",
       "0    1011\n",
       "1      26\n",
       "Name: count, dtype: int64"
      ]
     },
     "execution_count": 16,
     "metadata": {},
     "output_type": "execute_result"
    }
   ],
   "source": [
    "holdout.default.value_counts()\n",
    "#no matter what I do I get 26 companies defaulted...so, sticking with 26 firms defaulted for now"
   ]
  },
  {
   "cell_type": "code",
   "execution_count": 17,
   "id": "86e9516b",
   "metadata": {
    "scrolled": true
   },
   "outputs": [
    {
     "name": "stdout",
     "output_type": "stream",
     "text": [
      "Training shape: (13252, 98)\n"
     ]
    },
    {
     "data": {
      "text/html": [
       "<div>\n",
       "<style scoped>\n",
       "    .dataframe tbody tr th:only-of-type {\n",
       "        vertical-align: middle;\n",
       "    }\n",
       "\n",
       "    .dataframe tbody tr th {\n",
       "        vertical-align: top;\n",
       "    }\n",
       "\n",
       "    .dataframe thead th {\n",
       "        text-align: right;\n",
       "    }\n",
       "</style>\n",
       "<table border=\"1\" class=\"dataframe\">\n",
       "  <thead>\n",
       "    <tr style=\"text-align: right;\">\n",
       "      <th></th>\n",
       "      <th>comp_id</th>\n",
       "      <th>begin</th>\n",
       "      <th>end</th>\n",
       "      <th>COGS</th>\n",
       "      <th>amort</th>\n",
       "      <th>curr_assets</th>\n",
       "      <th>curr_liab</th>\n",
       "      <th>extra_exp</th>\n",
       "      <th>extra_inc</th>\n",
       "      <th>extra_profit_loss</th>\n",
       "      <th>...</th>\n",
       "      <th>mixed_gender</th>\n",
       "      <th>domestic</th>\n",
       "      <th>not_domestic</th>\n",
       "      <th>mix</th>\n",
       "      <th>capital_city</th>\n",
       "      <th>big_city</th>\n",
       "      <th>other_hq_city</th>\n",
       "      <th>central</th>\n",
       "      <th>east</th>\n",
       "      <th>west</th>\n",
       "    </tr>\n",
       "  </thead>\n",
       "  <tbody>\n",
       "    <tr>\n",
       "      <th>960</th>\n",
       "      <td>6538183.0</td>\n",
       "      <td>2005-01-01</td>\n",
       "      <td>2005-12-31</td>\n",
       "      <td>NaN</td>\n",
       "      <td>792.592590</td>\n",
       "      <td>6237.037109</td>\n",
       "      <td>348.148163</td>\n",
       "      <td>0.000000</td>\n",
       "      <td>0.0</td>\n",
       "      <td>0.000000</td>\n",
       "      <td>...</td>\n",
       "      <td>0</td>\n",
       "      <td>0</td>\n",
       "      <td>0</td>\n",
       "      <td>0</td>\n",
       "      <td>0</td>\n",
       "      <td>1</td>\n",
       "      <td>0</td>\n",
       "      <td>0</td>\n",
       "      <td>1</td>\n",
       "      <td>0</td>\n",
       "    </tr>\n",
       "    <tr>\n",
       "      <th>961</th>\n",
       "      <td>6538183.0</td>\n",
       "      <td>2006-01-01</td>\n",
       "      <td>2006-12-31</td>\n",
       "      <td>NaN</td>\n",
       "      <td>196.296295</td>\n",
       "      <td>6007.407227</td>\n",
       "      <td>451.851837</td>\n",
       "      <td>0.000000</td>\n",
       "      <td>0.0</td>\n",
       "      <td>0.000000</td>\n",
       "      <td>...</td>\n",
       "      <td>0</td>\n",
       "      <td>0</td>\n",
       "      <td>0</td>\n",
       "      <td>0</td>\n",
       "      <td>0</td>\n",
       "      <td>1</td>\n",
       "      <td>0</td>\n",
       "      <td>0</td>\n",
       "      <td>1</td>\n",
       "      <td>0</td>\n",
       "    </tr>\n",
       "    <tr>\n",
       "      <th>962</th>\n",
       "      <td>6538183.0</td>\n",
       "      <td>2007-01-01</td>\n",
       "      <td>2007-12-31</td>\n",
       "      <td>NaN</td>\n",
       "      <td>233.333328</td>\n",
       "      <td>9007.407227</td>\n",
       "      <td>2637.037109</td>\n",
       "      <td>0.000000</td>\n",
       "      <td>0.0</td>\n",
       "      <td>0.000000</td>\n",
       "      <td>...</td>\n",
       "      <td>0</td>\n",
       "      <td>0</td>\n",
       "      <td>0</td>\n",
       "      <td>0</td>\n",
       "      <td>0</td>\n",
       "      <td>1</td>\n",
       "      <td>0</td>\n",
       "      <td>0</td>\n",
       "      <td>1</td>\n",
       "      <td>0</td>\n",
       "    </tr>\n",
       "    <tr>\n",
       "      <th>963</th>\n",
       "      <td>6538183.0</td>\n",
       "      <td>2008-01-01</td>\n",
       "      <td>2008-12-31</td>\n",
       "      <td>NaN</td>\n",
       "      <td>422.222229</td>\n",
       "      <td>7707.407227</td>\n",
       "      <td>1651.851807</td>\n",
       "      <td>0.000000</td>\n",
       "      <td>0.0</td>\n",
       "      <td>0.000000</td>\n",
       "      <td>...</td>\n",
       "      <td>0</td>\n",
       "      <td>0</td>\n",
       "      <td>0</td>\n",
       "      <td>0</td>\n",
       "      <td>0</td>\n",
       "      <td>1</td>\n",
       "      <td>0</td>\n",
       "      <td>0</td>\n",
       "      <td>1</td>\n",
       "      <td>0</td>\n",
       "    </tr>\n",
       "    <tr>\n",
       "      <th>964</th>\n",
       "      <td>6538183.0</td>\n",
       "      <td>2009-01-01</td>\n",
       "      <td>2009-12-31</td>\n",
       "      <td>NaN</td>\n",
       "      <td>1525.925903</td>\n",
       "      <td>18196.296875</td>\n",
       "      <td>8714.814453</td>\n",
       "      <td>18.518518</td>\n",
       "      <td>0.0</td>\n",
       "      <td>-18.518518</td>\n",
       "      <td>...</td>\n",
       "      <td>0</td>\n",
       "      <td>0</td>\n",
       "      <td>0</td>\n",
       "      <td>0</td>\n",
       "      <td>0</td>\n",
       "      <td>1</td>\n",
       "      <td>0</td>\n",
       "      <td>0</td>\n",
       "      <td>1</td>\n",
       "      <td>0</td>\n",
       "    </tr>\n",
       "  </tbody>\n",
       "</table>\n",
       "<p>5 rows × 98 columns</p>\n",
       "</div>"
      ],
      "text/plain": [
       "       comp_id       begin         end  COGS        amort   curr_assets  \\\n",
       "960  6538183.0  2005-01-01  2005-12-31   NaN   792.592590   6237.037109   \n",
       "961  6538183.0  2006-01-01  2006-12-31   NaN   196.296295   6007.407227   \n",
       "962  6538183.0  2007-01-01  2007-12-31   NaN   233.333328   9007.407227   \n",
       "963  6538183.0  2008-01-01  2008-12-31   NaN   422.222229   7707.407227   \n",
       "964  6538183.0  2009-01-01  2009-12-31   NaN  1525.925903  18196.296875   \n",
       "\n",
       "       curr_liab  extra_exp  extra_inc  extra_profit_loss  ...  mixed_gender  \\\n",
       "960   348.148163   0.000000        0.0           0.000000  ...             0   \n",
       "961   451.851837   0.000000        0.0           0.000000  ...             0   \n",
       "962  2637.037109   0.000000        0.0           0.000000  ...             0   \n",
       "963  1651.851807   0.000000        0.0           0.000000  ...             0   \n",
       "964  8714.814453  18.518518        0.0         -18.518518  ...             0   \n",
       "\n",
       "     domestic  not_domestic  mix  capital_city  big_city  other_hq_city  \\\n",
       "960         0             0    0             0         1              0   \n",
       "961         0             0    0             0         1              0   \n",
       "962         0             0    0             0         1              0   \n",
       "963         0             0    0             0         1              0   \n",
       "964         0             0    0             0         1              0   \n",
       "\n",
       "     central  east  west  \n",
       "960        0     1     0  \n",
       "961        0     1     0  \n",
       "962        0     1     0  \n",
       "963        0     1     0  \n",
       "964        0     1     0  \n",
       "\n",
       "[5 rows x 98 columns]"
      ]
     },
     "execution_count": 17,
     "metadata": {},
     "output_type": "execute_result"
    }
   ],
   "source": [
    "training = data[~holdout_criteria]\n",
    "training = training.loc[training['year'] != 2016]\n",
    "print(f'Training shape: {training.shape}')\n",
    "training.head()"
   ]
  },
  {
   "cell_type": "code",
   "execution_count": 18,
   "id": "ad005e2b",
   "metadata": {
    "scrolled": true
   },
   "outputs": [
    {
     "data": {
      "text/plain": [
       "default\n",
       "0    12898\n",
       "1      354\n",
       "Name: count, dtype: int64"
      ]
     },
     "execution_count": 18,
     "metadata": {},
     "output_type": "execute_result"
    }
   ],
   "source": [
    "training.default.value_counts()"
   ]
  },
  {
   "cell_type": "markdown",
   "id": "77af8905",
   "metadata": {},
   "source": [
    "## Model 1: Simple Linear Logistic Regression (Logit)"
   ]
  },
  {
   "cell_type": "code",
   "execution_count": 19,
   "id": "a74db98a",
   "metadata": {},
   "outputs": [],
   "source": [
    "##interactions\n",
    "\n",
    "training['interaction_curr_assets_vs_curr_liab'] = training['curr_assets'] * training['curr_liab']\n",
    "training['interaction_inoffice_days_vs_foreign_ceo'] = training['inoffice_days'] * training['foreign_ceo']\n",
    "training['interaction_tang_vs_liq_assets'] = training['tang_assets'] * training['liq_assets']\n",
    "training['interaction_female_vs_male'] = training['female_only']  * training['male_only']\n",
    "training['interaction_foreign_ceo_vs_ceo_count'] = training['foreign_ceo']  * training['ceo_count']\n",
    "training['interaction_capital_city_vs_not_domestic'] = training['capital_city']  * training['not_domestic']\n",
    "training['interaction_profit_loss_year_vs_extra_exp'] = training['profit_loss_year']  * training['extra_exp']\n",
    "\n",
    "\n",
    "interaction_terms = ['interaction_curr_assets_vs_curr_liab', 'interaction_inoffice_days_vs_foreign_ceo', 'interaction_tang_vs_liq_assets', 'interaction_female_vs_male', 'interaction_foreign_ceo_vs_ceo_count', 'interaction_capital_city_vs_not_domestic', 'interaction_profit_loss_year_vs_extra_exp']"
   ]
  },
  {
   "cell_type": "code",
   "execution_count": 299,
   "id": "dd680006",
   "metadata": {},
   "outputs": [],
   "source": [
    "basevars = training[variables]\n",
    "base_interactions = training[interaction_terms]\n",
    "X1 = pd.concat([basevars, base_interactions], axis=1)"
   ]
  },
  {
   "cell_type": "code",
   "execution_count": 300,
   "id": "dda8c10a",
   "metadata": {},
   "outputs": [],
   "source": [
    "#had to change scale for X1 because otherwise the coefficients were 0\n",
    "\n",
    "from sklearn.preprocessing import StandardScaler\n",
    "\n",
    "scaler = StandardScaler()\n",
    "X1_scaled = scaler.fit_transform(X1)\n"
   ]
  },
  {
   "cell_type": "code",
   "execution_count": 301,
   "id": "6be59d85",
   "metadata": {},
   "outputs": [],
   "source": [
    "y = training['default']"
   ]
  },
  {
   "cell_type": "code",
   "execution_count": 302,
   "id": "7f87548f",
   "metadata": {},
   "outputs": [],
   "source": [
    "ols_modelx1 = LinearRegression().fit(X1_scaled, y)\n"
   ]
  },
  {
   "cell_type": "code",
   "execution_count": 303,
   "id": "ad656ef8",
   "metadata": {},
   "outputs": [],
   "source": [
    "#function from ch17 Jp Nb to get regression results\n",
    "def regression_results(y_true, y_pred):\n",
    "\n",
    "    # Regression metrics\n",
    "    explained_variance=metrics.explained_variance_score(y_true, y_pred)\n",
    "    mean_absolute_error=metrics.mean_absolute_error(y_true, y_pred) \n",
    "    mse=metrics.mean_squared_error(y_true, y_pred) \n",
    "    median_absolute_error=metrics.median_absolute_error(y_true, y_pred)\n",
    "    r2=metrics.r2_score(y_true, y_pred)\n",
    "\n",
    "    print('explained_variance: ', round(explained_variance,4))    \n",
    "    print('r2: ', round(r2,4))\n",
    "    print('MAE: ', round(mean_absolute_error,4))\n",
    "    print('MSE: ', round(mse,4))\n",
    "    print('RMSE: ', round(np.sqrt(mse),4))"
   ]
  },
  {
   "cell_type": "code",
   "execution_count": 304,
   "id": "2ecaee0f",
   "metadata": {},
   "outputs": [
    {
     "name": "stdout",
     "output_type": "stream",
     "text": [
      "explained_variance:  0.0054\n",
      "r2:  0.0054\n",
      "MAE:  0.0522\n",
      "MSE:  0.0259\n",
      "RMSE:  0.1608\n"
     ]
    }
   ],
   "source": [
    "#linear regression results\n",
    "regression_results(y, ols_modelx1.predict(X1_scaled))"
   ]
  },
  {
   "cell_type": "code",
   "execution_count": 305,
   "id": "e0d877b4",
   "metadata": {},
   "outputs": [
    {
     "data": {
      "text/html": [
       "<style>#sk-container-id-26 {color: black;}#sk-container-id-26 pre{padding: 0;}#sk-container-id-26 div.sk-toggleable {background-color: white;}#sk-container-id-26 label.sk-toggleable__label {cursor: pointer;display: block;width: 100%;margin-bottom: 0;padding: 0.3em;box-sizing: border-box;text-align: center;}#sk-container-id-26 label.sk-toggleable__label-arrow:before {content: \"▸\";float: left;margin-right: 0.25em;color: #696969;}#sk-container-id-26 label.sk-toggleable__label-arrow:hover:before {color: black;}#sk-container-id-26 div.sk-estimator:hover label.sk-toggleable__label-arrow:before {color: black;}#sk-container-id-26 div.sk-toggleable__content {max-height: 0;max-width: 0;overflow: hidden;text-align: left;background-color: #f0f8ff;}#sk-container-id-26 div.sk-toggleable__content pre {margin: 0.2em;color: black;border-radius: 0.25em;background-color: #f0f8ff;}#sk-container-id-26 input.sk-toggleable__control:checked~div.sk-toggleable__content {max-height: 200px;max-width: 100%;overflow: auto;}#sk-container-id-26 input.sk-toggleable__control:checked~label.sk-toggleable__label-arrow:before {content: \"▾\";}#sk-container-id-26 div.sk-estimator input.sk-toggleable__control:checked~label.sk-toggleable__label {background-color: #d4ebff;}#sk-container-id-26 div.sk-label input.sk-toggleable__control:checked~label.sk-toggleable__label {background-color: #d4ebff;}#sk-container-id-26 input.sk-hidden--visually {border: 0;clip: rect(1px 1px 1px 1px);clip: rect(1px, 1px, 1px, 1px);height: 1px;margin: -1px;overflow: hidden;padding: 0;position: absolute;width: 1px;}#sk-container-id-26 div.sk-estimator {font-family: monospace;background-color: #f0f8ff;border: 1px dotted black;border-radius: 0.25em;box-sizing: border-box;margin-bottom: 0.5em;}#sk-container-id-26 div.sk-estimator:hover {background-color: #d4ebff;}#sk-container-id-26 div.sk-parallel-item::after {content: \"\";width: 100%;border-bottom: 1px solid gray;flex-grow: 1;}#sk-container-id-26 div.sk-label:hover label.sk-toggleable__label {background-color: #d4ebff;}#sk-container-id-26 div.sk-serial::before {content: \"\";position: absolute;border-left: 1px solid gray;box-sizing: border-box;top: 0;bottom: 0;left: 50%;z-index: 0;}#sk-container-id-26 div.sk-serial {display: flex;flex-direction: column;align-items: center;background-color: white;padding-right: 0.2em;padding-left: 0.2em;position: relative;}#sk-container-id-26 div.sk-item {position: relative;z-index: 1;}#sk-container-id-26 div.sk-parallel {display: flex;align-items: stretch;justify-content: center;background-color: white;position: relative;}#sk-container-id-26 div.sk-item::before, #sk-container-id-26 div.sk-parallel-item::before {content: \"\";position: absolute;border-left: 1px solid gray;box-sizing: border-box;top: 0;bottom: 0;left: 50%;z-index: -1;}#sk-container-id-26 div.sk-parallel-item {display: flex;flex-direction: column;z-index: 1;position: relative;background-color: white;}#sk-container-id-26 div.sk-parallel-item:first-child::after {align-self: flex-end;width: 50%;}#sk-container-id-26 div.sk-parallel-item:last-child::after {align-self: flex-start;width: 50%;}#sk-container-id-26 div.sk-parallel-item:only-child::after {width: 0;}#sk-container-id-26 div.sk-dashed-wrapped {border: 1px dashed gray;margin: 0 0.4em 0.5em 0.4em;box-sizing: border-box;padding-bottom: 0.4em;background-color: white;}#sk-container-id-26 div.sk-label label {font-family: monospace;font-weight: bold;display: inline-block;line-height: 1.2em;}#sk-container-id-26 div.sk-label-container {text-align: center;}#sk-container-id-26 div.sk-container {/* jupyter's `normalize.less` sets `[hidden] { display: none; }` but bootstrap.min.css set `[hidden] { display: none !important; }` so we also need the `!important` here to be able to override the default hidden behavior on the sphinx rendered scikit-learn.org. See: https://github.com/scikit-learn/scikit-learn/issues/21755 */display: inline-block !important;position: relative;}#sk-container-id-26 div.sk-text-repr-fallback {display: none;}</style><div id=\"sk-container-id-26\" class=\"sk-top-container\"><div class=\"sk-text-repr-fallback\"><pre>LogisticRegressionCV(cv=5)</pre><b>In a Jupyter environment, please rerun this cell to show the HTML representation or trust the notebook. <br />On GitHub, the HTML representation is unable to render, please try loading this page with nbviewer.org.</b></div><div class=\"sk-container\" hidden><div class=\"sk-item\"><div class=\"sk-estimator sk-toggleable\"><input class=\"sk-toggleable__control sk-hidden--visually\" id=\"sk-estimator-id-26\" type=\"checkbox\" checked><label for=\"sk-estimator-id-26\" class=\"sk-toggleable__label sk-toggleable__label-arrow\">LogisticRegressionCV</label><div class=\"sk-toggleable__content\"><pre>LogisticRegressionCV(cv=5)</pre></div></div></div></div></div>"
      ],
      "text/plain": [
       "LogisticRegressionCV(cv=5)"
      ]
     },
     "execution_count": 305,
     "metadata": {},
     "output_type": "execute_result"
    }
   ],
   "source": [
    "#cross-validating model \n",
    "from sklearn.linear_model import LogisticRegressionCV\n",
    "\n",
    "logistic_model = LogisticRegressionCV(cv=5, penalty='l2')\n",
    "logistic_model.fit(X1_scaled, y)"
   ]
  },
  {
   "cell_type": "code",
   "execution_count": 306,
   "id": "8fec63d5",
   "metadata": {},
   "outputs": [],
   "source": [
    "logistic_coefficients = logistic_model.coef_[0]\n",
    "variable_names = X1.columns"
   ]
  },
  {
   "cell_type": "code",
   "execution_count": 307,
   "id": "e0f76130",
   "metadata": {},
   "outputs": [],
   "source": [
    "coefficients_df = pd.DataFrame({'Variable': variable_names, 'Coefficient': logistic_coefficients})\n",
    "coefficients_df['Absolute_Coefficient'] = coefficients_df['Coefficient'].abs()\n",
    "coefficients_df = coefficients_df.sort_values(by='Absolute_Coefficient', ascending=False)"
   ]
  },
  {
   "cell_type": "code",
   "execution_count": 308,
   "id": "190b689b",
   "metadata": {},
   "outputs": [
    {
     "name": "stdout",
     "output_type": "stream",
     "text": [
      "Classification Report:\n",
      "               precision    recall  f1-score   support\n",
      "\n",
      "           0       0.97      0.99      0.98     12898\n",
      "           1       0.09      0.03      0.04       354\n",
      "\n",
      "    accuracy                           0.97     13252\n",
      "   macro avg       0.53      0.51      0.51     13252\n",
      "weighted avg       0.95      0.97      0.96     13252\n",
      "\n",
      "AUC-ROC Score: 0.60211586257406\n"
     ]
    }
   ],
   "source": [
    "from sklearn.metrics import classification_report, roc_auc_score, roc_curve\n",
    "\n",
    "y_pred = logistic_model.predict(X1)\n",
    "print(\"Classification Report:\\n\", classification_report(y, y_pred))\n",
    "print(\"AUC-ROC Score:\", roc_auc_score(y, logistic_model.predict_proba(X1_scaled)[:, 1]))\n"
   ]
  },
  {
   "cell_type": "code",
   "execution_count": 309,
   "id": "11bb994b",
   "metadata": {},
   "outputs": [
    {
     "name": "stdout",
     "output_type": "stream",
     "text": [
      "Cross-Validated Scores:\n",
      " {1: array([[0.97321765, 0.97321765, 0.97321765, 0.97284044, 0.97284044,\n",
      "        0.97246322, 0.97246322, 0.97170879, 0.97133157, 0.97133157],\n",
      "       [0.97321765, 0.97321765, 0.97321765, 0.97321765, 0.97321765,\n",
      "        0.97246322, 0.97246322, 0.97246322, 0.97246322, 0.97246322],\n",
      "       [0.97358491, 0.97358491, 0.97358491, 0.97358491, 0.97358491,\n",
      "        0.97396226, 0.97320755, 0.97283019, 0.97245283, 0.97245283],\n",
      "       [0.97320755, 0.97320755, 0.97320755, 0.97169811, 0.97169811,\n",
      "        0.97169811, 0.97169811, 0.97207547, 0.97245283, 0.97245283],\n",
      "       [0.97320755, 0.97320755, 0.97320755, 0.97320755, 0.97320755,\n",
      "        0.97320755, 0.97320755, 0.97283019, 0.97283019, 0.97283019]])}\n"
     ]
    }
   ],
   "source": [
    "#accuracy scores\n",
    "print(\"Cross-Validated Scores:\\n\", logistic_model.scores_)\n"
   ]
  },
  {
   "cell_type": "code",
   "execution_count": 310,
   "id": "4952049e",
   "metadata": {},
   "outputs": [
    {
     "data": {
      "image/png": "[encoded data removed]",
      "text/plain": [
       "<Figure size 640x480 with 1 Axes>"
      ]
     },
     "metadata": {},
     "output_type": "display_data"
    },
    {
     "name": "stdout",
     "output_type": "stream",
     "text": [
      "Optimal Threshold: 0.02665174205649238\n"
     ]
    }
   ],
   "source": [
    "import matplotlib.pyplot as plt\n",
    "\n",
    "fpr, tpr, thresholds = roc_curve(y, logistic_model.predict_proba(X1_scaled)[:, 1])\n",
    "plt.plot(fpr, tpr, label='ROC Curve')\n",
    "plt.xlabel('False Positive Rate')\n",
    "plt.ylabel('True Positive Rate')\n",
    "plt.title('Receiver Operating Characteristic (ROC) Curve')\n",
    "#also display AUC: \n",
    "plt.text(0.8, 0.2, f'AUC: {auc(fpr,tpr):.2f}', fontsize=14)\n",
    "plt.show()\n",
    "\n",
    "#optimal threshold\n",
    "optimal_threshold = thresholds[np.argmax(tpr - fpr)]\n",
    "print(\"Optimal Threshold:\", optimal_threshold)\n",
    "\n"
   ]
  },
  {
   "cell_type": "markdown",
   "id": "ae6ed7c3",
   "metadata": {},
   "source": [
    "## Model 2- Best Logit Regression"
   ]
  },
  {
   "cell_type": "code",
   "execution_count": 208,
   "id": "734ad77c",
   "metadata": {},
   "outputs": [],
   "source": [
    "X2 = training[variables[:9]]"
   ]
  },
  {
   "cell_type": "code",
   "execution_count": 209,
   "id": "e032f08d",
   "metadata": {},
   "outputs": [],
   "source": [
    "ols_modelx2 = LinearRegression().fit(X2, y)"
   ]
  },
  {
   "cell_type": "code",
   "execution_count": 210,
   "id": "8c096541",
   "metadata": {},
   "outputs": [
    {
     "name": "stdout",
     "output_type": "stream",
     "text": [
      "explained_variance:  0.0009\n",
      "r2:  0.0009\n",
      "MAE:  0.0522\n",
      "MSE:  0.026\n",
      "RMSE:  0.1612\n"
     ]
    }
   ],
   "source": [
    "#linear regression results\n",
    "regression_results(y, ols_modelx2.predict(X2))"
   ]
  },
  {
   "cell_type": "code",
   "execution_count": 211,
   "id": "11ff63ec",
   "metadata": {},
   "outputs": [
    {
     "data": {
      "text/html": [
       "<style>#sk-container-id-23 {color: black;}#sk-container-id-23 pre{padding: 0;}#sk-container-id-23 div.sk-toggleable {background-color: white;}#sk-container-id-23 label.sk-toggleable__label {cursor: pointer;display: block;width: 100%;margin-bottom: 0;padding: 0.3em;box-sizing: border-box;text-align: center;}#sk-container-id-23 label.sk-toggleable__label-arrow:before {content: \"▸\";float: left;margin-right: 0.25em;color: #696969;}#sk-container-id-23 label.sk-toggleable__label-arrow:hover:before {color: black;}#sk-container-id-23 div.sk-estimator:hover label.sk-toggleable__label-arrow:before {color: black;}#sk-container-id-23 div.sk-toggleable__content {max-height: 0;max-width: 0;overflow: hidden;text-align: left;background-color: #f0f8ff;}#sk-container-id-23 div.sk-toggleable__content pre {margin: 0.2em;color: black;border-radius: 0.25em;background-color: #f0f8ff;}#sk-container-id-23 input.sk-toggleable__control:checked~div.sk-toggleable__content {max-height: 200px;max-width: 100%;overflow: auto;}#sk-container-id-23 input.sk-toggleable__control:checked~label.sk-toggleable__label-arrow:before {content: \"▾\";}#sk-container-id-23 div.sk-estimator input.sk-toggleable__control:checked~label.sk-toggleable__label {background-color: #d4ebff;}#sk-container-id-23 div.sk-label input.sk-toggleable__control:checked~label.sk-toggleable__label {background-color: #d4ebff;}#sk-container-id-23 input.sk-hidden--visually {border: 0;clip: rect(1px 1px 1px 1px);clip: rect(1px, 1px, 1px, 1px);height: 1px;margin: -1px;overflow: hidden;padding: 0;position: absolute;width: 1px;}#sk-container-id-23 div.sk-estimator {font-family: monospace;background-color: #f0f8ff;border: 1px dotted black;border-radius: 0.25em;box-sizing: border-box;margin-bottom: 0.5em;}#sk-container-id-23 div.sk-estimator:hover {background-color: #d4ebff;}#sk-container-id-23 div.sk-parallel-item::after {content: \"\";width: 100%;border-bottom: 1px solid gray;flex-grow: 1;}#sk-container-id-23 div.sk-label:hover label.sk-toggleable__label {background-color: #d4ebff;}#sk-container-id-23 div.sk-serial::before {content: \"\";position: absolute;border-left: 1px solid gray;box-sizing: border-box;top: 0;bottom: 0;left: 50%;z-index: 0;}#sk-container-id-23 div.sk-serial {display: flex;flex-direction: column;align-items: center;background-color: white;padding-right: 0.2em;padding-left: 0.2em;position: relative;}#sk-container-id-23 div.sk-item {position: relative;z-index: 1;}#sk-container-id-23 div.sk-parallel {display: flex;align-items: stretch;justify-content: center;background-color: white;position: relative;}#sk-container-id-23 div.sk-item::before, #sk-container-id-23 div.sk-parallel-item::before {content: \"\";position: absolute;border-left: 1px solid gray;box-sizing: border-box;top: 0;bottom: 0;left: 50%;z-index: -1;}#sk-container-id-23 div.sk-parallel-item {display: flex;flex-direction: column;z-index: 1;position: relative;background-color: white;}#sk-container-id-23 div.sk-parallel-item:first-child::after {align-self: flex-end;width: 50%;}#sk-container-id-23 div.sk-parallel-item:last-child::after {align-self: flex-start;width: 50%;}#sk-container-id-23 div.sk-parallel-item:only-child::after {width: 0;}#sk-container-id-23 div.sk-dashed-wrapped {border: 1px dashed gray;margin: 0 0.4em 0.5em 0.4em;box-sizing: border-box;padding-bottom: 0.4em;background-color: white;}#sk-container-id-23 div.sk-label label {font-family: monospace;font-weight: bold;display: inline-block;line-height: 1.2em;}#sk-container-id-23 div.sk-label-container {text-align: center;}#sk-container-id-23 div.sk-container {/* jupyter's `normalize.less` sets `[hidden] { display: none; }` but bootstrap.min.css set `[hidden] { display: none !important; }` so we also need the `!important` here to be able to override the default hidden behavior on the sphinx rendered scikit-learn.org. See: https://github.com/scikit-learn/scikit-learn/issues/21755 */display: inline-block !important;position: relative;}#sk-container-id-23 div.sk-text-repr-fallback {display: none;}</style><div id=\"sk-container-id-23\" class=\"sk-top-container\"><div class=\"sk-text-repr-fallback\"><pre>LogisticRegressionCV(cv=5)</pre><b>In a Jupyter environment, please rerun this cell to show the HTML representation or trust the notebook. <br />On GitHub, the HTML representation is unable to render, please try loading this page with nbviewer.org.</b></div><div class=\"sk-container\" hidden><div class=\"sk-item\"><div class=\"sk-estimator sk-toggleable\"><input class=\"sk-toggleable__control sk-hidden--visually\" id=\"sk-estimator-id-23\" type=\"checkbox\" checked><label for=\"sk-estimator-id-23\" class=\"sk-toggleable__label sk-toggleable__label-arrow\">LogisticRegressionCV</label><div class=\"sk-toggleable__content\"><pre>LogisticRegressionCV(cv=5)</pre></div></div></div></div></div>"
      ],
      "text/plain": [
       "LogisticRegressionCV(cv=5)"
      ]
     },
     "execution_count": 211,
     "metadata": {},
     "output_type": "execute_result"
    }
   ],
   "source": [
    "#cross-validating model \n",
    "logistic_model2 = LogisticRegressionCV(cv=5, penalty='l2')\n",
    "logistic_model2.fit(X2, y)"
   ]
  },
  {
   "cell_type": "code",
   "execution_count": 212,
   "id": "1dd64b7d",
   "metadata": {},
   "outputs": [
    {
     "name": "stdout",
     "output_type": "stream",
     "text": [
      "Classification Report:\n",
      "               precision    recall  f1-score   support\n",
      "\n",
      "           0       0.98      0.95      0.96     12898\n",
      "           1       0.06      0.12      0.08       354\n",
      "\n",
      "    accuracy                           0.93     13252\n",
      "   macro avg       0.52      0.53      0.52     13252\n",
      "weighted avg       0.95      0.93      0.94     13252\n",
      "\n",
      "AUC-ROC Score: 0.6960660698939003\n"
     ]
    }
   ],
   "source": [
    "y_pred2= logistic_model2.predict(X2)\n",
    "print(\"Classification Report:\\n\", classification_report(y, y_pred2))\n",
    "print(\"AUC-ROC Score:\", roc_auc_score(y, logistic_model2.predict_proba(X2)[:, 1]))"
   ]
  },
  {
   "cell_type": "code",
   "execution_count": 213,
   "id": "c2915137",
   "metadata": {},
   "outputs": [
    {
     "name": "stdout",
     "output_type": "stream",
     "text": [
      "Cross-Validated Scores:\n",
      " {1: array([[0.89928329, 0.89928329, 0.89928329, 0.89928329, 0.89928329,\n",
      "        0.89928329, 0.89928329, 0.89928329, 0.89928329, 0.89928329],\n",
      "       [0.9298378 , 0.9298378 , 0.9298378 , 0.9298378 , 0.9298378 ,\n",
      "        0.9298378 , 0.9298378 , 0.9298378 , 0.9298378 , 0.9298378 ],\n",
      "       [0.95962264, 0.95849057, 0.95735849, 0.95735849, 0.95735849,\n",
      "        0.95735849, 0.95735849, 0.95735849, 0.95735849, 0.95735849],\n",
      "       [0.94528302, 0.94528302, 0.94528302, 0.94528302, 0.94528302,\n",
      "        0.94528302, 0.94528302, 0.94528302, 0.94528302, 0.94528302],\n",
      "       [0.9290566 , 0.92943396, 0.92943396, 0.92943396, 0.92943396,\n",
      "        0.92943396, 0.92943396, 0.92943396, 0.92943396, 0.92943396]])}\n"
     ]
    }
   ],
   "source": [
    "#accuracy scores\n",
    "print(\"Cross-Validated Scores:\\n\", logistic_model2.scores_)\n"
   ]
  },
  {
   "cell_type": "code",
   "execution_count": 214,
   "id": "0208f4cf",
   "metadata": {},
   "outputs": [
    {
     "data": {
      "image/png": "[encoded data removed]",
      "text/plain": [
       "<Figure size 640x480 with 1 Axes>"
      ]
     },
     "metadata": {},
     "output_type": "display_data"
    },
    {
     "name": "stdout",
     "output_type": "stream",
     "text": [
      "Optimal Threshold: 0.45\n"
     ]
    }
   ],
   "source": [
    "import matplotlib.pyplot as plt\n",
    "\n",
    "fpr, tpr, thresholds = roc_curve(y, logistic_model2.predict_proba(X2)[:, 1])\n",
    "plt.plot(fpr, tpr, label='ROC Curve')\n",
    "plt.xlabel('False Positive Rate')\n",
    "plt.ylabel('True Positive Rate')\n",
    "plt.title('Receiver Operating Characteristic (ROC) Curve')\n",
    "plt.legend()\n",
    "#also display AUC: \n",
    "plt.text(0.8, 0.2, f'AUC: {auc(fpr,tpr):.2f}', fontsize=14)\n",
    "plt.show()\n",
    "\n",
    "#optimal threshold\n",
    "optimal_threshold2= thresholds[np.argmax(tpr - fpr)]\n",
    "print(f\"Optimal Threshold: {optimal_threshold2:.2f}\")"
   ]
  },
  {
   "cell_type": "markdown",
   "id": "624db917",
   "metadata": {},
   "source": [
    "## Model 3 (Logit)"
   ]
  },
  {
   "cell_type": "code",
   "execution_count": 245,
   "id": "76d33927",
   "metadata": {},
   "outputs": [],
   "source": [
    "X3 = training[variables[:18]]"
   ]
  },
  {
   "cell_type": "code",
   "execution_count": 246,
   "id": "e2a32736",
   "metadata": {},
   "outputs": [],
   "source": [
    "ols_modelx3 = LinearRegression().fit(X3, y)"
   ]
  },
  {
   "cell_type": "code",
   "execution_count": 247,
   "id": "29296ce8",
   "metadata": {},
   "outputs": [
    {
     "name": "stdout",
     "output_type": "stream",
     "text": [
      "explained_variance:  0.0017\n",
      "r2:  0.0017\n",
      "MAE:  0.0522\n",
      "MSE:  0.026\n",
      "RMSE:  0.1611\n"
     ]
    }
   ],
   "source": [
    "#linear regression results\n",
    "regression_results(y, ols_modelx3.predict(X3))"
   ]
  },
  {
   "cell_type": "code",
   "execution_count": 248,
   "id": "381c780c",
   "metadata": {},
   "outputs": [
    {
     "data": {
      "text/html": [
       "<style>#sk-container-id-24 {color: black;}#sk-container-id-24 pre{padding: 0;}#sk-container-id-24 div.sk-toggleable {background-color: white;}#sk-container-id-24 label.sk-toggleable__label {cursor: pointer;display: block;width: 100%;margin-bottom: 0;padding: 0.3em;box-sizing: border-box;text-align: center;}#sk-container-id-24 label.sk-toggleable__label-arrow:before {content: \"▸\";float: left;margin-right: 0.25em;color: #696969;}#sk-container-id-24 label.sk-toggleable__label-arrow:hover:before {color: black;}#sk-container-id-24 div.sk-estimator:hover label.sk-toggleable__label-arrow:before {color: black;}#sk-container-id-24 div.sk-toggleable__content {max-height: 0;max-width: 0;overflow: hidden;text-align: left;background-color: #f0f8ff;}#sk-container-id-24 div.sk-toggleable__content pre {margin: 0.2em;color: black;border-radius: 0.25em;background-color: #f0f8ff;}#sk-container-id-24 input.sk-toggleable__control:checked~div.sk-toggleable__content {max-height: 200px;max-width: 100%;overflow: auto;}#sk-container-id-24 input.sk-toggleable__control:checked~label.sk-toggleable__label-arrow:before {content: \"▾\";}#sk-container-id-24 div.sk-estimator input.sk-toggleable__control:checked~label.sk-toggleable__label {background-color: #d4ebff;}#sk-container-id-24 div.sk-label input.sk-toggleable__control:checked~label.sk-toggleable__label {background-color: #d4ebff;}#sk-container-id-24 input.sk-hidden--visually {border: 0;clip: rect(1px 1px 1px 1px);clip: rect(1px, 1px, 1px, 1px);height: 1px;margin: -1px;overflow: hidden;padding: 0;position: absolute;width: 1px;}#sk-container-id-24 div.sk-estimator {font-family: monospace;background-color: #f0f8ff;border: 1px dotted black;border-radius: 0.25em;box-sizing: border-box;margin-bottom: 0.5em;}#sk-container-id-24 div.sk-estimator:hover {background-color: #d4ebff;}#sk-container-id-24 div.sk-parallel-item::after {content: \"\";width: 100%;border-bottom: 1px solid gray;flex-grow: 1;}#sk-container-id-24 div.sk-label:hover label.sk-toggleable__label {background-color: #d4ebff;}#sk-container-id-24 div.sk-serial::before {content: \"\";position: absolute;border-left: 1px solid gray;box-sizing: border-box;top: 0;bottom: 0;left: 50%;z-index: 0;}#sk-container-id-24 div.sk-serial {display: flex;flex-direction: column;align-items: center;background-color: white;padding-right: 0.2em;padding-left: 0.2em;position: relative;}#sk-container-id-24 div.sk-item {position: relative;z-index: 1;}#sk-container-id-24 div.sk-parallel {display: flex;align-items: stretch;justify-content: center;background-color: white;position: relative;}#sk-container-id-24 div.sk-item::before, #sk-container-id-24 div.sk-parallel-item::before {content: \"\";position: absolute;border-left: 1px solid gray;box-sizing: border-box;top: 0;bottom: 0;left: 50%;z-index: -1;}#sk-container-id-24 div.sk-parallel-item {display: flex;flex-direction: column;z-index: 1;position: relative;background-color: white;}#sk-container-id-24 div.sk-parallel-item:first-child::after {align-self: flex-end;width: 50%;}#sk-container-id-24 div.sk-parallel-item:last-child::after {align-self: flex-start;width: 50%;}#sk-container-id-24 div.sk-parallel-item:only-child::after {width: 0;}#sk-container-id-24 div.sk-dashed-wrapped {border: 1px dashed gray;margin: 0 0.4em 0.5em 0.4em;box-sizing: border-box;padding-bottom: 0.4em;background-color: white;}#sk-container-id-24 div.sk-label label {font-family: monospace;font-weight: bold;display: inline-block;line-height: 1.2em;}#sk-container-id-24 div.sk-label-container {text-align: center;}#sk-container-id-24 div.sk-container {/* jupyter's `normalize.less` sets `[hidden] { display: none; }` but bootstrap.min.css set `[hidden] { display: none !important; }` so we also need the `!important` here to be able to override the default hidden behavior on the sphinx rendered scikit-learn.org. See: https://github.com/scikit-learn/scikit-learn/issues/21755 */display: inline-block !important;position: relative;}#sk-container-id-24 div.sk-text-repr-fallback {display: none;}</style><div id=\"sk-container-id-24\" class=\"sk-top-container\"><div class=\"sk-text-repr-fallback\"><pre>LogisticRegressionCV(cv=5)</pre><b>In a Jupyter environment, please rerun this cell to show the HTML representation or trust the notebook. <br />On GitHub, the HTML representation is unable to render, please try loading this page with nbviewer.org.</b></div><div class=\"sk-container\" hidden><div class=\"sk-item\"><div class=\"sk-estimator sk-toggleable\"><input class=\"sk-toggleable__control sk-hidden--visually\" id=\"sk-estimator-id-24\" type=\"checkbox\" checked><label for=\"sk-estimator-id-24\" class=\"sk-toggleable__label sk-toggleable__label-arrow\">LogisticRegressionCV</label><div class=\"sk-toggleable__content\"><pre>LogisticRegressionCV(cv=5)</pre></div></div></div></div></div>"
      ],
      "text/plain": [
       "LogisticRegressionCV(cv=5)"
      ]
     },
     "execution_count": 248,
     "metadata": {},
     "output_type": "execute_result"
    }
   ],
   "source": [
    "#cross-validating model \n",
    "logistic_model3 = LogisticRegressionCV(cv=5, penalty='l2')\n",
    "logistic_model3.fit(X3, y)"
   ]
  },
  {
   "cell_type": "code",
   "execution_count": 249,
   "id": "55d6280a",
   "metadata": {},
   "outputs": [
    {
     "name": "stdout",
     "output_type": "stream",
     "text": [
      "Classification Report:\n",
      "               precision    recall  f1-score   support\n",
      "\n",
      "           0       0.97      0.97      0.97     12898\n",
      "           1       0.07      0.09      0.08       354\n",
      "\n",
      "    accuracy                           0.94     13252\n",
      "   macro avg       0.52      0.53      0.52     13252\n",
      "weighted avg       0.95      0.94      0.95     13252\n",
      "\n",
      "AUC-ROC Score: 0.6799133663257915\n"
     ]
    }
   ],
   "source": [
    "y_pred3= logistic_model3.predict(X3)\n",
    "print(\"Classification Report:\\n\", classification_report(y, y_pred3))\n",
    "print(\"AUC-ROC Score:\", roc_auc_score(y, logistic_model3.predict_proba(X3)[:, 1]))"
   ]
  },
  {
   "cell_type": "code",
   "execution_count": 250,
   "id": "bfd28e43",
   "metadata": {},
   "outputs": [
    {
     "name": "stdout",
     "output_type": "stream",
     "text": [
      "Cross-Validated Scores:\n",
      " {1: array([[0.94077707, 0.9392682 , 0.9370049 , 0.93851377, 0.93398717,\n",
      "        0.93474161, 0.93323274, 0.93436439, 0.93210109, 0.93360996],\n",
      "       [0.9370049 , 0.93360996, 0.93474161, 0.93474161, 0.93474161,\n",
      "        0.93474161, 0.93474161, 0.93474161, 0.93474161, 0.93474161],\n",
      "       [0.94943396, 0.9490566 , 0.94981132, 0.95132075, 0.95018868,\n",
      "        0.95018868, 0.9509434 , 0.9509434 , 0.9509434 , 0.95018868],\n",
      "       [0.94113208, 0.94301887, 0.94      , 0.93698113, 0.93811321,\n",
      "        0.93886792, 0.93811321, 0.93811321, 0.93811321, 0.93811321],\n",
      "       [0.95018868, 0.94981132, 0.9490566 , 0.9490566 , 0.94867925,\n",
      "        0.94867925, 0.94867925, 0.94867925, 0.94867925, 0.94867925]])}\n"
     ]
    }
   ],
   "source": [
    "#accuracy scores\n",
    "print(\"Cross-Validated Scores:\\n\", logistic_model3.scores_)\n"
   ]
  },
  {
   "cell_type": "code",
   "execution_count": 251,
   "id": "daaa8366",
   "metadata": {},
   "outputs": [
    {
     "data": {
      "image/png": "[encoded data removed]",
      "text/plain": [
       "<Figure size 640x480 with 1 Axes>"
      ]
     },
     "metadata": {},
     "output_type": "display_data"
    },
    {
     "name": "stdout",
     "output_type": "stream",
     "text": [
      "Optimal Threshold: 0.39\n"
     ]
    }
   ],
   "source": [
    "import matplotlib.pyplot as plt\n",
    "\n",
    "fpr, tpr, thresholds = roc_curve(y, logistic_model3.predict_proba(X3)[:, 1])\n",
    "plt.plot(fpr, tpr, label='ROC Curve')\n",
    "plt.xlabel('False Positive Rate')\n",
    "plt.ylabel('True Positive Rate')\n",
    "plt.title('Receiver Operating Characteristic (ROC) Curve')\n",
    "plt.legend()\n",
    "#also display AUC: \n",
    "plt.text(0.8, 0.2, f'AUC: {auc(fpr,tpr):.2f}', fontsize=14)\n",
    "plt.show()\n",
    "\n",
    "#optimal threshold\n",
    "optimal_threshold3 = thresholds[np.argmax(tpr - fpr)]\n",
    "print(f\"Optimal Threshold: {optimal_threshold3:.2f}\")"
   ]
  },
  {
   "cell_type": "markdown",
   "id": "54621247",
   "metadata": {},
   "source": [
    "## Model 4 (Logit)"
   ]
  },
  {
   "cell_type": "code",
   "execution_count": 253,
   "id": "ee33c93b",
   "metadata": {},
   "outputs": [],
   "source": [
    "X4 = training[variables]"
   ]
  },
  {
   "cell_type": "code",
   "execution_count": 254,
   "id": "940244eb",
   "metadata": {},
   "outputs": [],
   "source": [
    "ols_modelx4 = LinearRegression().fit(X4, y)"
   ]
  },
  {
   "cell_type": "code",
   "execution_count": 255,
   "id": "4bd2bce7",
   "metadata": {},
   "outputs": [
    {
     "name": "stdout",
     "output_type": "stream",
     "text": [
      "explained_variance:  0.0029\n",
      "r2:  0.0029\n",
      "MAE:  0.0522\n",
      "MSE:  0.0259\n",
      "RMSE:  0.161\n"
     ]
    }
   ],
   "source": [
    "#linear regression results\n",
    "regression_results(y, ols_modelx4.predict(X4))"
   ]
  },
  {
   "cell_type": "code",
   "execution_count": 256,
   "id": "a2ddd7e4",
   "metadata": {},
   "outputs": [
    {
     "data": {
      "text/html": [
       "<style>#sk-container-id-25 {color: black;}#sk-container-id-25 pre{padding: 0;}#sk-container-id-25 div.sk-toggleable {background-color: white;}#sk-container-id-25 label.sk-toggleable__label {cursor: pointer;display: block;width: 100%;margin-bottom: 0;padding: 0.3em;box-sizing: border-box;text-align: center;}#sk-container-id-25 label.sk-toggleable__label-arrow:before {content: \"▸\";float: left;margin-right: 0.25em;color: #696969;}#sk-container-id-25 label.sk-toggleable__label-arrow:hover:before {color: black;}#sk-container-id-25 div.sk-estimator:hover label.sk-toggleable__label-arrow:before {color: black;}#sk-container-id-25 div.sk-toggleable__content {max-height: 0;max-width: 0;overflow: hidden;text-align: left;background-color: #f0f8ff;}#sk-container-id-25 div.sk-toggleable__content pre {margin: 0.2em;color: black;border-radius: 0.25em;background-color: #f0f8ff;}#sk-container-id-25 input.sk-toggleable__control:checked~div.sk-toggleable__content {max-height: 200px;max-width: 100%;overflow: auto;}#sk-container-id-25 input.sk-toggleable__control:checked~label.sk-toggleable__label-arrow:before {content: \"▾\";}#sk-container-id-25 div.sk-estimator input.sk-toggleable__control:checked~label.sk-toggleable__label {background-color: #d4ebff;}#sk-container-id-25 div.sk-label input.sk-toggleable__control:checked~label.sk-toggleable__label {background-color: #d4ebff;}#sk-container-id-25 input.sk-hidden--visually {border: 0;clip: rect(1px 1px 1px 1px);clip: rect(1px, 1px, 1px, 1px);height: 1px;margin: -1px;overflow: hidden;padding: 0;position: absolute;width: 1px;}#sk-container-id-25 div.sk-estimator {font-family: monospace;background-color: #f0f8ff;border: 1px dotted black;border-radius: 0.25em;box-sizing: border-box;margin-bottom: 0.5em;}#sk-container-id-25 div.sk-estimator:hover {background-color: #d4ebff;}#sk-container-id-25 div.sk-parallel-item::after {content: \"\";width: 100%;border-bottom: 1px solid gray;flex-grow: 1;}#sk-container-id-25 div.sk-label:hover label.sk-toggleable__label {background-color: #d4ebff;}#sk-container-id-25 div.sk-serial::before {content: \"\";position: absolute;border-left: 1px solid gray;box-sizing: border-box;top: 0;bottom: 0;left: 50%;z-index: 0;}#sk-container-id-25 div.sk-serial {display: flex;flex-direction: column;align-items: center;background-color: white;padding-right: 0.2em;padding-left: 0.2em;position: relative;}#sk-container-id-25 div.sk-item {position: relative;z-index: 1;}#sk-container-id-25 div.sk-parallel {display: flex;align-items: stretch;justify-content: center;background-color: white;position: relative;}#sk-container-id-25 div.sk-item::before, #sk-container-id-25 div.sk-parallel-item::before {content: \"\";position: absolute;border-left: 1px solid gray;box-sizing: border-box;top: 0;bottom: 0;left: 50%;z-index: -1;}#sk-container-id-25 div.sk-parallel-item {display: flex;flex-direction: column;z-index: 1;position: relative;background-color: white;}#sk-container-id-25 div.sk-parallel-item:first-child::after {align-self: flex-end;width: 50%;}#sk-container-id-25 div.sk-parallel-item:last-child::after {align-self: flex-start;width: 50%;}#sk-container-id-25 div.sk-parallel-item:only-child::after {width: 0;}#sk-container-id-25 div.sk-dashed-wrapped {border: 1px dashed gray;margin: 0 0.4em 0.5em 0.4em;box-sizing: border-box;padding-bottom: 0.4em;background-color: white;}#sk-container-id-25 div.sk-label label {font-family: monospace;font-weight: bold;display: inline-block;line-height: 1.2em;}#sk-container-id-25 div.sk-label-container {text-align: center;}#sk-container-id-25 div.sk-container {/* jupyter's `normalize.less` sets `[hidden] { display: none; }` but bootstrap.min.css set `[hidden] { display: none !important; }` so we also need the `!important` here to be able to override the default hidden behavior on the sphinx rendered scikit-learn.org. See: https://github.com/scikit-learn/scikit-learn/issues/21755 */display: inline-block !important;position: relative;}#sk-container-id-25 div.sk-text-repr-fallback {display: none;}</style><div id=\"sk-container-id-25\" class=\"sk-top-container\"><div class=\"sk-text-repr-fallback\"><pre>LogisticRegressionCV(cv=5)</pre><b>In a Jupyter environment, please rerun this cell to show the HTML representation or trust the notebook. <br />On GitHub, the HTML representation is unable to render, please try loading this page with nbviewer.org.</b></div><div class=\"sk-container\" hidden><div class=\"sk-item\"><div class=\"sk-estimator sk-toggleable\"><input class=\"sk-toggleable__control sk-hidden--visually\" id=\"sk-estimator-id-25\" type=\"checkbox\" checked><label for=\"sk-estimator-id-25\" class=\"sk-toggleable__label sk-toggleable__label-arrow\">LogisticRegressionCV</label><div class=\"sk-toggleable__content\"><pre>LogisticRegressionCV(cv=5)</pre></div></div></div></div></div>"
      ],
      "text/plain": [
       "LogisticRegressionCV(cv=5)"
      ]
     },
     "execution_count": 256,
     "metadata": {},
     "output_type": "execute_result"
    }
   ],
   "source": [
    "#cross-validating model \n",
    "logistic_model4 = LogisticRegressionCV(cv=5, penalty='l2')\n",
    "logistic_model4.fit(X4, y)"
   ]
  },
  {
   "cell_type": "code",
   "execution_count": 257,
   "id": "c9b4f82d",
   "metadata": {},
   "outputs": [
    {
     "name": "stdout",
     "output_type": "stream",
     "text": [
      "Classification Report:\n",
      "               precision    recall  f1-score   support\n",
      "\n",
      "           0       0.97      1.00      0.99     12898\n",
      "           1       0.33      0.01      0.01       354\n",
      "\n",
      "    accuracy                           0.97     13252\n",
      "   macro avg       0.65      0.50      0.50     13252\n",
      "weighted avg       0.96      0.97      0.96     13252\n",
      "\n",
      "AUC-ROC Score: 0.5993323977001646\n"
     ]
    }
   ],
   "source": [
    "y_pred4= logistic_model4.predict(X4)\n",
    "print(\"Classification Report:\\n\", classification_report(y, y_pred4))\n",
    "print(\"AUC-ROC Score:\", roc_auc_score(y, logistic_model4.predict_proba(X4)[:, 1]))"
   ]
  },
  {
   "cell_type": "code",
   "execution_count": 258,
   "id": "3a05b707",
   "metadata": {},
   "outputs": [
    {
     "name": "stdout",
     "output_type": "stream",
     "text": [
      "Cross-Validated Scores:\n",
      " {1: array([[0.97133157, 0.97057714, 0.97170879, 0.97133157, 0.97170879,\n",
      "        0.97133157, 0.97246322, 0.97133157, 0.97170879, 0.97170879],\n",
      "       [0.97019992, 0.97170879, 0.97170879, 0.97284044, 0.97170879,\n",
      "        0.97208601, 0.97246322, 0.97246322, 0.97246322, 0.97246322],\n",
      "       [0.96867925, 0.97283019, 0.97320755, 0.97320755, 0.97320755,\n",
      "        0.97320755, 0.97320755, 0.97320755, 0.97320755, 0.97320755],\n",
      "       [0.97245283, 0.97320755, 0.97283019, 0.97283019, 0.97320755,\n",
      "        0.97245283, 0.97283019, 0.97283019, 0.97283019, 0.97320755],\n",
      "       [0.97056604, 0.9709434 , 0.97245283, 0.97245283, 0.97283019,\n",
      "        0.97283019, 0.97283019, 0.97283019, 0.97283019, 0.97283019]])}\n"
     ]
    }
   ],
   "source": [
    "#accuracy scores\n",
    "print(\"Cross-Validated Scores:\\n\", logistic_model4.scores_)\n"
   ]
  },
  {
   "cell_type": "code",
   "execution_count": 259,
   "id": "ac8b20ce",
   "metadata": {},
   "outputs": [
    {
     "data": {
      "image/png": "[encoded data removed]",
      "text/plain": [
       "<Figure size 640x480 with 1 Axes>"
      ]
     },
     "metadata": {},
     "output_type": "display_data"
    },
    {
     "name": "stdout",
     "output_type": "stream",
     "text": [
      "Optimal Threshold: 0.06\n"
     ]
    }
   ],
   "source": [
    "import matplotlib.pyplot as plt\n",
    "\n",
    "fpr, tpr, thresholds = roc_curve(y, logistic_model4.predict_proba(X4)[:, 1])\n",
    "plt.plot(fpr, tpr, label='ROC Curve')\n",
    "plt.xlabel('False Positive Rate')\n",
    "plt.ylabel('True Positive Rate')\n",
    "plt.title('Receiver Operating Characteristic (ROC) Curve')\n",
    "plt.legend()\n",
    "#also display AUC: \n",
    "plt.text(0.8, 0.2, f'AUC: {auc(fpr,tpr):.2f}', fontsize=14)\n",
    "plt.show()\n",
    "\n",
    "#optimal threshold\n",
    "optimal_threshold4 = thresholds[np.argmax(tpr - fpr)]\n",
    "print(f\"Optimal Threshold: {optimal_threshold4:.2f}\")"
   ]
  },
  {
   "cell_type": "markdown",
   "id": "0a80d7cc",
   "metadata": {},
   "source": [
    "## Model 5- LASSO Logit Regression (using X1 (all variables and interactions))"
   ]
  },
  {
   "cell_type": "code",
   "execution_count": 136,
   "id": "bfee9d3b",
   "metadata": {},
   "outputs": [],
   "source": [
    "#scaling the X1 variables and interactions\n",
    "from sklearn.preprocessing import StandardScaler\n",
    "\n",
    "scaler = StandardScaler()\n",
    "X_lasso_scaled = scaler.fit_transform(X1)\n"
   ]
  },
  {
   "cell_type": "code",
   "execution_count": 137,
   "id": "336d11cd",
   "metadata": {},
   "outputs": [
    {
     "data": {
      "text/html": [
       "<style>#sk-container-id-15 {color: black;}#sk-container-id-15 pre{padding: 0;}#sk-container-id-15 div.sk-toggleable {background-color: white;}#sk-container-id-15 label.sk-toggleable__label {cursor: pointer;display: block;width: 100%;margin-bottom: 0;padding: 0.3em;box-sizing: border-box;text-align: center;}#sk-container-id-15 label.sk-toggleable__label-arrow:before {content: \"▸\";float: left;margin-right: 0.25em;color: #696969;}#sk-container-id-15 label.sk-toggleable__label-arrow:hover:before {color: black;}#sk-container-id-15 div.sk-estimator:hover label.sk-toggleable__label-arrow:before {color: black;}#sk-container-id-15 div.sk-toggleable__content {max-height: 0;max-width: 0;overflow: hidden;text-align: left;background-color: #f0f8ff;}#sk-container-id-15 div.sk-toggleable__content pre {margin: 0.2em;color: black;border-radius: 0.25em;background-color: #f0f8ff;}#sk-container-id-15 input.sk-toggleable__control:checked~div.sk-toggleable__content {max-height: 200px;max-width: 100%;overflow: auto;}#sk-container-id-15 input.sk-toggleable__control:checked~label.sk-toggleable__label-arrow:before {content: \"▾\";}#sk-container-id-15 div.sk-estimator input.sk-toggleable__control:checked~label.sk-toggleable__label {background-color: #d4ebff;}#sk-container-id-15 div.sk-label input.sk-toggleable__control:checked~label.sk-toggleable__label {background-color: #d4ebff;}#sk-container-id-15 input.sk-hidden--visually {border: 0;clip: rect(1px 1px 1px 1px);clip: rect(1px, 1px, 1px, 1px);height: 1px;margin: -1px;overflow: hidden;padding: 0;position: absolute;width: 1px;}#sk-container-id-15 div.sk-estimator {font-family: monospace;background-color: #f0f8ff;border: 1px dotted black;border-radius: 0.25em;box-sizing: border-box;margin-bottom: 0.5em;}#sk-container-id-15 div.sk-estimator:hover {background-color: #d4ebff;}#sk-container-id-15 div.sk-parallel-item::after {content: \"\";width: 100%;border-bottom: 1px solid gray;flex-grow: 1;}#sk-container-id-15 div.sk-label:hover label.sk-toggleable__label {background-color: #d4ebff;}#sk-container-id-15 div.sk-serial::before {content: \"\";position: absolute;border-left: 1px solid gray;box-sizing: border-box;top: 0;bottom: 0;left: 50%;z-index: 0;}#sk-container-id-15 div.sk-serial {display: flex;flex-direction: column;align-items: center;background-color: white;padding-right: 0.2em;padding-left: 0.2em;position: relative;}#sk-container-id-15 div.sk-item {position: relative;z-index: 1;}#sk-container-id-15 div.sk-parallel {display: flex;align-items: stretch;justify-content: center;background-color: white;position: relative;}#sk-container-id-15 div.sk-item::before, #sk-container-id-15 div.sk-parallel-item::before {content: \"\";position: absolute;border-left: 1px solid gray;box-sizing: border-box;top: 0;bottom: 0;left: 50%;z-index: -1;}#sk-container-id-15 div.sk-parallel-item {display: flex;flex-direction: column;z-index: 1;position: relative;background-color: white;}#sk-container-id-15 div.sk-parallel-item:first-child::after {align-self: flex-end;width: 50%;}#sk-container-id-15 div.sk-parallel-item:last-child::after {align-self: flex-start;width: 50%;}#sk-container-id-15 div.sk-parallel-item:only-child::after {width: 0;}#sk-container-id-15 div.sk-dashed-wrapped {border: 1px dashed gray;margin: 0 0.4em 0.5em 0.4em;box-sizing: border-box;padding-bottom: 0.4em;background-color: white;}#sk-container-id-15 div.sk-label label {font-family: monospace;font-weight: bold;display: inline-block;line-height: 1.2em;}#sk-container-id-15 div.sk-label-container {text-align: center;}#sk-container-id-15 div.sk-container {/* jupyter's `normalize.less` sets `[hidden] { display: none; }` but bootstrap.min.css set `[hidden] { display: none !important; }` so we also need the `!important` here to be able to override the default hidden behavior on the sphinx rendered scikit-learn.org. See: https://github.com/scikit-learn/scikit-learn/issues/21755 */display: inline-block !important;position: relative;}#sk-container-id-15 div.sk-text-repr-fallback {display: none;}</style><div id=\"sk-container-id-15\" class=\"sk-top-container\"><div class=\"sk-text-repr-fallback\"><pre>LogisticRegressionCV(cv=5, penalty=&#x27;l1&#x27;, solver=&#x27;liblinear&#x27;)</pre><b>In a Jupyter environment, please rerun this cell to show the HTML representation or trust the notebook. <br />On GitHub, the HTML representation is unable to render, please try loading this page with nbviewer.org.</b></div><div class=\"sk-container\" hidden><div class=\"sk-item\"><div class=\"sk-estimator sk-toggleable\"><input class=\"sk-toggleable__control sk-hidden--visually\" id=\"sk-estimator-id-15\" type=\"checkbox\" checked><label for=\"sk-estimator-id-15\" class=\"sk-toggleable__label sk-toggleable__label-arrow\">LogisticRegressionCV</label><div class=\"sk-toggleable__content\"><pre>LogisticRegressionCV(cv=5, penalty=&#x27;l1&#x27;, solver=&#x27;liblinear&#x27;)</pre></div></div></div></div></div>"
      ],
      "text/plain": [
       "LogisticRegressionCV(cv=5, penalty='l1', solver='liblinear')"
      ]
     },
     "execution_count": 137,
     "metadata": {},
     "output_type": "execute_result"
    }
   ],
   "source": [
    "#takes a bit of time...\n",
    "#creating CV logit\n",
    "from sklearn.linear_model import LogisticRegressionCV\n",
    "\n",
    "lasso_model = LogisticRegressionCV(cv=5, penalty='l1', solver='liblinear')\n",
    "lasso_model.fit(X_lasso_scaled, y)\n"
   ]
  },
  {
   "cell_type": "code",
   "execution_count": 147,
   "id": "49063cac",
   "metadata": {},
   "outputs": [
    {
     "data": {
      "text/html": [
       "<style>#sk-container-id-16 {color: black;}#sk-container-id-16 pre{padding: 0;}#sk-container-id-16 div.sk-toggleable {background-color: white;}#sk-container-id-16 label.sk-toggleable__label {cursor: pointer;display: block;width: 100%;margin-bottom: 0;padding: 0.3em;box-sizing: border-box;text-align: center;}#sk-container-id-16 label.sk-toggleable__label-arrow:before {content: \"▸\";float: left;margin-right: 0.25em;color: #696969;}#sk-container-id-16 label.sk-toggleable__label-arrow:hover:before {color: black;}#sk-container-id-16 div.sk-estimator:hover label.sk-toggleable__label-arrow:before {color: black;}#sk-container-id-16 div.sk-toggleable__content {max-height: 0;max-width: 0;overflow: hidden;text-align: left;background-color: #f0f8ff;}#sk-container-id-16 div.sk-toggleable__content pre {margin: 0.2em;color: black;border-radius: 0.25em;background-color: #f0f8ff;}#sk-container-id-16 input.sk-toggleable__control:checked~div.sk-toggleable__content {max-height: 200px;max-width: 100%;overflow: auto;}#sk-container-id-16 input.sk-toggleable__control:checked~label.sk-toggleable__label-arrow:before {content: \"▾\";}#sk-container-id-16 div.sk-estimator input.sk-toggleable__control:checked~label.sk-toggleable__label {background-color: #d4ebff;}#sk-container-id-16 div.sk-label input.sk-toggleable__control:checked~label.sk-toggleable__label {background-color: #d4ebff;}#sk-container-id-16 input.sk-hidden--visually {border: 0;clip: rect(1px 1px 1px 1px);clip: rect(1px, 1px, 1px, 1px);height: 1px;margin: -1px;overflow: hidden;padding: 0;position: absolute;width: 1px;}#sk-container-id-16 div.sk-estimator {font-family: monospace;background-color: #f0f8ff;border: 1px dotted black;border-radius: 0.25em;box-sizing: border-box;margin-bottom: 0.5em;}#sk-container-id-16 div.sk-estimator:hover {background-color: #d4ebff;}#sk-container-id-16 div.sk-parallel-item::after {content: \"\";width: 100%;border-bottom: 1px solid gray;flex-grow: 1;}#sk-container-id-16 div.sk-label:hover label.sk-toggleable__label {background-color: #d4ebff;}#sk-container-id-16 div.sk-serial::before {content: \"\";position: absolute;border-left: 1px solid gray;box-sizing: border-box;top: 0;bottom: 0;left: 50%;z-index: 0;}#sk-container-id-16 div.sk-serial {display: flex;flex-direction: column;align-items: center;background-color: white;padding-right: 0.2em;padding-left: 0.2em;position: relative;}#sk-container-id-16 div.sk-item {position: relative;z-index: 1;}#sk-container-id-16 div.sk-parallel {display: flex;align-items: stretch;justify-content: center;background-color: white;position: relative;}#sk-container-id-16 div.sk-item::before, #sk-container-id-16 div.sk-parallel-item::before {content: \"\";position: absolute;border-left: 1px solid gray;box-sizing: border-box;top: 0;bottom: 0;left: 50%;z-index: -1;}#sk-container-id-16 div.sk-parallel-item {display: flex;flex-direction: column;z-index: 1;position: relative;background-color: white;}#sk-container-id-16 div.sk-parallel-item:first-child::after {align-self: flex-end;width: 50%;}#sk-container-id-16 div.sk-parallel-item:last-child::after {align-self: flex-start;width: 50%;}#sk-container-id-16 div.sk-parallel-item:only-child::after {width: 0;}#sk-container-id-16 div.sk-dashed-wrapped {border: 1px dashed gray;margin: 0 0.4em 0.5em 0.4em;box-sizing: border-box;padding-bottom: 0.4em;background-color: white;}#sk-container-id-16 div.sk-label label {font-family: monospace;font-weight: bold;display: inline-block;line-height: 1.2em;}#sk-container-id-16 div.sk-label-container {text-align: center;}#sk-container-id-16 div.sk-container {/* jupyter's `normalize.less` sets `[hidden] { display: none; }` but bootstrap.min.css set `[hidden] { display: none !important; }` so we also need the `!important` here to be able to override the default hidden behavior on the sphinx rendered scikit-learn.org. See: https://github.com/scikit-learn/scikit-learn/issues/21755 */display: inline-block !important;position: relative;}#sk-container-id-16 div.sk-text-repr-fallback {display: none;}</style><div id=\"sk-container-id-16\" class=\"sk-top-container\"><div class=\"sk-text-repr-fallback\"><pre>LogisticRegression(C=0.1, penalty=&#x27;l1&#x27;, solver=&#x27;liblinear&#x27;)</pre><b>In a Jupyter environment, please rerun this cell to show the HTML representation or trust the notebook. <br />On GitHub, the HTML representation is unable to render, please try loading this page with nbviewer.org.</b></div><div class=\"sk-container\" hidden><div class=\"sk-item\"><div class=\"sk-estimator sk-toggleable\"><input class=\"sk-toggleable__control sk-hidden--visually\" id=\"sk-estimator-id-16\" type=\"checkbox\" checked><label for=\"sk-estimator-id-16\" class=\"sk-toggleable__label sk-toggleable__label-arrow\">LogisticRegression</label><div class=\"sk-toggleable__content\"><pre>LogisticRegression(C=0.1, penalty=&#x27;l1&#x27;, solver=&#x27;liblinear&#x27;)</pre></div></div></div></div></div>"
      ],
      "text/plain": [
       "LogisticRegression(C=0.1, penalty='l1', solver='liblinear')"
      ]
     },
     "execution_count": 147,
     "metadata": {},
     "output_type": "execute_result"
    }
   ],
   "source": [
    "#changed penalization to 0.1 because it was too high (selected features returned no features)\n",
    "lasso_model = LogisticRegression(penalty='l1', C=0.1, solver='liblinear')\n",
    "lasso_model.fit(X_lasso_scaled, y)"
   ]
  },
  {
   "cell_type": "code",
   "execution_count": 148,
   "id": "44854cd8",
   "metadata": {},
   "outputs": [
    {
     "name": "stdout",
     "output_type": "stream",
     "text": [
      "Selected Features: Index(['curr_liab', 'extra_exp', 'inventories', 'share_eq', 'subscribed_cap',\n",
      "       'tang_assets', 'ceo_count', 'foreign_ceo', 'inoffice_days',\n",
      "       'female_only', 'male_only', 'east', 'west',\n",
      "       'interaction_inoffice_days_vs_foreign_ceo',\n",
      "       'interaction_profit_loss_year_vs_extra_exp'],\n",
      "      dtype='object')\n"
     ]
    }
   ],
   "source": [
    "#selected features chosen by LASSO\n",
    "selected_features = X1.columns[lasso_model.coef_[0] != 0]\n",
    "print(\"Selected Features:\", selected_features)\n",
    "#15 selected_features/interactions"
   ]
  },
  {
   "cell_type": "code",
   "execution_count": 163,
   "id": "e7ef36bd",
   "metadata": {},
   "outputs": [],
   "source": [
    "#using selected features selected by lasso\n",
    "lasso_selected_features = ['curr_liab', 'extra_exp', 'inventories', 'share_eq', 'subscribed_cap',\n",
    "       'tang_assets', 'ceo_count', 'foreign_ceo', 'inoffice_days',\n",
    "       'female_only', 'male_only', 'east', 'west',\n",
    "       'interaction_inoffice_days_vs_foreign_ceo',\n",
    "       'interaction_profit_loss_year_vs_extra_exp']\n",
    "\n",
    "X6 = training[lasso_selected_features]"
   ]
  },
  {
   "cell_type": "code",
   "execution_count": 164,
   "id": "98660e9b",
   "metadata": {},
   "outputs": [],
   "source": [
    "#fitting logit regression model using selected features\n",
    "lasso_model = lasso_model.fit(X6, y)"
   ]
  },
  {
   "cell_type": "code",
   "execution_count": 165,
   "id": "17306b3e",
   "metadata": {},
   "outputs": [
    {
     "name": "stdout",
     "output_type": "stream",
     "text": [
      "Classification Report:\n",
      "               precision    recall  f1-score   support\n",
      "\n",
      "           0       0.97      1.00      0.99     12898\n",
      "           1       1.00      0.00      0.01       354\n",
      "\n",
      "    accuracy                           0.97     13252\n",
      "   macro avg       0.99      0.50      0.50     13252\n",
      "weighted avg       0.97      0.97      0.96     13252\n",
      "\n",
      "AUC-ROC Score: 0.6268465176136448\n"
     ]
    }
   ],
   "source": [
    "#getting measurements from lasso prediction\n",
    "y_pred6= lasso_model.predict(X6)\n",
    "print(\"Classification Report:\\n\", classification_report(y, y_pred6))\n",
    "print(\"AUC-ROC Score:\", roc_auc_score(y, lasso_model.predict_proba(X6)[:, 1]))"
   ]
  },
  {
   "cell_type": "code",
   "execution_count": 242,
   "id": "c43598e9",
   "metadata": {
    "scrolled": false
   },
   "outputs": [
    {
     "data": {
      "image/png": "[encoded data removed]",
      "text/plain": [
       "<Figure size 640x480 with 1 Axes>"
      ]
     },
     "metadata": {},
     "output_type": "display_data"
    },
    {
     "name": "stdout",
     "output_type": "stream",
     "text": [
      "Optimal Threshold: 0.02193074441915874\n"
     ]
    }
   ],
   "source": [
    "import matplotlib.pyplot as plt\n",
    "\n",
    "fpr, tpr, thresholds = roc_curve(y, lasso_model.predict_proba(X6)[:, 1])\n",
    "plt.plot(fpr, tpr, label='ROC Curve')\n",
    "plt.xlabel('False Positive Rate')\n",
    "plt.ylabel('True Positive Rate')\n",
    "plt.title('Receiver Operating Characteristic (ROC) Curve')\n",
    "#also display AUC: \n",
    "plt.text(0.8, 0.2, f'AUC: {auc(fpr,tpr):.2f}', fontsize=14)\n",
    "plt.show()\n",
    "\n",
    "#optimal threshold\n",
    "optimal_threshold5 = thresholds[np.argmax(tpr - fpr)]\n",
    "print(\"Optimal Threshold:\", optimal_threshold5)"
   ]
  },
  {
   "cell_type": "code",
   "execution_count": null,
   "id": "1ff69316",
   "metadata": {},
   "outputs": [],
   "source": []
  },
  {
   "cell_type": "code",
   "execution_count": null,
   "id": "20bee5ee",
   "metadata": {},
   "outputs": [],
   "source": []
  },
  {
   "cell_type": "markdown",
   "id": "b3298615",
   "metadata": {},
   "source": [
    "# Model 6- Random Forest"
   ]
  },
  {
   "cell_type": "code",
   "execution_count": 328,
   "id": "d6e489b9",
   "metadata": {},
   "outputs": [
    {
     "name": "stdout",
     "output_type": "stream",
     "text": [
      "Accuracy Score: 0.969445492267069\n",
      "Classification Report:\n",
      "               precision    recall  f1-score   support\n",
      "\n",
      "           0       0.97      1.00      0.98      2570\n",
      "           1       0.00      0.00      0.00        81\n",
      "\n",
      "    accuracy                           0.97      2651\n",
      "   macro avg       0.48      0.50      0.49      2651\n",
      "weighted avg       0.94      0.97      0.95      2651\n",
      "\n",
      "AUC-ROC Score: 0.7837584666378441\n"
     ]
    },
    {
     "data": {
      "image/png": "[encoded data removed]",
      "text/plain": [
       "<Figure size 640x480 with 1 Axes>"
      ]
     },
     "metadata": {},
     "output_type": "display_data"
    },
    {
     "name": "stdout",
     "output_type": "stream",
     "text": [
      "Optimal Threshold: 0.03\n"
     ]
    }
   ],
   "source": [
    "from sklearn.ensemble import RandomForestClassifier\n",
    "from sklearn.model_selection import train_test_split\n",
    "from sklearn.metrics import classification_report, accuracy_score, roc_auc_score, roc_curve\n",
    "\n",
    "#scaling X3 (gives best RF AUC)\n",
    "X1_scaled = scaler.fit_transform(X3)\n",
    "\n",
    "# Split the data into training and testing sets\n",
    "X_train, X_test, y_train, y_test = train_test_split(X1_scaled, y, test_size=0.2, random_state=42)\n",
    "\n",
    "#rf classifier\n",
    "random_forest_model = RandomForestClassifier(n_estimators=100, random_state=42)\n",
    "\n",
    "# fit model on training data\n",
    "random_forest_model.fit(X_train, y_train)\n",
    "\n",
    "#make predictions on the test set\n",
    "y_pred_rf = random_forest_model.predict(X_test)\n",
    "\n",
    "#evaluate the model\n",
    "print(\"Accuracy Score:\", accuracy_score(y_test, y_pred_rf))\n",
    "print(\"Classification Report:\\n\", classification_report(y_test, y_pred_rf))\n",
    "print(\"AUC-ROC Score:\", roc_auc_score(y_test, random_forest_model.predict_proba(X_test)[:, 1]))\n",
    "\n",
    "#ROC curve\n",
    "fpr_rf, tpr_rf, thresholds_rf = roc_curve(y_test, random_forest_model.predict_proba(X_test)[:, 1])\n",
    "plt.plot(fpr_rf, tpr_rf, label='Random Forest ROC Curve')\n",
    "plt.xlabel('False Positive Rate')\n",
    "plt.ylabel('True Positive Rate')\n",
    "plt.title('Receiver Operating Characteristic (ROC) Curve')\n",
    "\n",
    "#also display AUC: \n",
    "plt.text(0.8, 0.2, f'AUC: {auc(fpr_rf,tpr_rf):.2f}', fontsize=14)\n",
    "plt.show()\n",
    "\n",
    "#optimal threshold\n",
    "optimal_threshold_rf= thresholds[np.argmax(tpr_rf- fpr_rf)]\n",
    "print(f\"Optimal Threshold: {optimal_threshold_rf:.2f}\")"
   ]
  },
  {
   "cell_type": "code",
   "execution_count": 289,
   "id": "8126263e",
   "metadata": {},
   "outputs": [
    {
     "data": {
      "text/plain": [
       "2651"
      ]
     },
     "execution_count": 289,
     "metadata": {},
     "output_type": "execute_result"
    }
   ],
   "source": [
    "len(y_test)"
   ]
  },
  {
   "cell_type": "code",
   "execution_count": 287,
   "id": "b1540084",
   "metadata": {},
   "outputs": [
    {
     "data": {
      "text/plain": [
       "2651"
      ]
     },
     "execution_count": 287,
     "metadata": {},
     "output_type": "execute_result"
    }
   ],
   "source": [
    "len(y_pred_rf)"
   ]
  },
  {
   "cell_type": "code",
   "execution_count": 318,
   "id": "9bdafdad",
   "metadata": {
    "scrolled": true
   },
   "outputs": [
    {
     "name": "stdout",
     "output_type": "stream",
     "text": [
      "Model 1 Logit Expected Loss: 0.6853\n",
      "Model 2 Logit Expected Loss: 0.3500\n",
      "Model 3 Logit Expected Loss: 0.3987\n",
      "Model 4 Logit Expected Loss: 0.3780\n",
      "Model 5 LASSO Expected Loss: 0.6794\n",
      "Model 6 Random Forest Expected Loss: 0.0343\n"
     ]
    }
   ],
   "source": [
    "#getting expected losses for each model\n",
    "\n",
    "#defining a loss function (would be from 0 to 1), 0 being the best\n",
    "def zero_one_loss(y_true, y_pred):\n",
    "    return 1 - accuracy_score(y_true, y_pred)\n",
    "\n",
    "#predicted probabilities for each model\n",
    "y_prob = logistic_model.predict_proba(X1_scaled)[:, 1]\n",
    "y_prob2 = logistic_model2.predict_proba(X2)[:, 1]\n",
    "y_prob3 = logistic_model3.predict_proba(X3)[:, 1]\n",
    "y_prob4 = logistic_model4.predict_proba(X4)[:, 1]\n",
    "y_prob5 = lasso_model.predict_proba(X6)[:, 1]\n",
    "y_prob_rf = random_forest_model.predict_proba(X_test)[:, 1]\n",
    "\n",
    "\n",
    "\n",
    "#using each model's optimal threshold to get binary predictions\n",
    "y_pred = (y_prob >= optimal_threshold).astype(int)\n",
    "y_pred2 = (y_prob2 >= optimal_threshold2).astype(int)\n",
    "y_pred3 = (y_prob3 >= optimal_threshold3).astype(int)\n",
    "y_pred4 = (y_prob4 >= optimal_threshold4).astype(int)\n",
    "y_pred5 = (y_prob5 >= optimal_threshold5).astype(int)\n",
    "y_pred_rf = (y_prob_rf >= optimal_threshold_rf).astype(int)\n",
    "\n",
    "#getting expected loss for each model \n",
    "loss = zero_one_loss(y, y_pred) #the expected loss was a shockingly low #, then I realized that the optimal threshold for this model \n",
    "#was inf due to it's poor fit/prediction ability and therefore made the expected loss value N/A\n",
    "loss2 = zero_one_loss(y, y_pred2)\n",
    "loss3 = zero_one_loss(y, y_pred3)\n",
    "loss4 = zero_one_loss(y, y_pred4)\n",
    "loss5 = zero_one_loss(y, y_pred5)\n",
    "loss_rf = zero_one_loss(y_test, y_pred_rf)\n",
    "\n",
    "\n",
    "print(f\"Model 1 Logit Expected Loss: {loss:.4f}\")\n",
    "print(f\"Model 2 Logit Expected Loss: {loss2:.4f}\")\n",
    "print(f\"Model 3 Logit Expected Loss: {loss3:.4f}\")\n",
    "print(f\"Model 4 Logit Expected Loss: {loss4:.4f}\")\n",
    "print(f\"Model 5 LASSO Expected Loss: {loss5:.4f}\")\n",
    "print(f\"Model 6 Random Forest Expected Loss: {loss_rf:.4f}\")\n",
    "\n",
    "#best expected loss is Model 6 (Random Forest)"
   ]
  },
  {
   "cell_type": "code",
   "execution_count": 331,
   "id": "f805d38b",
   "metadata": {},
   "outputs": [
    {
     "data": {
      "text/html": [
       "<div>\n",
       "<style scoped>\n",
       "    .dataframe tbody tr th:only-of-type {\n",
       "        vertical-align: middle;\n",
       "    }\n",
       "\n",
       "    .dataframe tbody tr th {\n",
       "        vertical-align: top;\n",
       "    }\n",
       "\n",
       "    .dataframe thead th {\n",
       "        text-align: right;\n",
       "    }\n",
       "</style>\n",
       "<table border=\"1\" class=\"dataframe\">\n",
       "  <thead>\n",
       "    <tr style=\"text-align: right;\">\n",
       "      <th></th>\n",
       "      <th>Models</th>\n",
       "      <th># of Predictors</th>\n",
       "      <th>CV AUC</th>\n",
       "      <th>Optimal Threshold</th>\n",
       "      <th>CV Expected Loss</th>\n",
       "    </tr>\n",
       "  </thead>\n",
       "  <tbody>\n",
       "    <tr>\n",
       "      <th>0</th>\n",
       "      <td>M1</td>\n",
       "      <td>35</td>\n",
       "      <td>0.602</td>\n",
       "      <td>0.026652</td>\n",
       "      <td>0.685331</td>\n",
       "    </tr>\n",
       "    <tr>\n",
       "      <th>1</th>\n",
       "      <td>M2</td>\n",
       "      <td>9</td>\n",
       "      <td>0.696</td>\n",
       "      <td>0.448708</td>\n",
       "      <td>0.349985</td>\n",
       "    </tr>\n",
       "    <tr>\n",
       "      <th>2</th>\n",
       "      <td>M3</td>\n",
       "      <td>18</td>\n",
       "      <td>0.679</td>\n",
       "      <td>0.389404</td>\n",
       "      <td>0.398657</td>\n",
       "    </tr>\n",
       "    <tr>\n",
       "      <th>3</th>\n",
       "      <td>M4</td>\n",
       "      <td>28</td>\n",
       "      <td>0.599</td>\n",
       "      <td>0.062697</td>\n",
       "      <td>0.377981</td>\n",
       "    </tr>\n",
       "    <tr>\n",
       "      <th>4</th>\n",
       "      <td>LASSO</td>\n",
       "      <td>15</td>\n",
       "      <td>0.626</td>\n",
       "      <td>0.021931</td>\n",
       "      <td>0.679445</td>\n",
       "    </tr>\n",
       "    <tr>\n",
       "      <th>5</th>\n",
       "      <td>RF</td>\n",
       "      <td>18</td>\n",
       "      <td>0.783</td>\n",
       "      <td>0.027418</td>\n",
       "      <td>0.034327</td>\n",
       "    </tr>\n",
       "  </tbody>\n",
       "</table>\n",
       "</div>"
      ],
      "text/plain": [
       "  Models  # of Predictors  CV AUC  Optimal Threshold  CV Expected Loss\n",
       "0     M1               35   0.602           0.026652          0.685331\n",
       "1     M2                9   0.696           0.448708          0.349985\n",
       "2     M3               18   0.679           0.389404          0.398657\n",
       "3     M4               28   0.599           0.062697          0.377981\n",
       "4  LASSO               15   0.626           0.021931          0.679445\n",
       "5     RF               18   0.783           0.027418          0.034327"
      ]
     },
     "execution_count": 331,
     "metadata": {},
     "output_type": "execute_result"
    }
   ],
   "source": [
    "#df to compare the models\n",
    "pd.DataFrame({\n",
    "    'Models': ['M1', 'M2', 'M3', 'M4', 'LASSO', 'RF'],\n",
    "    '# of Predictors': [len(X1.columns), len(X2.columns), len(X3.columns), len(X4.columns), len(lasso_selected_features), len(X3.columns)],\n",
    "    #' CV RMSE': [0.201, 0.202, 0.201, 0.201], not important as all values are the same\n",
    "    'CV AUC': [0.602, 0.696, 0.679, 0.599, 0.626, 0.783],\n",
    "    'Optimal Threshold': [optimal_threshold, optimal_threshold2, optimal_threshold3, optimal_threshold4, optimal_threshold5, optimal_threshold_rf], \n",
    "    'CV Expected Loss': [loss, loss2, loss3, loss4, loss5, loss_rf]\n",
    "})\n",
    "#Model 3 seems to have the best CV AUC (and similar RMSE and CV Accuracy to the others)\n",
    "#Model 1 seems to perform the worst when looking at the CV AUC scores"
   ]
  },
  {
   "cell_type": "code",
   "execution_count": null,
   "id": "6f318462",
   "metadata": {},
   "outputs": [],
   "source": []
  },
  {
   "cell_type": "code",
   "execution_count": 164,
   "id": "e0986c3b",
   "metadata": {},
   "outputs": [],
   "source": [
    "#You should not use this sample for modeling, only for your final prediction’s evaluation. If you use\n",
    "# these data in any (visible) way to estimate a model, you will be penalized with -10 points. You should\n",
    "# report your final model of choice’s following measures on this hold-out sample:\n",
    "# – Brier-score\n",
    "# – ROC curve\n",
    "# – AUC\n",
    "# – Accuracy, sensitivity, specificity (for optimal threshold)\n",
    "# – Expected loss and optimal threshold\n",
    "# ∗ Expected loss is has the following parameters: loss(F N) = 15, loss(F P) = 3\n",
    "# – In addition, report the same descriptive statistics: number of firms, firms defaulted and stayed\n",
    "# alive. Mean of sales, minimum and maximum values. This helps our work to evaluate and compare\n",
    "# your results."
   ]
  },
  {
   "cell_type": "code",
   "execution_count": 165,
   "id": "66d08e76",
   "metadata": {},
   "outputs": [],
   "source": [
    "#Holdout sample using Model 3\n",
    "X3_holdout = holdout[variables[:18]]\n",
    "predictions = logistic_model3.predict(X3_holdout)"
   ]
  },
  {
   "cell_type": "code",
   "execution_count": 166,
   "id": "be2dbe1a",
   "metadata": {},
   "outputs": [
    {
     "name": "stdout",
     "output_type": "stream",
     "text": [
      "Holdout predictions value: 0.32594021215043395\n",
      "Number of Firms Predicted to Default: 338.0\n"
     ]
    }
   ],
   "source": [
    "# Assuming Model 3 outputs probabilities\n",
    "predicted_probabilities = logistic_model3.predict_proba(X3_holdout)[:, 1]\n",
    "\n",
    "# Set a threshold (e.g., 0.5) to classify instances\n",
    "threshold = optimal_threshold3\n",
    "predictions = (predicted_probabilities > threshold).astype(int)\n",
    "#see avg (array of predictions is 0s and 1s (those who didn't default and those who did))\n",
    "print(f\"Holdout predictions value: {np.mean(predictions)}\")\n",
    "print(f\"Number of Firms Predicted to Default: {holdout.shape[0] * np.mean(predictions)}\")\n"
   ]
  },
  {
   "cell_type": "code",
   "execution_count": null,
   "id": "6ca0f24f",
   "metadata": {},
   "outputs": [],
   "source": [
    "########DON'T KNOW IF THIS IS CORRECT!!!"
   ]
  },
  {
   "cell_type": "code",
   "execution_count": null,
   "id": "df10785f",
   "metadata": {},
   "outputs": [],
   "source": []
  },
  {
   "cell_type": "markdown",
   "id": "3ab52e09",
   "metadata": {},
   "source": [
    "## Using random forest to predict holdout set!!!????? *perfectly guesses 26 defaulted firms"
   ]
  },
  {
   "cell_type": "code",
   "execution_count": 239,
   "id": "d0aaf6e7",
   "metadata": {},
   "outputs": [],
   "source": [
    "#making sure to use my own holdout and training_sample\n",
    "X_train_sample = training[variables]\n",
    "y_train_sample = training.default\n",
    "\n",
    "X_holdout = holdout[variables]\n",
    "y_holdout = holdout.default"
   ]
  },
  {
   "cell_type": "code",
   "execution_count": 240,
   "id": "d68bf69a",
   "metadata": {},
   "outputs": [
    {
     "name": "stdout",
     "output_type": "stream",
     "text": [
      "Accuracy Score (Holdout): 0.9749276759884281\n",
      "Classification Report (Holdout):\n",
      "               precision    recall  f1-score   support\n",
      "\n",
      "           0       0.97      1.00      0.99      1011\n",
      "           1       0.00      0.00      0.00        26\n",
      "\n",
      "    accuracy                           0.97      1037\n",
      "   macro avg       0.49      0.50      0.49      1037\n",
      "weighted avg       0.95      0.97      0.96      1037\n",
      "\n",
      "AUC-ROC Score (Holdout): 0.8937457201552157\n"
     ]
    },
    {
     "data": {
      "image/png": "[encoded data removed]",
      "text/plain": [
       "<Figure size 640x480 with 1 Axes>"
      ]
     },
     "metadata": {},
     "output_type": "display_data"
    },
    {
     "name": "stdout",
     "output_type": "stream",
     "text": [
      "Optimal Threshold (Holdout): 0.04\n"
     ]
    }
   ],
   "source": [
    "###I also included the prediction of the holdout set here!!!!\n",
    "\n",
    "\n",
    "from sklearn.ensemble import RandomForestClassifier\n",
    "from sklearn.metrics import classification_report, accuracy_score, roc_auc_score, roc_curve\n",
    "\n",
    "# Assuming you have your own holdout set (X_holdout, y_holdout) and training sample (X_train_sample, y_train_sample)\n",
    "# Scaling the data\n",
    "X_train_sample_scaled = scaler.fit_transform(X_train_sample)\n",
    "X_holdout_scaled = scaler.transform(X_holdout)\n",
    "\n",
    "# Random Forest Classifier\n",
    "random_forest_model = RandomForestClassifier(n_estimators=100, random_state=42)\n",
    "\n",
    "# Fit the model on your training sample\n",
    "random_forest_model.fit(X_train_sample_scaled, y_train_sample)\n",
    "\n",
    "# Make predictions on the holdout set\n",
    "y_pred_rf_holdout = random_forest_model.predict(X_holdout_scaled)\n",
    "\n",
    "# Evaluate the model on your holdout set\n",
    "print(\"Accuracy Score (Holdout):\", accuracy_score(y_holdout, y_pred_rf_holdout))\n",
    "print(\"Classification Report (Holdout):\\n\", classification_report(y_holdout, y_pred_rf_holdout))\n",
    "print(\"AUC-ROC Score (Holdout):\", roc_auc_score(y_holdout, random_forest_model.predict_proba(X_holdout_scaled)[:, 1]))\n",
    "\n",
    "# ROC curve for holdout set\n",
    "fpr_rf_holdout, tpr_rf_holdout, thresholds_rf_holdout = roc_curve(y_holdout, random_forest_model.predict_proba(X_holdout_scaled)[:, 1])\n",
    "plt.plot(fpr_rf_holdout, tpr_rf_holdout, label='Random Forest ROC Curve (Holdout)')\n",
    "plt.xlabel('False Positive Rate')\n",
    "plt.ylabel('True Positive Rate')\n",
    "plt.title('Receiver Operating Characteristic (ROC) Curve (Holdout)')\n",
    "\n",
    "# Display AUC for holdout set\n",
    "plt.text(0.6, 0.2, f'AUC (Holdout): {roc_auc_score(y_holdout, random_forest_model.predict_proba(X_holdout_scaled)[:, 1]):.2f}', fontsize=14)\n",
    "plt.show()\n",
    "\n",
    "# Optimal threshold for holdout set\n",
    "optimal_threshold_rf_holdout = thresholds_rf_holdout[np.argmax(tpr_rf_holdout - fpr_rf_holdout)]\n",
    "print(f\"Optimal Threshold (Holdout): {optimal_threshold_rf_holdout:.2f}\")\n",
    "\n",
    "\n",
    "##is this right though? because it perfectly captured the 26 that defaulted???"
   ]
  }
 ],
 "metadata": {
  "kernelspec": {
   "display_name": "Python 3 (ipykernel)",
   "language": "python",
   "name": "python3"
  },
  "language_info": {
   "codemirror_mode": {
    "name": "ipython",
    "version": 3
   },
   "file_extension": ".py",
   "mimetype": "text/x-python",
   "name": "python",
   "nbconvert_exporter": "python",
   "pygments_lexer": "ipython3",
   "version": "3.11.5"
  }
 },
 "nbformat": 4,
 "nbformat_minor": 5
}
