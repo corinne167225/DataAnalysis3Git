{
 "cells": [
  {
   "cell_type": "markdown",
   "id": "9aea067a",
   "metadata": {},
   "source": [
    "# SAYT SOMETHING HERE\n",
    "Looking at the occupation of Legal Professions: Lawyers, Juges, Magistrates, and other judicial positions (occ2012 = 2100)\n",
    "\n",
    "https://osf.io/uqe8z = shows what variables mean"
   ]
  },
  {
   "cell_type": "markdown",
   "id": "05459282",
   "metadata": {},
   "source": [
    "### Importing Libraries"
   ]
  },
  {
   "cell_type": "code",
   "execution_count": 470,
   "id": "4206d46d",
   "metadata": {},
   "outputs": [],
   "source": [
    "import pandas as pd\n",
    "import numpy as np\n",
    "import warnings\n",
    "from plotnine import *\n",
    "import statsmodels.formula.api as smf\n",
    "from stargazer.stargazer import Stargazer\n",
    "from statsmodels.tools.eval_measures import mse,rmse\n",
    "from sklearn.metrics import mean_squared_error\n",
    "warnings.filterwarnings(\"ignore\")"
   ]
  },
  {
   "cell_type": "markdown",
   "id": "ba566ca2",
   "metadata": {},
   "source": [
    "### Reading Data & Exploratory Data Analysis"
   ]
  },
  {
   "cell_type": "code",
   "execution_count": 295,
   "id": "fa45a107",
   "metadata": {},
   "outputs": [],
   "source": [
    "#reading file. morg2014.csv was too large- had to turn into zip file\n",
    "file = pd.read_csv('ezyzip.zip')"
   ]
  },
  {
   "cell_type": "code",
   "execution_count": 296,
   "id": "68acea5d",
   "metadata": {},
   "outputs": [
    {
     "data": {
      "text/plain": [
       "(317056, 96)"
      ]
     },
     "execution_count": 296,
     "metadata": {},
     "output_type": "execute_result"
    }
   ],
   "source": [
    "#see data\n",
    "file.shape"
   ]
  },
  {
   "cell_type": "code",
   "execution_count": 297,
   "id": "d21342f5",
   "metadata": {
    "scrolled": false
   },
   "outputs": [
    {
     "data": {
      "text/html": [
       "<div>\n",
       "<style scoped>\n",
       "    .dataframe tbody tr th:only-of-type {\n",
       "        vertical-align: middle;\n",
       "    }\n",
       "\n",
       "    .dataframe tbody tr th {\n",
       "        vertical-align: top;\n",
       "    }\n",
       "\n",
       "    .dataframe thead th {\n",
       "        text-align: right;\n",
       "    }\n",
       "</style>\n",
       "<table border=\"1\" class=\"dataframe\">\n",
       "  <thead>\n",
       "    <tr style=\"text-align: right;\">\n",
       "      <th></th>\n",
       "      <th>hhid</th>\n",
       "      <th>intmonth</th>\n",
       "      <th>hurespli</th>\n",
       "      <th>minsamp</th>\n",
       "      <th>hrlonglk</th>\n",
       "      <th>hrsample</th>\n",
       "      <th>hrhhid2</th>\n",
       "      <th>serial</th>\n",
       "      <th>hhnum</th>\n",
       "      <th>state</th>\n",
       "      <th>...</th>\n",
       "      <th>ym_file</th>\n",
       "      <th>ym</th>\n",
       "      <th>ch02</th>\n",
       "      <th>ch35</th>\n",
       "      <th>ch613</th>\n",
       "      <th>ch1417</th>\n",
       "      <th>ch05</th>\n",
       "      <th>ihigrdc</th>\n",
       "      <th>docc00</th>\n",
       "      <th>dind02</th>\n",
       "    </tr>\n",
       "  </thead>\n",
       "  <tbody>\n",
       "    <tr>\n",
       "      <th>0</th>\n",
       "      <td>960021970039060</td>\n",
       "      <td>January</td>\n",
       "      <td>1.0</td>\n",
       "      <td>MIS 8</td>\n",
       "      <td>MIS 2-4 Or MIS 6-8 (link To</td>\n",
       "      <td>9100</td>\n",
       "      <td>91001</td>\n",
       "      <td>1</td>\n",
       "      <td>1</td>\n",
       "      <td>63</td>\n",
       "      <td>...</td>\n",
       "      <td>648</td>\n",
       "      <td>633</td>\n",
       "      <td>0</td>\n",
       "      <td>0</td>\n",
       "      <td>0</td>\n",
       "      <td>0</td>\n",
       "      <td>0</td>\n",
       "      <td>18.0</td>\n",
       "      <td>Legal occupations</td>\n",
       "      <td>Professional and Technical services</td>\n",
       "    </tr>\n",
       "    <tr>\n",
       "      <th>1</th>\n",
       "      <td>235004820400137</td>\n",
       "      <td>January</td>\n",
       "      <td>1.0</td>\n",
       "      <td>MIS 8</td>\n",
       "      <td>MIS 2-4 Or MIS 6-8 (link To</td>\n",
       "      <td>9100</td>\n",
       "      <td>91001</td>\n",
       "      <td>1</td>\n",
       "      <td>1</td>\n",
       "      <td>86</td>\n",
       "      <td>...</td>\n",
       "      <td>648</td>\n",
       "      <td>633</td>\n",
       "      <td>0</td>\n",
       "      <td>0</td>\n",
       "      <td>0</td>\n",
       "      <td>0</td>\n",
       "      <td>0</td>\n",
       "      <td>18.0</td>\n",
       "      <td>Legal occupations</td>\n",
       "      <td>Public Administration</td>\n",
       "    </tr>\n",
       "    <tr>\n",
       "      <th>2</th>\n",
       "      <td>985879730586005</td>\n",
       "      <td>January</td>\n",
       "      <td>3.0</td>\n",
       "      <td>MIS 8</td>\n",
       "      <td>MIS 2-4 Or MIS 6-8 (link To</td>\n",
       "      <td>9100</td>\n",
       "      <td>91001</td>\n",
       "      <td>1</td>\n",
       "      <td>1</td>\n",
       "      <td>71</td>\n",
       "      <td>...</td>\n",
       "      <td>648</td>\n",
       "      <td>633</td>\n",
       "      <td>0</td>\n",
       "      <td>0</td>\n",
       "      <td>0</td>\n",
       "      <td>1</td>\n",
       "      <td>0</td>\n",
       "      <td>18.0</td>\n",
       "      <td>Legal occupations</td>\n",
       "      <td>Professional and Technical services</td>\n",
       "    </tr>\n",
       "    <tr>\n",
       "      <th>3</th>\n",
       "      <td>94927107035608</td>\n",
       "      <td>January</td>\n",
       "      <td>2.0</td>\n",
       "      <td>MIS 4</td>\n",
       "      <td>MIS 2-4 Or MIS 6-8 (link To</td>\n",
       "      <td>9200</td>\n",
       "      <td>92001</td>\n",
       "      <td>1</td>\n",
       "      <td>1</td>\n",
       "      <td>93</td>\n",
       "      <td>...</td>\n",
       "      <td>648</td>\n",
       "      <td>645</td>\n",
       "      <td>0</td>\n",
       "      <td>0</td>\n",
       "      <td>1</td>\n",
       "      <td>0</td>\n",
       "      <td>0</td>\n",
       "      <td>18.0</td>\n",
       "      <td>Legal occupations</td>\n",
       "      <td>Professional and Technical services</td>\n",
       "    </tr>\n",
       "    <tr>\n",
       "      <th>4</th>\n",
       "      <td>97977400095618</td>\n",
       "      <td>January</td>\n",
       "      <td>1.0</td>\n",
       "      <td>MIS 4</td>\n",
       "      <td>MIS 2-4 Or MIS 6-8 (link To</td>\n",
       "      <td>9200</td>\n",
       "      <td>92001</td>\n",
       "      <td>1</td>\n",
       "      <td>1</td>\n",
       "      <td>93</td>\n",
       "      <td>...</td>\n",
       "      <td>648</td>\n",
       "      <td>645</td>\n",
       "      <td>0</td>\n",
       "      <td>0</td>\n",
       "      <td>0</td>\n",
       "      <td>1</td>\n",
       "      <td>0</td>\n",
       "      <td>18.0</td>\n",
       "      <td>Legal occupations</td>\n",
       "      <td>Professional and Technical services</td>\n",
       "    </tr>\n",
       "  </tbody>\n",
       "</table>\n",
       "<p>5 rows × 96 columns</p>\n",
       "</div>"
      ],
      "text/plain": [
       "              hhid intmonth  hurespli minsamp                     hrlonglk  \\\n",
       "0  960021970039060  January       1.0   MIS 8  MIS 2-4 Or MIS 6-8 (link To   \n",
       "1  235004820400137  January       1.0   MIS 8  MIS 2-4 Or MIS 6-8 (link To   \n",
       "2  985879730586005  January       3.0   MIS 8  MIS 2-4 Or MIS 6-8 (link To   \n",
       "3   94927107035608  January       2.0   MIS 4  MIS 2-4 Or MIS 6-8 (link To   \n",
       "4   97977400095618  January       1.0   MIS 4  MIS 2-4 Or MIS 6-8 (link To   \n",
       "\n",
       "   hrsample  hrhhid2  serial  hhnum state  ... ym_file   ym  ch02  ch35  \\\n",
       "0      9100    91001       1      1    63  ...     648  633     0     0   \n",
       "1      9100    91001       1      1    86  ...     648  633     0     0   \n",
       "2      9100    91001       1      1    71  ...     648  633     0     0   \n",
       "3      9200    92001       1      1    93  ...     648  645     0     0   \n",
       "4      9200    92001       1      1    93  ...     648  645     0     0   \n",
       "\n",
       "   ch613  ch1417  ch05  ihigrdc             docc00  \\\n",
       "0      0       0     0     18.0  Legal occupations   \n",
       "1      0       0     0     18.0  Legal occupations   \n",
       "2      0       1     0     18.0  Legal occupations   \n",
       "3      1       0     0     18.0  Legal occupations   \n",
       "4      0       1     0     18.0  Legal occupations   \n",
       "\n",
       "                                dind02  \n",
       "0  Professional and Technical services  \n",
       "1                Public Administration  \n",
       "2  Professional and Technical services  \n",
       "3  Professional and Technical services  \n",
       "4  Professional and Technical services  \n",
       "\n",
       "[5 rows x 96 columns]"
      ]
     },
     "execution_count": 297,
     "metadata": {},
     "output_type": "execute_result"
    }
   ],
   "source": [
    "#Legal Professions like lawyers, judges, magistrates, and other judicial positions\n",
    "#at start: 1,666 observations\n",
    "law = file.loc[file['occ2012'] == 2100].reset_index(drop=True)\n",
    "law.head()"
   ]
  },
  {
   "cell_type": "code",
   "execution_count": 299,
   "id": "fe866763",
   "metadata": {
    "scrolled": false
   },
   "outputs": [
    {
     "data": {
      "image/png": "[encoded data removed]",
      "text/plain": [
       "<Figure size 640x480 with 1 Axes>"
      ]
     },
     "metadata": {
      "image/png": {
       "height": 480,
       "width": 640
      }
     },
     "output_type": "display_data"
    },
    {
     "data": {
      "text/plain": [
       "<Figure Size: (640 x 480)>"
      ]
     },
     "execution_count": 299,
     "metadata": {},
     "output_type": "execute_result"
    }
   ],
   "source": [
    "#checking distribution of 'uhourse' to see if imputation using median or mean is better. not normally distributed,\n",
    "#therefore, will use median to impute\n",
    "(ggplot(law, aes(x='uhourse')) +\n",
    "    geom_histogram(binwidth= 5, colour=\"black\", fill=\"white\"))"
   ]
  },
  {
   "cell_type": "code",
   "execution_count": 300,
   "id": "21336471",
   "metadata": {},
   "outputs": [
    {
     "data": {
      "image/png": "[encoded data removed]",
      "text/plain": [
       "<Figure size 640x480 with 1 Axes>"
      ]
     },
     "metadata": {
      "image/png": {
       "height": 480,
       "width": 640
      }
     },
     "output_type": "display_data"
    },
    {
     "data": {
      "text/plain": [
       "<Figure Size: (640 x 480)>"
      ]
     },
     "execution_count": 300,
     "metadata": {},
     "output_type": "execute_result"
    }
   ],
   "source": [
    "#checking distribution of 'earnwke' to see if imputation using median or mean is better. \n",
    "(ggplot(law, aes(x='earnwke')) +\n",
    "    geom_histogram(binwidth= 100, colour=\"black\", fill=\"white\"))"
   ]
  },
  {
   "cell_type": "code",
   "execution_count": 301,
   "id": "b97e1121",
   "metadata": {},
   "outputs": [
    {
     "name": "stdout",
     "output_type": "stream",
     "text": [
      "law.earnwke mean:1838.655238493724\n",
      "law.earnwke median:1730.76\n"
     ]
    }
   ],
   "source": [
    "print(f'law.earnwke mean:{law.earnwke.mean()}')\n",
    "print(f'law.earnwke median:{law.earnwke.median()}')\n",
    "#As these 2 values are close together, I am opting for the mean value due to over 300 observations falling in the\n",
    "#final bin"
   ]
  },
  {
   "cell_type": "code",
   "execution_count": 474,
   "id": "27d123f4",
   "metadata": {},
   "outputs": [
    {
     "data": {
      "text/plain": [
       "ownchild\n",
       "False    1666\n",
       "Name: count, dtype: int64"
      ]
     },
     "execution_count": 474,
     "metadata": {},
     "output_type": "execute_result"
    }
   ],
   "source": [
    "#checking for null values:\n",
    "\n",
    "#age: no missing values\n",
    "law.age.isnull().value_counts()\n",
    "\n",
    "#sex: no missing values\n",
    "law.sex.isnull().value_counts()\n",
    "\n",
    "#uhourse: 189 null. using median to impute\n",
    "uhourse_median_value = law.uhourse.median()\n",
    "law.uhourse.fillna(value=uhourse_median_value, inplace = True)\n",
    "law.uhourse.isnull().value_counts()\n",
    "#no missing values anymore\n",
    "\n",
    "#grade92: no missing values\n",
    "law.grade92.isnull().value_counts()\n",
    "\n",
    "#earnwke: 471 null. using mean to impute\n",
    "earnwke_mean_value = law.earnwke.mean()\n",
    "law.earnwke.fillna(value=earnwke_mean_value, inplace = True)\n",
    "law.earnwke.isnull().value_counts()\n",
    "#no missing values anymore\n",
    "\n",
    "#state: no missing values\n",
    "law.state.isnull().value_counts()\n",
    "#USING DIVISIONS instead\n",
    "\n",
    "#race: no missing values\n",
    "law.race.isnull().value_counts()\n",
    "\n",
    "#prcitshp: no missing values\n",
    "law.prcitshp.isnull().value_counts()\n",
    "#USING dummy variable instead of str\n",
    "\n",
    "#marital: no missing values\n",
    "law.marital.isnull().value_counts()\n",
    "#USING married and single dummy variables\n",
    "\n",
    "#ownchild: no missing values\n",
    "law.ownchild.isnull().value_counts()\n"
   ]
  },
  {
   "cell_type": "code",
   "execution_count": 475,
   "id": "a75a4d58",
   "metadata": {
    "scrolled": true
   },
   "outputs": [
    {
     "data": {
      "text/plain": [
       "0    28.846000\n",
       "1    34.615250\n",
       "2    45.966381\n",
       "3    45.966381\n",
       "4    46.140000\n",
       "Name: earnperhr, dtype: float64"
      ]
     },
     "execution_count": 475,
     "metadata": {},
     "output_type": "execute_result"
    }
   ],
   "source": [
    "#creation of outcome variable (y)\n",
    "law['earnperhr'] = law['earnwke']/law['uhourse']\n",
    "law['earnperhr'][:5]"
   ]
  },
  {
   "cell_type": "code",
   "execution_count": 303,
   "id": "9f9f9c95",
   "metadata": {},
   "outputs": [
    {
     "name": "stdout",
     "output_type": "stream",
     "text": [
      "['63' '86' '71' '93' '84' 'CT' '53' '59' '58' '82' 'IL' 'IN' '47' '61'\n",
      " '72' '52' 'MA' 'MI' 'MN' '64' '46' '88' 'NJ' '85' 'NY' '56' 'ND' 'OH'\n",
      " '92' 'PA' 'RI' '57' '62' '74' 'VT' '54' '91' 'WI' '94' '51' '95' 'IA'\n",
      " 'MO' 'NH' 'SD' '87' '55' '81' '73' '83' '7' '9' 9 8 1 5 3 4 6 7 2]\n"
     ]
    }
   ],
   "source": [
    "#fixing state variable (some were int and some were str), making into divisions\n",
    "print(law.state.unique())\n",
    "\n",
    "#NE Division\n",
    "law.state.replace('MA', 11, inplace = True)\n",
    "law.state.replace('NH', 12, inplace = True)\n",
    "law.state.replace('VT', 13, inplace = True)\n",
    "law.state.replace('MA', 14, inplace = True)\n",
    "law.state.replace('RI', 15, inplace = True)\n",
    "law.state.replace('CT', 16, inplace = True)\n",
    "#Middle Atlantic Division\n",
    "law.state.replace('NY', 21, inplace = True)\n",
    "law.state.replace('NJ', 22, inplace = True)\n",
    "law.state.replace('PA', 23, inplace = True)\n",
    "#East North Central Division\n",
    "law.state.replace('OH', 31, inplace = True)\n",
    "law.state.replace('IN', 32, inplace = True)\n",
    "law.state.replace('IL', 33, inplace = True)\n",
    "law.state.replace('MI', 34, inplace = True)\n",
    "law.state.replace('WI', 35, inplace = True)\n",
    "#West North Central Division\n",
    "law.state.replace('MN', 41, inplace = True)\n",
    "law.state.replace('IA', 42, inplace = True)\n",
    "law.state.replace('MO', 43, inplace = True)\n",
    "law.state.replace('ND', 44, inplace = True)\n",
    "law.state.replace('SD', 45, inplace = True)\n",
    "law.state.replace('46', 46, inplace = True)\n",
    "law.state.replace('47', 47, inplace = True)\n",
    "#South Atlantic Division\n",
    "law.state.replace('51', 51, inplace = True)\n",
    "law.state.replace('52', 52, inplace = True)\n",
    "law.state.replace('53', 53, inplace = True)\n",
    "law.state.replace('54', 54, inplace = True)\n",
    "law.state.replace('55', 55, inplace = True)\n",
    "law.state.replace('56', 56, inplace = True)\n",
    "law.state.replace('57', 57, inplace = True)\n",
    "law.state.replace('58', 58, inplace = True)\n",
    "law.state.replace('59', 59, inplace = True)\n",
    "#East South Central Division\n",
    "law.state.replace('61', 61, inplace = True)\n",
    "law.state.replace('62', 62, inplace = True)\n",
    "law.state.replace('63', 63, inplace = True)\n",
    "law.state.replace('64', 64, inplace = True)\n",
    "#West South Central Division\n",
    "law.state.replace('71', 71, inplace = True)\n",
    "law.state.replace('72', 72, inplace = True)\n",
    "law.state.replace('73', 73, inplace = True)\n",
    "law.state.replace('74', 74, inplace = True)\n",
    "#Mountain Division\n",
    "law.state.replace('81', 81, inplace = True)\n",
    "law.state.replace('82', 82, inplace = True)\n",
    "law.state.replace('83', 83, inplace = True)\n",
    "law.state.replace('84', 84, inplace = True)\n",
    "law.state.replace('85', 85, inplace = True)\n",
    "law.state.replace('86', 86, inplace = True)\n",
    "law.state.replace('87', 87, inplace = True)\n",
    "law.state.replace('88', 88, inplace = True)\n",
    "#Pacific Division\n",
    "law.state.replace('91', 91, inplace = True)\n",
    "law.state.replace('92', 92, inplace = True)\n",
    "law.state.replace('93', 93, inplace = True)\n",
    "law.state.replace('94', 94, inplace = True)\n",
    "law.state.replace('95', 95, inplace = True)\n",
    "#left over state numbers\n",
    "#putting all numbers 1-9 into their divisions (1st number is the division they are in)\n",
    "#doesn't matter what the state is because the categories will be their divisions\n",
    "law.state.replace('7', 71, inplace = True)\n",
    "law.state.replace('9', 91, inplace = True)\n",
    "law.state.replace(1, 11, inplace = True)\n",
    "law.state.replace(2, 21, inplace = True)\n",
    "law.state.replace(3, 31, inplace = True)\n",
    "law.state.replace(4, 41, inplace = True)\n",
    "law.state.replace(5, 51, inplace = True)\n",
    "law.state.replace(6, 61, inplace = True)\n",
    "law.state.replace(7, 71, inplace = True)\n",
    "law.state.replace(8, 81, inplace = True)\n",
    "law.state.replace(9, 91, inplace = True)\n",
    "\n",
    "#creating categories for state divisions (dummy variables)    \n",
    "law['NE_Division'] = law['state'].isin([11,12,13,14,15,16]).astype(int)\n",
    "law['Middle_Atlantic_Division'] = law['state'].isin([21,22,23]).astype(int)\n",
    "law['East_North_Central_Division'] = law['state'].isin([31,32,33,34,35]).astype(int)\n",
    "law['West_North_Central_Division'] = law['state'].isin([41,42,43,44,45,46,47]).astype(int)\n",
    "law['South_Atlantic_Division'] = law['state'].isin([51,52,53,54,55,56,57,58,59]).astype(int)\n",
    "law['East_South_Central_Division'] = law['state'].isin([61,62,63,64]).astype(int)\n",
    "law['West_South_Central_Division'] = law['state'].isin([71,72,73,74]).astype(int)\n",
    "law['Mountain_Division'] = law['state'].isin([81,82,83,84,85,86,87,88]).astype(int)\n",
    "law['Pacific_Division'] = law['state'].isin([91,92,93,94,95]).astype(int)"
   ]
  },
  {
   "cell_type": "code",
   "execution_count": 304,
   "id": "eb353bd0",
   "metadata": {},
   "outputs": [],
   "source": [
    "#fixing race category to be dummy variable\n",
    "law['race_white'] = (law['race'] == 1).astype(int)\n",
    "law['race_black'] = (law['race'] == 2).astype(int)\n",
    "law['race_american_indian'] = (law['race'] == 3).astype(int)\n",
    "law['race_asian_or_pacific_is'] = (law['race'] == 4).astype(int)\n",
    "law['race_other'] = (law['race'] == 5).astype(int)\n",
    "law['race_mixed_black_white'] = (law['race'] == 6).astype(int)\n",
    "law['race_mixed_white_american_indian'] = (law['race'] == 7).astype(int)\n",
    "law['race_mixed_white_asian'] = (law['race'] == 8).astype(int)\n",
    "law['race_mixed_black_american_indian'] = (law['race'] == 10).astype(int)\n",
    "law['race_mixed_black_asian'] = (law['race'] == 11).astype(int)"
   ]
  },
  {
   "cell_type": "code",
   "execution_count": 305,
   "id": "61fb6d18",
   "metadata": {},
   "outputs": [],
   "source": [
    "#fixing marital variable\n",
    "law['married'] = law['marital'].isin([1,2,3]).astype(int)\n",
    "law['single'] = law['marital'].isin([4,5,6,7]).astype(int)"
   ]
  },
  {
   "cell_type": "code",
   "execution_count": 306,
   "id": "661a0803",
   "metadata": {},
   "outputs": [],
   "source": [
    "#creating dummy variable for sex (female)\n",
    "law['female'] = (law[\"sex\"] == 2).astype(int)"
   ]
  },
  {
   "cell_type": "code",
   "execution_count": 307,
   "id": "21754f26",
   "metadata": {},
   "outputs": [],
   "source": [
    "#creating dummy variable for grade92\n",
    "law['grade92'].min() #33, 5th-6th grade (middle school)\n",
    "law['grade92'].max() #46, doctorate degree\n",
    "law['grade92'].mean() #about 45, professional school degree (includes JD)\n",
    "law.loc[law['grade92'] < 45] #only 185 observations with grade92 less than 45\n",
    "law['ed_low'] = (law['grade92']< 45).astype(int) #less than professional degree (includes bachelors and masters)\n",
    "law['ed_high'] = (law['grade92']>=45).astype(int) #equal to or higher than professional degree (includes professional degree and doctorate)"
   ]
  },
  {
   "cell_type": "code",
   "execution_count": 308,
   "id": "2268986c",
   "metadata": {},
   "outputs": [],
   "source": [
    "#fixing prcitshp variable to be int instead of str\n",
    "law.prcitshp.replace('Native, Born In US', 1, inplace = True)\n",
    "law.prcitshp.replace('Foreign Born, US Cit By Naturalization', 1, inplace = True)\n",
    "law.prcitshp.replace('Foreign Born, Not a US Citizen', 0, inplace = True)\n",
    "law.prcitshp.replace('Native, Born Abroad Of US Parent(s)', 1, inplace = True)\n",
    "law.prcitshp.replace('Native, Born in PR or US Outlying Area', 1, inplace = True)\n",
    "\n",
    "#making prcitshp a dummy variable\n",
    "law['us_citizen'] = (law['prcitshp'] == 1).astype(int)"
   ]
  },
  {
   "cell_type": "code",
   "execution_count": 309,
   "id": "05745d7a",
   "metadata": {},
   "outputs": [],
   "source": [
    "#fixing ownchild to be dummy variable\n",
    "law['no_child'] = (law['ownchild'] == 0).astype(int)\n",
    "law['one_child'] = (law['ownchild'] == 1).astype(int)\n",
    "law['two_child'] = (law['ownchild'] == 2).astype(int)\n",
    "law['three_child'] = (law['ownchild'] == 3).astype(int)\n",
    "law['four_child'] = (law['ownchild'] == 4).astype(int)\n",
    "law['five_child'] = (law['ownchild'] == 5).astype(int)\n",
    "law['six_child'] = (law['ownchild'] == 6).astype(int)"
   ]
  },
  {
   "cell_type": "code",
   "execution_count": 310,
   "id": "782ddb41",
   "metadata": {},
   "outputs": [],
   "source": [
    "###CORINNEE!!! make legends for some of these variables (example: race is integers...give \n",
    "#the legend of what that means!!!) = turn into markdown\n",
    "#age = age of employee in years\n",
    "#sex = 1 if male, 2 if female\n",
    "#uhourse = usual hours worked per week\n",
    "#grade92 = education level (ints 31-46 representing Kindergarten-doctorate degree)\n",
    "#earnwke = weekly earnings in USD\n",
    "#state = in which state the employee resides\n",
    "#race = 1:White, 2:Black, 3:American Indian, 4:Asian or Pacific Islander, 5:Other, 6:Mixed(White/Black), 7:Mixed(White/American Indian), 8:Mixed(White/Asian), 10:Mixed(Black/American Indian), 11:Mixed(Black/Asian)\n",
    "#prcitshp = 1 if American citizen, 0 if non-American citizen\n",
    "#marital = 1-3 if married, 4-7 if currently single\n",
    "#ownchild = number of children employee has in primary family"
   ]
  },
  {
   "cell_type": "code",
   "execution_count": 311,
   "id": "f299775d",
   "metadata": {},
   "outputs": [],
   "source": [
    "###CORINNE'S PLAN\n",
    "# y = earnings per hour ('earnperhr')\n",
    "    #this means... earnwke (weekly earnings)/uhourse\n",
    "# x = age(int), sex(int), uhourse (usual work hours)(int), grade92 (highest educational grade completed)(int)\n",
    "# Model 1: age, sex(female dummy)\n",
    "# Model 2: age, sex(female dummy), uhourse, grade92/ed_low/high\n",
    "# Model 3: age, sex(female dummy), uhourse, grade92/ed_low/high, state division, race, prcitshp,\n",
    "# Model 4: age, sex(female dummy), uhourse, grade92/ed_low/high, state division, race, prcitshp, marital, ownchild\n",
    "\n",
    "#could do 'state' as a variable, but would have to create dummy variables... (str)\n",
    "#could do 'race' as a variable, but would have to create dummy variables... (int)\n",
    "#could do 'prcitshp' (citizenship status) as a variable, but would have to create dummy variable...(str)\n",
    "#could do 'marital' as variable...dummy variables would be 1,2,3 = 'married', 4,5,6,7 = 'single'(int)\n",
    "#could do 'ownchild' as variable = shows number of children less than 18 in the primary family(int)\n",
    "\n",
    "#deleting ethnic category because only 68/1,666 were not null!"
   ]
  },
  {
   "cell_type": "markdown",
   "id": "9792cd3a",
   "metadata": {},
   "source": [
    "## BIC in full sample"
   ]
  },
  {
   "cell_type": "code",
   "execution_count": 312,
   "id": "fc5d8fee",
   "metadata": {},
   "outputs": [
    {
     "name": "stdout",
     "output_type": "stream",
     "text": [
      "                            OLS Regression Results                            \n",
      "==============================================================================\n",
      "Dep. Variable:              earnperhr   R-squared:                       0.034\n",
      "Model:                            OLS   Adj. R-squared:                  0.032\n",
      "Method:                 Least Squares   F-statistic:                     17.32\n",
      "Date:                Wed, 17 Jan 2024   Prob (F-statistic):           3.92e-08\n",
      "Time:                        16:22:24   Log-Likelihood:                -4786.5\n",
      "No. Observations:                1119   AIC:                             9579.\n",
      "Df Residuals:                    1116   BIC:                             9594.\n",
      "Df Model:                           2                                         \n",
      "Covariance Type:                  HC1                                         \n",
      "==============================================================================\n",
      "                 coef    std err          z      P>|z|      [0.025      0.975]\n",
      "------------------------------------------------------------------------------\n",
      "Intercept     33.9342      2.076     16.350      0.000      29.866      38.002\n",
      "age            0.1914      0.045      4.274      0.000       0.104       0.279\n",
      "female        -3.8720      1.088     -3.559      0.000      -6.004      -1.740\n",
      "==============================================================================\n",
      "Omnibus:                       13.761   Durbin-Watson:                   1.806\n",
      "Prob(Omnibus):                  0.001   Jarque-Bera (JB):               13.916\n",
      "Skew:                           0.268   Prob(JB):                     0.000951\n",
      "Kurtosis:                       3.106   Cond. No.                         189.\n",
      "==============================================================================\n",
      "\n",
      "Notes:\n",
      "[1] Standard Errors are heteroscedasticity robust (HC1)\n"
     ]
    }
   ],
   "source": [
    "reg1 = smf.ols(formula=\"earnperhr~age+ female\", data=law).fit(cov_type=\"HC1\")\n",
    "#Male is the reference category for female\n",
    "print(reg1.summary())"
   ]
  },
  {
   "cell_type": "code",
   "execution_count": 313,
   "id": "97c5f142",
   "metadata": {},
   "outputs": [
    {
     "data": {
      "text/plain": [
       "9594.0812746174"
      ]
     },
     "execution_count": 313,
     "metadata": {},
     "output_type": "execute_result"
    }
   ],
   "source": [
    "reg1.bic"
   ]
  },
  {
   "cell_type": "code",
   "execution_count": 314,
   "id": "f03df31b",
   "metadata": {},
   "outputs": [
    {
     "name": "stdout",
     "output_type": "stream",
     "text": [
      "                            OLS Regression Results                            \n",
      "==============================================================================\n",
      "Dep. Variable:              earnperhr   R-squared:                       0.076\n",
      "Model:                            OLS   Adj. R-squared:                  0.072\n",
      "Method:                 Least Squares   F-statistic:                     21.70\n",
      "Date:                Wed, 17 Jan 2024   Prob (F-statistic):           2.94e-17\n",
      "Time:                        16:22:24   Log-Likelihood:                -4761.9\n",
      "No. Observations:                1119   AIC:                             9534.\n",
      "Df Residuals:                    1114   BIC:                             9559.\n",
      "Df Model:                           4                                         \n",
      "Covariance Type:                  HC1                                         \n",
      "==============================================================================\n",
      "                 coef    std err          z      P>|z|      [0.025      0.975]\n",
      "------------------------------------------------------------------------------\n",
      "Intercept     31.3915      3.594      8.735      0.000      24.348      38.435\n",
      "age            0.1794      0.043      4.140      0.000       0.094       0.264\n",
      "female        -3.6550      1.080     -3.384      0.001      -5.772      -1.538\n",
      "uhourse       -0.1561      0.063     -2.474      0.013      -0.280      -0.032\n",
      "ed_high       11.3708      1.656      6.864      0.000       8.124      14.617\n",
      "==============================================================================\n",
      "Omnibus:                        5.709   Durbin-Watson:                   1.800\n",
      "Prob(Omnibus):                  0.058   Jarque-Bera (JB):                5.615\n",
      "Skew:                           0.170   Prob(JB):                       0.0603\n",
      "Kurtosis:                       3.066   Cond. No.                         465.\n",
      "==============================================================================\n",
      "\n",
      "Notes:\n",
      "[1] Standard Errors are heteroscedasticity robust (HC1)\n"
     ]
    }
   ],
   "source": [
    "reg2 = smf.ols(formula=\"earnperhr~age+ female+uhourse+ed_high\", data=law).fit(cov_type=\"HC1\")\n",
    "#Male is the reference category for female, ed_low is the reference category for ed_high\n",
    "print(reg2.summary())"
   ]
  },
  {
   "cell_type": "code",
   "execution_count": 315,
   "id": "40a7dc50",
   "metadata": {},
   "outputs": [
    {
     "data": {
      "text/plain": [
       "9558.988087975542"
      ]
     },
     "execution_count": 315,
     "metadata": {},
     "output_type": "execute_result"
    }
   ],
   "source": [
    "reg2.bic"
   ]
  },
  {
   "cell_type": "code",
   "execution_count": 316,
   "id": "b4bd1ff8",
   "metadata": {},
   "outputs": [
    {
     "name": "stdout",
     "output_type": "stream",
     "text": [
      "                            OLS Regression Results                            \n",
      "==============================================================================\n",
      "Dep. Variable:              earnperhr   R-squared:                       0.109\n",
      "Model:                            OLS   Adj. R-squared:                  0.091\n",
      "Method:                 Least Squares   F-statistic:                     107.3\n",
      "Date:                Wed, 17 Jan 2024   Prob (F-statistic):          3.05e-234\n",
      "Time:                        16:22:24   Log-Likelihood:                -4741.4\n",
      "No. Observations:                1119   AIC:                             9529.\n",
      "Df Residuals:                    1096   BIC:                             9644.\n",
      "Df Model:                          22                                         \n",
      "Covariance Type:                  HC1                                         \n",
      "====================================================================================================\n",
      "                                       coef    std err          z      P>|z|      [0.025      0.975]\n",
      "----------------------------------------------------------------------------------------------------\n",
      "Intercept                           36.7274      4.547      8.077      0.000      27.815      45.640\n",
      "age                                  0.1863      0.044      4.269      0.000       0.101       0.272\n",
      "female                              -3.9988      1.086     -3.681      0.000      -6.128      -1.870\n",
      "uhourse                             -0.1760      0.064     -2.734      0.006      -0.302      -0.050\n",
      "ed_high                             11.7910      1.704      6.918      0.000       8.451      15.131\n",
      "NE_Division                         -2.4265      2.321     -1.046      0.296      -6.975       2.122\n",
      "Middle_Atlantic_Division            -3.7945      2.057     -1.844      0.065      -7.827       0.238\n",
      "East_North_Central_Division         -3.2843      2.449     -1.341      0.180      -8.084       1.516\n",
      "West_North_Central_Division         -3.8346      2.292     -1.673      0.094      -8.327       0.658\n",
      "South_Atlantic_Division              2.4769      1.824      1.358      0.174      -1.098       6.052\n",
      "East_South_Central_Division         -7.7732      2.869     -2.709      0.007     -13.397      -2.150\n",
      "West_South_Central_Division         -1.5807      2.468     -0.641      0.522      -6.417       3.256\n",
      "Mountain_Division                   -3.6606      2.150     -1.703      0.089      -7.874       0.553\n",
      "race_black                           3.1590      3.031      1.042      0.297      -2.781       9.099\n",
      "race_american_indian                -3.2509      6.108     -0.532      0.595     -15.223       8.721\n",
      "race_asian_or_pacific_is            -2.8051      2.122     -1.322      0.186      -6.965       1.355\n",
      "race_other                           4.4812      2.212      2.026      0.043       0.145       8.817\n",
      "race_mixed_black_white              -8.4604      1.620     -5.222      0.000     -11.636      -5.285\n",
      "race_mixed_white_american_indian     6.2871      8.898      0.707      0.480     -11.153      23.728\n",
      "race_mixed_white_asian               1.3930      6.616      0.211      0.833     -11.574      14.360\n",
      "race_mixed_black_american_indian    -7.1807      1.845     -3.893      0.000     -10.796      -3.566\n",
      "race_mixed_black_asian              20.1214      2.973      6.768      0.000      14.295      25.948\n",
      "us_citizen                          -3.9523      2.625     -1.506      0.132      -9.097       1.193\n",
      "==============================================================================\n",
      "Omnibus:                        2.831   Durbin-Watson:                   1.859\n",
      "Prob(Omnibus):                  0.243   Jarque-Bera (JB):                2.769\n",
      "Skew:                           0.082   Prob(JB):                        0.250\n",
      "Kurtosis:                       3.180   Cond. No.                     2.29e+03\n",
      "==============================================================================\n",
      "\n",
      "Notes:\n",
      "[1] Standard Errors are heteroscedasticity robust (HC1)\n",
      "[2] The condition number is large, 2.29e+03. This might indicate that there are\n",
      "strong multicollinearity or other numerical problems.\n"
     ]
    }
   ],
   "source": [
    "reg3 = smf.ols(formula='''earnperhr~age+ female+uhourse+ed_high+NE_Division+Middle_Atlantic_Division+ \n",
    "                East_North_Central_Division+West_North_Central_Division+South_Atlantic_Division+\n",
    "                East_South_Central_Division+West_South_Central_Division+\n",
    "                Mountain_Division+race_black+race_american_indian+\n",
    "                race_asian_or_pacific_is+race_other+race_mixed_black_white+\n",
    "                race_mixed_white_american_indian+race_mixed_white_asian+\n",
    "                race_mixed_black_american_indian+race_mixed_black_asian+us_citizen''', data=law).fit(cov_type=\"HC1\")\n",
    "#Male is the reference category for female, ed_low is the reference category for ed_high\n",
    "#Pacific_Division is the reference category for all listed state divisions\n",
    "#race_white is the reference category for all listed races\n",
    "#Not being a US citizen is the reference category for us_citizen\n",
    "print(reg3.summary())"
   ]
  },
  {
   "cell_type": "code",
   "execution_count": 317,
   "id": "66063b76",
   "metadata": {},
   "outputs": [
    {
     "data": {
      "text/plain": [
       "9644.230054440795"
      ]
     },
     "execution_count": 317,
     "metadata": {},
     "output_type": "execute_result"
    }
   ],
   "source": [
    "reg3.bic\n",
    "#strong multicollinearity could be due to the fact that many of the observations have race of white. there are only\n",
    "#there are only 199 with other races specified"
   ]
  },
  {
   "cell_type": "code",
   "execution_count": 318,
   "id": "d2c4a61b",
   "metadata": {},
   "outputs": [
    {
     "name": "stdout",
     "output_type": "stream",
     "text": [
      "                            OLS Regression Results                            \n",
      "==============================================================================\n",
      "Dep. Variable:              earnperhr   R-squared:                       0.120\n",
      "Model:                            OLS   Adj. R-squared:                  0.097\n",
      "Method:                 Least Squares   F-statistic:                     94.84\n",
      "Date:                Wed, 17 Jan 2024   Prob (F-statistic):          6.31e-247\n",
      "Time:                        16:22:24   Log-Likelihood:                -4734.3\n",
      "No. Observations:                1119   AIC:                             9527.\n",
      "Df Residuals:                    1090   BIC:                             9672.\n",
      "Df Model:                          28                                         \n",
      "Covariance Type:                  HC1                                         \n",
      "====================================================================================================\n",
      "                                       coef    std err          z      P>|z|      [0.025      0.975]\n",
      "----------------------------------------------------------------------------------------------------\n",
      "Intercept                           34.7120      4.479      7.749      0.000      25.933      43.492\n",
      "age                                  0.2184      0.045      4.840      0.000       0.130       0.307\n",
      "female                              -3.9767      1.088     -3.657      0.000      -6.108      -1.845\n",
      "uhourse                             -0.1860      0.065     -2.861      0.004      -0.313      -0.059\n",
      "ed_high                             11.5240      1.702      6.771      0.000       8.188      14.860\n",
      "NE_Division                         -2.5944      2.310     -1.123      0.261      -7.123       1.934\n",
      "Middle_Atlantic_Division            -3.9962      2.053     -1.947      0.052      -8.019       0.027\n",
      "East_North_Central_Division         -3.4975      2.445     -1.430      0.153      -8.291       1.295\n",
      "West_North_Central_Division         -4.1986      2.329     -1.803      0.071      -8.763       0.366\n",
      "South_Atlantic_Division              2.5678      1.816      1.414      0.157      -0.992       6.128\n",
      "East_South_Central_Division         -7.6713      2.861     -2.681      0.007     -13.279      -2.063\n",
      "West_South_Central_Division         -1.4061      2.468     -0.570      0.569      -6.244       3.432\n",
      "Mountain_Division                   -4.2871      2.155     -1.990      0.047      -8.510      -0.064\n",
      "race_black                           2.8811      3.010      0.957      0.339      -3.019       8.781\n",
      "race_american_indian                -2.6113      5.869     -0.445      0.656     -14.114       8.892\n",
      "race_asian_or_pacific_is            -2.2971      2.104     -1.092      0.275      -6.420       1.826\n",
      "race_other                           2.8454      2.342      1.215      0.224      -1.744       7.435\n",
      "race_mixed_black_white             -10.2511      1.969     -5.206      0.000     -14.110      -6.392\n",
      "race_mixed_white_american_indian     6.7766      9.547      0.710      0.478     -11.936      25.489\n",
      "race_mixed_white_asian               1.9779      6.562      0.301      0.763     -10.883      14.839\n",
      "race_mixed_black_american_indian    -7.4352      1.944     -3.825      0.000     -11.245      -3.625\n",
      "race_mixed_black_asian              21.1532      2.952      7.166      0.000      15.367      26.939\n",
      "us_citizen                          -2.5231      2.539     -0.994      0.320      -7.500       2.454\n",
      "married                             -1.8191      1.247     -1.458      0.145      -4.264       0.626\n",
      "one_child                            0.1575      1.660      0.095      0.924      -3.095       3.410\n",
      "two_child                            3.4315      1.482      2.315      0.021       0.527       6.336\n",
      "three_child                          6.8223      2.191      3.114      0.002       2.528      11.117\n",
      "four_child                           6.5106      3.956      1.646      0.100      -1.243      14.265\n",
      "five_child                          -4.5236      2.100     -2.154      0.031      -8.639      -0.408\n",
      "six_child                                 0          0        nan        nan           0           0\n",
      "==============================================================================\n",
      "Omnibus:                        2.766   Durbin-Watson:                   1.884\n",
      "Prob(Omnibus):                  0.251   Jarque-Bera (JB):                2.792\n",
      "Skew:                           0.063   Prob(JB):                        0.248\n",
      "Kurtosis:                       3.210   Cond. No.                     1.01e+16\n",
      "==============================================================================\n",
      "\n",
      "Notes:\n",
      "[1] Standard Errors are heteroscedasticity robust (HC1)\n",
      "[2] The smallest eigenvalue is 4.63e-26. This might indicate that there are\n",
      "strong multicollinearity problems or that the design matrix is singular.\n"
     ]
    }
   ],
   "source": [
    "reg4 = smf.ols(formula='''earnperhr~age+ female+uhourse+ed_high+NE_Division+Middle_Atlantic_Division+ \n",
    "                East_North_Central_Division+West_North_Central_Division+South_Atlantic_Division+\n",
    "                East_South_Central_Division+West_South_Central_Division+\n",
    "                Mountain_Division+race_black+race_american_indian+\n",
    "                race_asian_or_pacific_is+race_other+race_mixed_black_white+\n",
    "                race_mixed_white_american_indian+race_mixed_white_asian+\n",
    "                race_mixed_black_american_indian+race_mixed_black_asian+us_citizen\n",
    "                +married+one_child+two_child+three_child+\n",
    "                four_child+five_child+six_child''', data=law).fit(cov_type=\"HC1\")\n",
    "#Male is the reference category for female, ed_low is the reference category for ed_high\n",
    "#Pacific_Division is the reference category for all listed state divisions\n",
    "#race_white is the reference category for all listed races\n",
    "#Not being a US citizen is the reference category for us_citizen\n",
    "#single is the reference category for married\n",
    "#no_child is the reference category for those with 1-6 children\n",
    "print(reg4.summary())"
   ]
  },
  {
   "cell_type": "code",
   "execution_count": 319,
   "id": "31ffe57c",
   "metadata": {},
   "outputs": [
    {
     "data": {
      "text/plain": [
       "9672.228139011642"
      ]
     },
     "execution_count": 319,
     "metadata": {},
     "output_type": "execute_result"
    }
   ],
   "source": [
    "reg4.bic"
   ]
  },
  {
   "cell_type": "code",
   "execution_count": 337,
   "id": "829b83ba",
   "metadata": {},
   "outputs": [
    {
     "data": {
      "text/html": [
       "<table style=\"text-align:center\"><tr><td colspan=\"5\" style=\"border-bottom: 1px solid black\"></td></tr>\n",
       "<tr><td style=\"text-align:left\"></td><td colspan=\"4\"><em>Dependent variable: earnperhr</em></td></tr><tr><td style=\"text-align:left\"></td><tr><td style=\"text-align:left\"></td><td>(1)</td><td>(2)</td><td>(3)</td><td>(4)</td></tr>\n",
       "<tr><td colspan=\"5\" style=\"border-bottom: 1px solid black\"></td></tr>\n",
       "\n",
       "<tr><td style=\"text-align:left\">Intercept</td><td>33.934<sup>***</sup></td><td>31.392<sup>***</sup></td><td>36.727<sup>***</sup></td><td>34.712<sup>***</sup></td></tr>\n",
       "<tr><td style=\"text-align:left\"></td><td>(2.076)</td><td>(3.594)</td><td>(4.547)</td><td>(4.479)</td></tr>\n",
       "<tr><td style=\"text-align:left\">age</td><td>0.191<sup>***</sup></td><td>0.179<sup>***</sup></td><td>0.186<sup>***</sup></td><td>0.218<sup>***</sup></td></tr>\n",
       "<tr><td style=\"text-align:left\"></td><td>(0.045)</td><td>(0.043)</td><td>(0.044)</td><td>(0.045)</td></tr>\n",
       "<tr><td style=\"text-align:left\">female</td><td>-3.872<sup>***</sup></td><td>-3.655<sup>***</sup></td><td>-3.999<sup>***</sup></td><td>-3.977<sup>***</sup></td></tr>\n",
       "<tr><td style=\"text-align:left\"></td><td>(1.088)</td><td>(1.080)</td><td>(1.086)</td><td>(1.088)</td></tr>\n",
       "<tr><td style=\"text-align:left\">uhourse</td><td></td><td>-0.156<sup>**</sup></td><td>-0.176<sup>***</sup></td><td>-0.186<sup>***</sup></td></tr>\n",
       "<tr><td style=\"text-align:left\"></td><td></td><td>(0.063)</td><td>(0.064)</td><td>(0.065)</td></tr>\n",
       "<tr><td style=\"text-align:left\">ed_high</td><td></td><td>11.371<sup>***</sup></td><td>11.791<sup>***</sup></td><td>11.524<sup>***</sup></td></tr>\n",
       "<tr><td style=\"text-align:left\"></td><td></td><td>(1.656)</td><td>(1.704)</td><td>(1.702)</td></tr>\n",
       "<tr><td style=\"text-align:left\">NE_Division</td><td></td><td></td><td>-2.427<sup></sup></td><td>-2.594<sup></sup></td></tr>\n",
       "<tr><td style=\"text-align:left\"></td><td></td><td></td><td>(2.321)</td><td>(2.310)</td></tr>\n",
       "<tr><td style=\"text-align:left\">Middle_Atlantic_Division</td><td></td><td></td><td>-3.794<sup>*</sup></td><td>-3.996<sup>*</sup></td></tr>\n",
       "<tr><td style=\"text-align:left\"></td><td></td><td></td><td>(2.057)</td><td>(2.053)</td></tr>\n",
       "<tr><td style=\"text-align:left\">East_North_Central_Division</td><td></td><td></td><td>-3.284<sup></sup></td><td>-3.498<sup></sup></td></tr>\n",
       "<tr><td style=\"text-align:left\"></td><td></td><td></td><td>(2.449)</td><td>(2.445)</td></tr>\n",
       "<tr><td style=\"text-align:left\">West_North_Central_Division</td><td></td><td></td><td>-3.835<sup>*</sup></td><td>-4.199<sup>*</sup></td></tr>\n",
       "<tr><td style=\"text-align:left\"></td><td></td><td></td><td>(2.292)</td><td>(2.329)</td></tr>\n",
       "<tr><td style=\"text-align:left\">South_Atlantic_Division</td><td></td><td></td><td>2.477<sup></sup></td><td>2.568<sup></sup></td></tr>\n",
       "<tr><td style=\"text-align:left\"></td><td></td><td></td><td>(1.824)</td><td>(1.816)</td></tr>\n",
       "<tr><td style=\"text-align:left\">East_South_Central_Division</td><td></td><td></td><td>-7.773<sup>***</sup></td><td>-7.671<sup>***</sup></td></tr>\n",
       "<tr><td style=\"text-align:left\"></td><td></td><td></td><td>(2.869)</td><td>(2.861)</td></tr>\n",
       "<tr><td style=\"text-align:left\">West_South_Central_Division</td><td></td><td></td><td>-1.581<sup></sup></td><td>-1.406<sup></sup></td></tr>\n",
       "<tr><td style=\"text-align:left\"></td><td></td><td></td><td>(2.468)</td><td>(2.468)</td></tr>\n",
       "<tr><td style=\"text-align:left\">Mountain_Division</td><td></td><td></td><td>-3.661<sup>*</sup></td><td>-4.287<sup>**</sup></td></tr>\n",
       "<tr><td style=\"text-align:left\"></td><td></td><td></td><td>(2.150)</td><td>(2.155)</td></tr>\n",
       "<tr><td style=\"text-align:left\">race_black</td><td></td><td></td><td>3.159<sup></sup></td><td>2.881<sup></sup></td></tr>\n",
       "<tr><td style=\"text-align:left\"></td><td></td><td></td><td>(3.031)</td><td>(3.010)</td></tr>\n",
       "<tr><td style=\"text-align:left\">race_american_indian</td><td></td><td></td><td>-3.251<sup></sup></td><td>-2.611<sup></sup></td></tr>\n",
       "<tr><td style=\"text-align:left\"></td><td></td><td></td><td>(6.108)</td><td>(5.869)</td></tr>\n",
       "<tr><td style=\"text-align:left\">race_asian_or_pacific_is</td><td></td><td></td><td>-2.805<sup></sup></td><td>-2.297<sup></sup></td></tr>\n",
       "<tr><td style=\"text-align:left\"></td><td></td><td></td><td>(2.122)</td><td>(2.104)</td></tr>\n",
       "<tr><td style=\"text-align:left\">race_other</td><td></td><td></td><td>4.481<sup>**</sup></td><td>2.845<sup></sup></td></tr>\n",
       "<tr><td style=\"text-align:left\"></td><td></td><td></td><td>(2.212)</td><td>(2.342)</td></tr>\n",
       "<tr><td style=\"text-align:left\">race_mixed_black_white</td><td></td><td></td><td>-8.460<sup>***</sup></td><td>-10.251<sup>***</sup></td></tr>\n",
       "<tr><td style=\"text-align:left\"></td><td></td><td></td><td>(1.620)</td><td>(1.969)</td></tr>\n",
       "<tr><td style=\"text-align:left\">race_mixed_white_american_indian</td><td></td><td></td><td>6.287<sup></sup></td><td>6.777<sup></sup></td></tr>\n",
       "<tr><td style=\"text-align:left\"></td><td></td><td></td><td>(8.898)</td><td>(9.547)</td></tr>\n",
       "<tr><td style=\"text-align:left\">race_mixed_white_asian</td><td></td><td></td><td>1.393<sup></sup></td><td>1.978<sup></sup></td></tr>\n",
       "<tr><td style=\"text-align:left\"></td><td></td><td></td><td>(6.616)</td><td>(6.562)</td></tr>\n",
       "<tr><td style=\"text-align:left\">race_mixed_black_american_indian</td><td></td><td></td><td>-7.181<sup>***</sup></td><td>-7.435<sup>***</sup></td></tr>\n",
       "<tr><td style=\"text-align:left\"></td><td></td><td></td><td>(1.845)</td><td>(1.944)</td></tr>\n",
       "<tr><td style=\"text-align:left\">race_mixed_black_asian</td><td></td><td></td><td>20.121<sup>***</sup></td><td>21.153<sup>***</sup></td></tr>\n",
       "<tr><td style=\"text-align:left\"></td><td></td><td></td><td>(2.973)</td><td>(2.952)</td></tr>\n",
       "<tr><td style=\"text-align:left\">us_citizen</td><td></td><td></td><td>-3.952<sup></sup></td><td>-2.523<sup></sup></td></tr>\n",
       "<tr><td style=\"text-align:left\"></td><td></td><td></td><td>(2.625)</td><td>(2.539)</td></tr>\n",
       "<tr><td style=\"text-align:left\">married</td><td></td><td></td><td></td><td>-1.819<sup></sup></td></tr>\n",
       "<tr><td style=\"text-align:left\"></td><td></td><td></td><td></td><td>(1.247)</td></tr>\n",
       "<tr><td style=\"text-align:left\">one_child</td><td></td><td></td><td></td><td>0.157<sup></sup></td></tr>\n",
       "<tr><td style=\"text-align:left\"></td><td></td><td></td><td></td><td>(1.660)</td></tr>\n",
       "<tr><td style=\"text-align:left\">two_child</td><td></td><td></td><td></td><td>3.432<sup>**</sup></td></tr>\n",
       "<tr><td style=\"text-align:left\"></td><td></td><td></td><td></td><td>(1.482)</td></tr>\n",
       "<tr><td style=\"text-align:left\">three_child</td><td></td><td></td><td></td><td>6.822<sup>***</sup></td></tr>\n",
       "<tr><td style=\"text-align:left\"></td><td></td><td></td><td></td><td>(2.191)</td></tr>\n",
       "<tr><td style=\"text-align:left\">four_child</td><td></td><td></td><td></td><td>6.511<sup>*</sup></td></tr>\n",
       "<tr><td style=\"text-align:left\"></td><td></td><td></td><td></td><td>(3.956)</td></tr>\n",
       "<tr><td style=\"text-align:left\">five_child</td><td></td><td></td><td></td><td>-4.524<sup>**</sup></td></tr>\n",
       "<tr><td style=\"text-align:left\"></td><td></td><td></td><td></td><td>(2.100)</td></tr>\n",
       "<tr><td style=\"text-align:left\">six_child</td><td></td><td></td><td></td><td>0.000<sup>***</sup></td></tr>\n",
       "<tr><td style=\"text-align:left\"></td><td></td><td></td><td></td><td>(0.000)</td></tr>\n",
       "\n",
       "<td colspan=\"5\" style=\"border-bottom: 1px solid black\"></td></tr>\n",
       "<tr><td style=\"text-align: left\">Observations</td><td>1119</td><td>1119</td><td>1119</td><td>1119</td></tr><tr><td style=\"text-align: left\">R<sup>2</sup></td><td>0.034</td><td>0.076</td><td>0.109</td><td>0.120</td></tr><tr><td style=\"text-align: left\">Adjusted R<sup>2</sup></td><td>0.032</td><td>0.072</td><td>0.091</td><td>0.097</td></tr><tr><td style=\"text-align: left\">Residual Std. Error</td><td>17.460 (df=1116)</td><td>17.096 (df=1114)</td><td>16.922 (df=1096)</td><td>16.862 (df=1090)</td></tr><tr><td style=\"text-align: left\">F Statistic</td><td>17.319<sup>***</sup> (df=2; 1116)</td><td>21.696<sup>***</sup> (df=4; 1114)</td><td>107.347<sup>***</sup> (df=22; 1096)</td><td>94.837<sup>***</sup> (df=28; 1090)</td></tr>\n",
       "<tr><td colspan=\"5\" style=\"border-bottom: 1px solid black\"></td></tr><tr><td style=\"text-align: left\">Note:</td><td colspan=\"4\" style=\"text-align: right\"><sup>*</sup>p&lt;0.1; <sup>**</sup>p&lt;0.05; <sup>***</sup>p&lt;0.01</td></tr></table>"
      ],
      "text/plain": [
       "<stargazer.stargazer.Stargazer at 0x13d7d4150>"
      ]
     },
     "execution_count": 337,
     "metadata": {},
     "output_type": "execute_result"
    }
   ],
   "source": [
    "#reordering covariate order\n",
    "star = Stargazer([reg1, reg2, reg3, reg4])\n",
    "cov_order = ['Intercept', 'age', 'female', 'uhourse', 'ed_high', 'NE_Division', 'Middle_Atlantic_Division',\n",
    "                          'East_North_Central_Division', 'West_North_Central_Division', 'South_Atlantic_Division',\n",
    "                          'East_South_Central_Division', 'West_South_Central_Division', 'Mountain_Division',\n",
    "                          'race_black','race_american_indian', 'race_asian_or_pacific_is', 'race_other', 'race_mixed_black_white',\n",
    "                          'race_mixed_white_american_indian','race_mixed_white_asian', 'race_mixed_black_american_indian',\n",
    "                          'race_mixed_black_asian', 'us_citizen', 'married', 'one_child', 'two_child', 'three_child',\n",
    "                          'four_child', 'five_child', 'six_child']\n",
    "star.covariate_order(cov_order)\n",
    "star"
   ]
  },
  {
   "cell_type": "code",
   "execution_count": 320,
   "id": "7a36ce29",
   "metadata": {},
   "outputs": [
    {
     "data": {
      "text/plain": [
       "[('reg2', 9558.988087975542),\n",
       " ('reg1', 9594.0812746174),\n",
       " ('reg3', 9644.230054440795),\n",
       " ('reg4', 9672.228139011642)]"
      ]
     },
     "execution_count": 320,
     "metadata": {},
     "output_type": "execute_result"
    }
   ],
   "source": [
    "reg_names = ['reg1', 'reg2', 'reg3', 'reg4']\n",
    "reg_bics = [reg1.bic, reg2.bic, reg3.bic, reg4.bic]\n",
    "regs_and_bics = list(zip(reg_names,reg_bics))\n",
    "\n",
    "#shows which regression had the lowest/most favorable bic = Regression 2\n",
    "sorted(regs_and_bics, key = lambda x: x[1])"
   ]
  },
  {
   "cell_type": "markdown",
   "id": "ad4d6643",
   "metadata": {},
   "source": [
    "## Linear Regression with k-fold cross-validation (cross-validated RMSE)"
   ]
  },
  {
   "cell_type": "code",
   "execution_count": 401,
   "id": "319818d7",
   "metadata": {},
   "outputs": [],
   "source": [
    "#creating 5 splits. 80% in training set, 20% in test set\n",
    "from sklearn.model_selection import KFold\n",
    "k = KFold(n_splits=5, shuffle=False, random_state=None)"
   ]
  },
  {
   "cell_type": "code",
   "execution_count": 402,
   "id": "78601b37",
   "metadata": {},
   "outputs": [
    {
     "name": "stdout",
     "output_type": "stream",
     "text": [
      "[ 334  335  336 ... 1663 1664 1665] \n",
      " \n",
      " [  0   1   2   3   4   5   6   7   8   9  10  11  12  13  14  15  16  17\n",
      "  18  19  20  21  22  23  24  25  26  27  28  29  30  31  32  33  34  35\n",
      "  36  37  38  39  40  41  42  43  44  45  46  47  48  49  50  51  52  53\n",
      "  54  55  56  57  58  59  60  61  62  63  64  65  66  67  68  69  70  71\n",
      "  72  73  74  75  76  77  78  79  80  81  82  83  84  85  86  87  88  89\n",
      "  90  91  92  93  94  95  96  97  98  99 100 101 102 103 104 105 106 107\n",
      " 108 109 110 111 112 113 114 115 116 117 118 119 120 121 122 123 124 125\n",
      " 126 127 128 129 130 131 132 133 134 135 136 137 138 139 140 141 142 143\n",
      " 144 145 146 147 148 149 150 151 152 153 154 155 156 157 158 159 160 161\n",
      " 162 163 164 165 166 167 168 169 170 171 172 173 174 175 176 177 178 179\n",
      " 180 181 182 183 184 185 186 187 188 189 190 191 192 193 194 195 196 197\n",
      " 198 199 200 201 202 203 204 205 206 207 208 209 210 211 212 213 214 215\n",
      " 216 217 218 219 220 221 222 223 224 225 226 227 228 229 230 231 232 233\n",
      " 234 235 236 237 238 239 240 241 242 243 244 245 246 247 248 249 250 251\n",
      " 252 253 254 255 256 257 258 259 260 261 262 263 264 265 266 267 268 269\n",
      " 270 271 272 273 274 275 276 277 278 279 280 281 282 283 284 285 286 287\n",
      " 288 289 290 291 292 293 294 295 296 297 298 299 300 301 302 303 304 305\n",
      " 306 307 308 309 310 311 312 313 314 315 316 317 318 319 320 321 322 323\n",
      " 324 325 326 327 328 329 330 331 332 333] \n",
      "\n",
      "[   0    1    2 ... 1663 1664 1665] \n",
      " \n",
      " [334 335 336 337 338 339 340 341 342 343 344 345 346 347 348 349 350 351\n",
      " 352 353 354 355 356 357 358 359 360 361 362 363 364 365 366 367 368 369\n",
      " 370 371 372 373 374 375 376 377 378 379 380 381 382 383 384 385 386 387\n",
      " 388 389 390 391 392 393 394 395 396 397 398 399 400 401 402 403 404 405\n",
      " 406 407 408 409 410 411 412 413 414 415 416 417 418 419 420 421 422 423\n",
      " 424 425 426 427 428 429 430 431 432 433 434 435 436 437 438 439 440 441\n",
      " 442 443 444 445 446 447 448 449 450 451 452 453 454 455 456 457 458 459\n",
      " 460 461 462 463 464 465 466 467 468 469 470 471 472 473 474 475 476 477\n",
      " 478 479 480 481 482 483 484 485 486 487 488 489 490 491 492 493 494 495\n",
      " 496 497 498 499 500 501 502 503 504 505 506 507 508 509 510 511 512 513\n",
      " 514 515 516 517 518 519 520 521 522 523 524 525 526 527 528 529 530 531\n",
      " 532 533 534 535 536 537 538 539 540 541 542 543 544 545 546 547 548 549\n",
      " 550 551 552 553 554 555 556 557 558 559 560 561 562 563 564 565 566 567\n",
      " 568 569 570 571 572 573 574 575 576 577 578 579 580 581 582 583 584 585\n",
      " 586 587 588 589 590 591 592 593 594 595 596 597 598 599 600 601 602 603\n",
      " 604 605 606 607 608 609 610 611 612 613 614 615 616 617 618 619 620 621\n",
      " 622 623 624 625 626 627 628 629 630 631 632 633 634 635 636 637 638 639\n",
      " 640 641 642 643 644 645 646 647 648 649 650 651 652 653 654 655 656 657\n",
      " 658 659 660 661 662 663 664 665 666] \n",
      "\n",
      "[   0    1    2 ... 1663 1664 1665] \n",
      " \n",
      " [667 668 669 670 671 672 673 674 675 676 677 678 679 680 681 682 683 684\n",
      " 685 686 687 688 689 690 691 692 693 694 695 696 697 698 699 700 701 702\n",
      " 703 704 705 706 707 708 709 710 711 712 713 714 715 716 717 718 719 720\n",
      " 721 722 723 724 725 726 727 728 729 730 731 732 733 734 735 736 737 738\n",
      " 739 740 741 742 743 744 745 746 747 748 749 750 751 752 753 754 755 756\n",
      " 757 758 759 760 761 762 763 764 765 766 767 768 769 770 771 772 773 774\n",
      " 775 776 777 778 779 780 781 782 783 784 785 786 787 788 789 790 791 792\n",
      " 793 794 795 796 797 798 799 800 801 802 803 804 805 806 807 808 809 810\n",
      " 811 812 813 814 815 816 817 818 819 820 821 822 823 824 825 826 827 828\n",
      " 829 830 831 832 833 834 835 836 837 838 839 840 841 842 843 844 845 846\n",
      " 847 848 849 850 851 852 853 854 855 856 857 858 859 860 861 862 863 864\n",
      " 865 866 867 868 869 870 871 872 873 874 875 876 877 878 879 880 881 882\n",
      " 883 884 885 886 887 888 889 890 891 892 893 894 895 896 897 898 899 900\n",
      " 901 902 903 904 905 906 907 908 909 910 911 912 913 914 915 916 917 918\n",
      " 919 920 921 922 923 924 925 926 927 928 929 930 931 932 933 934 935 936\n",
      " 937 938 939 940 941 942 943 944 945 946 947 948 949 950 951 952 953 954\n",
      " 955 956 957 958 959 960 961 962 963 964 965 966 967 968 969 970 971 972\n",
      " 973 974 975 976 977 978 979 980 981 982 983 984 985 986 987 988 989 990\n",
      " 991 992 993 994 995 996 997 998 999] \n",
      "\n",
      "[   0    1    2 ... 1663 1664 1665] \n",
      " \n",
      " [1000 1001 1002 1003 1004 1005 1006 1007 1008 1009 1010 1011 1012 1013\n",
      " 1014 1015 1016 1017 1018 1019 1020 1021 1022 1023 1024 1025 1026 1027\n",
      " 1028 1029 1030 1031 1032 1033 1034 1035 1036 1037 1038 1039 1040 1041\n",
      " 1042 1043 1044 1045 1046 1047 1048 1049 1050 1051 1052 1053 1054 1055\n",
      " 1056 1057 1058 1059 1060 1061 1062 1063 1064 1065 1066 1067 1068 1069\n",
      " 1070 1071 1072 1073 1074 1075 1076 1077 1078 1079 1080 1081 1082 1083\n",
      " 1084 1085 1086 1087 1088 1089 1090 1091 1092 1093 1094 1095 1096 1097\n",
      " 1098 1099 1100 1101 1102 1103 1104 1105 1106 1107 1108 1109 1110 1111\n",
      " 1112 1113 1114 1115 1116 1117 1118 1119 1120 1121 1122 1123 1124 1125\n",
      " 1126 1127 1128 1129 1130 1131 1132 1133 1134 1135 1136 1137 1138 1139\n",
      " 1140 1141 1142 1143 1144 1145 1146 1147 1148 1149 1150 1151 1152 1153\n",
      " 1154 1155 1156 1157 1158 1159 1160 1161 1162 1163 1164 1165 1166 1167\n",
      " 1168 1169 1170 1171 1172 1173 1174 1175 1176 1177 1178 1179 1180 1181\n",
      " 1182 1183 1184 1185 1186 1187 1188 1189 1190 1191 1192 1193 1194 1195\n",
      " 1196 1197 1198 1199 1200 1201 1202 1203 1204 1205 1206 1207 1208 1209\n",
      " 1210 1211 1212 1213 1214 1215 1216 1217 1218 1219 1220 1221 1222 1223\n",
      " 1224 1225 1226 1227 1228 1229 1230 1231 1232 1233 1234 1235 1236 1237\n",
      " 1238 1239 1240 1241 1242 1243 1244 1245 1246 1247 1248 1249 1250 1251\n",
      " 1252 1253 1254 1255 1256 1257 1258 1259 1260 1261 1262 1263 1264 1265\n",
      " 1266 1267 1268 1269 1270 1271 1272 1273 1274 1275 1276 1277 1278 1279\n",
      " 1280 1281 1282 1283 1284 1285 1286 1287 1288 1289 1290 1291 1292 1293\n",
      " 1294 1295 1296 1297 1298 1299 1300 1301 1302 1303 1304 1305 1306 1307\n",
      " 1308 1309 1310 1311 1312 1313 1314 1315 1316 1317 1318 1319 1320 1321\n",
      " 1322 1323 1324 1325 1326 1327 1328 1329 1330 1331 1332] \n",
      "\n",
      "[   0    1    2 ... 1330 1331 1332] \n",
      " \n",
      " [1333 1334 1335 1336 1337 1338 1339 1340 1341 1342 1343 1344 1345 1346\n",
      " 1347 1348 1349 1350 1351 1352 1353 1354 1355 1356 1357 1358 1359 1360\n",
      " 1361 1362 1363 1364 1365 1366 1367 1368 1369 1370 1371 1372 1373 1374\n",
      " 1375 1376 1377 1378 1379 1380 1381 1382 1383 1384 1385 1386 1387 1388\n",
      " 1389 1390 1391 1392 1393 1394 1395 1396 1397 1398 1399 1400 1401 1402\n",
      " 1403 1404 1405 1406 1407 1408 1409 1410 1411 1412 1413 1414 1415 1416\n",
      " 1417 1418 1419 1420 1421 1422 1423 1424 1425 1426 1427 1428 1429 1430\n",
      " 1431 1432 1433 1434 1435 1436 1437 1438 1439 1440 1441 1442 1443 1444\n",
      " 1445 1446 1447 1448 1449 1450 1451 1452 1453 1454 1455 1456 1457 1458\n",
      " 1459 1460 1461 1462 1463 1464 1465 1466 1467 1468 1469 1470 1471 1472\n",
      " 1473 1474 1475 1476 1477 1478 1479 1480 1481 1482 1483 1484 1485 1486\n",
      " 1487 1488 1489 1490 1491 1492 1493 1494 1495 1496 1497 1498 1499 1500\n",
      " 1501 1502 1503 1504 1505 1506 1507 1508 1509 1510 1511 1512 1513 1514\n",
      " 1515 1516 1517 1518 1519 1520 1521 1522 1523 1524 1525 1526 1527 1528\n",
      " 1529 1530 1531 1532 1533 1534 1535 1536 1537 1538 1539 1540 1541 1542\n",
      " 1543 1544 1545 1546 1547 1548 1549 1550 1551 1552 1553 1554 1555 1556\n",
      " 1557 1558 1559 1560 1561 1562 1563 1564 1565 1566 1567 1568 1569 1570\n",
      " 1571 1572 1573 1574 1575 1576 1577 1578 1579 1580 1581 1582 1583 1584\n",
      " 1585 1586 1587 1588 1589 1590 1591 1592 1593 1594 1595 1596 1597 1598\n",
      " 1599 1600 1601 1602 1603 1604 1605 1606 1607 1608 1609 1610 1611 1612\n",
      " 1613 1614 1615 1616 1617 1618 1619 1620 1621 1622 1623 1624 1625 1626\n",
      " 1627 1628 1629 1630 1631 1632 1633 1634 1635 1636 1637 1638 1639 1640\n",
      " 1641 1642 1643 1644 1645 1646 1647 1648 1649 1650 1651 1652 1653 1654\n",
      " 1655 1656 1657 1658 1659 1660 1661 1662 1663 1664 1665] \n",
      "\n",
      "Length of training_sets: 1333\n",
      "Length of test_sets: 333\n"
     ]
    }
   ],
   "source": [
    "for train_index, test_index in k.split(law):\n",
    "    print(train_index, '\\n', '\\n', test_index, '\\n')\n",
    "\n",
    "print(f\"Length of training_sets: {len(train_index)}\")\n",
    "print(f\"Length of test_sets: {len(test_index)}\")"
   ]
  },
  {
   "cell_type": "code",
   "execution_count": 451,
   "id": "6e989299",
   "metadata": {},
   "outputs": [],
   "source": [
    "### Cross validate OLS with combining sklearn k-fold cross validation and statsmodels ols formula\n",
    "\n",
    "\n",
    "def cv_reg(formula, data, kfold, robustse=None):\n",
    "    regression_list = []\n",
    "    predicts_on_test = []\n",
    "    rsquared = []\n",
    "    rmse_list = []\n",
    "\n",
    "    # Calculating OLS for each fold\n",
    "\n",
    "    for train_index, test_index in k.split(data):\n",
    "        # print(\"TRAIN:\", train_index, \"TEST:\", test_index)\n",
    "        data_train, data_test = data.iloc[train_index, :], data.iloc[test_index, :]\n",
    "        if robustse is None:\n",
    "            model = smf.ols(formula, data=data_train).fit()\n",
    "        else:\n",
    "            model = smf.ols(formula, data=data_train).fit(cov_type=robustse)\n",
    "        regression_list += [model]\n",
    "        predicts_on_test += [model.predict(data_test)]\n",
    "        rsquared += [model.rsquared]\n",
    "        rmse_list += [rmse(data_train[formula.split(\"~\")[0]], model.predict(data_train))]\n",
    "\n",
    "    return {\n",
    "        \"regressions\": regression_list,\n",
    "        \"test_predict\": predicts_on_test,\n",
    "        \"r2\": rsquared,\n",
    "        \"rmse\": rmse_list,\n",
    "    }\n",
    "\n",
    "\n",
    "def summarize_cv(cvlist, stat=\"rmse\"):\n",
    "    result = pd.DataFrame(\n",
    "        {\"Model\" + str(x + 1): cvlist[x][stat] for x in range(len(cv_list))}\n",
    "    )\n",
    "    result[\"Resample\"] = [\"Fold\" + str(x + 1) for x in range(len(cvlist[0][\"rmse\"]))]\n",
    "    result = result.set_index(\"Resample\")\n",
    "    result = pd.concat([result, pd.DataFrame(result.mean(), columns=[\"Average\"]).T])\n",
    "    return result"
   ]
  },
  {
   "cell_type": "code",
   "execution_count": 452,
   "id": "ec8edecd",
   "metadata": {},
   "outputs": [],
   "source": [
    "cv1 = cv_reg(\"earnperhr~age+female\", law, k, \"HC1\")\n",
    "\n",
    "cv2 = cv_reg(\"earnperhr~age+ female+uhourse+ed_high\", law, k, \"HC1\")\n",
    "\n",
    "cv3 = cv_reg('''earnperhr~age+ female+uhourse+ed_high+NE_Division+Middle_Atlantic_Division+ \n",
    "                 East_North_Central_Division+West_North_Central_Division+South_Atlantic_Division+\n",
    "                 East_South_Central_Division+West_South_Central_Division+\n",
    "                 Mountain_Division+race_black+race_american_indian+\n",
    "                 race_asian_or_pacific_is+race_other+race_mixed_black_white+\n",
    "                 race_mixed_white_american_indian+race_mixed_white_asian+\n",
    "                 race_mixed_black_american_indian+race_mixed_black_asian+us_citizen''', law, k, \"HC1\")\n",
    "\n",
    "cv4 = cv_reg('''earnperhr~age+ female+uhourse+ed_high+NE_Division+Middle_Atlantic_Division+ \n",
    "                East_North_Central_Division+West_North_Central_Division+South_Atlantic_Division+\n",
    "                East_South_Central_Division+West_South_Central_Division+\n",
    "                Mountain_Division+race_black+race_american_indian+\n",
    "                race_asian_or_pacific_is+race_other+race_mixed_black_white+\n",
    "                race_mixed_white_american_indian+race_mixed_white_asian+\n",
    "                race_mixed_black_american_indian+race_mixed_black_asian+us_citizen\n",
    "                +married+one_child+two_child+three_child+\n",
    "                four_child+five_child+six_child''', law, k, \"HC1\")\n",
    "\n",
    "cv_list = [cv1, cv2, cv3, cv4]"
   ]
  },
  {
   "cell_type": "code",
   "execution_count": 453,
   "id": "70acb47d",
   "metadata": {
    "scrolled": true
   },
   "outputs": [
    {
     "data": {
      "text/html": [
       "<div>\n",
       "<style scoped>\n",
       "    .dataframe tbody tr th:only-of-type {\n",
       "        vertical-align: middle;\n",
       "    }\n",
       "\n",
       "    .dataframe tbody tr th {\n",
       "        vertical-align: top;\n",
       "    }\n",
       "\n",
       "    .dataframe thead th {\n",
       "        text-align: right;\n",
       "    }\n",
       "</style>\n",
       "<table border=\"1\" class=\"dataframe\">\n",
       "  <thead>\n",
       "    <tr style=\"text-align: right;\">\n",
       "      <th></th>\n",
       "      <th>Model1</th>\n",
       "      <th>Model2</th>\n",
       "      <th>Model3</th>\n",
       "      <th>Model4</th>\n",
       "    </tr>\n",
       "  </thead>\n",
       "  <tbody>\n",
       "    <tr>\n",
       "      <th>Fold1</th>\n",
       "      <td>17.553881</td>\n",
       "      <td>17.164969</td>\n",
       "      <td>16.812418</td>\n",
       "      <td>16.712546</td>\n",
       "    </tr>\n",
       "    <tr>\n",
       "      <th>Fold2</th>\n",
       "      <td>17.238396</td>\n",
       "      <td>16.833291</td>\n",
       "      <td>16.573209</td>\n",
       "      <td>16.491050</td>\n",
       "    </tr>\n",
       "    <tr>\n",
       "      <th>Fold3</th>\n",
       "      <td>17.478783</td>\n",
       "      <td>17.098997</td>\n",
       "      <td>16.665957</td>\n",
       "      <td>16.593073</td>\n",
       "    </tr>\n",
       "    <tr>\n",
       "      <th>Fold4</th>\n",
       "      <td>17.225261</td>\n",
       "      <td>16.804404</td>\n",
       "      <td>16.472215</td>\n",
       "      <td>16.254397</td>\n",
       "    </tr>\n",
       "    <tr>\n",
       "      <th>Fold5</th>\n",
       "      <td>17.658324</td>\n",
       "      <td>17.352077</td>\n",
       "      <td>17.056262</td>\n",
       "      <td>16.941158</td>\n",
       "    </tr>\n",
       "    <tr>\n",
       "      <th>Average</th>\n",
       "      <td>17.430929</td>\n",
       "      <td>17.050748</td>\n",
       "      <td>16.716012</td>\n",
       "      <td>16.598445</td>\n",
       "    </tr>\n",
       "  </tbody>\n",
       "</table>\n",
       "</div>"
      ],
      "text/plain": [
       "            Model1     Model2     Model3     Model4\n",
       "Fold1    17.553881  17.164969  16.812418  16.712546\n",
       "Fold2    17.238396  16.833291  16.573209  16.491050\n",
       "Fold3    17.478783  17.098997  16.665957  16.593073\n",
       "Fold4    17.225261  16.804404  16.472215  16.254397\n",
       "Fold5    17.658324  17.352077  17.056262  16.941158\n",
       "Average  17.430929  17.050748  16.716012  16.598445"
      ]
     },
     "execution_count": 453,
     "metadata": {},
     "output_type": "execute_result"
    }
   ],
   "source": [
    "summarize_cv(cv_list)\n",
    "#RMSE for every single fold and every model\n",
    "#lowest avg RMSE is on most complicated model (Model4)!!\n",
    "#this means that on average, the model's predictions deviate from the actual values (earnings per hour) by about\n",
    "#16.5 USD. "
   ]
  },
  {
   "cell_type": "markdown",
   "id": "0cb13686",
   "metadata": {},
   "source": [
    "## RMSE on full sample"
   ]
  },
  {
   "cell_type": "code",
   "execution_count": 499,
   "id": "61e54487",
   "metadata": {},
   "outputs": [
    {
     "name": "stdout",
     "output_type": "stream",
     "text": [
      "RMSE on 1st regression model (full sample): 28.46259101019459\n",
      "\n",
      "count    1666.000000\n",
      "mean       43.617195\n",
      "std        28.774978\n",
      "min         0.000000\n",
      "25%        30.375278\n",
      "50%        44.522222\n",
      "75%        51.923000\n",
      "max       612.885079\n",
      "Name: earnperhr, dtype: float64\n"
     ]
    }
   ],
   "source": [
    "#RMSE on full sample (reg1)\n",
    "\n",
    "formula=\"earnperhr~age+ female\"\n",
    "\n",
    "full_model = smf.ols(formula, data=law).fit(cov_type=\"HC1\")\n",
    "\n",
    "# Make predictions on the full dataset\n",
    "law['predictions'] = full_model.predict(law)\n",
    "\n",
    "# Calculate RMSE\n",
    "rmse_full = np.sqrt(mean_squared_error(law['earnperhr'], law['predictions']))\n",
    "\n",
    "print(f\"RMSE on 1st regression model (full sample): {rmse_full}\\n\")\n",
    "print(law.earnperhr.describe())\n",
    "#means that on average, the model's predictions deviate from the actual values (earnings per hour) by about 28.5 USD.\n",
    "#this is large considering 75% of the observations have employees making uner 51 USD per hour."
   ]
  },
  {
   "cell_type": "code",
   "execution_count": 496,
   "id": "39aaf23a",
   "metadata": {},
   "outputs": [
    {
     "name": "stdout",
     "output_type": "stream",
     "text": [
      "RMSE on 2nd regression model (full sample): 26.409482830303105\n"
     ]
    }
   ],
   "source": [
    "#RMSE on full sample (reg2)\n",
    "\n",
    "formula=\"earnperhr~age+ female+uhourse+ed_high\"\n",
    "\n",
    "full_model = smf.ols(formula, data=law).fit(cov_type=\"HC1\")\n",
    "\n",
    "# Make predictions on the full dataset\n",
    "law['predictions'] = full_model.predict(law)\n",
    "\n",
    "# Calculate RMSE\n",
    "rmse_full = np.sqrt(mean_squared_error(law['earnperhr'], law['predictions']))\n",
    "\n",
    "print(f\"RMSE on 2nd regression model (full sample): {rmse_full}\")\n",
    "#means that on average, the model's predictions deviate from the actual values (earnings per hour) by about 26.4 USD.\n",
    "#this is large considering 75% of the observations have employees making uner 51 USD per hour."
   ]
  },
  {
   "cell_type": "code",
   "execution_count": 495,
   "id": "b1dd4760",
   "metadata": {},
   "outputs": [
    {
     "name": "stdout",
     "output_type": "stream",
     "text": [
      "RMSE on 3rd regression model (full sample): 26.202940256318474\n"
     ]
    }
   ],
   "source": [
    "#RMSE on full sample (reg3)\n",
    "\n",
    "formula='''earnperhr~age+ female+uhourse+ed_high+NE_Division+Middle_Atlantic_Division+ \n",
    "                East_North_Central_Division+West_North_Central_Division+South_Atlantic_Division+\n",
    "                East_South_Central_Division+West_South_Central_Division+\n",
    "                Mountain_Division+race_black+race_american_indian+\n",
    "                race_asian_or_pacific_is+race_other+race_mixed_black_white+\n",
    "                race_mixed_white_american_indian+race_mixed_white_asian+\n",
    "                race_mixed_black_american_indian+race_mixed_black_asian+us_citizen'''\n",
    "\n",
    "full_model = smf.ols(formula, data=law).fit(cov_type=\"HC1\")\n",
    "\n",
    "# Make predictions on the full dataset\n",
    "law['predictions'] = full_model.predict(law)\n",
    "\n",
    "# Calculate RMSE\n",
    "rmse_full = np.sqrt(mean_squared_error(law['earnperhr'], law['predictions']))\n",
    "\n",
    "print(f\"RMSE on 3rd regression model (full sample): {rmse_full}\")\n",
    "#means that on average, the model's predictions deviate from the actual values (earnings per hour) by about 26.2 USD.\n",
    "#this is large considering 75% of the observations have employees making uner 51 USD per hour."
   ]
  },
  {
   "cell_type": "code",
   "execution_count": 494,
   "id": "ae70abfe",
   "metadata": {},
   "outputs": [
    {
     "name": "stdout",
     "output_type": "stream",
     "text": [
      "RMSE on 4th regression model (full sample): 26.141877697778355\n"
     ]
    }
   ],
   "source": [
    "#RMSE on full sample (reg4)\n",
    "\n",
    "formula='''earnperhr~age+ female+uhourse+ed_high+NE_Division+Middle_Atlantic_Division+ \n",
    "                East_North_Central_Division+West_North_Central_Division+South_Atlantic_Division+\n",
    "                East_South_Central_Division+West_South_Central_Division+\n",
    "                Mountain_Division+race_black+race_american_indian+\n",
    "                race_asian_or_pacific_is+race_other+race_mixed_black_white+\n",
    "                race_mixed_white_american_indian+race_mixed_white_asian+\n",
    "                race_mixed_black_american_indian+race_mixed_black_asian+us_citizen\n",
    "                +married+one_child+two_child+three_child+\n",
    "                four_child+five_child+six_child'''\n",
    "\n",
    "full_model = smf.ols(formula, data=law).fit(cov_type=\"HC1\")\n",
    "\n",
    "# Make predictions on the full dataset\n",
    "law['predictions'] = full_model.predict(law)\n",
    "\n",
    "# Calculate RMSE\n",
    "rmse_full = np.sqrt(mean_squared_error(law['earnperhr'], law['predictions']))\n",
    "\n",
    "print(f\"RMSE on 4th regression model (full sample): {rmse_full}\")\n",
    "#means that on average, the model's predictions deviate from the actual values (earnings per hour) by about 26.1 USD.\n",
    "#this is somewhat considering 75% of the observations have employees making uner 51 USD per hour."
   ]
  },
  {
   "cell_type": "code",
   "execution_count": null,
   "id": "8bda2955",
   "metadata": {},
   "outputs": [],
   "source": [
    "#The best RMSE in the "
   ]
  }
 ],
 "metadata": {
  "kernelspec": {
   "display_name": "Python 3 (ipykernel)",
   "language": "python",
   "name": "python3"
  },
  "language_info": {
   "codemirror_mode": {
    "name": "ipython",
    "version": 3
   },
   "file_extension": ".py",
   "mimetype": "text/x-python",
   "name": "python",
   "nbconvert_exporter": "python",
   "pygments_lexer": "ipython3",
   "version": "3.11.5"
  }
 },
 "nbformat": 4,
 "nbformat_minor": 5
}
