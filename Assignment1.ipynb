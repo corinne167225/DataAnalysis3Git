{
 "cells": [
  {
   "cell_type": "markdown",
   "id": "9aea067a",
   "metadata": {},
   "source": [
    "# SAYT SOMETHING HERE\n",
    "Looking at the occupation of Legal Professions: Lawyers, Juges, Magistrates, and other judicial positions (occ2012 = 2100)\n",
    "\n",
    "https://osf.io/uqe8z = shows what variables mean"
   ]
  },
  {
   "cell_type": "markdown",
   "id": "05459282",
   "metadata": {},
   "source": [
    "### Importing Libraries"
   ]
  },
  {
   "cell_type": "code",
   "execution_count": 1,
   "id": "4206d46d",
   "metadata": {},
   "outputs": [],
   "source": [
    "import pandas as pd\n",
    "import warnings\n",
    "warnings.filterwarnings(\"ignore\")"
   ]
  },
  {
   "cell_type": "markdown",
   "id": "ba566ca2",
   "metadata": {},
   "source": [
    "### Reading Data & Exploratory Data Analysis"
   ]
  },
  {
   "cell_type": "code",
   "execution_count": 2,
   "id": "fa45a107",
   "metadata": {},
   "outputs": [],
   "source": [
    "#reading file. morg2014.csv was too large- had to turn into zip file\n",
    "file = pd.read_csv('ezyzip.zip')"
   ]
  },
  {
   "cell_type": "code",
   "execution_count": 3,
   "id": "68acea5d",
   "metadata": {},
   "outputs": [
    {
     "data": {
      "text/plain": [
       "(317056, 96)"
      ]
     },
     "execution_count": 3,
     "metadata": {},
     "output_type": "execute_result"
    }
   ],
   "source": [
    "#see data\n",
    "file.shape"
   ]
  },
  {
   "cell_type": "code",
   "execution_count": 11,
   "id": "2ae7ecff",
   "metadata": {
    "scrolled": false
   },
   "outputs": [
    {
     "data": {
      "text/html": [
       "<div>\n",
       "<style scoped>\n",
       "    .dataframe tbody tr th:only-of-type {\n",
       "        vertical-align: middle;\n",
       "    }\n",
       "\n",
       "    .dataframe tbody tr th {\n",
       "        vertical-align: top;\n",
       "    }\n",
       "\n",
       "    .dataframe thead th {\n",
       "        text-align: right;\n",
       "    }\n",
       "</style>\n",
       "<table border=\"1\" class=\"dataframe\">\n",
       "  <thead>\n",
       "    <tr style=\"text-align: right;\">\n",
       "      <th></th>\n",
       "      <th>hhid</th>\n",
       "      <th>intmonth</th>\n",
       "      <th>hurespli</th>\n",
       "      <th>minsamp</th>\n",
       "      <th>hrlonglk</th>\n",
       "      <th>hrsample</th>\n",
       "      <th>hrhhid2</th>\n",
       "      <th>serial</th>\n",
       "      <th>hhnum</th>\n",
       "      <th>state</th>\n",
       "      <th>...</th>\n",
       "      <th>ym_file</th>\n",
       "      <th>ym</th>\n",
       "      <th>ch02</th>\n",
       "      <th>ch35</th>\n",
       "      <th>ch613</th>\n",
       "      <th>ch1417</th>\n",
       "      <th>ch05</th>\n",
       "      <th>ihigrdc</th>\n",
       "      <th>docc00</th>\n",
       "      <th>dind02</th>\n",
       "    </tr>\n",
       "  </thead>\n",
       "  <tbody>\n",
       "    <tr>\n",
       "      <th>0</th>\n",
       "      <td>960021970039060</td>\n",
       "      <td>January</td>\n",
       "      <td>1.0</td>\n",
       "      <td>MIS 8</td>\n",
       "      <td>MIS 2-4 Or MIS 6-8 (link To</td>\n",
       "      <td>9100</td>\n",
       "      <td>91001</td>\n",
       "      <td>1</td>\n",
       "      <td>1</td>\n",
       "      <td>63</td>\n",
       "      <td>...</td>\n",
       "      <td>648</td>\n",
       "      <td>633</td>\n",
       "      <td>0</td>\n",
       "      <td>0</td>\n",
       "      <td>0</td>\n",
       "      <td>0</td>\n",
       "      <td>0</td>\n",
       "      <td>18.0</td>\n",
       "      <td>Legal occupations</td>\n",
       "      <td>Professional and Technical services</td>\n",
       "    </tr>\n",
       "    <tr>\n",
       "      <th>1</th>\n",
       "      <td>235004820400137</td>\n",
       "      <td>January</td>\n",
       "      <td>1.0</td>\n",
       "      <td>MIS 8</td>\n",
       "      <td>MIS 2-4 Or MIS 6-8 (link To</td>\n",
       "      <td>9100</td>\n",
       "      <td>91001</td>\n",
       "      <td>1</td>\n",
       "      <td>1</td>\n",
       "      <td>86</td>\n",
       "      <td>...</td>\n",
       "      <td>648</td>\n",
       "      <td>633</td>\n",
       "      <td>0</td>\n",
       "      <td>0</td>\n",
       "      <td>0</td>\n",
       "      <td>0</td>\n",
       "      <td>0</td>\n",
       "      <td>18.0</td>\n",
       "      <td>Legal occupations</td>\n",
       "      <td>Public Administration</td>\n",
       "    </tr>\n",
       "    <tr>\n",
       "      <th>2</th>\n",
       "      <td>985879730586005</td>\n",
       "      <td>January</td>\n",
       "      <td>3.0</td>\n",
       "      <td>MIS 8</td>\n",
       "      <td>MIS 2-4 Or MIS 6-8 (link To</td>\n",
       "      <td>9100</td>\n",
       "      <td>91001</td>\n",
       "      <td>1</td>\n",
       "      <td>1</td>\n",
       "      <td>71</td>\n",
       "      <td>...</td>\n",
       "      <td>648</td>\n",
       "      <td>633</td>\n",
       "      <td>0</td>\n",
       "      <td>0</td>\n",
       "      <td>0</td>\n",
       "      <td>1</td>\n",
       "      <td>0</td>\n",
       "      <td>18.0</td>\n",
       "      <td>Legal occupations</td>\n",
       "      <td>Professional and Technical services</td>\n",
       "    </tr>\n",
       "    <tr>\n",
       "      <th>3</th>\n",
       "      <td>94927107035608</td>\n",
       "      <td>January</td>\n",
       "      <td>2.0</td>\n",
       "      <td>MIS 4</td>\n",
       "      <td>MIS 2-4 Or MIS 6-8 (link To</td>\n",
       "      <td>9200</td>\n",
       "      <td>92001</td>\n",
       "      <td>1</td>\n",
       "      <td>1</td>\n",
       "      <td>93</td>\n",
       "      <td>...</td>\n",
       "      <td>648</td>\n",
       "      <td>645</td>\n",
       "      <td>0</td>\n",
       "      <td>0</td>\n",
       "      <td>1</td>\n",
       "      <td>0</td>\n",
       "      <td>0</td>\n",
       "      <td>18.0</td>\n",
       "      <td>Legal occupations</td>\n",
       "      <td>Professional and Technical services</td>\n",
       "    </tr>\n",
       "    <tr>\n",
       "      <th>4</th>\n",
       "      <td>97977400095618</td>\n",
       "      <td>January</td>\n",
       "      <td>1.0</td>\n",
       "      <td>MIS 4</td>\n",
       "      <td>MIS 2-4 Or MIS 6-8 (link To</td>\n",
       "      <td>9200</td>\n",
       "      <td>92001</td>\n",
       "      <td>1</td>\n",
       "      <td>1</td>\n",
       "      <td>93</td>\n",
       "      <td>...</td>\n",
       "      <td>648</td>\n",
       "      <td>645</td>\n",
       "      <td>0</td>\n",
       "      <td>0</td>\n",
       "      <td>0</td>\n",
       "      <td>1</td>\n",
       "      <td>0</td>\n",
       "      <td>18.0</td>\n",
       "      <td>Legal occupations</td>\n",
       "      <td>Professional and Technical services</td>\n",
       "    </tr>\n",
       "  </tbody>\n",
       "</table>\n",
       "<p>5 rows × 96 columns</p>\n",
       "</div>"
      ],
      "text/plain": [
       "              hhid intmonth  hurespli minsamp                     hrlonglk  \\\n",
       "0  960021970039060  January       1.0   MIS 8  MIS 2-4 Or MIS 6-8 (link To   \n",
       "1  235004820400137  January       1.0   MIS 8  MIS 2-4 Or MIS 6-8 (link To   \n",
       "2  985879730586005  January       3.0   MIS 8  MIS 2-4 Or MIS 6-8 (link To   \n",
       "3   94927107035608  January       2.0   MIS 4  MIS 2-4 Or MIS 6-8 (link To   \n",
       "4   97977400095618  January       1.0   MIS 4  MIS 2-4 Or MIS 6-8 (link To   \n",
       "\n",
       "   hrsample  hrhhid2  serial  hhnum state  ... ym_file   ym  ch02  ch35  \\\n",
       "0      9100    91001       1      1    63  ...     648  633     0     0   \n",
       "1      9100    91001       1      1    86  ...     648  633     0     0   \n",
       "2      9100    91001       1      1    71  ...     648  633     0     0   \n",
       "3      9200    92001       1      1    93  ...     648  645     0     0   \n",
       "4      9200    92001       1      1    93  ...     648  645     0     0   \n",
       "\n",
       "   ch613  ch1417  ch05  ihigrdc             docc00  \\\n",
       "0      0       0     0     18.0  Legal occupations   \n",
       "1      0       0     0     18.0  Legal occupations   \n",
       "2      0       1     0     18.0  Legal occupations   \n",
       "3      1       0     0     18.0  Legal occupations   \n",
       "4      0       1     0     18.0  Legal occupations   \n",
       "\n",
       "                                dind02  \n",
       "0  Professional and Technical services  \n",
       "1                Public Administration  \n",
       "2  Professional and Technical services  \n",
       "3  Professional and Technical services  \n",
       "4  Professional and Technical services  \n",
       "\n",
       "[5 rows x 96 columns]"
      ]
     },
     "execution_count": 11,
     "metadata": {},
     "output_type": "execute_result"
    }
   ],
   "source": [
    "#Legal Professions like lawyers, judges, magistrates, and other judicial positions\n",
    "#at start: 1,666 observations\n",
    "law = file.loc[file['occ2012'] == 2100].reset_index(drop=True)\n",
    "law.head()"
   ]
  },
  {
   "cell_type": "code",
   "execution_count": null,
   "id": "6f36a7df",
   "metadata": {},
   "outputs": [],
   "source": [
    "###CORINNE'S PLAN\n",
    "# y = earnings per hour ('earnperhr')\n",
    "    #this means... earnwke (weekly earnings)/uhourse\n",
    "# x = age(int), sex(int), uhourse (usual work hours)(int), grade92 (highest educational grade completed)(int)\n",
    "# Model 1: age, sex\n",
    "# Model 2: age, sex, uhourse, grade92\n",
    "# Model 3: age, sex, uhourse, grade92, state, race, prcitshp,\n",
    "# Model 4: age, sex, uhourse, grade92, state, race, prcitshp, marital, ownchild\n",
    "\n",
    "## have to turn sex and grade92 into dummy variables!!!\n",
    "\n",
    "#could do 'state' as a variable, but would have to create dummy variables... (str)\n",
    "#could do 'race' as a variable, but would have to create dummy variables... (int)\n",
    "#could do 'prcitshp' (citizenship status) as a variable, but would have to create dummy variable...(str)\n",
    "#could do 'marital' as variable...dummy variables would be 1,2,3 = 'married', 4,5,6,7 = 'single'(int)\n",
    "#could do 'ownchild' as variable = shows number of children less than 18 in the primary family(int)\n",
    "\n",
    "#deleting ethnic category because only 68/1,666 were not null!"
   ]
  },
  {
   "cell_type": "code",
   "execution_count": 20,
   "id": "7e9bcb33",
   "metadata": {
    "scrolled": true
   },
   "outputs": [
    {
     "data": {
      "text/plain": [
       "0    28.84600\n",
       "1    34.61525\n",
       "2         NaN\n",
       "3         NaN\n",
       "4    46.14000\n",
       "Name: earnperhr, dtype: float64"
      ]
     },
     "execution_count": 20,
     "metadata": {},
     "output_type": "execute_result"
    }
   ],
   "source": [
    "#creation of outcome variable (y)\n",
    "law['earnperhr'] = law['earnwke']/law['uhourse']\n",
    "law['earnperhr'][:5]"
   ]
  },
  {
   "cell_type": "code",
   "execution_count": 41,
   "id": "e3437908",
   "metadata": {},
   "outputs": [
    {
     "data": {
      "text/plain": [
       "ownchild\n",
       "False    1666\n",
       "Name: count, dtype: int64"
      ]
     },
     "execution_count": 41,
     "metadata": {},
     "output_type": "execute_result"
    }
   ],
   "source": [
    "#checking for null values:\n",
    "\n",
    "\n",
    "\n",
    "#age: no missing values\n",
    "law.age.isnull().value_counts()\n",
    "\n",
    "#sex: no missing values\n",
    "law.sex.isnull().value_counts()\n",
    "\n",
    "#uhourse:\n",
    "law.uhourse.isnull().value_counts()\n",
    "#189 null. CHANGEEEeeeeeeeeeeeee (impute using mean perhaps)\n",
    "\n",
    "#grade92: no missing values\n",
    "law.grade92.isnull().value_counts()\n",
    "\n",
    "#earnwke: \n",
    "law.earnwke.isnull().value_counts()\n",
    "#471 null. CHANGEEEeeeeeeeeee (impute using mean perhaps)\n",
    "\n",
    "#state: no missing values\n",
    "law.state.isnull().value_counts()\n",
    "#will have to change because has both int and str. change just to int\n",
    "\n",
    "#race: no missing values\n",
    "law.race.isnull().value_counts()\n",
    "\n",
    "#prcitshp: no missing values\n",
    "law.prcitshp.isnull().value_counts()\n",
    "#change to be int as it is currently str\n",
    "\n",
    "#marital: no missing values\n",
    "law.marital.isnull().value_counts()\n",
    "#will create 'married' and 'single' categories (separate variables)\n",
    "\n",
    "#ownchild: no missing values\n",
    "law.ownchild.isnull().value_counts()\n",
    "\n"
   ]
  },
  {
   "cell_type": "code",
   "execution_count": 93,
   "id": "4495320c",
   "metadata": {},
   "outputs": [],
   "source": [
    "#checking for null values\n",
    "#below 3 (age, sex, grade92) have no missing values\n",
    "pharm.age.isnull().value_counts()\n",
    "pharm.sex.isnull().value_counts()\n",
    "pharm.grade92.isnull().value_counts()\n",
    "\n",
    "#uhourse and earnwke have missing values\n",
    "pharm.uhourse.isnull().value_counts()\n",
    "pharm.earnwke.isnull().value_counts()\n",
    "\n",
    "#fixing uhourse and earnwke missing values\n",
    "pharm.loc[pharm['uhourse'].isnull()].uhourse\n",
    "pharm['uhourse'].fillna(0, inplace = True)\n",
    "pharm.loc[pharm['earnwke'].isnull()].earnwke\n",
    "pharm['earnwke'].fillna(0, inplace = True)\n",
    "\n",
    "#creating (y) variable for earnings per hour as 'earnperhour'\n",
    "pharm['earnperhour'] = pharm['earnwke']/pharm['uhourse']\n",
    "pharm['earnperhour']\n",
    "\n",
    "#creating dummy variable for sex\n",
    "pharm['female'] = (pharm[\"sex\"] == 2)\n",
    "pharm['female'] = pharm['female'].astype(int)\n",
    "\n",
    "#creating dummy variable for grade92\n",
    "pharm['grade92'].min() #39, high school grad, diploma, or GED\n",
    "pharm['grade92'].max() #46, doctorate degree\n",
    "pharm['grade92'].mean() #about 44, master's degree\n",
    "pharm['grade92'].describe() #in order to categorize education levels. 25% less than 43 (bachelor's) so that can be the highest threshold for the ed-low category\n",
    "pharm['ed_low'] = ((pharm['grade92'] >= 39) & (pharm['grade92'] <= 43)).astype(int) #high school-bachelor's degree\n",
    "pharm['ed_high'] = ((pharm['grade92'] >= 44) & (pharm['grade92'] <= 46)).astype(int) #master's-doctorate"
   ]
  },
  {
   "cell_type": "code",
   "execution_count": null,
   "id": "fc5d8fee",
   "metadata": {},
   "outputs": [],
   "source": [
    "#reg1 = smf.ols(formula=\"w~female\", data=data).fit()"
   ]
  },
  {
   "cell_type": "code",
   "execution_count": null,
   "id": "1ee2b3a3",
   "metadata": {},
   "outputs": [],
   "source": [
    "# y = earnings per hour \n",
    "    #this means... earnwke (weekly earnings)/uhourse\n",
    "# x = age, sex, uhourse (usual work hours), grade92 (highest educational grade completed)\n",
    "# Model 1: age\n",
    "# Model 2: age, sex\n",
    "# Model 3: age, sex, uhourse\n",
    "# Model 4: age, sex, uhourse, grade92\n",
    "\n",
    "## have to turn sex and grade92 into dummy variables!!!"
   ]
  }
 ],
 "metadata": {
  "kernelspec": {
   "display_name": "Python 3 (ipykernel)",
   "language": "python",
   "name": "python3"
  },
  "language_info": {
   "codemirror_mode": {
    "name": "ipython",
    "version": 3
   },
   "file_extension": ".py",
   "mimetype": "text/x-python",
   "name": "python",
   "nbconvert_exporter": "python",
   "pygments_lexer": "ipython3",
   "version": "3.11.5"
  }
 },
 "nbformat": 4,
 "nbformat_minor": 5
}
