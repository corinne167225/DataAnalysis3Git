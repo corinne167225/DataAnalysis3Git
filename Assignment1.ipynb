{
 "cells": [
  {
   "cell_type": "markdown",
   "id": "9aea067a",
   "metadata": {},
   "source": [
    "# SAYT SOMETHING HERE\n",
    "Looking at the occupation of Legal Professions: Lawyers, Juges, Magistrates, and other judicial positions (occ2012 = 2100)\n",
    "\n",
    "https://osf.io/uqe8z = shows what variables mean"
   ]
  },
  {
   "cell_type": "markdown",
   "id": "05459282",
   "metadata": {},
   "source": [
    "### Importing Libraries"
   ]
  },
  {
   "cell_type": "code",
   "execution_count": 294,
   "id": "4206d46d",
   "metadata": {},
   "outputs": [],
   "source": [
    "import pandas as pd\n",
    "import numpy as np\n",
    "import warnings\n",
    "from plotnine import *\n",
    "import statsmodels.formula.api as smf\n",
    "from stargazer.stargazer import Stargazer\n",
    "warnings.filterwarnings(\"ignore\")"
   ]
  },
  {
   "cell_type": "markdown",
   "id": "ba566ca2",
   "metadata": {},
   "source": [
    "### Reading Data & Exploratory Data Analysis"
   ]
  },
  {
   "cell_type": "code",
   "execution_count": null,
   "id": "fa45a107",
   "metadata": {},
   "outputs": [],
   "source": [
    "#reading file. morg2014.csv was too large- had to turn into zip file\n",
    "file = pd.read_csv('ezyzip.zip')"
   ]
  },
  {
   "cell_type": "code",
   "execution_count": null,
   "id": "68acea5d",
   "metadata": {},
   "outputs": [],
   "source": [
    "#see data\n",
    "file.shape"
   ]
  },
  {
   "cell_type": "code",
   "execution_count": null,
   "id": "d21342f5",
   "metadata": {
    "scrolled": false
   },
   "outputs": [],
   "source": [
    "#Legal Professions like lawyers, judges, magistrates, and other judicial positions\n",
    "#at start: 1,666 observations\n",
    "law = file.loc[file['occ2012'] == 2100].reset_index(drop=True)\n",
    "law.head()"
   ]
  },
  {
   "cell_type": "code",
   "execution_count": null,
   "id": "a75a4d58",
   "metadata": {
    "scrolled": true
   },
   "outputs": [],
   "source": [
    "#creation of outcome variable (y)\n",
    "law['earnperhr'] = law['earnwke']/law['uhourse']\n",
    "law['earnperhr'][:5]"
   ]
  },
  {
   "cell_type": "code",
   "execution_count": null,
   "id": "fe866763",
   "metadata": {
    "scrolled": false
   },
   "outputs": [],
   "source": [
    "#checking distribution of 'uhourse' to see if imputation using median or mean is better. not normally distributed,\n",
    "#therefore, will use median to impute\n",
    "(ggplot(law, aes(x='uhourse')) +\n",
    "    geom_histogram(binwidth= 5, colour=\"black\", fill=\"white\"))"
   ]
  },
  {
   "cell_type": "code",
   "execution_count": null,
   "id": "21336471",
   "metadata": {},
   "outputs": [],
   "source": [
    "#checking distribution of 'earnwke' to see if imputation using median or mean is better. \n",
    "(ggplot(law, aes(x='earnwke')) +\n",
    "    geom_histogram(binwidth= 100, colour=\"black\", fill=\"white\"))"
   ]
  },
  {
   "cell_type": "code",
   "execution_count": null,
   "id": "b97e1121",
   "metadata": {},
   "outputs": [],
   "source": [
    "print(f'law.earnwke mean:{law.earnwke.mean()}')\n",
    "print(f'law.earnwke median:{law.earnwke.median()}')\n",
    "#As these 2 values are close together, I am opting for the mean value due to over 300 observations falling in the\n",
    "#final bin"
   ]
  },
  {
   "cell_type": "code",
   "execution_count": null,
   "id": "27d123f4",
   "metadata": {},
   "outputs": [],
   "source": [
    "#checking for null values:\n",
    "\n",
    "#age: no missing values\n",
    "law.age.isnull().value_counts()\n",
    "\n",
    "#sex: no missing values\n",
    "law.sex.isnull().value_counts()\n",
    "\n",
    "#uhourse: 189 null. using median to impute\n",
    "uhourse_median_value = law.uhourse.median()\n",
    "law.uhourse.fillna(value=uhourse_median_value, inplace = True)\n",
    "law.uhourse.isnull().value_counts()\n",
    "#no missing values anymore\n",
    "\n",
    "#grade92: no missing values\n",
    "law.grade92.isnull().value_counts()\n",
    "\n",
    "#earnwke: 471 null. using mean to impute\n",
    "earnwke_mean_value = law.earnwke.mean()\n",
    "law.earnwke.fillna(value=earnwke_mean_value, inplace = True)\n",
    "law.earnwke.isnull().value_counts()\n",
    "#no missing values anymore\n",
    "\n",
    "#state: no missing values\n",
    "law.state.isnull().value_counts()\n",
    "#USING DIVISIONS instead\n",
    "\n",
    "#race: no missing values\n",
    "law.race.isnull().value_counts()\n",
    "\n",
    "#prcitshp: no missing values\n",
    "law.prcitshp.isnull().value_counts()\n",
    "#USING dummy variable instead of str\n",
    "\n",
    "#marital: no missing values\n",
    "law.marital.isnull().value_counts()\n",
    "#USING married and single dummy variables\n",
    "\n",
    "#ownchild: no missing values\n",
    "law.ownchild.isnull().value_counts()\n"
   ]
  },
  {
   "cell_type": "code",
   "execution_count": null,
   "id": "9f9f9c95",
   "metadata": {},
   "outputs": [],
   "source": [
    "#fixing state variable (some were int and some were str), making into divisions\n",
    "print(law.state.unique())\n",
    "\n",
    "#NE Division\n",
    "law.state.replace('MA', 11, inplace = True)\n",
    "law.state.replace('NH', 12, inplace = True)\n",
    "law.state.replace('VT', 13, inplace = True)\n",
    "law.state.replace('MA', 14, inplace = True)\n",
    "law.state.replace('RI', 15, inplace = True)\n",
    "law.state.replace('CT', 16, inplace = True)\n",
    "#Middle Atlantic Division\n",
    "law.state.replace('NY', 21, inplace = True)\n",
    "law.state.replace('NJ', 22, inplace = True)\n",
    "law.state.replace('PA', 23, inplace = True)\n",
    "#East North Central Division\n",
    "law.state.replace('OH', 31, inplace = True)\n",
    "law.state.replace('IN', 32, inplace = True)\n",
    "law.state.replace('IL', 33, inplace = True)\n",
    "law.state.replace('MI', 34, inplace = True)\n",
    "law.state.replace('WI', 35, inplace = True)\n",
    "#West North Central Division\n",
    "law.state.replace('MN', 41, inplace = True)\n",
    "law.state.replace('IA', 42, inplace = True)\n",
    "law.state.replace('MO', 43, inplace = True)\n",
    "law.state.replace('ND', 44, inplace = True)\n",
    "law.state.replace('SD', 45, inplace = True)\n",
    "law.state.replace('46', 46, inplace = True)\n",
    "law.state.replace('47', 47, inplace = True)\n",
    "#South Atlantic Division\n",
    "law.state.replace('51', 51, inplace = True)\n",
    "law.state.replace('52', 52, inplace = True)\n",
    "law.state.replace('53', 53, inplace = True)\n",
    "law.state.replace('54', 54, inplace = True)\n",
    "law.state.replace('55', 55, inplace = True)\n",
    "law.state.replace('56', 56, inplace = True)\n",
    "law.state.replace('57', 57, inplace = True)\n",
    "law.state.replace('58', 58, inplace = True)\n",
    "law.state.replace('59', 59, inplace = True)\n",
    "#East South Central Division\n",
    "law.state.replace('61', 61, inplace = True)\n",
    "law.state.replace('62', 62, inplace = True)\n",
    "law.state.replace('63', 63, inplace = True)\n",
    "law.state.replace('64', 64, inplace = True)\n",
    "#West South Central Division\n",
    "law.state.replace('71', 71, inplace = True)\n",
    "law.state.replace('72', 72, inplace = True)\n",
    "law.state.replace('73', 73, inplace = True)\n",
    "law.state.replace('74', 74, inplace = True)\n",
    "#Mountain Division\n",
    "law.state.replace('81', 81, inplace = True)\n",
    "law.state.replace('82', 82, inplace = True)\n",
    "law.state.replace('83', 83, inplace = True)\n",
    "law.state.replace('84', 84, inplace = True)\n",
    "law.state.replace('85', 85, inplace = True)\n",
    "law.state.replace('86', 86, inplace = True)\n",
    "law.state.replace('87', 87, inplace = True)\n",
    "law.state.replace('88', 88, inplace = True)\n",
    "#Pacific Division\n",
    "law.state.replace('91', 91, inplace = True)\n",
    "law.state.replace('92', 92, inplace = True)\n",
    "law.state.replace('93', 93, inplace = True)\n",
    "law.state.replace('94', 94, inplace = True)\n",
    "law.state.replace('95', 95, inplace = True)\n",
    "#left over state numbers\n",
    "#putting all numbers 1-9 into their divisions (1st number is the division they are in)\n",
    "#doesn't matter what the state is because the categories will be their divisions\n",
    "law.state.replace('7', 71, inplace = True)\n",
    "law.state.replace('9', 91, inplace = True)\n",
    "law.state.replace(1, 11, inplace = True)\n",
    "law.state.replace(2, 21, inplace = True)\n",
    "law.state.replace(3, 31, inplace = True)\n",
    "law.state.replace(4, 41, inplace = True)\n",
    "law.state.replace(5, 51, inplace = True)\n",
    "law.state.replace(6, 61, inplace = True)\n",
    "law.state.replace(7, 71, inplace = True)\n",
    "law.state.replace(8, 81, inplace = True)\n",
    "law.state.replace(9, 91, inplace = True)\n",
    "\n",
    "#creating categories for state divisions (dummy variables)    \n",
    "law['NE_Division'] = law['state'].isin([11,12,13,14,15,16]).astype(int)\n",
    "law['Middle_Atlantic_Division'] = law['state'].isin([21,22,23]).astype(int)\n",
    "law['East_North_Central_Division'] = law['state'].isin([31,32,33,34,35]).astype(int)\n",
    "law['West_North_Central_Division'] = law['state'].isin([41,42,43,44,45,46,47]).astype(int)\n",
    "law['South_Atlantic_Division'] = law['state'].isin([51,52,53,54,55,56,57,58,59]).astype(int)\n",
    "law['East_South_Central_Division'] = law['state'].isin([61,62,63,64]).astype(int)\n",
    "law['West_South_Central_Division'] = law['state'].isin([71,72,73,74]).astype(int)\n",
    "law['Mountain_Division'] = law['state'].isin([81,82,83,84,85,86,87,88]).astype(int)\n",
    "law['Pacific_Division'] = law['state'].isin([91,92,93,94,95]).astype(int)"
   ]
  },
  {
   "cell_type": "code",
   "execution_count": null,
   "id": "b8442e35",
   "metadata": {},
   "outputs": [],
   "source": [
    "#fixing race category to be dummy variable\n",
    "law['race_white'] = (law['race'] == 1).astype(int)\n",
    "law['race_black'] = (law['race'] == 2).astype(int)\n",
    "law['race_american_indian'] = (law['race'] == 3).astype(int)\n",
    "law['race_asian_or_pacific_is'] = (law['race'] == 4).astype(int)\n",
    "law['race_other'] = (law['race'] == 5).astype(int)\n",
    "law['race_mixed_black_white'] = (law['race'] == 6).astype(int)\n",
    "law['race_mixed_white_american_indian'] = (law['race'] == 7).astype(int)\n",
    "law['race_mixed_white_asian'] = (law['race'] == 8).astype(int)\n",
    "law['race_mixed_black_american_indian'] = (law['race'] == 10).astype(int)\n",
    "law['race_mixed_black_asian'] = (law['race'] == 11).astype(int)"
   ]
  },
  {
   "cell_type": "code",
   "execution_count": null,
   "id": "61fb6d18",
   "metadata": {},
   "outputs": [],
   "source": [
    "#fixing marital variable\n",
    "law['married'] = law['marital'].isin([1,2,3]).astype(int)\n",
    "law['single'] = law['marital'].isin([4,5,6,7]).astype(int)"
   ]
  },
  {
   "cell_type": "code",
   "execution_count": null,
   "id": "661a0803",
   "metadata": {},
   "outputs": [],
   "source": [
    "#creating dummy variable for sex (female)\n",
    "law['female'] = (law[\"sex\"] == 2).astype(int)"
   ]
  },
  {
   "cell_type": "code",
   "execution_count": null,
   "id": "21754f26",
   "metadata": {},
   "outputs": [],
   "source": [
    "#creating dummy variable for grade92\n",
    "law['grade92'].min() #33, 5th-6th grade (middle school)\n",
    "law['grade92'].max() #46, doctorate degree\n",
    "law['grade92'].mean() #about 45, professional school degree (includes JD)\n",
    "law.loc[law['grade92'] < 45] #only 185 observations with grade92 less than 45\n",
    "law['ed_low'] = (law['grade92']< 45).astype(int) #less than professional degree (includes bachelors and masters)\n",
    "law['ed_high'] = (law['grade92']>=45).astype(int) #equal to or higher than professional degree (includes professional degree and doctorate)"
   ]
  },
  {
   "cell_type": "code",
   "execution_count": null,
   "id": "2268986c",
   "metadata": {},
   "outputs": [],
   "source": [
    "#fixing prcitshp variable to be int instead of str\n",
    "law.prcitshp.replace('Native, Born In US', 1, inplace = True)\n",
    "law.prcitshp.replace('Foreign Born, US Cit By Naturalization', 1, inplace = True)\n",
    "law.prcitshp.replace('Foreign Born, Not a US Citizen', 0, inplace = True)\n",
    "law.prcitshp.replace('Native, Born Abroad Of US Parent(s)', 1, inplace = True)\n",
    "law.prcitshp.replace('Native, Born in PR or US Outlying Area', 1, inplace = True)\n",
    "\n",
    "#making prcitshp a dummy variable\n",
    "law['us_citizen'] = (law['prcitshp'] == 1).astype(int)"
   ]
  },
  {
   "cell_type": "code",
   "execution_count": null,
   "id": "034ca9a5",
   "metadata": {},
   "outputs": [],
   "source": [
    "#fixing ownchild to be dummy variable\n",
    "law['no_child'] = (law['ownchild'] == 0).astype(int)\n",
    "law['one_child'] = (law['ownchild'] == 1).astype(int)\n",
    "law['two_child'] = (law['ownchild'] == 2).astype(int)\n",
    "law['three_child'] = (law['ownchild'] == 3).astype(int)\n",
    "law['four_child'] = (law['ownchild'] == 4).astype(int)\n",
    "law['five_child'] = (law['ownchild'] == 5).astype(int)\n",
    "law['six_child'] = (law['ownchild'] == 6).astype(int)"
   ]
  },
  {
   "cell_type": "code",
   "execution_count": null,
   "id": "782ddb41",
   "metadata": {},
   "outputs": [],
   "source": [
    "###CORINNEE!!! make legends for some of these variables (example: race is integers...give \n",
    "#the legend of what that means!!!) = turn into markdown\n",
    "#age = age of employee in years\n",
    "#sex = 1 if male, 2 if female\n",
    "#uhourse = usual hours worked per week\n",
    "#grade92 = education level (ints 31-46 representing Kindergarten-doctorate degree)\n",
    "#earnwke = weekly earnings in USD\n",
    "#state = in which state the employee resides\n",
    "#race = 1:White, 2:Black, 3:American Indian, 4:Asian or Pacific Islander, 5:Other, 6:Mixed(White/Black), 7:Mixed(White/American Indian), 8:Mixed(White/Asian), 10:Mixed(Black/American Indian), 11:Mixed(Black/Asian)\n",
    "#prcitshp = 1 if American citizen, 0 if non-American citizen\n",
    "#marital = 1-3 if married, 4-7 if currently single\n",
    "#ownchild = number of children employee has in primary family"
   ]
  },
  {
   "cell_type": "code",
   "execution_count": null,
   "id": "f299775d",
   "metadata": {},
   "outputs": [],
   "source": [
    "###CORINNE'S PLAN\n",
    "# y = earnings per hour ('earnperhr')\n",
    "    #this means... earnwke (weekly earnings)/uhourse\n",
    "# x = age(int), sex(int), uhourse (usual work hours)(int), grade92 (highest educational grade completed)(int)\n",
    "# Model 1: age, sex(female dummy)\n",
    "# Model 2: age, sex(female dummy), uhourse, grade92/ed_low/high\n",
    "# Model 3: age, sex(female dummy), uhourse, grade92/ed_low/high, state division, race, prcitshp,\n",
    "# Model 4: age, sex(female dummy), uhourse, grade92/ed_low/high, state division, race, prcitshp, marital, ownchild\n",
    "\n",
    "#could do 'state' as a variable, but would have to create dummy variables... (str)\n",
    "#could do 'race' as a variable, but would have to create dummy variables... (int)\n",
    "#could do 'prcitshp' (citizenship status) as a variable, but would have to create dummy variable...(str)\n",
    "#could do 'marital' as variable...dummy variables would be 1,2,3 = 'married', 4,5,6,7 = 'single'(int)\n",
    "#could do 'ownchild' as variable = shows number of children less than 18 in the primary family(int)\n",
    "\n",
    "#deleting ethnic category because only 68/1,666 were not null!"
   ]
  },
  {
   "cell_type": "code",
   "execution_count": null,
   "id": "fc5d8fee",
   "metadata": {},
   "outputs": [],
   "source": [
    "reg1 = smf.ols(formula=\"earnperhr~age+ female\", data=law).fit(cov_type=\"HC1\")\n",
    "#Male is the reference category for female\n",
    "print(reg1.summary())"
   ]
  },
  {
   "cell_type": "code",
   "execution_count": null,
   "id": "97c5f142",
   "metadata": {},
   "outputs": [],
   "source": [
    "reg1.bic"
   ]
  },
  {
   "cell_type": "code",
   "execution_count": null,
   "id": "6b913fa0",
   "metadata": {},
   "outputs": [],
   "source": [
    "reg2 = smf.ols(formula=\"earnperhr~age+ female+uhourse+ed_high\", data=law).fit(cov_type=\"HC1\")\n",
    "#Male is the reference category for female, ed_low is the reference category for ed_high\n",
    "print(reg2.summary())"
   ]
  },
  {
   "cell_type": "code",
   "execution_count": null,
   "id": "66be6fff",
   "metadata": {},
   "outputs": [],
   "source": [
    "reg2.bic"
   ]
  },
  {
   "cell_type": "code",
   "execution_count": null,
   "id": "2897d101",
   "metadata": {},
   "outputs": [],
   "source": [
    "reg3 = smf.ols(formula='''earnperhr~age+ female+uhourse+ed_high+NE_Division+Middle_Atlantic_Division+ \n",
    "                East_North_Central_Division+West_North_Central_Division+South_Atlantic_Division+\n",
    "                East_South_Central_Division+West_South_Central_Division+\n",
    "                Mountain_Division+race_black+race_american_indian+\n",
    "                race_asian_or_pacific_is+race_other+race_mixed_black_white+\n",
    "                race_mixed_white_american_indian+race_mixed_white_asian+\n",
    "                race_mixed_black_american_indian+race_mixed_black_asian+us_citizen''', data=law).fit(cov_type=\"HC1\")\n",
    "#Male is the reference category for female, ed_low is the reference category for ed_high\n",
    "#Pacific_Division is the reference category for all listed state divisions\n",
    "#race_white is the reference category for all listed races\n",
    "#Not being a US citizen is the reference category for us_citizen\n",
    "print(reg3.summary())"
   ]
  },
  {
   "cell_type": "code",
   "execution_count": null,
   "id": "c880a2f2",
   "metadata": {},
   "outputs": [],
   "source": [
    "reg3.bic\n",
    "#strong multicollinearity could be due to the fact that many of the observations have race of white. there are only\n",
    "#there are only 199 with other races specified"
   ]
  },
  {
   "cell_type": "code",
   "execution_count": 238,
   "id": "f7e47517",
   "metadata": {},
   "outputs": [
    {
     "name": "stdout",
     "output_type": "stream",
     "text": [
      "                            OLS Regression Results                            \n",
      "==============================================================================\n",
      "Dep. Variable:              earnperhr   R-squared:                       0.174\n",
      "Model:                            OLS   Adj. R-squared:                  0.160\n",
      "Method:                 Least Squares   F-statistic:                     41.49\n",
      "Date:                Wed, 17 Jan 2024   Prob (F-statistic):          1.08e-163\n",
      "Time:                        15:54:31   Log-Likelihood:                -7801.0\n",
      "No. Observations:                1666   AIC:                         1.566e+04\n",
      "Df Residuals:                    1636   BIC:                         1.582e+04\n",
      "Df Model:                          29                                         \n",
      "Covariance Type:                  HC1                                         \n",
      "====================================================================================================\n",
      "                                       coef    std err          z      P>|z|      [0.025      0.975]\n",
      "----------------------------------------------------------------------------------------------------\n",
      "Intercept                           74.4408      9.588      7.764      0.000      55.648      93.234\n",
      "age                                  0.1919      0.041      4.649      0.000       0.111       0.273\n",
      "female                              -5.3260      1.408     -3.783      0.000      -8.085      -2.567\n",
      "uhourse                             -1.0214      0.197     -5.185      0.000      -1.408      -0.635\n",
      "ed_high                             13.0974      1.879      6.969      0.000       9.414      16.781\n",
      "NE_Division                         -2.9853      2.778     -1.074      0.283      -8.431       2.460\n",
      "Middle_Atlantic_Division            -5.5591      2.423     -2.294      0.022     -10.308      -0.810\n",
      "East_North_Central_Division          1.9737      4.809      0.410      0.681      -7.452      11.399\n",
      "West_North_Central_Division         -4.3349      3.169     -1.368      0.171     -10.546       1.876\n",
      "South_Atlantic_Division              1.2640      2.256      0.560      0.575      -3.158       5.686\n",
      "East_South_Central_Division        -10.6568      2.998     -3.555      0.000     -16.533      -4.781\n",
      "West_South_Central_Division         -1.6948      2.604     -0.651      0.515      -6.799       3.409\n",
      "Mountain_Division                   -4.6636      2.777     -1.679      0.093     -10.106       0.779\n",
      "race_black                           1.0049      2.052      0.490      0.624      -3.016       5.026\n",
      "race_american_indian                -3.5994      4.300     -0.837      0.403     -12.027       4.828\n",
      "race_asian_or_pacific_is            -0.8723      2.087     -0.418      0.676      -4.962       3.218\n",
      "race_other                          11.1175      3.746      2.967      0.003       3.775      18.460\n",
      "race_mixed_black_white             -13.4289      2.625     -5.116      0.000     -18.574      -8.284\n",
      "race_mixed_white_american_indian   -10.1553     10.077     -1.008      0.314     -29.905       9.594\n",
      "race_mixed_white_asian               1.2960      6.534      0.198      0.843     -11.510      14.102\n",
      "race_mixed_black_american_indian    -9.5265      1.995     -4.775      0.000     -13.437      -5.616\n",
      "race_mixed_black_asian               0.0950     10.721      0.009      0.993     -20.918      21.108\n",
      "us_citizen                          -3.1615      3.036     -1.042      0.298      -9.111       2.788\n",
      "married                             -0.7159      1.301     -0.550      0.582      -3.266       1.834\n",
      "one_child                            0.5329      1.962      0.272      0.786      -3.314       4.379\n",
      "two_child                            3.6572      1.829      2.000      0.045       0.073       7.241\n",
      "three_child                          4.6879      2.065      2.270      0.023       0.640       8.736\n",
      "four_child                           4.8393      2.717      1.781      0.075      -0.487      10.165\n",
      "five_child                          -3.3679      2.358     -1.428      0.153      -7.989       1.253\n",
      "six_child                           28.3509     20.867      1.359      0.174     -12.548      69.249\n",
      "==============================================================================\n",
      "Omnibus:                     2416.839   Durbin-Watson:                   1.964\n",
      "Prob(Omnibus):                  0.000   Jarque-Bera (JB):          1244964.027\n",
      "Skew:                           8.211   Prob(JB):                         0.00\n",
      "Kurtosis:                     135.910   Cond. No.                     2.73e+03\n",
      "==============================================================================\n",
      "\n",
      "Notes:\n",
      "[1] Standard Errors are heteroscedasticity robust (HC1)\n",
      "[2] The condition number is large, 2.73e+03. This might indicate that there are\n",
      "strong multicollinearity or other numerical problems.\n"
     ]
    }
   ],
   "source": [
    "reg4 = smf.ols(formula='''earnperhr~age+ female+uhourse+ed_high+NE_Division+Middle_Atlantic_Division+ \n",
    "                East_North_Central_Division+West_North_Central_Division+South_Atlantic_Division+\n",
    "                East_South_Central_Division+West_South_Central_Division+\n",
    "                Mountain_Division+race_black+race_american_indian+\n",
    "                race_asian_or_pacific_is+race_other+race_mixed_black_white+\n",
    "                race_mixed_white_american_indian+race_mixed_white_asian+\n",
    "                race_mixed_black_american_indian+race_mixed_black_asian+us_citizen\n",
    "                +married+one_child+two_child+three_child+\n",
    "                four_child+five_child+six_child''', data=law).fit(cov_type=\"HC1\")\n",
    "#Male is the reference category for female, ed_low is the reference category for ed_high\n",
    "#Pacific_Division is the reference category for all listed state divisions\n",
    "#race_white is the reference category for all listed races\n",
    "#Not being a US citizen is the reference category for us_citizen\n",
    "#single is the reference category for married\n",
    "#no_child is the reference category for those with 1-6 children\n",
    "print(reg4.summary())"
   ]
  },
  {
   "cell_type": "code",
   "execution_count": 239,
   "id": "93df5dc3",
   "metadata": {},
   "outputs": [
    {
     "data": {
      "text/plain": [
       "15824.559025842376"
      ]
     },
     "execution_count": 239,
     "metadata": {},
     "output_type": "execute_result"
    }
   ],
   "source": [
    "reg4.bic"
   ]
  },
  {
   "cell_type": "code",
   "execution_count": 250,
   "id": "0b6e8175",
   "metadata": {},
   "outputs": [
    {
     "data": {
      "text/plain": [
       "[('reg2', 15673.03961180528),\n",
       " ('reg3', 15780.405616036922),\n",
       " ('reg4', 15824.559025842376),\n",
       " ('reg1', 15907.66171070826)]"
      ]
     },
     "execution_count": 250,
     "metadata": {},
     "output_type": "execute_result"
    }
   ],
   "source": [
    "reg_names = ['reg1', 'reg2', 'reg3', 'reg4']\n",
    "reg_bics = [reg1.bic, reg2.bic, reg3.bic, reg4.bic]\n",
    "regs_and_bics = list(zip(reg_names,reg_bics))\n",
    "\n",
    "#shows which regression had the lowest/most favorable bic = Regression 2\n",
    "sorted(regs_and_bics, key = lambda x: x[1])"
   ]
  },
  {
   "cell_type": "code",
   "execution_count": 285,
   "id": "f6dd554b",
   "metadata": {},
   "outputs": [],
   "source": [
    "Stargazer([reg1, reg2, reg3, reg4])\n",
    "cov_order = ['Intercept', 'age', 'female', 'uhourse', 'ed_high', 'NE_Division', 'Middle_Atlantic_Division',\n",
    "                          'East_North_Central_Division', 'West_North_Central_Division', 'South_Atlantic_Division',\n",
    "                          'East_South_Central_Division', 'West_South_Central_Division', 'Mountain_Division',\n",
    "                          'race_black','race_american_indian', 'race_asian_or_pacific_is', 'race_other', 'race_mixed_black_white',\n",
    "                          'race_mixed_white_american_indian','race_mixed_white_asian', 'race_mixed_black_american_indian',\n",
    "                          'race_mixed_black_asian', 'us_citizen', 'married', 'one_child', 'two_child', 'three_child',\n",
    "                          'four_child', 'five_child', 'six_child']\n",
    "star.covariate_order(cov_order)\n",
    "#stargazer"
   ]
  },
  {
   "cell_type": "code",
   "execution_count": 293,
   "id": "a189dadc",
   "metadata": {},
   "outputs": [
    {
     "ename": "TypeError",
     "evalue": "Stargazer.covariate_order() missing 1 required positional argument: 'cov_names'",
     "output_type": "error",
     "traceback": [
      "\u001b[0;31m---------------------------------------------------------------------------\u001b[0m",
      "\u001b[0;31mTypeError\u001b[0m                                 Traceback (most recent call last)",
      "Cell \u001b[0;32mIn[293], line 1\u001b[0m\n\u001b[0;32m----> 1\u001b[0m Stargazer\u001b[38;5;241m.\u001b[39mcovariate_order([\u001b[38;5;124m'\u001b[39m\u001b[38;5;124mIntercept\u001b[39m\u001b[38;5;124m'\u001b[39m, \u001b[38;5;124m'\u001b[39m\u001b[38;5;124mage\u001b[39m\u001b[38;5;124m'\u001b[39m, \u001b[38;5;124m'\u001b[39m\u001b[38;5;124mfemale\u001b[39m\u001b[38;5;124m'\u001b[39m, \u001b[38;5;124m'\u001b[39m\u001b[38;5;124muhourse\u001b[39m\u001b[38;5;124m'\u001b[39m, \u001b[38;5;124m'\u001b[39m\u001b[38;5;124med_high\u001b[39m\u001b[38;5;124m'\u001b[39m, \u001b[38;5;124m'\u001b[39m\u001b[38;5;124mNE_Division\u001b[39m\u001b[38;5;124m'\u001b[39m, \u001b[38;5;124m'\u001b[39m\u001b[38;5;124mMiddle_Atlantic_Division\u001b[39m\u001b[38;5;124m'\u001b[39m,\n\u001b[1;32m      2\u001b[0m                           \u001b[38;5;124m'\u001b[39m\u001b[38;5;124mEast_North_Central_Division\u001b[39m\u001b[38;5;124m'\u001b[39m, \u001b[38;5;124m'\u001b[39m\u001b[38;5;124mWest_North_Central_Division\u001b[39m\u001b[38;5;124m'\u001b[39m, \u001b[38;5;124m'\u001b[39m\u001b[38;5;124mSouth_Atlantic_Division\u001b[39m\u001b[38;5;124m'\u001b[39m,\n\u001b[1;32m      3\u001b[0m                           \u001b[38;5;124m'\u001b[39m\u001b[38;5;124mEast_South_Central_Division\u001b[39m\u001b[38;5;124m'\u001b[39m, \u001b[38;5;124m'\u001b[39m\u001b[38;5;124mWest_South_Central_Division\u001b[39m\u001b[38;5;124m'\u001b[39m, \u001b[38;5;124m'\u001b[39m\u001b[38;5;124mMountain_Division\u001b[39m\u001b[38;5;124m'\u001b[39m,\n\u001b[1;32m      4\u001b[0m                           \u001b[38;5;124m'\u001b[39m\u001b[38;5;124mrace_black\u001b[39m\u001b[38;5;124m'\u001b[39m,\u001b[38;5;124m'\u001b[39m\u001b[38;5;124mrace_american_indian\u001b[39m\u001b[38;5;124m'\u001b[39m, \u001b[38;5;124m'\u001b[39m\u001b[38;5;124mrace_asian_or_pacific_is\u001b[39m\u001b[38;5;124m'\u001b[39m, \u001b[38;5;124m'\u001b[39m\u001b[38;5;124mrace_other\u001b[39m\u001b[38;5;124m'\u001b[39m, \u001b[38;5;124m'\u001b[39m\u001b[38;5;124mrace_mixed_black_white\u001b[39m\u001b[38;5;124m'\u001b[39m,\n\u001b[1;32m      5\u001b[0m                           \u001b[38;5;124m'\u001b[39m\u001b[38;5;124mrace_mixed_white_american_indian\u001b[39m\u001b[38;5;124m'\u001b[39m,\u001b[38;5;124m'\u001b[39m\u001b[38;5;124mrace_mixed_white_asian\u001b[39m\u001b[38;5;124m'\u001b[39m, \u001b[38;5;124m'\u001b[39m\u001b[38;5;124mrace_mixed_black_american_indian\u001b[39m\u001b[38;5;124m'\u001b[39m,\n\u001b[1;32m      6\u001b[0m                           \u001b[38;5;124m'\u001b[39m\u001b[38;5;124mrace_mixed_black_asian\u001b[39m\u001b[38;5;124m'\u001b[39m, \u001b[38;5;124m'\u001b[39m\u001b[38;5;124mus_citizen\u001b[39m\u001b[38;5;124m'\u001b[39m, \u001b[38;5;124m'\u001b[39m\u001b[38;5;124mmarried\u001b[39m\u001b[38;5;124m'\u001b[39m, \u001b[38;5;124m'\u001b[39m\u001b[38;5;124mone_child\u001b[39m\u001b[38;5;124m'\u001b[39m, \u001b[38;5;124m'\u001b[39m\u001b[38;5;124mtwo_child\u001b[39m\u001b[38;5;124m'\u001b[39m, \u001b[38;5;124m'\u001b[39m\u001b[38;5;124mthree_child\u001b[39m\u001b[38;5;124m'\u001b[39m,\n\u001b[1;32m      7\u001b[0m                           \u001b[38;5;124m'\u001b[39m\u001b[38;5;124mfour_child\u001b[39m\u001b[38;5;124m'\u001b[39m, \u001b[38;5;124m'\u001b[39m\u001b[38;5;124mfive_child\u001b[39m\u001b[38;5;124m'\u001b[39m, \u001b[38;5;124m'\u001b[39m\u001b[38;5;124msix_child\u001b[39m\u001b[38;5;124m'\u001b[39m])\n\u001b[1;32m      8\u001b[0m Stargazer\n",
      "\u001b[0;31mTypeError\u001b[0m: Stargazer.covariate_order() missing 1 required positional argument: 'cov_names'"
     ]
    }
   ],
   "source": [
    "Stargazer.covariate_order(['Intercept', 'age', 'female', 'uhourse', 'ed_high', 'NE_Division', 'Middle_Atlantic_Division',\n",
    "                          'East_North_Central_Division', 'West_North_Central_Division', 'South_Atlantic_Division',\n",
    "                          'East_South_Central_Division', 'West_South_Central_Division', 'Mountain_Division',\n",
    "                          'race_black','race_american_indian', 'race_asian_or_pacific_is', 'race_other', 'race_mixed_black_white',\n",
    "                          'race_mixed_white_american_indian','race_mixed_white_asian', 'race_mixed_black_american_indian',\n",
    "                          'race_mixed_black_asian', 'us_citizen', 'married', 'one_child', 'two_child', 'three_child',\n",
    "                          'four_child', 'five_child', 'six_child'])\n",
    "Stargazer"
   ]
  },
  {
   "cell_type": "code",
   "execution_count": null,
   "id": "81123a78",
   "metadata": {},
   "outputs": [],
   "source": []
  }
 ],
 "metadata": {
  "kernelspec": {
   "display_name": "Python 3 (ipykernel)",
   "language": "python",
   "name": "python3"
  },
  "language_info": {
   "codemirror_mode": {
    "name": "ipython",
    "version": 3
   },
   "file_extension": ".py",
   "mimetype": "text/x-python",
   "name": "python",
   "nbconvert_exporter": "python",
   "pygments_lexer": "ipython3",
   "version": "3.11.5"
  }
 },
 "nbformat": 4,
 "nbformat_minor": 5
}
