{
 "cells": [
  {
   "cell_type": "markdown",
   "id": "9aea067a",
   "metadata": {},
   "source": [
    "# SAYT SOMETHING HERE\n",
    "Looking at the occupation of Legal Professions: Lawyers, Juges, Magistrates, and other judicial positions (occ2012 = 2100)\n",
    "\n",
    "https://osf.io/uqe8z = shows what variables mean"
   ]
  },
  {
   "cell_type": "markdown",
   "id": "05459282",
   "metadata": {},
   "source": [
    "### Importing Libraries"
   ]
  },
  {
   "cell_type": "code",
   "execution_count": 155,
   "id": "4206d46d",
   "metadata": {},
   "outputs": [],
   "source": [
    "import pandas as pd\n",
    "import numpy as np\n",
    "import warnings\n",
    "from plotnine import *\n",
    "import statsmodels.formula.api as smf\n",
    "from stargazer.stargazer import Stargazer\n",
    "warnings.filterwarnings(\"ignore\")"
   ]
  },
  {
   "cell_type": "markdown",
   "id": "ba566ca2",
   "metadata": {},
   "source": [
    "### Reading Data & Exploratory Data Analysis"
   ]
  },
  {
   "cell_type": "code",
   "execution_count": 156,
   "id": "fa45a107",
   "metadata": {},
   "outputs": [],
   "source": [
    "#reading file. morg2014.csv was too large- had to turn into zip file\n",
    "file = pd.read_csv('ezyzip.zip')"
   ]
  },
  {
   "cell_type": "code",
   "execution_count": 157,
   "id": "68acea5d",
   "metadata": {},
   "outputs": [
    {
     "data": {
      "text/plain": [
       "(317056, 96)"
      ]
     },
     "execution_count": 157,
     "metadata": {},
     "output_type": "execute_result"
    }
   ],
   "source": [
    "#see data\n",
    "file.shape"
   ]
  },
  {
   "cell_type": "code",
   "execution_count": 158,
   "id": "d21342f5",
   "metadata": {
    "scrolled": false
   },
   "outputs": [
    {
     "data": {
      "text/html": [
       "<div>\n",
       "<style scoped>\n",
       "    .dataframe tbody tr th:only-of-type {\n",
       "        vertical-align: middle;\n",
       "    }\n",
       "\n",
       "    .dataframe tbody tr th {\n",
       "        vertical-align: top;\n",
       "    }\n",
       "\n",
       "    .dataframe thead th {\n",
       "        text-align: right;\n",
       "    }\n",
       "</style>\n",
       "<table border=\"1\" class=\"dataframe\">\n",
       "  <thead>\n",
       "    <tr style=\"text-align: right;\">\n",
       "      <th></th>\n",
       "      <th>hhid</th>\n",
       "      <th>intmonth</th>\n",
       "      <th>hurespli</th>\n",
       "      <th>minsamp</th>\n",
       "      <th>hrlonglk</th>\n",
       "      <th>hrsample</th>\n",
       "      <th>hrhhid2</th>\n",
       "      <th>serial</th>\n",
       "      <th>hhnum</th>\n",
       "      <th>state</th>\n",
       "      <th>...</th>\n",
       "      <th>ym_file</th>\n",
       "      <th>ym</th>\n",
       "      <th>ch02</th>\n",
       "      <th>ch35</th>\n",
       "      <th>ch613</th>\n",
       "      <th>ch1417</th>\n",
       "      <th>ch05</th>\n",
       "      <th>ihigrdc</th>\n",
       "      <th>docc00</th>\n",
       "      <th>dind02</th>\n",
       "    </tr>\n",
       "  </thead>\n",
       "  <tbody>\n",
       "    <tr>\n",
       "      <th>0</th>\n",
       "      <td>960021970039060</td>\n",
       "      <td>January</td>\n",
       "      <td>1.0</td>\n",
       "      <td>MIS 8</td>\n",
       "      <td>MIS 2-4 Or MIS 6-8 (link To</td>\n",
       "      <td>9100</td>\n",
       "      <td>91001</td>\n",
       "      <td>1</td>\n",
       "      <td>1</td>\n",
       "      <td>63</td>\n",
       "      <td>...</td>\n",
       "      <td>648</td>\n",
       "      <td>633</td>\n",
       "      <td>0</td>\n",
       "      <td>0</td>\n",
       "      <td>0</td>\n",
       "      <td>0</td>\n",
       "      <td>0</td>\n",
       "      <td>18.0</td>\n",
       "      <td>Legal occupations</td>\n",
       "      <td>Professional and Technical services</td>\n",
       "    </tr>\n",
       "    <tr>\n",
       "      <th>1</th>\n",
       "      <td>235004820400137</td>\n",
       "      <td>January</td>\n",
       "      <td>1.0</td>\n",
       "      <td>MIS 8</td>\n",
       "      <td>MIS 2-4 Or MIS 6-8 (link To</td>\n",
       "      <td>9100</td>\n",
       "      <td>91001</td>\n",
       "      <td>1</td>\n",
       "      <td>1</td>\n",
       "      <td>86</td>\n",
       "      <td>...</td>\n",
       "      <td>648</td>\n",
       "      <td>633</td>\n",
       "      <td>0</td>\n",
       "      <td>0</td>\n",
       "      <td>0</td>\n",
       "      <td>0</td>\n",
       "      <td>0</td>\n",
       "      <td>18.0</td>\n",
       "      <td>Legal occupations</td>\n",
       "      <td>Public Administration</td>\n",
       "    </tr>\n",
       "    <tr>\n",
       "      <th>2</th>\n",
       "      <td>985879730586005</td>\n",
       "      <td>January</td>\n",
       "      <td>3.0</td>\n",
       "      <td>MIS 8</td>\n",
       "      <td>MIS 2-4 Or MIS 6-8 (link To</td>\n",
       "      <td>9100</td>\n",
       "      <td>91001</td>\n",
       "      <td>1</td>\n",
       "      <td>1</td>\n",
       "      <td>71</td>\n",
       "      <td>...</td>\n",
       "      <td>648</td>\n",
       "      <td>633</td>\n",
       "      <td>0</td>\n",
       "      <td>0</td>\n",
       "      <td>0</td>\n",
       "      <td>1</td>\n",
       "      <td>0</td>\n",
       "      <td>18.0</td>\n",
       "      <td>Legal occupations</td>\n",
       "      <td>Professional and Technical services</td>\n",
       "    </tr>\n",
       "    <tr>\n",
       "      <th>3</th>\n",
       "      <td>94927107035608</td>\n",
       "      <td>January</td>\n",
       "      <td>2.0</td>\n",
       "      <td>MIS 4</td>\n",
       "      <td>MIS 2-4 Or MIS 6-8 (link To</td>\n",
       "      <td>9200</td>\n",
       "      <td>92001</td>\n",
       "      <td>1</td>\n",
       "      <td>1</td>\n",
       "      <td>93</td>\n",
       "      <td>...</td>\n",
       "      <td>648</td>\n",
       "      <td>645</td>\n",
       "      <td>0</td>\n",
       "      <td>0</td>\n",
       "      <td>1</td>\n",
       "      <td>0</td>\n",
       "      <td>0</td>\n",
       "      <td>18.0</td>\n",
       "      <td>Legal occupations</td>\n",
       "      <td>Professional and Technical services</td>\n",
       "    </tr>\n",
       "    <tr>\n",
       "      <th>4</th>\n",
       "      <td>97977400095618</td>\n",
       "      <td>January</td>\n",
       "      <td>1.0</td>\n",
       "      <td>MIS 4</td>\n",
       "      <td>MIS 2-4 Or MIS 6-8 (link To</td>\n",
       "      <td>9200</td>\n",
       "      <td>92001</td>\n",
       "      <td>1</td>\n",
       "      <td>1</td>\n",
       "      <td>93</td>\n",
       "      <td>...</td>\n",
       "      <td>648</td>\n",
       "      <td>645</td>\n",
       "      <td>0</td>\n",
       "      <td>0</td>\n",
       "      <td>0</td>\n",
       "      <td>1</td>\n",
       "      <td>0</td>\n",
       "      <td>18.0</td>\n",
       "      <td>Legal occupations</td>\n",
       "      <td>Professional and Technical services</td>\n",
       "    </tr>\n",
       "  </tbody>\n",
       "</table>\n",
       "<p>5 rows × 96 columns</p>\n",
       "</div>"
      ],
      "text/plain": [
       "              hhid intmonth  hurespli minsamp                     hrlonglk  \\\n",
       "0  960021970039060  January       1.0   MIS 8  MIS 2-4 Or MIS 6-8 (link To   \n",
       "1  235004820400137  January       1.0   MIS 8  MIS 2-4 Or MIS 6-8 (link To   \n",
       "2  985879730586005  January       3.0   MIS 8  MIS 2-4 Or MIS 6-8 (link To   \n",
       "3   94927107035608  January       2.0   MIS 4  MIS 2-4 Or MIS 6-8 (link To   \n",
       "4   97977400095618  January       1.0   MIS 4  MIS 2-4 Or MIS 6-8 (link To   \n",
       "\n",
       "   hrsample  hrhhid2  serial  hhnum state  ... ym_file   ym  ch02  ch35  \\\n",
       "0      9100    91001       1      1    63  ...     648  633     0     0   \n",
       "1      9100    91001       1      1    86  ...     648  633     0     0   \n",
       "2      9100    91001       1      1    71  ...     648  633     0     0   \n",
       "3      9200    92001       1      1    93  ...     648  645     0     0   \n",
       "4      9200    92001       1      1    93  ...     648  645     0     0   \n",
       "\n",
       "   ch613  ch1417  ch05  ihigrdc             docc00  \\\n",
       "0      0       0     0     18.0  Legal occupations   \n",
       "1      0       0     0     18.0  Legal occupations   \n",
       "2      0       1     0     18.0  Legal occupations   \n",
       "3      1       0     0     18.0  Legal occupations   \n",
       "4      0       1     0     18.0  Legal occupations   \n",
       "\n",
       "                                dind02  \n",
       "0  Professional and Technical services  \n",
       "1                Public Administration  \n",
       "2  Professional and Technical services  \n",
       "3  Professional and Technical services  \n",
       "4  Professional and Technical services  \n",
       "\n",
       "[5 rows x 96 columns]"
      ]
     },
     "execution_count": 158,
     "metadata": {},
     "output_type": "execute_result"
    }
   ],
   "source": [
    "#Legal Professions like lawyers, judges, magistrates, and other judicial positions\n",
    "#at start: 1,666 observations\n",
    "law = file.loc[file['occ2012'] == 2100].reset_index(drop=True)\n",
    "law.head()"
   ]
  },
  {
   "cell_type": "code",
   "execution_count": 173,
   "id": "a75a4d58",
   "metadata": {
    "scrolled": true
   },
   "outputs": [
    {
     "data": {
      "text/plain": [
       "0    28.846000\n",
       "1    34.615250\n",
       "2    45.966381\n",
       "3    45.966381\n",
       "4    46.140000\n",
       "Name: earnperhr, dtype: float64"
      ]
     },
     "execution_count": 173,
     "metadata": {},
     "output_type": "execute_result"
    }
   ],
   "source": [
    "#creation of outcome variable (y)\n",
    "law['earnperhr'] = law['earnwke']/law['uhourse']\n",
    "law['earnperhr'][:5]"
   ]
  },
  {
   "cell_type": "code",
   "execution_count": 160,
   "id": "fe866763",
   "metadata": {
    "scrolled": false
   },
   "outputs": [
    {
     "data": {
      "image/png": "[encoded data removed]",
      "text/plain": [
       "<Figure size 640x480 with 1 Axes>"
      ]
     },
     "metadata": {
      "image/png": {
       "height": 480,
       "width": 640
      }
     },
     "output_type": "display_data"
    },
    {
     "data": {
      "text/plain": [
       "<Figure Size: (640 x 480)>"
      ]
     },
     "execution_count": 160,
     "metadata": {},
     "output_type": "execute_result"
    }
   ],
   "source": [
    "#checking distribution of 'uhourse' to see if imputation using median or mean is better. not normally distributed,\n",
    "#therefore, will use median to impute\n",
    "(ggplot(law, aes(x='uhourse')) +\n",
    "    geom_histogram(binwidth= 5, colour=\"black\", fill=\"white\"))"
   ]
  },
  {
   "cell_type": "code",
   "execution_count": 161,
   "id": "21336471",
   "metadata": {},
   "outputs": [
    {
     "data": {
      "image/png": "[encoded data removed]",
      "text/plain": [
       "<Figure size 640x480 with 1 Axes>"
      ]
     },
     "metadata": {
      "image/png": {
       "height": 480,
       "width": 640
      }
     },
     "output_type": "display_data"
    },
    {
     "data": {
      "text/plain": [
       "<Figure Size: (640 x 480)>"
      ]
     },
     "execution_count": 161,
     "metadata": {},
     "output_type": "execute_result"
    }
   ],
   "source": [
    "#checking distribution of 'earnwke' to see if imputation using median or mean is better. \n",
    "(ggplot(law, aes(x='earnwke')) +\n",
    "    geom_histogram(binwidth= 100, colour=\"black\", fill=\"white\"))"
   ]
  },
  {
   "cell_type": "code",
   "execution_count": 162,
   "id": "b97e1121",
   "metadata": {},
   "outputs": [
    {
     "name": "stdout",
     "output_type": "stream",
     "text": [
      "law.earnwke mean:1838.655238493724\n",
      "law.earnwke median:1730.76\n"
     ]
    }
   ],
   "source": [
    "print(f'law.earnwke mean:{law.earnwke.mean()}')\n",
    "print(f'law.earnwke median:{law.earnwke.median()}')\n",
    "#As these 2 values are close together, I am opting for the mean value due to over 300 observations falling in the\n",
    "#final bin"
   ]
  },
  {
   "cell_type": "code",
   "execution_count": 163,
   "id": "27d123f4",
   "metadata": {},
   "outputs": [
    {
     "data": {
      "text/plain": [
       "ownchild\n",
       "False    1666\n",
       "Name: count, dtype: int64"
      ]
     },
     "execution_count": 163,
     "metadata": {},
     "output_type": "execute_result"
    }
   ],
   "source": [
    "#checking for null values:\n",
    "\n",
    "#age: no missing values\n",
    "law.age.isnull().value_counts()\n",
    "\n",
    "#sex: no missing values\n",
    "law.sex.isnull().value_counts()\n",
    "\n",
    "#uhourse: 189 null. using median to impute\n",
    "uhourse_median_value = law.uhourse.median()\n",
    "law.uhourse.fillna(value=uhourse_median_value, inplace = True)\n",
    "law.uhourse.isnull().value_counts()\n",
    "#no missing values anymore\n",
    "\n",
    "#grade92: no missing values\n",
    "law.grade92.isnull().value_counts()\n",
    "\n",
    "#earnwke: 471 null. using mean to impute\n",
    "earnwke_mean_value = law.earnwke.mean()\n",
    "law.earnwke.fillna(value=earnwke_mean_value, inplace = True)\n",
    "law.earnwke.isnull().value_counts()\n",
    "#no missing values anymore\n",
    "\n",
    "#state: no missing values\n",
    "law.state.isnull().value_counts()\n",
    "#USING DIVISIONS instead\n",
    "\n",
    "#race: no missing values\n",
    "law.race.isnull().value_counts()\n",
    "\n",
    "#prcitshp: no missing values\n",
    "law.prcitshp.isnull().value_counts()\n",
    "#USING dummy variable instead of str\n",
    "\n",
    "#marital: no missing values\n",
    "law.marital.isnull().value_counts()\n",
    "#USING married and single dummy variables\n",
    "\n",
    "#ownchild: no missing values\n",
    "law.ownchild.isnull().value_counts()\n"
   ]
  },
  {
   "cell_type": "code",
   "execution_count": 164,
   "id": "9f9f9c95",
   "metadata": {},
   "outputs": [
    {
     "name": "stdout",
     "output_type": "stream",
     "text": [
      "['63' '86' '71' '93' '84' 'CT' '53' '59' '58' '82' 'IL' 'IN' '47' '61'\n",
      " '72' '52' 'MA' 'MI' 'MN' '64' '46' '88' 'NJ' '85' 'NY' '56' 'ND' 'OH'\n",
      " '92' 'PA' 'RI' '57' '62' '74' 'VT' '54' '91' 'WI' '94' '51' '95' 'IA'\n",
      " 'MO' 'NH' 'SD' '87' '55' '81' '73' '83' '7' '9' 9 8 1 5 3 4 6 7 2]\n"
     ]
    }
   ],
   "source": [
    "#fixing state variable (some were int and some were str), making into divisions\n",
    "print(law.state.unique())\n",
    "\n",
    "#NE Division\n",
    "law.state.replace('MA', 11, inplace = True)\n",
    "law.state.replace('NH', 12, inplace = True)\n",
    "law.state.replace('VT', 13, inplace = True)\n",
    "law.state.replace('MA', 14, inplace = True)\n",
    "law.state.replace('RI', 15, inplace = True)\n",
    "law.state.replace('CT', 16, inplace = True)\n",
    "#Middle Atlantic Division\n",
    "law.state.replace('NY', 21, inplace = True)\n",
    "law.state.replace('NJ', 22, inplace = True)\n",
    "law.state.replace('PA', 23, inplace = True)\n",
    "#East North Central Division\n",
    "law.state.replace('OH', 31, inplace = True)\n",
    "law.state.replace('IN', 32, inplace = True)\n",
    "law.state.replace('IL', 33, inplace = True)\n",
    "law.state.replace('MI', 34, inplace = True)\n",
    "law.state.replace('WI', 35, inplace = True)\n",
    "#West North Central Division\n",
    "law.state.replace('MN', 41, inplace = True)\n",
    "law.state.replace('IA', 42, inplace = True)\n",
    "law.state.replace('MO', 43, inplace = True)\n",
    "law.state.replace('ND', 44, inplace = True)\n",
    "law.state.replace('SD', 45, inplace = True)\n",
    "law.state.replace('46', 46, inplace = True)\n",
    "law.state.replace('47', 47, inplace = True)\n",
    "#South Atlantic Division\n",
    "law.state.replace('51', 51, inplace = True)\n",
    "law.state.replace('52', 52, inplace = True)\n",
    "law.state.replace('53', 53, inplace = True)\n",
    "law.state.replace('54', 54, inplace = True)\n",
    "law.state.replace('55', 55, inplace = True)\n",
    "law.state.replace('56', 56, inplace = True)\n",
    "law.state.replace('57', 57, inplace = True)\n",
    "law.state.replace('58', 58, inplace = True)\n",
    "law.state.replace('59', 59, inplace = True)\n",
    "#East South Central Division\n",
    "law.state.replace('61', 61, inplace = True)\n",
    "law.state.replace('62', 62, inplace = True)\n",
    "law.state.replace('63', 63, inplace = True)\n",
    "law.state.replace('64', 64, inplace = True)\n",
    "#West South Central Division\n",
    "law.state.replace('71', 71, inplace = True)\n",
    "law.state.replace('72', 72, inplace = True)\n",
    "law.state.replace('73', 73, inplace = True)\n",
    "law.state.replace('74', 74, inplace = True)\n",
    "#Mountain Division\n",
    "law.state.replace('81', 81, inplace = True)\n",
    "law.state.replace('82', 82, inplace = True)\n",
    "law.state.replace('83', 83, inplace = True)\n",
    "law.state.replace('84', 84, inplace = True)\n",
    "law.state.replace('85', 85, inplace = True)\n",
    "law.state.replace('86', 86, inplace = True)\n",
    "law.state.replace('87', 87, inplace = True)\n",
    "law.state.replace('88', 88, inplace = True)\n",
    "#Pacific Division\n",
    "law.state.replace('91', 91, inplace = True)\n",
    "law.state.replace('92', 92, inplace = True)\n",
    "law.state.replace('93', 93, inplace = True)\n",
    "law.state.replace('94', 94, inplace = True)\n",
    "law.state.replace('95', 95, inplace = True)\n",
    "#left over state numbers\n",
    "#putting all numbers 1-9 into their divisions (1st number is the division they are in)\n",
    "#doesn't matter what the state is because the categories will be their divisions\n",
    "law.state.replace('7', 71, inplace = True)\n",
    "law.state.replace('9', 91, inplace = True)\n",
    "law.state.replace(1, 11, inplace = True)\n",
    "law.state.replace(2, 21, inplace = True)\n",
    "law.state.replace(3, 31, inplace = True)\n",
    "law.state.replace(4, 41, inplace = True)\n",
    "law.state.replace(5, 51, inplace = True)\n",
    "law.state.replace(6, 61, inplace = True)\n",
    "law.state.replace(7, 71, inplace = True)\n",
    "law.state.replace(8, 81, inplace = True)\n",
    "law.state.replace(9, 91, inplace = True)\n",
    "\n",
    "#creating categories for state divisions (dummy variables)    \n",
    "law['NE_Division'] = law['state'].isin([11,12,13,14,15,16]).astype(int)\n",
    "law['Middle_Atlantic_Division'] = law['state'].isin([21,22,23]).astype(int)\n",
    "law['East_North_Central_Division'] = law['state'].isin([31,32,33,34,35]).astype(int)\n",
    "law['West_North_Central_Division'] = law['state'].isin([41,42,43,44,45,46,47]).astype(int)\n",
    "law['South_Atlantic_Division'] = law['state'].isin([51,52,53,54,55,56,57,58,59]).astype(int)\n",
    "law['East_South_Central_Division'] = law['state'].isin([61,62,63,64]).astype(int)\n",
    "law['West_South_Central_Division'] = law['state'].isin([71,72,73,74]).astype(int)\n",
    "law['Mountain_Division'] = law['state'].isin([81,82,83,84,85,86,87,88]).astype(int)\n",
    "law['Pacific_Division'] = law['state'].isin([91,92,93,94,95]).astype(int)"
   ]
  },
  {
   "cell_type": "code",
   "execution_count": 165,
   "id": "61fb6d18",
   "metadata": {},
   "outputs": [],
   "source": [
    "#fixing marital variable\n",
    "law['married'] = law['marital'].isin([1,2,3]).astype(int)\n",
    "law['single'] = law['marital'].isin([4,5,6,7]).astype(int)"
   ]
  },
  {
   "cell_type": "code",
   "execution_count": 166,
   "id": "661a0803",
   "metadata": {},
   "outputs": [],
   "source": [
    "#creating dummy variable for sex (female)\n",
    "law['female'] = (law[\"sex\"] == 2).astype(int)"
   ]
  },
  {
   "cell_type": "code",
   "execution_count": 167,
   "id": "21754f26",
   "metadata": {},
   "outputs": [],
   "source": [
    "#creating dummy variable for grade92\n",
    "law['grade92'].min() #33, 5th-6th grade (middle school)\n",
    "law['grade92'].max() #46, doctorate degree\n",
    "law['grade92'].mean() #about 45, professional school degree (includes JD)\n",
    "law.loc[law['grade92'] < 45] #only 185 observations with grade92 less than 45\n",
    "law['ed_low'] = (law['grade92']< 45).astype(int) #less than professional degree (includes bachelors and masters)\n",
    "law['ed_high'] = (law['grade92']>=45).astype(int) #equal to or higher than professional degree (includes professional degree and doctorate)"
   ]
  },
  {
   "cell_type": "code",
   "execution_count": 168,
   "id": "2268986c",
   "metadata": {},
   "outputs": [],
   "source": [
    "#fixing prcitshp variable to be dummy instead of str\n",
    "law.prcitshp.replace('Native, Born In US', 1, inplace = True)\n",
    "law.prcitshp.replace('Foreign Born, US Cit By Naturalization', 1, inplace = True)\n",
    "law.prcitshp.replace('Foreign Born, Not a US Citizen', 0, inplace = True)\n",
    "law.prcitshp.replace('Native, Born Abroad Of US Parent(s)', 1, inplace = True)\n",
    "law.prcitshp.replace('Native, Born in PR or US Outlying Area', 1, inplace = True)"
   ]
  },
  {
   "cell_type": "code",
   "execution_count": 169,
   "id": "782ddb41",
   "metadata": {},
   "outputs": [],
   "source": [
    "###CORINNEE!!! make legends for some of these variables (example: race is integers...give \n",
    "#the legend of what that means!!!) = turn into markdown\n",
    "#age = age of employee in years\n",
    "#sex = 1 if male, 2 if female\n",
    "#uhourse = usual hours worked per week\n",
    "#grade92 = education level (ints 31-46 representing Kindergarten-doctorate degree)\n",
    "#earnwke = weekly earnings in USD\n",
    "#state = in which state the employee resides\n",
    "#race = 1:White, 2:Black, 3:American Indian, 4:Asian or Pacific Islander, 5:Other, 6:Mixed(White/Black), 7:Mixed(White/American Indian), 8:Mixed(White/Asian), 10:Mixed(Black/American Indian), 11:Mixed(Black/Asian)\n",
    "#prcitshp = 1 if American citizen, 0 if non-American citizen\n",
    "#marital = 1-3 if married, 4-7 if currently single\n",
    "#ownchild = number of children employee has in primary family\n"
   ]
  },
  {
   "cell_type": "code",
   "execution_count": 170,
   "id": "f299775d",
   "metadata": {},
   "outputs": [],
   "source": [
    "###CORINNE'S PLAN\n",
    "# y = earnings per hour ('earnperhr')\n",
    "    #this means... earnwke (weekly earnings)/uhourse\n",
    "# x = age(int), sex(int), uhourse (usual work hours)(int), grade92 (highest educational grade completed)(int)\n",
    "# Model 1: age, sex(female dummy)\n",
    "# Model 2: age, sex(female dummy), uhourse, grade92/ed_low/high\n",
    "# Model 3: age, sex(female dummy), uhourse, grade92/ed_low/high, state division, race, prcitshp,\n",
    "# Model 4: age, sex(female dummy), uhourse, grade92/ed_low/high, state division, race, prcitshp, marital, ownchild\n",
    "\n",
    "#could do 'state' as a variable, but would have to create dummy variables... (str)\n",
    "#could do 'race' as a variable, but would have to create dummy variables... (int)\n",
    "#could do 'prcitshp' (citizenship status) as a variable, but would have to create dummy variable...(str)\n",
    "#could do 'marital' as variable...dummy variables would be 1,2,3 = 'married', 4,5,6,7 = 'single'(int)\n",
    "#could do 'ownchild' as variable = shows number of children less than 18 in the primary family(int)\n",
    "\n",
    "#deleting ethnic category because only 68/1,666 were not null!"
   ]
  },
  {
   "cell_type": "code",
   "execution_count": 179,
   "id": "fc5d8fee",
   "metadata": {},
   "outputs": [
    {
     "name": "stdout",
     "output_type": "stream",
     "text": [
      "                            OLS Regression Results                            \n",
      "==============================================================================\n",
      "Dep. Variable:              earnperhr   R-squared:                       0.021\n",
      "Model:                            OLS   Adj. R-squared:                  0.020\n",
      "Method:                 Least Squares   F-statistic:                     11.89\n",
      "Date:                Wed, 17 Jan 2024   Prob (F-statistic):           7.43e-06\n",
      "Time:                        15:22:53   Log-Likelihood:                -7942.7\n",
      "No. Observations:                1666   AIC:                         1.589e+04\n",
      "Df Residuals:                    1663   BIC:                         1.591e+04\n",
      "Df Model:                           2                                         \n",
      "Covariance Type:                  HC1                                         \n",
      "==============================================================================\n",
      "                 coef    std err          z      P>|z|      [0.025      0.975]\n",
      "------------------------------------------------------------------------------\n",
      "Intercept     31.1102      2.421     12.849      0.000      26.365      35.856\n",
      "age            0.2809      0.060      4.670      0.000       0.163       0.399\n",
      "female        -2.5874      1.279     -2.023      0.043      -5.094      -0.081\n",
      "==============================================================================\n",
      "Omnibus:                     2545.904   Durbin-Watson:                   1.983\n",
      "Prob(Omnibus):                  0.000   Jarque-Bera (JB):          1411835.247\n",
      "Skew:                           9.123   Prob(JB):                         0.00\n",
      "Kurtosis:                     144.441   Cond. No.                         202.\n",
      "==============================================================================\n",
      "\n",
      "Notes:\n",
      "[1] Standard Errors are heteroscedasticity robust (HC1)\n"
     ]
    }
   ],
   "source": [
    "reg1 = smf.ols(formula=\"earnperhr~age+ female\", data=law).fit(cov_type=\"HC1\")\n",
    "#Male is the reference category for female\n",
    "print(reg1.summary())"
   ]
  },
  {
   "cell_type": "code",
   "execution_count": 180,
   "id": "97c5f142",
   "metadata": {},
   "outputs": [
    {
     "data": {
      "text/plain": [
       "15907.66171070826"
      ]
     },
     "execution_count": 180,
     "metadata": {},
     "output_type": "execute_result"
    }
   ],
   "source": [
    "reg1.bic"
   ]
  },
  {
   "cell_type": "code",
   "execution_count": 184,
   "id": "8ab09f50",
   "metadata": {},
   "outputs": [
    {
     "name": "stdout",
     "output_type": "stream",
     "text": [
      "                            OLS Regression Results                            \n",
      "==============================================================================\n",
      "Dep. Variable:              earnperhr   R-squared:                       0.157\n",
      "Model:                            OLS   Adj. R-squared:                  0.155\n",
      "Method:                 Least Squares   F-statistic:                     15.34\n",
      "Date:                Wed, 17 Jan 2024   Prob (F-statistic):           2.50e-12\n",
      "Time:                        15:26:03   Log-Likelihood:                -7818.0\n",
      "No. Observations:                1666   AIC:                         1.565e+04\n",
      "Df Residuals:                    1661   BIC:                         1.567e+04\n",
      "Df Model:                           4                                         \n",
      "Covariance Type:                  HC1                                         \n",
      "==============================================================================\n",
      "                 coef    std err          z      P>|z|      [0.025      0.975]\n",
      "------------------------------------------------------------------------------\n",
      "Intercept     70.8822      7.891      8.983      0.000      55.416      86.348\n",
      "age            0.1585      0.041      3.838      0.000       0.078       0.239\n",
      "female        -5.2117      1.413     -3.688      0.000      -7.981      -2.442\n",
      "uhourse       -1.0027      0.197     -5.087      0.000      -1.389      -0.616\n",
      "ed_high       13.0783      1.755      7.451      0.000       9.638      16.519\n",
      "==============================================================================\n",
      "Omnibus:                     2411.317   Durbin-Watson:                   1.946\n",
      "Prob(Omnibus):                  0.000   Jarque-Bera (JB):          1218370.146\n",
      "Skew:                           8.181   Prob(JB):                         0.00\n",
      "Kurtosis:                     134.468   Cond. No.                         458.\n",
      "==============================================================================\n",
      "\n",
      "Notes:\n",
      "[1] Standard Errors are heteroscedasticity robust (HC1)\n"
     ]
    }
   ],
   "source": [
    "reg2 = smf.ols(formula=\"earnperhr~age+ female+uhourse+ed_high\", data=law).fit(cov_type=\"HC1\")\n",
    "#Male is the reference category for female, ed_low is the reference category for ed_high\n",
    "print(reg2.summary())"
   ]
  },
  {
   "cell_type": "code",
   "execution_count": 190,
   "id": "3357677f",
   "metadata": {},
   "outputs": [
    {
     "data": {
      "text/plain": [
       "15673.03961180528"
      ]
     },
     "execution_count": 190,
     "metadata": {},
     "output_type": "execute_result"
    }
   ],
   "source": [
    "reg2.bic"
   ]
  },
  {
   "cell_type": "code",
   "execution_count": 193,
   "id": "aef8db70",
   "metadata": {},
   "outputs": [
    {
     "name": "stdout",
     "output_type": "stream",
     "text": [
      "                            OLS Regression Results                            \n",
      "==============================================================================\n",
      "Dep. Variable:              earnperhr   R-squared:                       0.157\n",
      "Model:                            OLS   Adj. R-squared:                  0.155\n",
      "Method:                 Least Squares   F-statistic:                     15.34\n",
      "Date:                Wed, 17 Jan 2024   Prob (F-statistic):           2.50e-12\n",
      "Time:                        15:33:09   Log-Likelihood:                -7818.0\n",
      "No. Observations:                1666   AIC:                         1.565e+04\n",
      "Df Residuals:                    1661   BIC:                         1.567e+04\n",
      "Df Model:                           4                                         \n",
      "Covariance Type:                  HC1                                         \n",
      "==============================================================================\n",
      "                 coef    std err          z      P>|z|      [0.025      0.975]\n",
      "------------------------------------------------------------------------------\n",
      "Intercept     70.8822      7.891      8.983      0.000      55.416      86.348\n",
      "age            0.1585      0.041      3.838      0.000       0.078       0.239\n",
      "female        -5.2117      1.413     -3.688      0.000      -7.981      -2.442\n",
      "uhourse       -1.0027      0.197     -5.087      0.000      -1.389      -0.616\n",
      "ed_high       13.0783      1.755      7.451      0.000       9.638      16.519\n",
      "==============================================================================\n",
      "Omnibus:                     2411.317   Durbin-Watson:                   1.946\n",
      "Prob(Omnibus):                  0.000   Jarque-Bera (JB):          1218370.146\n",
      "Skew:                           8.181   Prob(JB):                         0.00\n",
      "Kurtosis:                     134.468   Cond. No.                         458.\n",
      "==============================================================================\n",
      "\n",
      "Notes:\n",
      "[1] Standard Errors are heteroscedasticity robust (HC1)\n"
     ]
    }
   ],
   "source": [
    "reg3 = smf.ols(formula='''earnperhr~age+ female+uhourse+ed_high+NE_Division+Middle_Atlantic_Division+ \n",
    "                East_North_Central_Division+West_North_Central_Division+South_Atlantic_Division+\n",
    "                East_South_Central_Division+West_South_Central_Division+\n",
    "                Mountain_Division''', data=law).fit(cov_type=\"HC1\")\n",
    "#Male is the reference category for female, ed_low is the reference category for ed_high\n",
    "#Pacific\n",
    "print(reg3.summary())"
   ]
  },
  {
   "cell_type": "code",
   "execution_count": null,
   "id": "4b9b48c3",
   "metadata": {},
   "outputs": [],
   "source": []
  }
 ],
 "metadata": {
  "kernelspec": {
   "display_name": "Python 3 (ipykernel)",
   "language": "python",
   "name": "python3"
  },
  "language_info": {
   "codemirror_mode": {
    "name": "ipython",
    "version": 3
   },
   "file_extension": ".py",
   "mimetype": "text/x-python",
   "name": "python",
   "nbconvert_exporter": "python",
   "pygments_lexer": "ipython3",
   "version": "3.11.5"
  }
 },
 "nbformat": 4,
 "nbformat_minor": 5
}
